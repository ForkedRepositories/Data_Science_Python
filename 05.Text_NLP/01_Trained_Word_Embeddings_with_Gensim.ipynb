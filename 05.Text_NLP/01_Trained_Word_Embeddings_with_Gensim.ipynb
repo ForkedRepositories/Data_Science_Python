{
 "cells": [
  {
   "cell_type": "markdown",
   "metadata": {
    "colab_type": "text",
    "id": "qrmlikzE_6Er"
   },
   "source": [
    "# 01 - Exploring Word Embeddings\n",
    "In this notebook, we'll look at trained word embeddings. We'll plot the embeddings so we can attempt to visually compare embeddings. We'll then look at analogies and word similarities. We'll use the Gensim library which makes it easy to work with embeddings."
   ]
  },
  {
   "cell_type": "code",
   "execution_count": 1,
   "metadata": {
    "colab": {},
    "colab_type": "code",
    "id": "xB1y1EFC_6Eu"
   },
   "outputs": [],
   "source": [
    "import gensim\n",
    "import gensim.downloader as api\n",
    "from sklearn.metrics.pairwise import cosine_similarity\n",
    "import seaborn as sns\n",
    "import matplotlib.pyplot as plt\n",
    "import warnings\n",
    "warnings.filterwarnings('ignore')"
   ]
  },
  {
   "cell_type": "markdown",
   "metadata": {
    "colab_type": "text",
    "id": "AlYeTyjz_6Ey"
   },
   "source": [
    "#### Download a table of pre-trained embeddings"
   ]
  },
  {
   "cell_type": "code",
   "execution_count": 2,
   "metadata": {
    "colab": {
     "base_uri": "https://localhost:8080/",
     "height": 34
    },
    "colab_type": "code",
    "id": "e-_Rx6Hn_6E0",
    "outputId": "cc44f9c3-8309-431e-f278-2ace23963bcd"
   },
   "outputs": [
    {
     "name": "stdout",
     "output_type": "stream",
     "text": [
      "[==================================================] 100.0% 66.0/66.0MB downloaded\n"
     ]
    }
   ],
   "source": [
    "# Download embeddings (66MB, glove, trained on wikipedia)\n",
    "model = api.load(\"glove-wiki-gigaword-50\")"
   ]
  },
  {
   "cell_type": "markdown",
   "metadata": {
    "colab_type": "text",
    "id": "dqK6_8vX_6E3"
   },
   "source": [
    "What's the embedding of 'king'?"
   ]
  },
  {
   "cell_type": "code",
   "execution_count": 3,
   "metadata": {
    "colab": {
     "base_uri": "https://localhost:8080/",
     "height": 170
    },
    "colab_type": "code",
    "id": "XWeOUHjT_6E5",
    "outputId": "ea01d016-050b-485a-dcd6-45e798a92e2c"
   },
   "outputs": [
    {
     "data": {
      "text/plain": [
       "array([ 0.50451 ,  0.68607 , -0.59517 , -0.022801,  0.60046 , -0.13498 ,\n",
       "       -0.08813 ,  0.47377 , -0.61798 , -0.31012 , -0.076666,  1.493   ,\n",
       "       -0.034189, -0.98173 ,  0.68229 ,  0.81722 , -0.51874 , -0.31503 ,\n",
       "       -0.55809 ,  0.66421 ,  0.1961  , -0.13495 , -0.11476 , -0.30344 ,\n",
       "        0.41177 , -2.223   , -1.0756  , -1.0783  , -0.34354 ,  0.33505 ,\n",
       "        1.9927  , -0.04234 , -0.64319 ,  0.71125 ,  0.49159 ,  0.16754 ,\n",
       "        0.34344 , -0.25663 , -0.8523  ,  0.1661  ,  0.40102 ,  1.1685  ,\n",
       "       -1.0137  , -0.21585 , -0.15155 ,  0.78321 , -0.91241 , -1.6106  ,\n",
       "       -0.64426 , -0.51042 ], dtype=float32)"
      ]
     },
     "execution_count": 3,
     "metadata": {},
     "output_type": "execute_result"
    }
   ],
   "source": [
    "model['king']"
   ]
  },
  {
   "cell_type": "markdown",
   "metadata": {
    "colab_type": "text",
    "id": "S2duYBkk_6E_"
   },
   "source": [
    "#### How many words does this table have?"
   ]
  },
  {
   "cell_type": "code",
   "execution_count": 4,
   "metadata": {
    "colab": {
     "base_uri": "https://localhost:8080/",
     "height": 34
    },
    "colab_type": "code",
    "id": "_6BObQ0q_6FA",
    "outputId": "5665e2ca-00fb-4414-e2aa-2076f70ffd02"
   },
   "outputs": [
    {
     "data": {
      "text/plain": [
       "(400000, 50)"
      ]
     },
     "execution_count": 4,
     "metadata": {},
     "output_type": "execute_result"
    }
   ],
   "source": [
    "model.vectors.shape"
   ]
  },
  {
   "cell_type": "markdown",
   "metadata": {
    "colab_type": "text",
    "id": "u9ULYBe7_6FE"
   },
   "source": [
    "Which means:\n",
    "* 400,000 words (vocab_size)\n",
    "* Each has an embedding composed of 50 numbers (embedding_size)"
   ]
  },
  {
   "cell_type": "markdown",
   "metadata": {
    "colab_type": "text",
    "id": "0vUJ6e9B_6FG"
   },
   "source": [
    "### Visualizing the embedding vector\n",
    "Let's plot the vector so we can have a colorful visual of values in the embedding vector"
   ]
  },
  {
   "cell_type": "code",
   "execution_count": 11,
   "metadata": {
    "colab": {},
    "colab_type": "code",
    "id": "RRmmYf8-_6FT"
   },
   "outputs": [],
   "source": [
    "\n",
    "def plot_embeddings(vectors, labels=None):\n",
    "    n_vectors = len(vectors)\n",
    "    fig = plt.figure(figsize=(12, n_vectors))\n",
    "    # ax = fig.add_axes([0.1, 0.1, 0.8, 0.8])\n",
    "    # ax = fig.add_axes([1, 1, 1, 1])\n",
    "    ax = plt.gca()\n",
    "    \n",
    "    sns.heatmap(vectors, cmap='RdBu', vmax=2, vmin=-2, ax=ax)\n",
    "    \n",
    "    if labels:\n",
    "        ax.set_yticklabels(labels,rotation=0)\n",
    "        ax.tick_params(axis='both', which='major', labelsize=20)\n",
    "        \n",
    "    plt.tick_params(axis='x',          # changes apply to the x-axis\n",
    "        which='both',      # both major and minor ticks are affected\n",
    "        bottom=False,      # ticks along the bottom edge are off\n",
    "        top=False,         # ticks along the top edge are off\n",
    "        labelbottom=False) # labels along the bottom edge are off\n",
    "    \n",
    "    # From https://github.com/mwaskom/seaborn/issues/1773\n",
    "    # fix for mpl bug that cuts off top/bottom of seaborn viz\n",
    "    b, t = plt.ylim() # discover the values for bottom and top\n",
    "    b += 0.5 # Add 0.5 to the bottom\n",
    "    t -= 0.5 # Subtract 0.5 from the top\n",
    "    plt.ylim(b, t) # update the ylim(bottom, top) values\n",
    "    plt.show() # ta-da!"
   ]
  },
  {
   "cell_type": "markdown",
   "metadata": {
    "colab_type": "text",
    "id": "nW_otYufCb9b"
   },
   "source": [
    "Let's plot the embedding of `king`"
   ]
  },
  {
   "cell_type": "code",
   "execution_count": 12,
   "metadata": {
    "colab": {
     "base_uri": "https://localhost:8080/",
     "height": 86
    },
    "colab_type": "code",
    "id": "1QJf4kfvCWOU",
    "outputId": "717f0aa1-43e6-491e-ba11-9dc01aadc2d6"
   },
   "outputs": [
    {
     "data": {
      "image/png": "[encoded data removed]",
      "text/plain": [
       "<Figure size 864x72 with 2 Axes>"
      ]
     },
     "metadata": {
      "needs_background": "light"
     },
     "output_type": "display_data"
    }
   ],
   "source": [
    "plot_embeddings([model['king']], ['king'])"
   ]
  },
  {
   "cell_type": "markdown",
   "metadata": {
    "colab_type": "text",
    "id": "xtM9lYuuCgjD"
   },
   "source": [
    "We can also compare multiple embeddings:"
   ]
  },
  {
   "cell_type": "code",
   "execution_count": 13,
   "metadata": {
    "colab": {
     "base_uri": "https://localhost:8080/",
     "height": 303
    },
    "colab_type": "code",
    "id": "K6SADFGaCWUH",
    "outputId": "31280cc9-07ba-49df-f01a-9680bebc429a"
   },
   "outputs": [
    {
     "data": {
      "image/png": "[encoded data removed]",
      "text/plain": [
       "<Figure size 864x360 with 2 Axes>"
      ]
     },
     "metadata": {
      "needs_background": "light"
     },
     "output_type": "display_data"
    }
   ],
   "source": [
    "plot_embeddings([model['king'], model['man'], model['woman'], model['girl'], model['boy']],\n",
    "              ['king', 'man', 'woman', 'girl', 'boy'])"
   ]
  },
  {
   "cell_type": "markdown",
   "metadata": {
    "colab_type": "text",
    "id": "cz1-mreNClOK"
   },
   "source": [
    "Here's another example including a number of different concepts:"
   ]
  },
  {
   "cell_type": "code",
   "execution_count": 14,
   "metadata": {
    "colab": {
     "base_uri": "https://localhost:8080/",
     "height": 303
    },
    "colab_type": "code",
    "id": "cgBLjFK8_6FW",
    "outputId": "a4134d48-0252-404e-8e31-5dab9de3a9e4"
   },
   "outputs": [
    {
     "data": {
      "image/png": "[encoded data removed]",
      "text/plain": [
       "<Figure size 864x360 with 2 Axes>"
      ]
     },
     "metadata": {
      "needs_background": "light"
     },
     "output_type": "display_data"
    }
   ],
   "source": [
    "plot_embeddings([model['king'], model['water'], model['god'], model['love'], model['star']],\n",
    "              ['king', 'water', 'god', 'love', 'star'])"
   ]
  },
  {
   "cell_type": "markdown",
   "metadata": {
    "colab_type": "text",
    "id": "jjXRJTkH_6FZ"
   },
   "source": [
    "## Analogies\n",
    "### king - man + woman  = ?"
   ]
  },
  {
   "cell_type": "code",
   "execution_count": 15,
   "metadata": {
    "colab": {
     "base_uri": "https://localhost:8080/",
     "height": 187
    },
    "colab_type": "code",
    "id": "dXs2TVam_6Fa",
    "outputId": "40055f86-b4cb-4144-a5ac-c324f0f4edc3"
   },
   "outputs": [
    {
     "data": {
      "text/plain": [
       "[('queen', 0.8523603677749634),\n",
       " ('throne', 0.7664334177970886),\n",
       " ('prince', 0.759214460849762),\n",
       " ('daughter', 0.7473883032798767),\n",
       " ('elizabeth', 0.7460220456123352),\n",
       " ('princess', 0.7424569725990295),\n",
       " ('kingdom', 0.7337411642074585),\n",
       " ('monarch', 0.7214490175247192),\n",
       " ('eldest', 0.7184861898422241),\n",
       " ('widow', 0.7099430561065674)]"
      ]
     },
     "execution_count": 15,
     "metadata": {},
     "output_type": "execute_result"
    }
   ],
   "source": [
    "model.most_similar(positive=[\"king\", \"woman\"], negative=[\"man\"])"
   ]
  },
  {
   "cell_type": "code",
   "execution_count": 16,
   "metadata": {
    "colab": {
     "base_uri": "https://localhost:8080/",
     "height": 303
    },
    "colab_type": "code",
    "id": "KMLRo6DW_6Fd",
    "outputId": "7f7d2afa-ccf4-4a56-9c0b-b49a725691bf"
   },
   "outputs": [
    {
     "data": {
      "image/png": "[encoded data removed]",
      "text/plain": [
       "<Figure size 864x360 with 2 Axes>"
      ]
     },
     "metadata": {
      "needs_background": "light"
     },
     "output_type": "display_data"
    }
   ],
   "source": [
    "plot_embeddings([model['king'], \n",
    "                model['man'], \n",
    "                model['woman'],\n",
    "                model['king'] - model['man'] + model['woman'],\n",
    "                model['queen']],\n",
    "                ['king', 'man', 'woman', 'king-man+woman', 'queen'])"
   ]
  },
  {
   "cell_type": "markdown",
   "metadata": {
    "colab_type": "text",
    "id": "Yl0kGOJn_6Fg"
   },
   "source": [
    "**2019 update**: This turned out to be a misconception. The result is actually closer to \"king\" than it is to \"queen\", it's just that the code rules out the input vectors as possible outputs\n",
    "\n",
    "\n",
    "[Fair is Better than Sensational:Man is to Doctor as Woman is to Doctor](https://arxiv.org/abs/1905.09866)\n",
    "\n",
    "To verify, let's calculate cosine distance between the result of the analogy, and `queen`."
   ]
  },
  {
   "cell_type": "code",
   "execution_count": 17,
   "metadata": {
    "colab": {
     "base_uri": "https://localhost:8080/",
     "height": 34
    },
    "colab_type": "code",
    "id": "246SfDTN_6Fh",
    "outputId": "3800a072-81a3-4b0c-ba64-98b2ebc4835d"
   },
   "outputs": [
    {
     "data": {
      "text/plain": [
       "array([[0.8609581]], dtype=float32)"
      ]
     },
     "execution_count": 17,
     "metadata": {},
     "output_type": "execute_result"
    }
   ],
   "source": [
    "result = model['king'] - model['man'] + model['woman']\n",
    "\n",
    "# Similarity between result and 'queen'\n",
    "cosine_similarity(result.reshape(1, -1), model['queen'].reshape(1, -1))"
   ]
  },
  {
   "cell_type": "markdown",
   "metadata": {
    "colab_type": "text",
    "id": "nLouwuAzC80t"
   },
   "source": [
    "Let's compare that to the distance between the result and `king`:"
   ]
  },
  {
   "cell_type": "code",
   "execution_count": 18,
   "metadata": {
    "colab": {
     "base_uri": "https://localhost:8080/",
     "height": 34
    },
    "colab_type": "code",
    "id": "eRL5BTC0_6Fk",
    "outputId": "b7d0dca9-4502-4878-b266-4eacf86fcb23"
   },
   "outputs": [
    {
     "data": {
      "text/plain": [
       "array([[0.8859834]], dtype=float32)"
      ]
     },
     "execution_count": 18,
     "metadata": {},
     "output_type": "execute_result"
    }
   ],
   "source": [
    "# Similarity between result and 'king'\n",
    "cosine_similarity(result.reshape(1, -1), model['king'].reshape(1, -1))"
   ]
  },
  {
   "cell_type": "markdown",
   "metadata": {
    "colab_type": "text",
    "id": "Vs7wB08b_6Fx"
   },
   "source": [
    "So the result is more similar to king (0.8859834 similarity score) than it is to queen (0.8609581 similarity score)."
   ]
  },
  {
   "cell_type": "code",
   "execution_count": 19,
   "metadata": {
    "colab": {
     "base_uri": "https://localhost:8080/",
     "height": 243
    },
    "colab_type": "code",
    "id": "khmA8TJI_6Fy",
    "outputId": "4d3b7c65-e10e-4109-f2e2-848429b61699"
   },
   "outputs": [
    {
     "data": {
      "image/png": "[encoded data removed]",
      "text/plain": [
       "<Figure size 864x216 with 2 Axes>"
      ]
     },
     "metadata": {
      "needs_background": "light"
     },
     "output_type": "display_data"
    }
   ],
   "source": [
    "plot_embeddings( [model['king'],\n",
    "                 result, \n",
    "                 model['queen']],\n",
    "                 ['king', 'king-man+woman', 'queen'])"
   ]
  },
  {
   "cell_type": "markdown",
   "metadata": {
    "colab_type": "text",
    "id": "zwc6OsJv_6F1"
   },
   "source": [
    "## Exercise: doctor - man + woman = ?"
   ]
  },
  {
   "cell_type": "code",
   "execution_count": 20,
   "metadata": {
    "colab": {},
    "colab_type": "code",
    "id": "Y-oqYbHn_6F2"
   },
   "outputs": [
    {
     "data": {
      "text/plain": [
       "[('him', 0.7403260469436646),\n",
       " ('he', 0.731127917766571),\n",
       " ('brother', 0.7167532444000244),\n",
       " ('his', 0.711355447769165),\n",
       " ('himself', 0.7106558084487915),\n",
       " ('who', 0.702296257019043),\n",
       " ('another', 0.7000768780708313),\n",
       " ('father', 0.6967667937278748),\n",
       " ('dr.', 0.6887070536613464),\n",
       " ('physician', 0.6862638592720032)]"
      ]
     },
     "execution_count": 20,
     "metadata": {},
     "output_type": "execute_result"
    }
   ],
   "source": [
    "# TODO: fill-in values\n",
    "model.most_similar(positive=[\"doctor\", \"man\"], negative=[\"woman\"])"
   ]
  },
  {
   "cell_type": "markdown",
   "metadata": {
    "colab_type": "text",
    "id": "mw4vDdlN_6F6"
   },
   "source": [
    "### Verify: Is it, really?"
   ]
  },
  {
   "cell_type": "code",
   "execution_count": 21,
   "metadata": {
    "colab": {},
    "colab_type": "code",
    "id": "-AMCMD_m_6F7"
   },
   "outputs": [
    {
     "data": {
      "text/plain": [
       "array([[0.84242684]], dtype=float32)"
      ]
     },
     "execution_count": 21,
     "metadata": {},
     "output_type": "execute_result"
    }
   ],
   "source": [
    "# TODO: do analogy algebra\n",
    "result = model['doctor'] - model['man'] + model['woman']\n",
    "\n",
    "# Similarity between result and 'nurse'\n",
    "cosine_similarity(result.reshape(1, -1), model['nurse'].reshape(1, -1))"
   ]
  },
  {
   "cell_type": "code",
   "execution_count": 22,
   "metadata": {
    "colab": {},
    "colab_type": "code",
    "id": "0f5JXIsF_6F9"
   },
   "outputs": [
    {
     "data": {
      "text/plain": [
       "array([[0.89598846]], dtype=float32)"
      ]
     },
     "execution_count": 22,
     "metadata": {},
     "output_type": "execute_result"
    }
   ],
   "source": [
    "\n",
    "# Similarity between result and 'doctor'\n",
    "cosine_similarity(result.reshape(1, -1), model['doctor'].reshape(1, -1))"
   ]
  }
 ],
 "metadata": {
  "colab": {
   "name": "01 - Trained Word Embeddings with Gensim.ipynb",
   "provenance": []
  },
  "kernelspec": {
   "display_name": "Python 3.7.6 64-bit ('NLP': conda)",
   "language": "python",
   "name": "python37664bitnlpcondac288fe709c1f4a20ba3c1c2e82bc8cad"
  },
  "language_info": {
   "codemirror_mode": {
    "name": "ipython",
    "version": 3
   },
   "file_extension": ".py",
   "mimetype": "text/x-python",
   "name": "python",
   "nbconvert_exporter": "python",
   "pygments_lexer": "ipython3",
   "version": "3.7.6"
  }
 },
 "nbformat": 4,
 "nbformat_minor": 4
}
