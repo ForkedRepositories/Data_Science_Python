{
 "cells": [
  {
   "cell_type": "markdown",
   "metadata": {},
   "source": [
    "# TimSort -- Insertion sort and Merge Sort\n",
    "\n",
    "TimSort is a sorting algorithm based on Insertion Sort and Merge Sort.\n",
    "\n",
    "- A stable sorting algorithm works in O(n Log n) time\n",
    "\n",
    "- Used in Java’s Arrays.sort() as well as Python’s sorted() and sort().\n",
    "\n",
    "- First sort small pieces using Insertion Sort, then merges the pieces using merge of merge sort.\n"
   ]
  },
  {
   "cell_type": "markdown",
   "metadata": {},
   "source": [
    "## Quick Review: Insertion sort\n",
    "\n",
    "Insertion sort is a simple sorting algorithm that works the way we sort playing cards in our hands.\n",
    "\n",
    "**Algorithm**\n",
    "// Sort an arr[] of size n\n",
    "insertionSort(arr, n)\n",
    "Loop from i = 1 to n-1.\n",
    "    Pick element arr[i] and insert it into sorted sequence arr[0…i-1]\n",
    "\n",
    "**Example**:\n",
    "\n",
    "<img src=https://media.geeksforgeeks.org/wp-content/uploads/insertionsort.png style=\"width:300px\" />"
   ]
  },
  {
   "cell_type": "code",
   "execution_count": 1,
   "metadata": {
    "ExecuteTime": {
     "end_time": "2020-07-20T04:49:00.659250Z",
     "start_time": "2020-07-20T04:49:00.654931Z"
    }
   },
   "outputs": [
    {
     "name": "stdout",
     "output_type": "stream",
     "text": [
      "Original array: [12, 11, 13, 5, 6]\n",
      "Sorted array  : [5, 6, 11, 12, 13]\n"
     ]
    }
   ],
   "source": [
    "# Python program for implementation of Insertion Sort \n",
    "# Function to do insertion sort \n",
    "def insertionSort(arr): \n",
    "    # Traverse through 1 to len(arr) \n",
    "    for i in range(1, len(arr)): \n",
    "        key = arr[i] \n",
    "        # Move elements of arr[0..i-1], that are \n",
    "        # greater than key, to one position ahead \n",
    "        # of their current position \n",
    "        j = i-1\n",
    "        while j >= 0 and key < arr[j] : \n",
    "                arr[j + 1] = arr[j] \n",
    "                j -= 1\n",
    "        arr[j + 1] = key \n",
    "    return arr\n",
    "\n",
    "# Driver code to test above \n",
    "arr = [12, 11, 13, 5, 6] \n",
    "print(f\"Original array: {arr}\") \n",
    "arr = insertionSort(arr) \n",
    "print(f\"Sorted array  : {arr}\") "
   ]
  },
  {
   "cell_type": "markdown",
   "metadata": {},
   "source": [
    "### Summary: \n",
    "- Time Complexity: $O(n^2)$\n",
    "- Auxiliary Space: $O(1)$\n",
    "- Boundary Cases: Insertion sort takes maximum time to sort if elements are sorted in reverse order. And it takes minimum time (Order of n) when elements are already sorted.\n",
    "- Algorithmic Paradigm: Incremental Approach\n",
    "- Sorting In Place: Yes\n",
    "- Stable: Yes\n",
    "- Online: Yes\n",
    "- Uses: Insertion sort is used when number of elements is small. It can also be useful when input array is almost sorted, only few elements are misplaced in complete big array."
   ]
  },
  {
   "cell_type": "markdown",
   "metadata": {},
   "source": [
    "## TimSort \n",
    "\n",
    "We divide the Array into blocks known as Run. We sort those runs using insertion sort one by one and then merge those runs using combine function used in merge sort. \n",
    "\n",
    "If the size of Array is less than run, then Array get sorted just by using **Insertion Sort**. The size of `run` may vary from `32` to `64` depending upon the size of the array. \n",
    "\n",
    "Note that merge function performs well when sizes subarrays are powers of `2`. The idea is based on the fact that **insertion sort performs well for small arrays**."
   ]
  },
  {
   "cell_type": "code",
   "execution_count": 15,
   "metadata": {
    "ExecuteTime": {
     "end_time": "2020-07-20T04:54:26.373150Z",
     "start_time": "2020-07-20T04:54:26.362120Z"
    }
   },
   "outputs": [
    {
     "name": "stdout",
     "output_type": "stream",
     "text": [
      "Given Array is : [5, 21, 7, 23, 19, 109, 78, 67, 21, 35, 0, -2]\n",
      "Sorted Array is: [-2, 0, 5, 7, 19, 21, 21, 23, 35, 67, 78, 109]\n"
     ]
    }
   ],
   "source": [
    "# Python3 program to perform TimSort.  \n",
    "RUN = 32 \n",
    "    \n",
    "# This function sorts array from left index to  \n",
    "# to right index which is of size atmost RUN  \n",
    "def insertionSort(arr, left, right):  \n",
    "    for i in range(left + 1, right+1):  \n",
    "        key = arr[i]  \n",
    "        j = i - 1 \n",
    "        while j >= left and arr[j] > key :  \n",
    "            arr[j+1] = arr[j]  \n",
    "            j -= 1\n",
    "        arr[j+1] = key  \n",
    "    return arr \n",
    "    \n",
    "# merge function merges the sorted runs  \n",
    "def merge(arr, l, m, r): \n",
    "    # original array is broken in two parts  \n",
    "    # left and right array  \n",
    "    len1, len2 =  m - l + 1, r - m  \n",
    "    left, right = [], []  \n",
    "    for i in range(0, len1):  \n",
    "        left.append(arr[l + i])  \n",
    "    for i in range(0, len2):  \n",
    "        right.append(arr[m + 1 + i])  \n",
    "    \n",
    "    i, j, k = 0, 0, l \n",
    "    # after comparing, we merge those two array  \n",
    "    # in larger sub array  \n",
    "    while i < len1 and j < len2:  \n",
    "       \n",
    "        if left[i] <= right[j]:  \n",
    "            arr[k] = left[i]  \n",
    "            i += 1 \n",
    "        else: \n",
    "            arr[k] = right[j]  \n",
    "            j += 1 \n",
    "        k += 1\n",
    "       \n",
    "    # copy remaining elements of left, if any  \n",
    "    while i < len1:  \n",
    "        arr[k] = left[i]  \n",
    "        k += 1 \n",
    "        i += 1\n",
    "    # copy remaining element of right, if any  \n",
    "    while j < len2:  \n",
    "        arr[k] = right[j]  \n",
    "        k += 1\n",
    "        j += 1\n",
    "    return arr\n",
    "\n",
    "\n",
    "# iterative Timsort function to sort the  \n",
    "# array[0...n-1] (similar to merge sort)  \n",
    "\n",
    "def timSort(arr):  \n",
    "    n = len(arr)  \n",
    "    # Sort individual subarrays of size RUN  \n",
    "    for i in range(0, n, RUN):  \n",
    "        arr = insertionSort(arr, i, min((i+RUN-1), (n-1)))  \n",
    "    # start merging from size RUN (or 32). It will merge  \n",
    "    # to form size 64, then 128, 256 and so on ....  \n",
    "    size = RUN \n",
    "    while size < n:  \n",
    "        # pick starting point of left sub array. We  \n",
    "        # are going to merge arr[left..left+size-1]  \n",
    "        # and arr[left+size, left+2*size-1]  \n",
    "        # After every merge, we increase left by 2*size  \n",
    "        for left in range(0, n, 2*size):  \n",
    "            # find ending point of left sub array  \n",
    "            # mid+1 is starting point of right sub array  \n",
    "            mid = left + size - 1 \n",
    "            right = min((left + 2*size - 1), (n-1))  \n",
    "            # merge sub array arr[left.....mid] &  \n",
    "            # arr[mid+1....right]  \n",
    "            arr = merge(arr, left, mid, right)  \n",
    "        size = 2*size \n",
    "    return arr\n",
    " \n",
    "# Driver program to test above function  \n",
    "if __name__ == \"__main__\": \n",
    "    arr = [5, 21, 7, 23, 19, 109, 78, 67, 21, 35, 0, -2]  \n",
    "    print(f\"Given Array is : {arr}\")  \n",
    "    timSort(arr)  \n",
    "    print(f\"Sorted Array is: {arr}\")  \n",
    " "
   ]
  },
  {
   "cell_type": "code",
   "execution_count": 16,
   "metadata": {
    "ExecuteTime": {
     "end_time": "2020-07-20T04:54:47.464625Z",
     "start_time": "2020-07-20T04:54:47.461009Z"
    }
   },
   "outputs": [
    {
     "name": "stdout",
     "output_type": "stream",
     "text": [
      "Given Array is :\n",
      " [39, 147, 33, 94, 27, -163, 231, -215, 250, 115, 24, -240, -81, -236, 232, -63, 47, 23, 170, 163, 6, -213, -178, -122, 254, -105, 219, -104, 152, 36, 138, 192, 0, 197, 20, -237, 207, 43, 54, -31, 120, 109, -174, 16, -171, 165, 184, -197, 136, -210, -86, -37, 29, 193, -61, -112, -182, -231, -98, -175, -149, -150, -3, 227, -91, 233, -21, -250, -147, 96, 162, 187, 240, -200, 176, 110, -170, -2, 185, -179, -101, 186, 101, -132, -157, -238, -12, -252, 93, 45, -51, -247, -218, -46, 64, 133, 99, 74, 121, 28, 204, -195, -6, 60, 228, -249, -168, -113, -83, -222, -180, -53, 105, 116, 212, -167, 51, -232, -54, 196, 234, -17, -32, -14, 75, -27, -203, 131]\n",
      "Sorted Array is:\n",
      " [-252, -250, -249, -247, -240, -238, -237, -236, -232, -231, -222, -218, -215, -213, -210, -203, -200, -197, -195, -182, -180, -179, -178, -175, -174, -171, -170, -168, -167, -163, -157, -150, -149, -147, -132, -122, -113, -112, -105, -104, -101, -98, -91, -86, -83, -81, -63, -61, -54, -53, -51, -46, -37, -32, -31, -27, -21, -17, -14, -12, -6, -3, -2, 0, 6, 16, 20, 23, 24, 27, 28, 29, 33, 36, 39, 43, 45, 47, 51, 54, 60, 64, 74, 75, 93, 94, 96, 99, 101, 105, 109, 110, 115, 116, 120, 121, 131, 133, 136, 138, 147, 152, 162, 163, 165, 170, 176, 184, 185, 186, 187, 192, 193, 196, 197, 204, 207, 212, 219, 227, 228, 231, 232, 233, 234, 240, 250, 254]\n"
     ]
    }
   ],
   "source": [
    "import random\n",
    "\n",
    "arr = random.sample(range(-255, 255), 128)\n",
    "print(f\"Given Array is :\\n {arr}\")  \n",
    "\n",
    "arr_timsort = timSort(arr)  \n",
    "print(f\"Sorted Array is:\\n {arr_timsort}\")  "
   ]
  },
  {
   "cell_type": "code",
   "execution_count": 17,
   "metadata": {
    "ExecuteTime": {
     "end_time": "2020-07-20T04:54:48.715344Z",
     "start_time": "2020-07-20T04:54:48.523126Z"
    }
   },
   "outputs": [
    {
     "data": {
      "text/plain": [
       "<StemContainer object of 3 artists>"
      ]
     },
     "execution_count": 17,
     "metadata": {},
     "output_type": "execute_result"
    },
    {
     "data": {
      "image/png": "[encoded data removed]",
      "text/plain": [
       "<Figure size 1080x504 with 2 Axes>"
      ]
     },
     "metadata": {
      "needs_background": "light"
     },
     "output_type": "display_data"
    }
   ],
   "source": [
    "import matplotlib\n",
    "import matplotlib.pyplot as plt\n",
    "\n",
    "x = range(128)\n",
    "arr = random.sample(range(-255, 255), 128)\n",
    "\n",
    "plt.figure(figsize = (15, 7))\n",
    "plt.subplot(211)\n",
    "plt.stem(x, arr, use_line_collection=True )\n",
    "\n",
    "arr_timsort = timSort(arr)  \n",
    "plt.subplot(212)\n",
    "plt.stem(x, arr_timsort, use_line_collection=True)"
   ]
  },
  {
   "cell_type": "code",
   "execution_count": null,
   "metadata": {},
   "outputs": [],
   "source": []
  }
 ],
 "metadata": {
  "kernelspec": {
   "display_name": "Python 3",
   "language": "python",
   "name": "python3"
  },
  "language_info": {
   "codemirror_mode": {
    "name": "ipython",
    "version": 3
   },
   "file_extension": ".py",
   "mimetype": "text/x-python",
   "name": "python",
   "nbconvert_exporter": "python",
   "pygments_lexer": "ipython3",
   "version": "3.7.6"
  },
  "varInspector": {
   "cols": {
    "lenName": 16,
    "lenType": 16,
    "lenVar": 40
   },
   "kernels_config": {
    "python": {
     "delete_cmd_postfix": "",
     "delete_cmd_prefix": "del ",
     "library": "var_list.py",
     "varRefreshCmd": "print(var_dic_list())"
    },
    "r": {
     "delete_cmd_postfix": ") ",
     "delete_cmd_prefix": "rm(",
     "library": "var_list.r",
     "varRefreshCmd": "cat(var_dic_list()) "
    }
   },
   "types_to_exclude": [
    "module",
    "function",
    "builtin_function_or_method",
    "instance",
    "_Feature"
   ],
   "window_display": false
  }
 },
 "nbformat": 4,
 "nbformat_minor": 4
}
