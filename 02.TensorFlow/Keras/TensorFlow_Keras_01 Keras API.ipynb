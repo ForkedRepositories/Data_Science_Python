{
 "cells": [
  {
   "cell_type": "markdown",
   "metadata": {},
   "source": [
    "# Background\n",
    "**Keras** is a high-level API to build and train deep learning models. It's used for fast prototyping, advanced research, and production, with three key advantages:\n",
    "- 1 User friendly\n",
    "Keras has a simple, consistent interface optimized for common use cases. It provides clear and actionable feedback for user errors.\n",
    "- 2 Modular and composable\n",
    "Keras models are made by connecting configurable building blocks together, with few restrictions.\n",
    "- 3 Easy to extend\n",
    "Write custom building blocks to express new ideas for research. Create new layers, loss functions, and develop state-of-the-art models.\n",
    "\n",
    "References:\n",
    "- https://keras.io/;\n",
    "- https://www.tensorflow.org/guide/keras\n",
    "\n",
    "**Note**: `tf.keras` is TensorFlow's implementation of the [Keras API specification](https://keras.io/). This is a high-level API to build and train models that includes first-class support for TensorFlow-specific functionality, such as `eager execution`, `tf.data pipelines`, and `Estimators`. `tf.keras` makes TensorFlow easier to use without sacrificing flexibility and performance.\n",
    "\n",
    "To get started, import tf.keras as part of your TensorFlow program setup:"
   ]
  },
  {
   "cell_type": "code",
   "execution_count": 1,
   "metadata": {},
   "outputs": [
    {
     "name": "stderr",
     "output_type": "stream",
     "text": [
      "C:\\Users\\Chris.Cui\\AppData\\Local\\Continuum\\anaconda3\\lib\\site-packages\\h5py\\__init__.py:36: FutureWarning: Conversion of the second argument of issubdtype from `float` to `np.floating` is deprecated. In future, it will be treated as `np.float64 == np.dtype(float).type`.\n",
      "  from ._conv import register_converters as _register_converters\n"
     ]
    }
   ],
   "source": [
    "import tensorflow as tf\n",
    "from tensorflow import keras"
   ]
  },
  {
   "cell_type": "markdown",
   "metadata": {},
   "source": [
    "`tf.keras` can run any Keras-compatible code, but keep in mind:\n",
    "- The `tf.keras` version in the latest TensorFlow release might not be the same as the latest keras version from PyPI. Check `tf.keras.version`.\n",
    "- When saving a model's weights, `tf.keras` defaults to the checkpoint format. Pass `save_format='h5'` to use HDF5."
   ]
  },
  {
   "cell_type": "code",
   "execution_count": 2,
   "metadata": {},
   "outputs": [
    {
     "name": "stdout",
     "output_type": "stream",
     "text": [
      "1.10.0\n",
      "2.1.6-tf\n"
     ]
    }
   ],
   "source": [
    "print(tf.__version__)\n",
    "print(tf.keras.__version__) # the current version is 2.2.2"
   ]
  },
  {
   "cell_type": "markdown",
   "metadata": {},
   "source": [
    "## Build a simple model\n",
    "\n",
    "### Sequential model\n",
    "In Keras, you assemble layers to build models. A model is (usually) a graph of layers. The most common type of model is a stack of layers: the `tf.keras.Sequential` model.\n",
    "To build a simple, fully-connected network (i.e. multi-layer perceptron):"
   ]
  },
  {
   "cell_type": "code",
   "execution_count": 3,
   "metadata": {},
   "outputs": [],
   "source": [
    "model = keras.Sequential()\n",
    "# Adds a densely-connected layer with 64 units to the model:\n",
    "model.add(keras.layers.Dense(64, activation='relu'))\n",
    "# Add another:\n",
    "model.add(keras.layers.Dense(64, activation='relu'))\n",
    "# Add a softmax layer with 10 output units:\n",
    "model.add(keras.layers.Dense(10, activation='softmax'))"
   ]
  },
  {
   "cell_type": "markdown",
   "metadata": {},
   "source": [
    "### Configure the layers\n",
    "There are many `tf.keras.layers` available with some common constructor parameters:\n",
    "- **activation**: Set the activation function for the layer. This parameter is specified by the name of a built-in function or as a callable object. By default, no activation is applied.\n",
    "- **kernel_initializer and bias_initializer**: The initialization schemes that create the layer's weights (kernel and bias). This parameter is a name or a callable object. This defaults to the \"Glorot uniform\" initializer.\n",
    "- **kernel_regularizer and bias_regularizer**: The regularization schemes that apply the layer's weights (kernel and bias), such as L1 or L2 regularization. By default, no regularization is applied.\n",
    "The following instantiates `tf.keras.layers.Dense layers` using constructor arguments:"
   ]
  },
  {
   "cell_type": "markdown",
   "metadata": {},
   "source": [
    "```python\n",
    "# Create a sigmoid layer:\n",
    "layers.Dense(64, activation='sigmoid')\n",
    "# Or:\n",
    "layers.Dense(64, activation=tf.sigmoid)\n",
    "\n",
    "# A linear layer with L1 regularization of factor 0.01 applied to the kernel matrix:\n",
    "layers.Dense(64, kernel_regularizer=keras.regularizers.l1(0.01))\n",
    "# A linear layer with L2 regularization of factor 0.01 applied to the bias vector:\n",
    "layers.Dense(64, bias_regularizer=keras.regularizers.l2(0.01))\n",
    "\n",
    "# A linear layer with a kernel initialized to a random orthogonal matrix:\n",
    "layers.Dense(64, kernel_initializer='orthogonal')\n",
    "# A linear layer with a bias vector initialized to 2.0s:\n",
    "layers.Dense(64, bias_initializer=keras.initializers.constant(2.0))\n",
    "```"
   ]
  },
  {
   "cell_type": "code",
   "execution_count": 4,
   "metadata": {},
   "outputs": [
    {
     "name": "stdout",
     "output_type": "stream",
     "text": [
      "dense_3 [] []\n",
      "dense_4 [] []\n",
      "dense_5 [] []\n",
      "dense_6 [] []\n",
      "dense_7 [] []\n",
      "dense_8 [] []\n"
     ]
    }
   ],
   "source": [
    "model2 = keras.Sequential()\n",
    "# create a sigmoid layer:\n",
    "model2.add(keras.layers.Dense(64, activation ='sigmoid'))\n",
    "# or \n",
    "model2.add(keras.layers.Dense(64, activation = tf.sigmoid))\n",
    "\n",
    "# A linear layer with L1 regularization of factor 0.01 applied to the kernel matrix:\n",
    "model2.add(keras.layers.Dense(64, kernel_regularizer = keras.regularizers.l1(0.001)))\n",
    "# A linear layer with L2 regularization of factor 0.01 applied to the bias vector:\n",
    "model2.add(keras.layers.Dense(64, bias_regularizer=keras.regularizers.l2(0.01)))\n",
    "\n",
    "# A linear layer with a kernel initialized to a random orthogonal matrix:\n",
    "model2.add(keras.layers.Dense(64, kernel_initializer='orthogonal'))\n",
    "# A linear layer with a bias vector initialized to 2.0s:\n",
    "model2.add(keras.layers.Dense(64, bias_initializer=keras.initializers.constant(2.0)))\n",
    "\n",
    "for layer in model2.layers:\n",
    "    print(layer.name, layer.inbound_nodes, layer.outbound_nodes)\n",
    "\n",
    "# print(model2.summary())"
   ]
  },
  {
   "cell_type": "markdown",
   "metadata": {},
   "source": [
    "## Train and evaluate\n",
    "### Set up training\n",
    "\n",
    "After the model is constructed, configure its learning process by calling the compile method:"
   ]
  },
  {
   "cell_type": "code",
   "execution_count": 5,
   "metadata": {},
   "outputs": [],
   "source": [
    "model.compile(optimizer=tf.train.AdamOptimizer(0.001),\n",
    "              loss='categorical_crossentropy',\n",
    "              metrics=['accuracy'])"
   ]
  },
  {
   "cell_type": "markdown",
   "metadata": {},
   "source": [
    "`tf.keras.Model.compile` takes three important arguments:\n",
    "- **optimizer**: This object specifies the training procedure. Pass it optimizer instances from the `tf.train` module, such as `AdamOptimizer`, `RMSPropOptimizer`, or `GradientDescentOptimizer`.\n",
    "- **loss**: The function to minimize during optimization. Common choices include mean square error (`mse`), `categorical_crossentropy`, and `binary_crossentropy`. Loss functions are specified by name or by passing a callable object from the `tf.keras.losses` module.\n",
    "- **metrics**: Used to monitor training. These are string names or callables from the `tf.keras.metrics` module.\n",
    "\n",
    "The following shows a few examples of configuring a model for training:"
   ]
  },
  {
   "cell_type": "markdown",
   "metadata": {},
   "source": [
    "```python\n",
    "# Configure a model for mean-squared error regression.\n",
    "model.compile(optimizer = tf.train.AdamOptimizer(0.01),\n",
    "              loss = 'mse', # mean squared error\n",
    "              metrics = ['mae']) # mean absolute error\n",
    "# configure a model for categorical classification.\n",
    "model.compile(optimizer = tf.train.RMSPropOptimizer(0.01),\n",
    "              loss = keras.losses.categorical_crossentropy,\n",
    "              metrics = [keras.metrics.categorical_accuracy])\n",
    "```"
   ]
  },
  {
   "cell_type": "code",
   "execution_count": 6,
   "metadata": {},
   "outputs": [
    {
     "ename": "ValueError",
     "evalue": "This model has never been called, thus its weights have not yet been created, so no summary can be displayed. Build the model first (e.g. by calling it on some data).",
     "output_type": "error",
     "traceback": [
      "\u001b[1;31m---------------------------------------------------------------------------\u001b[0m",
      "\u001b[1;31mValueError\u001b[0m                                Traceback (most recent call last)",
      "\u001b[1;32m<ipython-input-6-544e3225df99>\u001b[0m in \u001b[0;36m<module>\u001b[1;34m()\u001b[0m\n\u001b[1;32m----> 1\u001b[1;33m \u001b[0mprint\u001b[0m\u001b[1;33m(\u001b[0m\u001b[0mmodel\u001b[0m\u001b[1;33m.\u001b[0m\u001b[0msummary\u001b[0m\u001b[1;33m(\u001b[0m\u001b[1;33m)\u001b[0m\u001b[1;33m)\u001b[0m\u001b[1;33m\u001b[0m\u001b[0m\n\u001b[0m",
      "\u001b[1;32m~\\AppData\\Local\\Continuum\\anaconda3\\lib\\site-packages\\tensorflow\\python\\keras\\engine\\network.py\u001b[0m in \u001b[0;36msummary\u001b[1;34m(self, line_length, positions, print_fn)\u001b[0m\n\u001b[0;32m   1544\u001b[0m     \"\"\"\n\u001b[0;32m   1545\u001b[0m     \u001b[1;32mif\u001b[0m \u001b[1;32mnot\u001b[0m \u001b[0mself\u001b[0m\u001b[1;33m.\u001b[0m\u001b[0mbuilt\u001b[0m\u001b[1;33m:\u001b[0m\u001b[1;33m\u001b[0m\u001b[0m\n\u001b[1;32m-> 1546\u001b[1;33m       raise ValueError('This model has never been called, thus its weights '\n\u001b[0m\u001b[0;32m   1547\u001b[0m                        \u001b[1;34m'have not yet been created, so no summary can be '\u001b[0m\u001b[1;33m\u001b[0m\u001b[0m\n\u001b[0;32m   1548\u001b[0m                        \u001b[1;34m'displayed. Build the model first '\u001b[0m\u001b[1;33m\u001b[0m\u001b[0m\n",
      "\u001b[1;31mValueError\u001b[0m: This model has never been called, thus its weights have not yet been created, so no summary can be displayed. Build the model first (e.g. by calling it on some data)."
     ]
    }
   ],
   "source": [
    " print(model.summary()) "
   ]
  },
  {
   "cell_type": "markdown",
   "metadata": {},
   "source": [
    "### Input Numpy data\n",
    "For small datasets, use in-memory [`NumPy`](https://www.numpy.org/) arrays to train and evaluate a model. The model is \"fit\" to the training data using the fit method:"
   ]
  },
  {
   "cell_type": "code",
   "execution_count": 7,
   "metadata": {},
   "outputs": [
    {
     "name": "stdout",
     "output_type": "stream",
     "text": [
      "Epoch 1/10\n",
      "1000/1000 [==============================] - 0s 230us/step - loss: 11.6661 - acc: 0.1020\n",
      "Epoch 2/10\n",
      "1000/1000 [==============================] - 0s 35us/step - loss: 11.6290 - acc: 0.1070\n",
      "Epoch 3/10\n",
      "1000/1000 [==============================] - 0s 40us/step - loss: 11.6202 - acc: 0.1180\n",
      "Epoch 4/10\n",
      "1000/1000 [==============================] - 0s 37us/step - loss: 11.6150 - acc: 0.1170\n",
      "Epoch 5/10\n",
      "1000/1000 [==============================] - 0s 34us/step - loss: 11.6102 - acc: 0.1160\n",
      "Epoch 6/10\n",
      "1000/1000 [==============================] - 0s 37us/step - loss: 11.6073 - acc: 0.1290\n",
      "Epoch 7/10\n",
      "1000/1000 [==============================] - 0s 28us/step - loss: 11.6027 - acc: 0.1340\n",
      "Epoch 8/10\n",
      "1000/1000 [==============================] - 0s 31us/step - loss: 11.5988 - acc: 0.1380\n",
      "Epoch 9/10\n",
      "1000/1000 [==============================] - 0s 29us/step - loss: 11.5947 - acc: 0.1410\n",
      "Epoch 10/10\n",
      "1000/1000 [==============================] - 0s 29us/step - loss: 11.5923 - acc: 0.1550\n"
     ]
    },
    {
     "data": {
      "text/plain": [
       "<tensorflow.python.keras.callbacks.History at 0x18bf5b534a8>"
      ]
     },
     "execution_count": 7,
     "metadata": {},
     "output_type": "execute_result"
    }
   ],
   "source": [
    "import numpy as np\n",
    "\n",
    "data = np.random.random((1000, 32))\n",
    "labels = np.random.random((1000, 10))\n",
    "\n",
    "model.fit(data, labels, epochs=10, batch_size=32)"
   ]
  },
  {
   "cell_type": "code",
   "execution_count": 8,
   "metadata": {},
   "outputs": [
    {
     "name": "stdout",
     "output_type": "stream",
     "text": [
      "_________________________________________________________________\n",
      "Layer (type)                 Output Shape              Param #   \n",
      "=================================================================\n",
      "dense (Dense)                (None, 64)                2112      \n",
      "_________________________________________________________________\n",
      "dense_1 (Dense)              (None, 64)                4160      \n",
      "_________________________________________________________________\n",
      "dense_2 (Dense)              (None, 10)                650       \n",
      "=================================================================\n",
      "Total params: 6,922\n",
      "Trainable params: 6,922\n",
      "Non-trainable params: 0\n",
      "_________________________________________________________________\n",
      "None\n"
     ]
    }
   ],
   "source": [
    " print(model.summary()) "
   ]
  },
  {
   "cell_type": "markdown",
   "metadata": {},
   "source": [
    "`tf.keras.Model.fit` takes three improtant arguments:\n",
    "- `epochs`: Training is structured into epochs. An epoch is one iteration over the entirre input data (this is done in smaller batches).\n",
    "- `batch_size`: When passed NumPy data, the model slices the data into smaller batches and iterates over these batches during training. This integer specifies the size of each batch.Be ware that the last batch may be smaller if the total number of samples is not divisible by the batch size.\n",
    "- `validation_data`: When prototping a model, you want to easily monitor its performance on some validaiton data. Passing this argument - a tuple of inputs and lables - allows the model to display the loss and metrics in inference mode for the passed data, at the end of each epoch.\n",
    "\n",
    "Here's an example using `validation_data`:"
   ]
  },
  {
   "cell_type": "code",
   "execution_count": 9,
   "metadata": {},
   "outputs": [
    {
     "name": "stdout",
     "output_type": "stream",
     "text": [
      "Train on 1000 samples, validate on 100 samples\n",
      "Epoch 1/10\n",
      "1000/1000 [==============================] - 0s 65us/step - loss: 11.4286 - acc: 0.0860 - val_loss: 11.3371 - val_acc: 0.1200\n",
      "Epoch 2/10\n",
      "1000/1000 [==============================] - 0s 43us/step - loss: 11.4167 - acc: 0.1080 - val_loss: 11.3338 - val_acc: 0.1000\n",
      "Epoch 3/10\n",
      "1000/1000 [==============================] - 0s 43us/step - loss: 11.4110 - acc: 0.1070 - val_loss: 11.3336 - val_acc: 0.1100\n",
      "Epoch 4/10\n",
      "1000/1000 [==============================] - 0s 38us/step - loss: 11.4064 - acc: 0.1190 - val_loss: 11.3344 - val_acc: 0.0900\n",
      "Epoch 5/10\n",
      "1000/1000 [==============================] - 0s 39us/step - loss: 11.4025 - acc: 0.1390 - val_loss: 11.3342 - val_acc: 0.1200\n",
      "Epoch 6/10\n",
      "1000/1000 [==============================] - 0s 36us/step - loss: 11.3993 - acc: 0.1460 - val_loss: 11.3343 - val_acc: 0.1100\n",
      "Epoch 7/10\n",
      "1000/1000 [==============================] - 0s 32us/step - loss: 11.3948 - acc: 0.1420 - val_loss: 11.3345 - val_acc: 0.1300\n",
      "Epoch 8/10\n",
      "1000/1000 [==============================] - 0s 34us/step - loss: 11.3916 - acc: 0.1500 - val_loss: 11.3366 - val_acc: 0.1100\n",
      "Epoch 9/10\n",
      "1000/1000 [==============================] - 0s 34us/step - loss: 11.3869 - acc: 0.1460 - val_loss: 11.3377 - val_acc: 0.1000\n",
      "Epoch 10/10\n",
      "1000/1000 [==============================] - 0s 33us/step - loss: 11.3833 - acc: 0.1610 - val_loss: 11.3378 - val_acc: 0.1000\n",
      "_________________________________________________________________\n",
      "Layer (type)                 Output Shape              Param #   \n",
      "=================================================================\n",
      "dense (Dense)                (None, 64)                2112      \n",
      "_________________________________________________________________\n",
      "dense_1 (Dense)              (None, 64)                4160      \n",
      "_________________________________________________________________\n",
      "dense_2 (Dense)              (None, 10)                650       \n",
      "=================================================================\n",
      "Total params: 6,922\n",
      "Trainable params: 6,922\n",
      "Non-trainable params: 0\n",
      "_________________________________________________________________\n",
      "None\n"
     ]
    }
   ],
   "source": [
    "import numpy as np\n",
    "\n",
    "data = np.random.random((1000, 32))\n",
    "labels = np.random.random((1000, 10))\n",
    "\n",
    "val_data = np.random.random((100, 32))\n",
    "val_labels = np.random.random((100, 10))\n",
    "\n",
    "model.fit(data, labels, epochs=10, batch_size=32,\n",
    "          validation_data=(val_data, val_labels))\n",
    "print(model.summary()) "
   ]
  },
  {
   "cell_type": "markdown",
   "metadata": {},
   "source": [
    "### Input tf.data datasets\n",
    "Use the [Datasets API](https://www.tensorflow.org/guide/datasets) to scale to large datasets or multi-device training. Pass a `tf.data.Dataset` instance to the `fit` method:"
   ]
  },
  {
   "cell_type": "code",
   "execution_count": 10,
   "metadata": {},
   "outputs": [
    {
     "name": "stdout",
     "output_type": "stream",
     "text": [
      "Epoch 1/10\n",
      "30/30 [==============================] - 0s 5ms/step - loss: 11.3679 - acc: 0.1625\n",
      "Epoch 2/10\n",
      "30/30 [==============================] - 0s 1ms/step - loss: 11.3870 - acc: 0.1646\n",
      "Epoch 3/10\n",
      "30/30 [==============================] - 0s 1ms/step - loss: 11.3617 - acc: 0.1781\n",
      "Epoch 4/10\n",
      "30/30 [==============================] - 0s 1ms/step - loss: 11.3495 - acc: 0.1802\n",
      "Epoch 5/10\n",
      "30/30 [==============================] - 0s 1ms/step - loss: 11.3600 - acc: 0.1750\n",
      "Epoch 6/10\n",
      "30/30 [==============================] - 0s 959us/step - loss: 11.3921 - acc: 0.1792\n",
      "Epoch 7/10\n",
      "30/30 [==============================] - 0s 958us/step - loss: 11.3900 - acc: 0.1865\n",
      "Epoch 8/10\n",
      "30/30 [==============================] - 0s 973us/step - loss: 11.3528 - acc: 0.1865\n",
      "Epoch 9/10\n",
      "30/30 [==============================] - 0s 1ms/step - loss: 11.3607 - acc: 0.1990\n",
      "Epoch 10/10\n",
      "30/30 [==============================] - 0s 978us/step - loss: 11.3627 - acc: 0.1958\n"
     ]
    },
    {
     "data": {
      "text/plain": [
       "<tensorflow.python.keras.callbacks.History at 0x18bff2965f8>"
      ]
     },
     "execution_count": 10,
     "metadata": {},
     "output_type": "execute_result"
    }
   ],
   "source": [
    "# instantiates a toy dataset instance:\n",
    "dataset = tf.data.Dataset.from_tensor_slices((data,labels))\n",
    "dataset = dataset.batch(32)\n",
    "dataset = dataset.repeat()\n",
    "# Don't forget to specify `steps_per_epoch` when calling `fit` on a dataset.\n",
    "model.fit(dataset, epochs=10, steps_per_epoch=30)"
   ]
  },
  {
   "cell_type": "markdown",
   "metadata": {},
   "source": [
    "Here, the fit method uses the `steps_per_epoch` argument—this is the number of training steps the model runs before it moves to the next epoch. Since the `Dataset` yields batches of data, this snippet does not require a batch_size.\n",
    "\n",
    "Datasets can also be used for validation:"
   ]
  },
  {
   "cell_type": "code",
   "execution_count": 11,
   "metadata": {},
   "outputs": [
    {
     "name": "stdout",
     "output_type": "stream",
     "text": [
      "Epoch 1/10\n",
      "30/30 [==============================] - 0s 5ms/step - loss: 11.3209 - acc: 0.1896 - val_loss: 11.3815 - val_acc: 0.0625\n",
      "Epoch 2/10\n",
      "30/30 [==============================] - 0s 1ms/step - loss: 11.3342 - acc: 0.2115 - val_loss: 11.3028 - val_acc: 0.0521\n",
      "Epoch 3/10\n",
      "30/30 [==============================] - 0s 1ms/step - loss: 11.3069 - acc: 0.2208 - val_loss: 11.1431 - val_acc: 0.0521\n",
      "Epoch 4/10\n",
      "30/30 [==============================] - 0s 1ms/step - loss: 11.2954 - acc: 0.2208 - val_loss: 11.1296 - val_acc: 0.0521\n",
      "Epoch 5/10\n",
      "30/30 [==============================] - 0s 1ms/step - loss: 11.3052 - acc: 0.2198 - val_loss: 11.3927 - val_acc: 0.0938\n",
      "Epoch 6/10\n",
      "30/30 [==============================] - 0s 1ms/step - loss: 11.3370 - acc: 0.2240 - val_loss: 11.3115 - val_acc: 0.0417\n",
      "Epoch 7/10\n",
      "30/30 [==============================] - 0s 1ms/step - loss: 11.3362 - acc: 0.2062 - val_loss: 11.1575 - val_acc: 0.0729\n",
      "Epoch 8/10\n",
      "30/30 [==============================] - 0s 1ms/step - loss: 11.2979 - acc: 0.2115 - val_loss: 11.1630 - val_acc: 0.0833\n",
      "Epoch 9/10\n",
      "30/30 [==============================] - 0s 1ms/step - loss: 11.3055 - acc: 0.2188 - val_loss: 11.4143 - val_acc: 0.1146\n",
      "Epoch 10/10\n",
      "30/30 [==============================] - 0s 1ms/step - loss: 11.3067 - acc: 0.2177 - val_loss: 11.3729 - val_acc: 0.0417\n"
     ]
    },
    {
     "data": {
      "text/plain": [
       "<tensorflow.python.keras.callbacks.History at 0x18bff280470>"
      ]
     },
     "execution_count": 11,
     "metadata": {},
     "output_type": "execute_result"
    }
   ],
   "source": [
    "dataset = tf.data.Dataset.from_tensor_slices((data, labels))\n",
    "dataset = dataset.batch(32).repeat()\n",
    "\n",
    "val_dataset = tf.data.Dataset.from_tensor_slices((val_data, val_labels))\n",
    "val_dataset = val_dataset.batch(32).repeat()\n",
    "\n",
    "model.fit(dataset, epochs=10, steps_per_epoch=30,\n",
    "          validation_data=val_dataset,\n",
    "          validation_steps=3)"
   ]
  },
  {
   "cell_type": "markdown",
   "metadata": {},
   "source": [
    "### Evaluate and predict\n",
    "The `tf.keras.Model.evaluate` and `tf.keras.Model.predict` methods can use `NumPy` data and a `tf.data.Dataset`.\n",
    "\n",
    "To evaluate the inference-mode loss and metrics for the data provided:\n",
    "\n",
    "```python\n",
    "model.evaluate(x, y, batch_size=32)\n",
    "```"
   ]
  },
  {
   "cell_type": "code",
   "execution_count": 12,
   "metadata": {},
   "outputs": [
    {
     "name": "stdout",
     "output_type": "stream",
     "text": [
      "30/30 [==============================] - 0s 2ms/step\n"
     ]
    },
    {
     "data": {
      "text/plain": [
       "[11.264290110270183, 0.24166666666666667]"
      ]
     },
     "execution_count": 12,
     "metadata": {},
     "output_type": "execute_result"
    }
   ],
   "source": [
    "model.evaluate(dataset, steps=30)"
   ]
  },
  {
   "cell_type": "markdown",
   "metadata": {},
   "source": [
    "And to predict the output of the last layer in inference for the data provided, as a `NumPy` array:\n",
    "\n",
    "```python\n",
    "model.predict(x, batch_size=32)\n",
    "```"
   ]
  },
  {
   "cell_type": "code",
   "execution_count": 13,
   "metadata": {},
   "outputs": [
    {
     "data": {
      "text/plain": [
       "array([[0.10254159, 0.09166691, 0.10063826, ..., 0.11293227, 0.08100922,\n",
       "        0.09025851],\n",
       "       [0.08806247, 0.07979634, 0.09069813, ..., 0.12869543, 0.0856675 ,\n",
       "        0.10079659],\n",
       "       [0.09890846, 0.08906995, 0.10231475, ..., 0.08926013, 0.12503439,\n",
       "        0.09220088],\n",
       "       ...,\n",
       "       [0.08964546, 0.10613495, 0.10948122, ..., 0.08683585, 0.12034209,\n",
       "        0.09074239],\n",
       "       [0.09827719, 0.11611066, 0.10380182, ..., 0.10046207, 0.08959305,\n",
       "        0.09288852],\n",
       "       [0.08810676, 0.09687473, 0.07328252, ..., 0.12014561, 0.10056761,\n",
       "        0.08903769]], dtype=float32)"
      ]
     },
     "execution_count": 13,
     "metadata": {},
     "output_type": "execute_result"
    }
   ],
   "source": [
    "model.predict(dataset, steps=30)"
   ]
  },
  {
   "cell_type": "markdown",
   "metadata": {},
   "source": [
    "## Build advanced models\n",
    "### Functional API\n",
    "\n",
    "The `tf.keras.Sequential` model is a simple stack of layers that cannot represent arbitrary models. Use the `Keras functional API` to build complex model topologies such as:\n",
    "- Multi-input models,\n",
    "- Multi-output models,\n",
    "- Models with shared layers (the same layer called several times),\n",
    "- Models with non-sequential data flows (e.g. residual connections).\n",
    "\n",
    "Building a model with the functional API works like this:\n",
    "1. A layer instance is callable and returns a tensor.\n",
    "2. Input tensors and output tensors are used to define a `tf.keras.Model` instance.\n",
    "3. This model is trained just like the `Sequential` model.\n",
    "\n",
    "The following example uses the functional API to build a simple, fully-connected network:"
   ]
  },
  {
   "cell_type": "code",
   "execution_count": 14,
   "metadata": {},
   "outputs": [
    {
     "name": "stdout",
     "output_type": "stream",
     "text": [
      "Epoch 1/5\n",
      "1000/1000 [==============================] - 0s 233us/step - loss: 11.5421 - acc: 0.1140\n",
      "Epoch 2/5\n",
      "1000/1000 [==============================] - 0s 42us/step - loss: 11.4684 - acc: 0.1190\n",
      "Epoch 3/5\n",
      "1000/1000 [==============================] - 0s 36us/step - loss: 11.4385 - acc: 0.1090\n",
      "Epoch 4/5\n",
      "1000/1000 [==============================] - 0s 41us/step - loss: 11.4254 - acc: 0.1190\n",
      "Epoch 5/5\n",
      "1000/1000 [==============================] - 0s 35us/step - loss: 11.4180 - acc: 0.1240\n",
      "_________________________________________________________________\n",
      "Layer (type)                 Output Shape              Param #   \n",
      "=================================================================\n",
      "input_1 (InputLayer)         (None, 32)                0         \n",
      "_________________________________________________________________\n",
      "dense_9 (Dense)              (None, 64)                2112      \n",
      "_________________________________________________________________\n",
      "dense_10 (Dense)             (None, 64)                4160      \n",
      "_________________________________________________________________\n",
      "OutputLayer (Dense)          (None, 10)                650       \n",
      "=================================================================\n",
      "Total params: 6,922\n",
      "Trainable params: 6,922\n",
      "Non-trainable params: 0\n",
      "_________________________________________________________________\n",
      "None\n"
     ]
    }
   ],
   "source": [
    "inputs = keras.Input(shape=(32,))  # Returns a placeholder tensor\n",
    "\n",
    "# A layer instance is callable on a tensor, and returns a tensor.\n",
    "x = keras.layers.Dense(64, activation='relu')(inputs)\n",
    "x = keras.layers.Dense(64, activation='relu')(x)\n",
    "predictions = keras.layers.Dense(10, activation='softmax', name = 'OutputLayer')(x)\n",
    "\n",
    "# Instantiate the model given inputs and outputs.\n",
    "model = keras.Model(inputs=inputs, outputs=predictions)\n",
    "\n",
    "# The compile step specifies the training configuration.\n",
    "model.compile(optimizer=tf.train.RMSPropOptimizer(0.001),\n",
    "              loss='categorical_crossentropy',\n",
    "              metrics=['accuracy'])\n",
    "\n",
    "# Trains for 5 epochs\n",
    "model.fit(data, labels, batch_size=32, epochs=5)\n",
    "\n",
    "print(model.summary())"
   ]
  },
  {
   "cell_type": "markdown",
   "metadata": {},
   "source": [
    "### Model subclassing\n",
    "Build a fully-customizable model by subclassing `tf.keras.Model` and defining your own forward pass. Create layers in the `__init__` method and set them as attributes of the class instance. Define the forward pass in the `call` method.\n",
    "\n",
    "Model subclassing is particularly useful when `eager execution` is enabled since the forward pass can be written imperatively.\n",
    "\n",
    "**Key Point**: Use the right API for the job. While model subclassing offers flexibility, it comes at a cost of greater complexity and more opportunities for user errors. If possible, prefer the functional API.\n",
    "\n",
    "The following example shows a subclassed `tf.keras.Model` using a custom forward pass:"
   ]
  },
  {
   "cell_type": "code",
   "execution_count": 15,
   "metadata": {},
   "outputs": [
    {
     "name": "stdout",
     "output_type": "stream",
     "text": [
      "Epoch 1/5\n",
      "1000/1000 [==============================] - 0s 195us/step - loss: 11.6191 - acc: 0.1160\n",
      "Epoch 2/5\n",
      "1000/1000 [==============================] - 0s 36us/step - loss: 11.5287 - acc: 0.1030\n",
      "Epoch 3/5\n",
      "1000/1000 [==============================] - 0s 32us/step - loss: 11.4507 - acc: 0.1050\n",
      "Epoch 4/5\n",
      "1000/1000 [==============================] - 0s 33us/step - loss: 11.4307 - acc: 0.1100\n",
      "Epoch 5/5\n",
      "1000/1000 [==============================] - 0s 31us/step - loss: 11.4253 - acc: 0.1050\n",
      "_________________________________________________________________\n",
      "Layer (type)                 Output Shape              Param #   \n",
      "=================================================================\n",
      "dense_11 (Dense)             multiple                  1056      \n",
      "_________________________________________________________________\n",
      "dense_12 (Dense)             multiple                  330       \n",
      "=================================================================\n",
      "Total params: 1,386\n",
      "Trainable params: 1,386\n",
      "Non-trainable params: 0\n",
      "_________________________________________________________________\n",
      "None\n"
     ]
    }
   ],
   "source": [
    "class MyModel(keras.Model):\n",
    "    def __init__(self, num_classes=10):\n",
    "        super(MyModel, self).__init__(name='my_model')\n",
    "        self.num_classes = num_classes\n",
    "        # define your layers here.\n",
    "        self.dense_1 = keras.layers.Dense(32, activation='relu')\n",
    "        self.dense_2 = keras.layers.Dense(num_classes, activation='sigmoid')\n",
    "\n",
    "    def call(self, inputs):\n",
    "        # Define your forward pass here,\n",
    "        # using layers you previously defined (in `__init__`).\n",
    "        x = self.dense_1(inputs)\n",
    "        return self.dense_2(x)        \n",
    "        \n",
    "    def compute_output_shape(self, input_shape):\n",
    "        # You need to override this function if you want to use the subclassed model\n",
    "        # as part of a functional-style model.\n",
    "        # Otherwise, this method is optional.\n",
    "        shape = tf.TensorShape(input_shape).as_list()\n",
    "        shape[-1] = self.num_classes\n",
    "        return tf.TensorShape(shape)\n",
    "\n",
    "\n",
    "# Instantiates the subclassed model.\n",
    "model = MyModel(num_classes=10)\n",
    "\n",
    "# The compile step specifies the training configuration.\n",
    "model.compile(optimizer=tf.train.RMSPropOptimizer(0.001),\n",
    "              loss='categorical_crossentropy',\n",
    "              metrics=['accuracy'])\n",
    "\n",
    "# Trains for 5 epochs.\n",
    "model.fit(data, labels, batch_size=32, epochs=5)    \n",
    "print(model.summary())"
   ]
  },
  {
   "cell_type": "markdown",
   "metadata": {},
   "source": [
    "### Custom layers\n",
    "Create a custom layer by subclassing `tf.keras.layers.Layer` and implementing the following methods:\n",
    "- `build`: Create the weights of the layer. Add weights with the `add_weight` method.\n",
    "- `call`: Define the forward pass.\n",
    "- `compute_output_shape`: Specify how to compute the output shape of the layer given the input shape.\n",
    "- Optionally, a layer can be serialized by implementing the `get_config` method and the from_config class method.\n",
    "\n",
    "Here's an example of a custom layer that implements a `matmul` of an input with a kernel matrix:"
   ]
  },
  {
   "cell_type": "code",
   "execution_count": 16,
   "metadata": {},
   "outputs": [
    {
     "name": "stdout",
     "output_type": "stream",
     "text": [
      "Epoch 1/5\n",
      "1000/1000 [==============================] - 0s 167us/step - loss: 13.1816 - acc: 0.1110\n",
      "Epoch 2/5\n",
      "1000/1000 [==============================] - 0s 32us/step - loss: 12.4911 - acc: 0.1030\n",
      "Epoch 3/5\n",
      "1000/1000 [==============================] - 0s 33us/step - loss: 12.0152 - acc: 0.1020\n",
      "Epoch 4/5\n",
      "1000/1000 [==============================] - 0s 31us/step - loss: 11.8750 - acc: 0.0940\n",
      "Epoch 5/5\n",
      "1000/1000 [==============================] - 0s 32us/step - loss: 11.8360 - acc: 0.0920\n",
      "_________________________________________________________________\n",
      "Layer (type)                 Output Shape              Param #   \n",
      "=================================================================\n",
      "my_layer (MyLayer)           (None, 10)                320       \n",
      "_________________________________________________________________\n",
      "activation (Activation)      (None, 10)                0         \n",
      "=================================================================\n",
      "Total params: 320\n",
      "Trainable params: 320\n",
      "Non-trainable params: 0\n",
      "_________________________________________________________________\n",
      "None\n"
     ]
    }
   ],
   "source": [
    "class MyLayer(keras.layers.Layer):\n",
    "\n",
    "    def __init__(self, output_dim, **kwargs):\n",
    "        self.output_dim = output_dim\n",
    "        super(MyLayer, self).__init__(**kwargs)\n",
    "\n",
    "    def build(self, input_shape):\n",
    "        shape = tf.TensorShape((input_shape[1], self.output_dim))\n",
    "        # Create a trainable weight variable for this layer.\n",
    "        self.kernel = self.add_weight(name='kernel',\n",
    "                                      shape=shape,\n",
    "                                      initializer='uniform',\n",
    "                                      trainable=True)\n",
    "        # Be sure to call this at the end\n",
    "        super(MyLayer, self).build(input_shape)\n",
    "\n",
    "    def call(self, inputs):\n",
    "        return tf.matmul(inputs, self.kernel)\n",
    "\n",
    "    def compute_output_shape(self, input_shape):\n",
    "        shape = tf.TensorShape(input_shape).as_list()\n",
    "        shape[-1] = self.output_dim\n",
    "        return tf.TensorShape(shape)\n",
    "\n",
    "    def get_config(self):\n",
    "        base_config = super(MyLayer, self).get_config()\n",
    "        base_config['output_dim'] = self.output_dim\n",
    "\n",
    "    @classmethod\n",
    "    def from_config(cls, config):\n",
    "        return cls(**config)\n",
    "\n",
    "# Create a model using the custom layer\n",
    "model = keras.Sequential([MyLayer(10),\n",
    "                          keras.layers.Activation('softmax')])\n",
    "\n",
    "# The compile step specifies the training configuration\n",
    "model.compile(optimizer=tf.train.RMSPropOptimizer(0.001),\n",
    "              loss='categorical_crossentropy',\n",
    "              metrics=['accuracy'])\n",
    "\n",
    "# Trains for 5 epochs.\n",
    "model.fit(data, labels, batch_size=32, epochs=5)\n",
    "print(model.summary())"
   ]
  },
  {
   "cell_type": "markdown",
   "metadata": {},
   "source": [
    "## Callbacks\n",
    "\n",
    "A callback is an object passed to a model to customize and extend its behavior during training. You can write your own custom callback, or use the built-in `tf.keras.callbacks` that include:\n",
    "- `tf.keras.callbacks.ModelCheckpoint`: Save checkpoints of your model at regular intervals.\n",
    "- `tf.keras.callbacks.LearningRateScheduler`: Dynamically change the learning rate.\n",
    "- `tf.keras.callbacks.EarlyStopping`: Interrupt training when validation performance has stopped improving.\n",
    "- `tf.keras.callbacks.TensorBoard`: Monitor the model's behavior using TensorBoard.\n",
    "\n",
    "To use a `tf.keras.callbacks.Callback`, pass it to the model's `fit` method:\n"
   ]
  },
  {
   "cell_type": "code",
   "execution_count": 19,
   "metadata": {},
   "outputs": [
    {
     "name": "stdout",
     "output_type": "stream",
     "text": [
      "Train on 1000 samples, validate on 100 samples\n",
      "Epoch 1/5\n",
      "1000/1000 [==============================] - 0s 32us/step - loss: 11.6934 - acc: 0.0950 - val_loss: 11.6009 - val_acc: 0.1500\n",
      "Epoch 2/5\n",
      "1000/1000 [==============================] - 0s 31us/step - loss: 11.6732 - acc: 0.0920 - val_loss: 11.5829 - val_acc: 0.1400\n",
      "Epoch 3/5\n",
      "1000/1000 [==============================] - 0s 34us/step - loss: 11.6547 - acc: 0.0920 - val_loss: 11.5690 - val_acc: 0.1600\n",
      "Epoch 4/5\n",
      "1000/1000 [==============================] - 0s 30us/step - loss: 11.6369 - acc: 0.0980 - val_loss: 11.5549 - val_acc: 0.1400\n",
      "Epoch 5/5\n",
      "1000/1000 [==============================] - 0s 36us/step - loss: 11.6200 - acc: 0.0990 - val_loss: 11.5421 - val_acc: 0.1700\n",
      "_________________________________________________________________\n",
      "Layer (type)                 Output Shape              Param #   \n",
      "=================================================================\n",
      "my_layer (MyLayer)           (None, 10)                320       \n",
      "_________________________________________________________________\n",
      "activation (Activation)      (None, 10)                0         \n",
      "=================================================================\n",
      "Total params: 320\n",
      "Trainable params: 320\n",
      "Non-trainable params: 0\n",
      "_________________________________________________________________\n",
      "None\n"
     ]
    }
   ],
   "source": [
    "callbacks = [\n",
    "  # Interrupt training if `val_loss` stops improving for over 2 epochs\n",
    "  keras.callbacks.EarlyStopping(patience=2, monitor='val_loss'),\n",
    "  # Write TensorBoard logs to `./logs` directory\n",
    "  keras.callbacks.TensorBoard(log_dir='./logs')\n",
    "]\n",
    "model.fit(data, labels, batch_size=32, epochs=5, callbacks=callbacks,\n",
    "          validation_data=(val_data, val_labels))\n",
    "\n",
    "print(model.summary())"
   ]
  },
  {
   "cell_type": "markdown",
   "metadata": {},
   "source": [
    "## Save and restore\n",
    "### Weights only\n",
    "Save and load the weights of a model using `tf.keras.Model.save_weights`:"
   ]
  },
  {
   "cell_type": "code",
   "execution_count": 33,
   "metadata": {},
   "outputs": [
    {
     "name": "stdout",
     "output_type": "stream",
     "text": [
      "Epoch 1/10\n",
      "1000/1000 [==============================] - 0s 364us/step - loss: 11.4395 - acc: 0.1070\n",
      "Epoch 2/10\n",
      "1000/1000 [==============================] - 0s 38us/step - loss: 11.4173 - acc: 0.1160\n",
      "Epoch 3/10\n",
      "1000/1000 [==============================] - 0s 35us/step - loss: 11.4119 - acc: 0.1120\n",
      "Epoch 4/10\n",
      "1000/1000 [==============================] - 0s 35us/step - loss: 11.4044 - acc: 0.1280\n",
      "Epoch 5/10\n",
      "1000/1000 [==============================] - 0s 37us/step - loss: 11.3988 - acc: 0.1390\n",
      "Epoch 6/10\n",
      "1000/1000 [==============================] - 0s 32us/step - loss: 11.3962 - acc: 0.1380\n",
      "Epoch 7/10\n",
      "1000/1000 [==============================] - 0s 35us/step - loss: 11.3903 - acc: 0.1600\n",
      "Epoch 8/10\n",
      "1000/1000 [==============================] - 0s 33us/step - loss: 11.3862 - acc: 0.1570\n",
      "Epoch 9/10\n",
      "1000/1000 [==============================] - 0s 32us/step - loss: 11.3843 - acc: 0.1580\n",
      "Epoch 10/10\n",
      "1000/1000 [==============================] - 0s 32us/step - loss: 11.3799 - acc: 0.1600\n",
      "acc: 18.90%\n"
     ]
    },
    {
     "data": {
      "text/plain": [
       "<tensorflow.python.training.checkpointable.util.CheckpointLoadStatus at 0x18b838667b8>"
      ]
     },
     "execution_count": 33,
     "metadata": {},
     "output_type": "execute_result"
    }
   ],
   "source": [
    "# prepare the mode\n",
    "\n",
    "model = keras.Sequential()\n",
    "# Adds a densely-connected layer with 64 units to the model:\n",
    "model.add(keras.layers.Dense(64, activation='relu'))\n",
    "# Add another:\n",
    "model.add(keras.layers.Dense(64, activation='relu'))\n",
    "# Add a softmax layer with 10 output units:\n",
    "model.add(keras.layers.Dense(10, activation='softmax'))\n",
    "\n",
    "model.compile(optimizer=tf.train.AdamOptimizer(0.001),\n",
    "              loss='categorical_crossentropy',\n",
    "              metrics=['accuracy'])\n",
    "\n",
    "model.fit(data, labels, epochs=10, batch_size=32)\n",
    "scores = model.evaluate(data, labels, verbose=0)\n",
    "print(\"%s: %.2f%%\" % (model.metrics_names[1], scores[1]*100))\n",
    "\n",
    "# Save weights to a TensorFlow Checkpoint file\n",
    "model.save_weights('./models/my_model')\n",
    "\n",
    "# Restore the model's state,\n",
    "# this requires a model with the same architecture.\n",
    "model.load_weights('./models/my_model')"
   ]
  },
  {
   "cell_type": "markdown",
   "metadata": {},
   "source": [
    "By default, this saves the model's weights in the [TensorFlow checkpoint](https://www.tensorflow.org/guide/checkpoints) file format. Weights can also be saved to the Keras HDF5 format (the default for the multi-backend implementation of Keras):"
   ]
  },
  {
   "cell_type": "code",
   "execution_count": 34,
   "metadata": {},
   "outputs": [],
   "source": [
    "# Save weights to a HDF5 file\n",
    "model.save_weights('./models/my_model.h5', save_format='h5')\n",
    "\n",
    "# Restore the model's state\n",
    "model.load_weights('./models/my_model.h5')"
   ]
  },
  {
   "cell_type": "markdown",
   "metadata": {},
   "source": [
    "### Configuration only \n",
    "A model's configuration can be saved—this serializes the model architecture without any weights. A saved configuration can recreate and initialize the same model, even without the code that defined the original model. Keras supports **JSON** and **YAML** serialization formats:"
   ]
  },
  {
   "cell_type": "code",
   "execution_count": 48,
   "metadata": {},
   "outputs": [],
   "source": [
    "# Serialize a model to JSON format\n",
    "json_string = model.to_json()\n",
    "\n",
    "# Recreate the model (freshly initialized)\n",
    "fresh_model = keras.models.model_from_json(json_string)\n",
    "\n",
    "# Serializes a model to YAML format\n",
    "yaml_string = model.to_yaml()\n",
    "\n",
    "# Recreate the model\n",
    "fresh_model = keras.models.model_from_yaml(yaml_string)"
   ]
  },
  {
   "cell_type": "code",
   "execution_count": 49,
   "metadata": {},
   "outputs": [
    {
     "name": "stdout",
     "output_type": "stream",
     "text": [
      "Saved model to disk\n"
     ]
    }
   ],
   "source": [
    "# Serialize a model to JSON format\n",
    "json_string = model.to_json()\n",
    "#print(json_string)\n",
    "with open(\"./models/model.json\", \"w\") as json_file:\n",
    "    json_file.write(json_string)\n",
    "# serialize weights to HDF5\n",
    "model.save_weights(\"./models/model.h5\", save_format='h5')\n",
    "print(\"Saved model to disk\")"
   ]
  },
  {
   "cell_type": "code",
   "execution_count": 51,
   "metadata": {},
   "outputs": [
    {
     "name": "stdout",
     "output_type": "stream",
     "text": [
      "Loaded model from disk\n",
      "acc: 18.90%\n"
     ]
    }
   ],
   "source": [
    "# later...\n",
    " \n",
    "# load json and create model\n",
    "json_file = open('./models/model.json', 'r')\n",
    "loaded_model_json = json_file.read()\n",
    "json_file.close()\n",
    "#print(loaded_model_json)\n",
    "\n",
    "loaded_model = keras.models.model_from_json(loaded_model_json)\n",
    "# load weights into new model\n",
    "loaded_model.load_weights(\"./models/model.h5\")\n",
    "print(\"Loaded model from disk\")\n",
    "\n",
    "scores = model.evaluate(data, labels, verbose=0)\n",
    "print(\"%s: %.2f%%\" % (model.metrics_names[1], scores[1]*100))\n"
   ]
  },
  {
   "cell_type": "markdown",
   "metadata": {},
   "source": [
    "### Entire model\n",
    "The entire model can be saved to a file that contains the weight values, the model's configuration, and even the optimizer's configuration. This allows you to checkpoint a model and resume training later—from the exact same state—without access to the original code."
   ]
  },
  {
   "cell_type": "code",
   "execution_count": 57,
   "metadata": {},
   "outputs": [
    {
     "name": "stdout",
     "output_type": "stream",
     "text": [
      "Epoch 1/5\n",
      "1000/1000 [==============================] - 0s 434us/step - loss: 11.4265 - acc: 0.1150\n",
      "Epoch 2/5\n",
      "1000/1000 [==============================] - 0s 36us/step - loss: 11.4178 - acc: 0.1170\n",
      "Epoch 3/5\n",
      "1000/1000 [==============================] - 0s 35us/step - loss: 11.4154 - acc: 0.1200\n",
      "Epoch 4/5\n",
      "1000/1000 [==============================] - 0s 34us/step - loss: 11.4144 - acc: 0.1090\n",
      "Epoch 5/5\n",
      "1000/1000 [==============================] - 0s 34us/step - loss: 11.4141 - acc: 0.1230\n"
     ]
    }
   ],
   "source": [
    "# Create a trivial model\n",
    "model = keras.Sequential([\n",
    "  keras.layers.Dense(10, activation='softmax', input_shape=(32,)),\n",
    "  keras.layers.Dense(10, activation='softmax')\n",
    "])\n",
    "model.compile(optimizer='rmsprop',\n",
    "              loss='categorical_crossentropy',\n",
    "              metrics=['accuracy'])\n",
    "model.fit(data, labels, batch_size=32, epochs=5)\n",
    "\n",
    "\n",
    "# Save entire model to a HDF5 file\n",
    "model.save('./models/my_model.h5')\n",
    "\n",
    "del model\n",
    "#print(model.summary()) NameError: name 'model' is not defined"
   ]
  },
  {
   "cell_type": "code",
   "execution_count": 61,
   "metadata": {},
   "outputs": [
    {
     "name": "stdout",
     "output_type": "stream",
     "text": [
      "_________________________________________________________________\n",
      "Layer (type)                 Output Shape              Param #   \n",
      "=================================================================\n",
      "dense_25 (Dense)             (None, 10)                330       \n",
      "_________________________________________________________________\n",
      "dense_26 (Dense)             (None, 10)                110       \n",
      "=================================================================\n",
      "Total params: 440\n",
      "Trainable params: 440\n",
      "Non-trainable params: 0\n",
      "_________________________________________________________________\n",
      "None\n",
      "{\"class_name\": \"Sequential\", \"config\": [{\"class_name\": \"Dense\", \"config\": {\"name\": \"dense_25\", \"trainable\": true, \"batch_input_shape\": [null, 32], \"dtype\": \"float32\", \"units\": 10, \"activation\": \"softmax\", \"use_bias\": true, \"kernel_initializer\": {\"class_name\": \"VarianceScaling\", \"config\": {\"scale\": 1.0, \"mode\": \"fan_avg\", \"distribution\": \"uniform\", \"seed\": null, \"dtype\": \"float32\"}}, \"bias_initializer\": {\"class_name\": \"Zeros\", \"config\": {\"dtype\": \"float32\"}}, \"kernel_regularizer\": null, \"bias_regularizer\": null, \"activity_regularizer\": null, \"kernel_constraint\": null, \"bias_constraint\": null}}, {\"class_name\": \"Dense\", \"config\": {\"name\": \"dense_26\", \"trainable\": true, \"dtype\": \"float32\", \"units\": 10, \"activation\": \"softmax\", \"use_bias\": true, \"kernel_initializer\": {\"class_name\": \"VarianceScaling\", \"config\": {\"scale\": 1.0, \"mode\": \"fan_avg\", \"distribution\": \"uniform\", \"seed\": null, \"dtype\": \"float32\"}}, \"bias_initializer\": {\"class_name\": \"Zeros\", \"config\": {\"dtype\": \"float32\"}}, \"kernel_regularizer\": null, \"bias_regularizer\": null, \"activity_regularizer\": null, \"kernel_constraint\": null, \"bias_constraint\": null}}], \"keras_version\": \"2.1.6-tf\", \"backend\": \"tensorflow\"}\n"
     ]
    }
   ],
   "source": [
    "# Recreate the exact same model, including weights and optimizer.\n",
    "model = keras.models.load_model('./models/my_model.h5')\n",
    "print(model.summary())\n",
    "print(model.to_json())"
   ]
  },
  {
   "cell_type": "markdown",
   "metadata": {},
   "source": [
    "## Eager Execution\n",
    "[Eager execution](https://www.tensorflow.org/guide/eager) is an imperative programming environment that evaluates operations immediately. This is not required for Keras, but is supported by tf.keras and useful for inspecting your program and debugging.\n",
    "\n",
    "All of the `tf.keras` model-building APIs are compatible with eager execution. And while the Sequential and functional APIs can be used, eager execution especially benefits model subclassing and building custom layers—the APIs that require you to write the forward pass as code (instead of the APIs that create models by assembling existing layers).\n",
    "\n",
    "See the [eager execution guide](https://www.tensorflow.org/guide/eager#build_a_model) for examples of using Keras models with custom training loops and `tf.GradientTape`."
   ]
  },
  {
   "cell_type": "markdown",
   "metadata": {},
   "source": [
    "## Distribution\n",
    "### Estimators\n",
    "The [Estimators](https://www.tensorflow.org/guide/estimators) API is used for training models for distributed environments. This targets industry use cases such as distributed training on large datasets that can export a model for production.\n",
    "\n",
    "A `tf.keras.Model` can be trained with the `tf.estimator` API by converting the model to an `tf.estimator.Estimator` object with `tf.keras.estimator.model_to_estimator`. See [Creating Estimators from Keras models](https://www.tensorflow.org/guide/estimators#creating_estimators_from_keras_models)."
   ]
  },
  {
   "cell_type": "code",
   "execution_count": 66,
   "metadata": {},
   "outputs": [
    {
     "name": "stdout",
     "output_type": "stream",
     "text": [
      "INFO:tensorflow:Using the Keras model provided.\n",
      "INFO:tensorflow:Using default config.\n",
      "WARNING:tensorflow:Using temporary folder as model directory: C:\\Users\\Chris.Cui\\AppData\\Local\\Temp\\9\\tmp3tu_5ls2\n",
      "INFO:tensorflow:Using config: {'_model_dir': 'C:\\\\Users\\\\Chris.Cui\\\\AppData\\\\Local\\\\Temp\\\\9\\\\tmp3tu_5ls2', '_tf_random_seed': None, '_save_summary_steps': 100, '_save_checkpoints_steps': None, '_save_checkpoints_secs': 600, '_session_config': None, '_keep_checkpoint_max': 5, '_keep_checkpoint_every_n_hours': 10000, '_log_step_count_steps': 100, '_train_distribute': None, '_device_fn': None, '_service': None, '_cluster_spec': <tensorflow.python.training.server_lib.ClusterSpec object at 0x0000018B8BE2FC50>, '_task_type': 'worker', '_task_id': 0, '_global_id_in_cluster': 0, '_master': '', '_evaluation_master': '', '_is_chief': True, '_num_ps_replicas': 0, '_num_worker_replicas': 1}\n"
     ]
    }
   ],
   "source": [
    "model = keras.Sequential([keras.layers.Dense(10,activation='softmax'),\n",
    "                          keras.layers.Dense(10,activation='softmax')])\n",
    "\n",
    "model.compile(optimizer=tf.train.RMSPropOptimizer(0.001),\n",
    "              loss='categorical_crossentropy',\n",
    "              metrics=['accuracy'])\n",
    "\n",
    "estimator = keras.estimator.model_to_estimator(model)"
   ]
  },
  {
   "cell_type": "markdown",
   "metadata": {},
   "source": [
    "### Multiple GPUs (Check your hardware)\n",
    "`tf.keras` models can run on multiple GPUs using `tf.contrib.distribute.DistributionStrategy`. This API provides distributed training on multiple GPUs with almost no changes to existing code.\n",
    "\n",
    "Currently, `tf.contrib.distribute.MirroredStrategy` is the only supported distribution strategy. `MirroredStrateg`y does in-graph replication with synchronous training using all-reduce on a single machine. To use `DistributionStrategy` with Keras, convert the `tf.keras.Model` to a `tf.estimator.Estimator` with `tf.keras.estimator.model_to_estimator`, then train the estimator.\n",
    "\n",
    "The following example distributes a tf.keras.Model across multiple GPUs on a single machine."
   ]
  },
  {
   "cell_type": "code",
   "execution_count": 68,
   "metadata": {},
   "outputs": [
    {
     "name": "stdout",
     "output_type": "stream",
     "text": [
      "_________________________________________________________________\n",
      "Layer (type)                 Output Shape              Param #   \n",
      "=================================================================\n",
      "dense_31 (Dense)             (None, 16)                176       \n",
      "_________________________________________________________________\n",
      "dense_32 (Dense)             (None, 1)                 17        \n",
      "=================================================================\n",
      "Total params: 193\n",
      "Trainable params: 193\n",
      "Non-trainable params: 0\n",
      "_________________________________________________________________\n"
     ]
    }
   ],
   "source": [
    "model = keras.Sequential()\n",
    "model.add(keras.layers.Dense(16, activation='relu', input_shape=(10,)))\n",
    "model.add(keras.layers.Dense(1, activation='sigmoid'))\n",
    "\n",
    "optimizer = tf.train.GradientDescentOptimizer(0.2)\n",
    "\n",
    "model.compile(loss='binary_crossentropy', optimizer=optimizer)\n",
    "model.summary()"
   ]
  },
  {
   "cell_type": "markdown",
   "metadata": {},
   "source": [
    "Define an input pipeline. The `input_fn` returns a `tf.data.Dataset` object used to distribute the data across multiple devices—with each device processing a slice of the input batch."
   ]
  },
  {
   "cell_type": "code",
   "execution_count": 69,
   "metadata": {},
   "outputs": [],
   "source": [
    "def input_fn():\n",
    "    x = np.random.random((1024, 10))\n",
    "    y = np.random.randint(2, size=(1024, 1))\n",
    "    x = tf.cast(x, tf.float32)\n",
    "    dataset = tf.data.Dataset.from_tensor_slices((x, y))\n",
    "    dataset = dataset.repeat(10)\n",
    "    dataset = dataset.batch(32)\n",
    "    return dataset"
   ]
  },
  {
   "cell_type": "markdown",
   "metadata": {},
   "source": [
    "Next, create a `tf.estimator.RunConfig` and set the `train_distribute` argument to the `tf.contrib.distribute.MirroredStrategy` instance. When creating `MirroredStrategy`, you can specify a list of devices or set the `num_gpus` argument. The default uses all available GPUs, like the following:\n",
    "\n",
    "https://www.tensorflow.org/api_docs/python/tf/contrib/distribute/MirroredStrategy "
   ]
  },
  {
   "cell_type": "code",
   "execution_count": 74,
   "metadata": {},
   "outputs": [
    {
     "ename": "TypeError",
     "evalue": "__init__() got an unexpected keyword argument 'deviceId'",
     "output_type": "error",
     "traceback": [
      "\u001b[1;31m---------------------------------------------------------------------------\u001b[0m",
      "\u001b[1;31mTypeError\u001b[0m                                 Traceback (most recent call last)",
      "\u001b[1;32m<ipython-input-74-a1a22698bad4>\u001b[0m in \u001b[0;36m<module>\u001b[1;34m()\u001b[0m\n\u001b[1;32m----> 1\u001b[1;33m \u001b[0mstrategy\u001b[0m \u001b[1;33m=\u001b[0m \u001b[0mtf\u001b[0m\u001b[1;33m.\u001b[0m\u001b[0mcontrib\u001b[0m\u001b[1;33m.\u001b[0m\u001b[0mdistribute\u001b[0m\u001b[1;33m.\u001b[0m\u001b[0mMirroredStrategy\u001b[0m\u001b[1;33m(\u001b[0m\u001b[0mdeviceId\u001b[0m\u001b[1;33m=\u001b[0m\u001b[1;36m1\u001b[0m\u001b[1;33m)\u001b[0m\u001b[1;33m\u001b[0m\u001b[0m\n\u001b[0m\u001b[0;32m      2\u001b[0m \u001b[0mconfig\u001b[0m \u001b[1;33m=\u001b[0m \u001b[0mtf\u001b[0m\u001b[1;33m.\u001b[0m\u001b[0mestimator\u001b[0m\u001b[1;33m.\u001b[0m\u001b[0mRunConfig\u001b[0m\u001b[1;33m(\u001b[0m\u001b[0mtrain_distribute\u001b[0m\u001b[1;33m=\u001b[0m\u001b[0mstrategy\u001b[0m\u001b[1;33m)\u001b[0m\u001b[1;33m\u001b[0m\u001b[0m\n",
      "\u001b[1;31mTypeError\u001b[0m: __init__() got an unexpected keyword argument 'deviceId'"
     ]
    }
   ],
   "source": [
    "strategy = tf.contrib.distribute.MirroredStrategy(deviceId=1)\n",
    "config = tf.estimator.RunConfig(train_distribute=strategy)"
   ]
  },
  {
   "cell_type": "markdown",
   "metadata": {},
   "source": [
    "Convert the Keras model to a `tf.estimator.Estimator` instance:"
   ]
  },
  {
   "cell_type": "code",
   "execution_count": 71,
   "metadata": {},
   "outputs": [
    {
     "ename": "NameError",
     "evalue": "name 'config' is not defined",
     "output_type": "error",
     "traceback": [
      "\u001b[1;31m---------------------------------------------------------------------------\u001b[0m",
      "\u001b[1;31mNameError\u001b[0m                                 Traceback (most recent call last)",
      "\u001b[1;32m<ipython-input-71-4281c1436ece>\u001b[0m in \u001b[0;36m<module>\u001b[1;34m()\u001b[0m\n\u001b[0;32m      1\u001b[0m keras_estimator = keras.estimator.model_to_estimator(keras_model=model,\n\u001b[1;32m----> 2\u001b[1;33m                                                      \u001b[0mconfig\u001b[0m\u001b[1;33m=\u001b[0m\u001b[0mconfig\u001b[0m\u001b[1;33m,\u001b[0m\u001b[1;33m\u001b[0m\u001b[0m\n\u001b[0m\u001b[0;32m      3\u001b[0m                                                      model_dir='./tmp/model_dir')\n",
      "\u001b[1;31mNameError\u001b[0m: name 'config' is not defined"
     ]
    }
   ],
   "source": [
    "keras_estimator = keras.estimator.model_to_estimator(keras_model=model,\n",
    "                                                     config=config,\n",
    "                                                     model_dir='./tmp/model_dir')"
   ]
  },
  {
   "cell_type": "markdown",
   "metadata": {},
   "source": [
    "Finally, train the Estimator instance by providing the `input_fn` and `steps` arguments:"
   ]
  },
  {
   "cell_type": "code",
   "execution_count": 75,
   "metadata": {},
   "outputs": [
    {
     "ename": "NameError",
     "evalue": "name 'keras_estimator' is not defined",
     "output_type": "error",
     "traceback": [
      "\u001b[1;31m---------------------------------------------------------------------------\u001b[0m",
      "\u001b[1;31mNameError\u001b[0m                                 Traceback (most recent call last)",
      "\u001b[1;32m<ipython-input-75-843363108fab>\u001b[0m in \u001b[0;36m<module>\u001b[1;34m()\u001b[0m\n\u001b[1;32m----> 1\u001b[1;33m \u001b[0mkeras_estimator\u001b[0m\u001b[1;33m.\u001b[0m\u001b[0mtrain\u001b[0m\u001b[1;33m(\u001b[0m\u001b[0minput_fn\u001b[0m\u001b[1;33m=\u001b[0m\u001b[0minput_fn\u001b[0m\u001b[1;33m,\u001b[0m \u001b[0msteps\u001b[0m\u001b[1;33m=\u001b[0m\u001b[1;36m10\u001b[0m\u001b[1;33m)\u001b[0m\u001b[1;33m\u001b[0m\u001b[0m\n\u001b[0m",
      "\u001b[1;31mNameError\u001b[0m: name 'keras_estimator' is not defined"
     ]
    }
   ],
   "source": [
    "keras_estimator.train(input_fn=input_fn, steps=10)"
   ]
  },
  {
   "cell_type": "code",
   "execution_count": null,
   "metadata": {},
   "outputs": [],
   "source": []
  }
 ],
 "metadata": {
  "kernelspec": {
   "display_name": "Python 3",
   "language": "python",
   "name": "python3"
  },
  "language_info": {
   "codemirror_mode": {
    "name": "ipython",
    "version": 3
   },
   "file_extension": ".py",
   "mimetype": "text/x-python",
   "name": "python",
   "nbconvert_exporter": "python",
   "pygments_lexer": "ipython3",
   "version": "3.6.5"
  }
 },
 "nbformat": 4,
 "nbformat_minor": 2
}
