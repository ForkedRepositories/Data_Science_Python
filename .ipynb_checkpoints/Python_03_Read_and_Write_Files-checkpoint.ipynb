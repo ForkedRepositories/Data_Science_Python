{
 "cells": [
  {
   "cell_type": "markdown",
   "metadata": {},
   "source": [
    "# Reading and Writing Files in Python"
   ]
  },
  {
   "cell_type": "markdown",
   "metadata": {},
   "source": [
    "In this section, we will learn some basic opearation about reading and writing files. Moreover, as a data scientist, building an accurate machine learning model is not the end of the project. We will showing you how to save and load your machine learning model in Python.This allows you to save your model to file and load it later in order to make predictions."
   ]
  },
  {
   "cell_type": "markdown",
   "metadata": {},
   "source": [
    "## Read txt file"
   ]
  },
  {
   "cell_type": "code",
   "execution_count": 1,
   "metadata": {},
   "outputs": [
    {
     "name": "stdout",
     "output_type": "stream",
     "text": [
      "Life is short,\n",
      "Use Python!\n"
     ]
    }
   ],
   "source": [
    "f = open(\"files/Python.txt\", \"r\") #opens file with name of \"Python.txt\"\n",
    "# read and print the entire file\n",
    "print(f.read())\n",
    "# remember to colse the file\n",
    "f.close()"
   ]
  },
  {
   "cell_type": "markdown",
   "metadata": {},
   "source": [
    "Used the **readline()** method twice, we would get the first 2 lines because of Python's reading process."
   ]
  },
  {
   "cell_type": "code",
   "execution_count": 2,
   "metadata": {},
   "outputs": [
    {
     "name": "stdout",
     "output_type": "stream",
     "text": [
      "Life is short,\n",
      "\n",
      "Use Python!\n"
     ]
    }
   ],
   "source": [
    "f = open(\"files/Python.txt\", \"r\") #opens file with name of \"Python.txt\"\n",
    "# read the 1st line\n",
    "print(f.readline())\n",
    "# read the next line\n",
    "print(f.readline())\n",
    "f.close()"
   ]
  },
  {
   "cell_type": "code",
   "execution_count": 3,
   "metadata": {},
   "outputs": [
    {
     "name": "stdout",
     "output_type": "stream",
     "text": [
      "['Life is short,\\n', 'Use Python!']\n",
      "Life is short,\n",
      "\n",
      "Use Python!\n"
     ]
    }
   ],
   "source": [
    "#opens file with name of \"Python.txt\"\n",
    "f = open(\"files/Python.txt\", \"r\") \n",
    "myList = []\n",
    "for line in f:\n",
    "    myList.append(line)\n",
    "f.close()\n",
    "    \n",
    "print(myList)\n",
    "print(myList[0])\n",
    "print(myList[1])"
   ]
  },
  {
   "cell_type": "markdown",
   "metadata": {},
   "source": [
    "## Write txt file"
   ]
  },
  {
   "cell_type": "code",
   "execution_count": 4,
   "metadata": {},
   "outputs": [
    {
     "name": "stdout",
     "output_type": "stream",
     "text": [
      "I love Python.\n",
      "I will be a Python master.\n",
      "I need to keep learning!\n"
     ]
    }
   ],
   "source": [
    "# Write file with name of \"test.txt\"\n",
    "f = open(\"files/test.txt\",\"w\")  \n",
    "f.write(\"I love Python.\\n\")\n",
    "f.write(\"I will be a Python master.\\n\")\n",
    "f.write(\"I need to keep learning!\")\n",
    "f.close()\n",
    "\n",
    "# read and see the test.txt file\n",
    "f = open(\"files/test.txt\",\"r\") \n",
    "print(f.read())\n",
    "f.close()"
   ]
  },
  {
   "cell_type": "markdown",
   "metadata": {},
   "source": [
    "## Read csv file"
   ]
  },
  {
   "cell_type": "code",
   "execution_count": 5,
   "metadata": {},
   "outputs": [
    {
     "name": "stdout",
     "output_type": "stream",
     "text": [
      "{'Ali': '25', 'Bob': '24', 'Chirs': '29'}\n"
     ]
    }
   ],
   "source": [
    "import csv\n",
    "csvFile = open(\"files/test.csv\", \"r\") \n",
    "reader = csv.reader(csvFile, delimiter=',')\n",
    "# load the data in a dictionary \n",
    "result = {}\n",
    "for item in reader:\n",
    "    # ignore the first line\n",
    "    if reader.line_num == 1:\n",
    "        continue    \n",
    "    result[item[0]] = item[1]\n",
    "csvFile.close()\n",
    "\n",
    "print(result)    "
   ]
  },
  {
   "cell_type": "markdown",
   "metadata": {},
   "source": [
    "## Write csv file"
   ]
  },
  {
   "cell_type": "code",
   "execution_count": 6,
   "metadata": {},
   "outputs": [],
   "source": [
    "import csv\n",
    "fileHeader = [\"name\", \"age\"]\n",
    "\n",
    "d1 = [\"Chris\", \"27\"]\n",
    "d2 = [\"Ming\", \"26\"]\n",
    "\n",
    "csvFile = open(\"files/write.csv\", \"w\")\n",
    "writer = csv.writer(csvFile)\n",
    "writer = csv.writer(csvFile)\n",
    "\n",
    "# write the head and data\n",
    "writer.writerow(fileHeader)\n",
    "writer.writerow(d1)\n",
    "writer.writerow(d2)\n",
    "\n",
    "# Here is another command \n",
    "# writer.writerows([fileHeader, d1, d2])\n",
    "\n",
    "csvFile.close()\n",
    "\n",
    "# go to see the \"write.csv\" file."
   ]
  },
  {
   "cell_type": "markdown",
   "metadata": {},
   "source": [
    "You can find more information from the [documentation](https://docs.python.org/3.6/library/csv.html)"
   ]
  },
  {
   "cell_type": "markdown",
   "metadata": {},
   "source": [
    "## Using Pandas to Read CSV file"
   ]
  },
  {
   "cell_type": "code",
   "execution_count": 7,
   "metadata": {},
   "outputs": [
    {
     "name": "stdout",
     "output_type": "stream",
     "text": [
      "    Name  Age\n",
      "0    Ali   25\n",
      "1    Bob   24\n",
      "2  Chirs   29\n",
      "[25. 24. 29.]\n",
      "[[25.]\n",
      " [24.]\n",
      " [29.]]\n"
     ]
    }
   ],
   "source": [
    "import pandas as pd\n",
    "import numpy as np\n",
    "data = pd.read_csv(\"files/test.csv\")\n",
    "# data is data\n",
    "print(data) \n",
    "\n",
    "# extract the age data\n",
    "Age = np.array(data.Age, dtype = 'double')\n",
    "print(Age)\n",
    "\n",
    "# reshap this age vector\n",
    "Age = np.reshape(Age, [3,1])\n",
    "print(Age)"
   ]
  },
  {
   "cell_type": "markdown",
   "metadata": {},
   "source": [
    "Find more operation about Pandas in the [documentation](https://pandas.pydata.org/) and [cheatsheet](https://github.com/pandas-dev/pandas/blob/master/doc/cheatsheet/Pandas_Cheat_Sheet.pdf)"
   ]
  },
  {
   "cell_type": "markdown",
   "metadata": {},
   "source": [
    "## Read Matlab file"
   ]
  },
  {
   "cell_type": "markdown",
   "metadata": {},
   "source": [
    "The functions --scipy.io.loadmat-- and --scipy.io.savemat-- allow you to read and write MATLAB files. You can read about them in the [documentation](https://docs.scipy.org/doc/scipy/reference/io.html)."
   ]
  },
  {
   "cell_type": "code",
   "execution_count": 8,
   "metadata": {},
   "outputs": [
    {
     "name": "stdout",
     "output_type": "stream",
     "text": [
      "{'__header__': b'MATLAB 5.0 MAT-file, Platform: PCWIN64, Created on: Sun Jan 28 21:23:19 2018', '__version__': '1.0', '__globals__': [], 'magic': array([[17, 24,  1,  8, 15],\n",
      "       [23,  5,  7, 14, 16],\n",
      "       [ 4,  6, 13, 20, 22],\n",
      "       [10, 12, 19, 21,  3],\n",
      "       [11, 18, 25,  2,  9]], dtype=uint8)}\n",
      "[[17 24  1  8 15]\n",
      " [23  5  7 14 16]\n",
      " [ 4  6 13 20 22]\n",
      " [10 12 19 21  3]\n",
      " [11 18 25  2  9]]\n"
     ]
    }
   ],
   "source": [
    "import numpy as np\n",
    "from scipy.io import loadmat, savemat\n",
    "\n",
    "data = loadmat(\"files/magic.mat\");\n",
    "print(data);\n",
    "print(data['magic'])"
   ]
  },
  {
   "cell_type": "markdown",
   "metadata": {},
   "source": [
    "## Write Matlab file"
   ]
  },
  {
   "cell_type": "code",
   "execution_count": 9,
   "metadata": {},
   "outputs": [
    {
     "name": "stdout",
     "output_type": "stream",
     "text": [
      "[[34 48  2 16 30]\n",
      " [46 10 14 28 32]\n",
      " [ 8 12 26 40 44]\n",
      " [20 24 38 42  6]\n",
      " [22 36 50  4 18]]\n"
     ]
    }
   ],
   "source": [
    "X = np.array(data['magic'])\n",
    "# Do some calculation\n",
    "X = X*2\n",
    "# Dictionary from which to save matfile variables.\n",
    "data = {'magic2': X}\n",
    "# save the data\n",
    "savemat(\"files/magic2.mat\", data)\n",
    "# Go to matlab and check the data\n",
    "\n",
    "data = loadmat(\"files/magic2.mat\");\n",
    "print(data['magic2'])"
   ]
  },
  {
   "cell_type": "markdown",
   "metadata": {},
   "source": [
    "## Save and Load file by Pickle"
   ]
  },
  {
   "cell_type": "markdown",
   "metadata": {},
   "source": [
    "The Pickle pacakge is used for serializing and de-serializing a Python object structure. Any object in python can be pickled so that it can be saved on disk and loaded back to continue the work. \n",
    "You can read about them in the [documentation](https://docs.python.org/3.6/library/pickle.html?highlight=pickle#module-pickle)."
   ]
  },
  {
   "cell_type": "code",
   "execution_count": 10,
   "metadata": {},
   "outputs": [
    {
     "name": "stdout",
     "output_type": "stream",
     "text": [
      "[[1. 0. 0. 0. 0.]\n",
      " [0. 1. 0. 0. 0.]\n",
      " [0. 0. 1. 0. 0.]\n",
      " [0. 0. 0. 1. 0.]\n",
      " [0. 0. 0. 0. 1.]]\n"
     ]
    }
   ],
   "source": [
    "import numpy as np\n",
    "import pickle\n",
    "X = np.eye(5)\n",
    "print(X)"
   ]
  },
  {
   "cell_type": "code",
   "execution_count": 11,
   "metadata": {},
   "outputs": [
    {
     "name": "stdout",
     "output_type": "stream",
     "text": [
      "[[5. 4. 4. 4. 4.]\n",
      " [4. 5. 4. 4. 4.]\n",
      " [4. 4. 5. 4. 4.]\n",
      " [4. 4. 4. 5. 4.]\n",
      " [4. 4. 4. 4. 5.]]\n"
     ]
    }
   ],
   "source": [
    "# Save the matirx X\n",
    "with open('files/X.pickle', 'wb') as f:\n",
    "    pickle.dump(X, f)\n",
    "# Change the value of the original X    \n",
    "X =  X + 4\n",
    "print(X)"
   ]
  },
  {
   "cell_type": "code",
   "execution_count": 12,
   "metadata": {},
   "outputs": [
    {
     "name": "stdout",
     "output_type": "stream",
     "text": [
      "[[1. 0. 0. 0. 0.]\n",
      " [0. 1. 0. 0. 0.]\n",
      " [0. 0. 1. 0. 0.]\n",
      " [0. 0. 0. 1. 0.]\n",
      " [0. 0. 0. 0. 1.]]\n"
     ]
    }
   ],
   "source": [
    "# load the matrix \n",
    "with open('files/X.pickle', 'rb') as f:\n",
    "    X = pickle.load(f)\n",
    "print(X)"
   ]
  },
  {
   "cell_type": "markdown",
   "metadata": {},
   "source": [
    "# One Example "
   ]
  },
  {
   "cell_type": "markdown",
   "metadata": {},
   "source": [
    "In this demonstration, we will use a Logistic Regression Model and the Iris dataset."
   ]
  },
  {
   "cell_type": "code",
   "execution_count": 13,
   "metadata": {},
   "outputs": [
    {
     "name": "stdout",
     "output_type": "stream",
     "text": [
      "LogisticRegression(C=0.1, class_weight=None, dual=False, fit_intercept=True,\n",
      "          intercept_scaling=1, max_iter=20, multi_class='ovr', n_jobs=1,\n",
      "          penalty='l2', random_state=None, solver='liblinear', tol=0.0001,\n",
      "          verbose=0, warm_start=False)\n"
     ]
    }
   ],
   "source": [
    "from sklearn.linear_model import LogisticRegression  \n",
    "from sklearn.datasets import load_iris  \n",
    "from sklearn.model_selection import train_test_split\n",
    "\n",
    "# Load and split data\n",
    "data = load_iris()  \n",
    "Xtrain, Xtest, Ytrain, Ytest = train_test_split(data.data, data.target, test_size=0.3, random_state=4)  \n",
    "\n",
    "# Create a model\n",
    "model = LogisticRegression(C=0.1,  \n",
    "                           max_iter=20, \n",
    "                           fit_intercept=True \n",
    "                           )\n",
    "model.fit(Xtrain, Ytrain)  \n",
    "print(model);"
   ]
  },
  {
   "cell_type": "markdown",
   "metadata": {},
   "source": [
    "In the following few lines of code, the model which we created in the previous step is saved to file, and then loaded as a new object called pickled_model. The loaded model is then used to calculate the accuracy score and predict outcomes on new unseen (test) data."
   ]
  },
  {
   "cell_type": "code",
   "execution_count": 14,
   "metadata": {
    "scrolled": true
   },
   "outputs": [
    {
     "name": "stdout",
     "output_type": "stream",
     "text": [
      "Test score: 91.11 %\n"
     ]
    }
   ],
   "source": [
    "import pickle\n",
    "\n",
    "#\n",
    "# Create your model here (same as above)\n",
    "#\n",
    "\n",
    "# Save to file in the current working directory\n",
    "pkl_filename = \"pickle_model.pkl\"  \n",
    "with open(pkl_filename, 'wb') as file:  \n",
    "    pickle.dump(model, file)\n",
    "\n",
    "# Load from file\n",
    "with open(pkl_filename, 'rb') as file:  \n",
    "    pickle_model = pickle.load(file)\n",
    "\n",
    "# Calculate the accuracy score and predict target values\n",
    "score = pickle_model.score(Xtest, Ytest)  \n",
    "print(\"Test score: {0:.2f} %\".format(100 * score))  \n",
    "Ypredict = pickle_model.predict(Xtest)  "
   ]
  },
  {
   "cell_type": "code",
   "execution_count": null,
   "metadata": {},
   "outputs": [],
   "source": []
  }
 ],
 "metadata": {
  "kernelspec": {
   "display_name": "Python 3",
   "language": "python",
   "name": "python3"
  },
  "language_info": {
   "codemirror_mode": {
    "name": "ipython",
    "version": 3
   },
   "file_extension": ".py",
   "mimetype": "text/x-python",
   "name": "python",
   "nbconvert_exporter": "python",
   "pygments_lexer": "ipython3",
   "version": "3.6.4"
  }
 },
 "nbformat": 4,
 "nbformat_minor": 2
}
