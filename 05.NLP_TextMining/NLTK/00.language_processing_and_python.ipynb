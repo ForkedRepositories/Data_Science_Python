{
 "cells": [
  {
   "cell_type": "markdown",
   "metadata": {},
   "source": [
    "# 1   Computing with Language: Texts and Words\n",
    "## 1.1   Getting Started with Python"
   ]
  },
  {
   "cell_type": "code",
   "execution_count": 1,
   "metadata": {},
   "outputs": [
    {
     "output_type": "stream",
     "name": "stdout",
     "text": "hello python\n"
    }
   ],
   "source": [
    "print(\"hello python\")"
   ]
  },
  {
   "cell_type": "markdown",
   "metadata": {},
   "source": [
    "## 1.2   Getting Started with NLTK\n",
    "\n",
    "**Natural Language Toolkit**\n",
    "\n",
    "NLTK is a leading platform for building Python programs to work with human language data. It provides easy-to-use interfaces to over 50 corpora and lexical resources such as WordNet, along with a suite of text processing libraries for classification, tokenization, stemming, tagging, parsing, and semantic reasoning, wrappers for industrial-strength NLP libraries, and an active discussion forum.\n",
    "\n",
    "Thanks to a hands-on guide introducing programming fundamentals alongside topics in computational linguistics, plus comprehensive API documentation, NLTK is suitable for linguists, engineers, students, educators, researchers, and industry users alike. NLTK is available for Windows, Mac OS X, and Linux. Best of all, NLTK is a free, open source, community-driven project.\n",
    "\n",
    "NLTK has been called “a wonderful tool for teaching, and working in, computational linguistics using Python,” and “an amazing library to play with natural language.”\n",
    "\n",
    "Reference: \n",
    "1. [NLTK Website](http://www.nltk.org/).\n",
    "2. [Online NLTK Book Python 3](http://nltk.org/book).\n",
    "\n"
   ]
  },
  {
   "cell_type": "code",
   "execution_count": 2,
   "metadata": {},
   "outputs": [],
   "source": [
    "import nltk\n",
    "# nltk.download()"
   ]
  },
  {
   "cell_type": "markdown",
   "metadata": {},
   "source": [
    "Then, the following GUI will appear for your downloading.\n",
    "\n",
    "Downloading the NLTK Book Collection: browse the available packages using `nltk.download()`. \n",
    "\n",
    "The Collections tab on the downloader shows how the packages are grouped into sets, and you should select the line labeled book to obtain all data required for the examples and exercises in this practice. \n",
    "\n",
    "It consists of about 30 compressed files requiring about 100Mb disk space. The full collection of data (i.e., all in the downloader) is nearly ten times this size (at the time of writing) and continues to expand.\n",
    "\n",
    "Once the data is downloaded to your machine, you can load some of it using the Python interpreter.\n",
    "\n",
    "![nltk_download](../images/nltk_download_gui.png)"
   ]
  },
  {
   "cell_type": "code",
   "execution_count": 3,
   "metadata": {},
   "outputs": [
    {
     "output_type": "stream",
     "name": "stdout",
     "text": "*** Introductory Examples for the NLTK Book ***\nLoading text1, ..., text9 and sent1, ..., sent9\nType the name of the text or sentence to view it.\nType: 'texts()' or 'sents()' to list the materials.\ntext1: Moby Dick by Herman Melville 1851\ntext2: Sense and Sensibility by Jane Austen 1811\ntext3: The Book of Genesis\ntext4: Inaugural Address Corpus\ntext5: Chat Corpus\ntext6: Monty Python and the Holy Grail\ntext7: Wall Street Journal\ntext8: Personals Corpus\ntext9: The Man Who Was Thursday by G . K . Chesterton 1908\n"
    }
   ],
   "source": [
    "from nltk.book import *"
   ]
  },
  {
   "cell_type": "code",
   "execution_count": 4,
   "metadata": {},
   "outputs": [
    {
     "output_type": "execute_result",
     "data": {
      "text/plain": "<Text: Moby Dick by Herman Melville 1851>"
     },
     "metadata": {},
     "execution_count": 4
    }
   ],
   "source": [
    "text1"
   ]
  },
  {
   "cell_type": "code",
   "execution_count": 5,
   "metadata": {},
   "outputs": [
    {
     "output_type": "execute_result",
     "data": {
      "text/plain": "<Text: Sense and Sensibility by Jane Austen 1811>"
     },
     "metadata": {},
     "execution_count": 5
    }
   ],
   "source": [
    "text2"
   ]
  },
  {
   "cell_type": "markdown",
   "metadata": {},
   "source": [
    "## 1.3   Searching Text\n",
    "There are many ways to examine the context of a text apart from simply reading it. A concordance view shows us every occurrence of a given word, together with some context. Here we look up the word monstrous in Moby Dick by entering text1 followed by a period, then the term concordance, and then placing \"monstrous\" in parentheses:"
   ]
  },
  {
   "cell_type": "code",
   "execution_count": 6,
   "metadata": {},
   "outputs": [
    {
     "output_type": "stream",
     "name": "stdout",
     "text": "Displaying 11 of 11 matches:\nong the former , one was of a most monstrous size . ... This came towards us , \nON OF THE PSALMS . \" Touching that monstrous bulk of the whale or ork we have r\nll over with a heathenish array of monstrous clubs and spears . Some were thick\nd as you gazed , and wondered what monstrous cannibal and savage could ever hav\nthat has survived the flood ; most monstrous and most mountainous ! That Himmal\nthey might scout at Moby Dick as a monstrous fable , or still worse and more de\nth of Radney .'\" CHAPTER 55 Of the Monstrous Pictures of Whales . I shall ere l\ning Scenes . In connexion with the monstrous pictures of whales , I am strongly\nere to enter upon those still more monstrous stories of them which are to be fo\nght have been rummaged out of this monstrous cabinet there is no telling . But \nof Whale - Bones ; for Whales of a monstrous size are oftentimes cast up dead u\n"
    }
   ],
   "source": [
    "text1.concordance(\"monstrous\")"
   ]
  },
  {
   "cell_type": "markdown",
   "metadata": {},
   "source": [
    "A concordance permits us to see words in context. For example, we saw that monstrous occurred in contexts such as the ___ pictures and a ___ size . What other words appear in a similar range of contexts? We can find out by appending the term similar to the name of the text in question, then inserting the relevant word in parentheses:"
   ]
  },
  {
   "cell_type": "code",
   "execution_count": 7,
   "metadata": {},
   "outputs": [
    {
     "output_type": "stream",
     "name": "stdout",
     "text": "true contemptible christian abundant few part mean careful puzzled\nmystifying passing curious loving wise doleful gamesome singular\ndelightfully perilous fearless\n"
    }
   ],
   "source": [
    "text1.similar(\"monstrous\")"
   ]
  },
  {
   "cell_type": "code",
   "execution_count": 8,
   "metadata": {},
   "outputs": [
    {
     "output_type": "stream",
     "name": "stdout",
     "text": "very so exceedingly heartily a as good great extremely remarkably\nsweet vast amazingly\n"
    }
   ],
   "source": [
    "text2.similar(\"monstrous\")"
   ]
  },
  {
   "cell_type": "markdown",
   "metadata": {},
   "source": [
    "The term common_contexts allows us to examine just the contexts that are shared by two or more words, such as monstrous and very. We have to enclose these words by square brackets as well as parentheses, and separate them with a comma:"
   ]
  },
  {
   "cell_type": "code",
   "execution_count": 9,
   "metadata": {},
   "outputs": [
    {
     "output_type": "stream",
     "name": "stdout",
     "text": "am_glad a_pretty a_lucky is_pretty be_glad\n"
    }
   ],
   "source": [
    "text2.common_contexts([\"monstrous\", \"very\"])"
   ]
  },
  {
   "cell_type": "markdown",
   "metadata": {},
   "source": [
    "It is one thing to automatically detect that a particular word occurs in a text, and to display some words that appear in the same context. However, we can also determine the location of a word in the text: how many words from the beginning it appears. \n",
    "\n",
    "This positional information can be displayed using a dispersion plot. Each stripe represents an instance of a word, and each row represents the entire text."
   ]
  },
  {
   "cell_type": "code",
   "execution_count": 10,
   "metadata": {},
   "outputs": [
    {
     "output_type": "display_data",
     "data": {
      "text/plain": "<Figure size 432x288 with 1 Axes>",
      "image/svg+xml": "<?xml version=\"1.0\" encoding=\"utf-8\" standalone=\"no\"?>\n<!DOCTYPE svg PUBLIC \"-//W3C//DTD SVG 1.1//EN\"\n  \"http://www.w3.org/Graphics/SVG/1.1/DTD/svg11.dtd\">\n<!-- Created with matplotlib (https://matplotlib.org/) -->\n<svg height=\"277.314375pt\" version=\"1.1\" viewBox=\"0 0 411.715625 277.314375\" width=\"411.715625pt\" xmlns=\"http://www.w3.org/2000/svg\" xmlns:xlink=\"http://www.w3.org/1999/xlink\">\n <defs>\n  <style type=\"text/css\">\n*{stroke-linecap:butt;stroke-linejoin:round;}\n  </style>\n </defs>\n <g id=\"figure_1\">\n  <g id=\"patch_1\">\n   <path d=\"M 0 277.314375 \nL 411.715625 277.314375 \nL 411.715625 0 \nL 0 0 \nz\n\" style=\"fill:none;\"/>\n  </g>\n  <g id=\"axes_1\">\n   <g id=\"patch_2\">\n    <path d=\"M 69.715625 239.758125 \nL 404.515625 239.758125 \nL 404.515625 22.318125 \nL 69.715625 22.318125 \nz\n\" style=\"fill:#ffffff;\"/>\n   </g>\n   <g id=\"matplotlib.axis_1\">\n    <g id=\"xtick_1\">\n     <g id=\"line2d_1\">\n      <defs>\n       <path d=\"M 0 0 \nL 0 3.5 \n\" id=\"m552def53ab\" style=\"stroke:#000000;stroke-width:0.8;\"/>\n      </defs>\n      <g>\n       <use style=\"stroke:#000000;stroke-width:0.8;\" x=\"84.563557\" xlink:href=\"#m552def53ab\" y=\"239.758125\"/>\n      </g>\n     </g>\n     <g id=\"text_1\">\n      <!-- 0 -->\n      <defs>\n       <path d=\"M 31.78125 66.40625 \nQ 24.171875 66.40625 20.328125 58.90625 \nQ 16.5 51.421875 16.5 36.375 \nQ 16.5 21.390625 20.328125 13.890625 \nQ 24.171875 6.390625 31.78125 6.390625 \nQ 39.453125 6.390625 43.28125 13.890625 \nQ 47.125 21.390625 47.125 36.375 \nQ 47.125 51.421875 43.28125 58.90625 \nQ 39.453125 66.40625 31.78125 66.40625 \nz\nM 31.78125 74.21875 \nQ 44.046875 74.21875 50.515625 64.515625 \nQ 56.984375 54.828125 56.984375 36.375 \nQ 56.984375 17.96875 50.515625 8.265625 \nQ 44.046875 -1.421875 31.78125 -1.421875 \nQ 19.53125 -1.421875 13.0625 8.265625 \nQ 6.59375 17.96875 6.59375 36.375 \nQ 6.59375 54.828125 13.0625 64.515625 \nQ 19.53125 74.21875 31.78125 74.21875 \nz\n\" id=\"DejaVuSans-48\"/>\n      </defs>\n      <g transform=\"translate(81.382307 254.356562)scale(0.1 -0.1)\">\n       <use xlink:href=\"#DejaVuSans-48\"/>\n      </g>\n     </g>\n    </g>\n    <g id=\"xtick_2\">\n     <g id=\"line2d_2\">\n      <g>\n       <use style=\"stroke:#000000;stroke-width:0.8;\" x=\"125.250347\" xlink:href=\"#m552def53ab\" y=\"239.758125\"/>\n      </g>\n     </g>\n     <g id=\"text_2\">\n      <!-- 20000 -->\n      <defs>\n       <path d=\"M 19.1875 8.296875 \nL 53.609375 8.296875 \nL 53.609375 0 \nL 7.328125 0 \nL 7.328125 8.296875 \nQ 12.9375 14.109375 22.625 23.890625 \nQ 32.328125 33.6875 34.8125 36.53125 \nQ 39.546875 41.84375 41.421875 45.53125 \nQ 43.3125 49.21875 43.3125 52.78125 \nQ 43.3125 58.59375 39.234375 62.25 \nQ 35.15625 65.921875 28.609375 65.921875 \nQ 23.96875 65.921875 18.8125 64.3125 \nQ 13.671875 62.703125 7.8125 59.421875 \nL 7.8125 69.390625 \nQ 13.765625 71.78125 18.9375 73 \nQ 24.125 74.21875 28.421875 74.21875 \nQ 39.75 74.21875 46.484375 68.546875 \nQ 53.21875 62.890625 53.21875 53.421875 \nQ 53.21875 48.921875 51.53125 44.890625 \nQ 49.859375 40.875 45.40625 35.40625 \nQ 44.1875 33.984375 37.640625 27.21875 \nQ 31.109375 20.453125 19.1875 8.296875 \nz\n\" id=\"DejaVuSans-50\"/>\n      </defs>\n      <g transform=\"translate(109.344097 254.356562)scale(0.1 -0.1)\">\n       <use xlink:href=\"#DejaVuSans-50\"/>\n       <use x=\"63.623047\" xlink:href=\"#DejaVuSans-48\"/>\n       <use x=\"127.246094\" xlink:href=\"#DejaVuSans-48\"/>\n       <use x=\"190.869141\" xlink:href=\"#DejaVuSans-48\"/>\n       <use x=\"254.492188\" xlink:href=\"#DejaVuSans-48\"/>\n      </g>\n     </g>\n    </g>\n    <g id=\"xtick_3\">\n     <g id=\"line2d_3\">\n      <g>\n       <use style=\"stroke:#000000;stroke-width:0.8;\" x=\"165.937137\" xlink:href=\"#m552def53ab\" y=\"239.758125\"/>\n      </g>\n     </g>\n     <g id=\"text_3\">\n      <!-- 40000 -->\n      <defs>\n       <path d=\"M 37.796875 64.3125 \nL 12.890625 25.390625 \nL 37.796875 25.390625 \nz\nM 35.203125 72.90625 \nL 47.609375 72.90625 \nL 47.609375 25.390625 \nL 58.015625 25.390625 \nL 58.015625 17.1875 \nL 47.609375 17.1875 \nL 47.609375 0 \nL 37.796875 0 \nL 37.796875 17.1875 \nL 4.890625 17.1875 \nL 4.890625 26.703125 \nz\n\" id=\"DejaVuSans-52\"/>\n      </defs>\n      <g transform=\"translate(150.030887 254.356562)scale(0.1 -0.1)\">\n       <use xlink:href=\"#DejaVuSans-52\"/>\n       <use x=\"63.623047\" xlink:href=\"#DejaVuSans-48\"/>\n       <use x=\"127.246094\" xlink:href=\"#DejaVuSans-48\"/>\n       <use x=\"190.869141\" xlink:href=\"#DejaVuSans-48\"/>\n       <use x=\"254.492188\" xlink:href=\"#DejaVuSans-48\"/>\n      </g>\n     </g>\n    </g>\n    <g id=\"xtick_4\">\n     <g id=\"line2d_4\">\n      <g>\n       <use style=\"stroke:#000000;stroke-width:0.8;\" x=\"206.623927\" xlink:href=\"#m552def53ab\" y=\"239.758125\"/>\n      </g>\n     </g>\n     <g id=\"text_4\">\n      <!-- 60000 -->\n      <defs>\n       <path d=\"M 33.015625 40.375 \nQ 26.375 40.375 22.484375 35.828125 \nQ 18.609375 31.296875 18.609375 23.390625 \nQ 18.609375 15.53125 22.484375 10.953125 \nQ 26.375 6.390625 33.015625 6.390625 \nQ 39.65625 6.390625 43.53125 10.953125 \nQ 47.40625 15.53125 47.40625 23.390625 \nQ 47.40625 31.296875 43.53125 35.828125 \nQ 39.65625 40.375 33.015625 40.375 \nz\nM 52.59375 71.296875 \nL 52.59375 62.3125 \nQ 48.875 64.0625 45.09375 64.984375 \nQ 41.3125 65.921875 37.59375 65.921875 \nQ 27.828125 65.921875 22.671875 59.328125 \nQ 17.53125 52.734375 16.796875 39.40625 \nQ 19.671875 43.65625 24.015625 45.921875 \nQ 28.375 48.1875 33.59375 48.1875 \nQ 44.578125 48.1875 50.953125 41.515625 \nQ 57.328125 34.859375 57.328125 23.390625 \nQ 57.328125 12.15625 50.6875 5.359375 \nQ 44.046875 -1.421875 33.015625 -1.421875 \nQ 20.359375 -1.421875 13.671875 8.265625 \nQ 6.984375 17.96875 6.984375 36.375 \nQ 6.984375 53.65625 15.1875 63.9375 \nQ 23.390625 74.21875 37.203125 74.21875 \nQ 40.921875 74.21875 44.703125 73.484375 \nQ 48.484375 72.75 52.59375 71.296875 \nz\n\" id=\"DejaVuSans-54\"/>\n      </defs>\n      <g transform=\"translate(190.717677 254.356562)scale(0.1 -0.1)\">\n       <use xlink:href=\"#DejaVuSans-54\"/>\n       <use x=\"63.623047\" xlink:href=\"#DejaVuSans-48\"/>\n       <use x=\"127.246094\" xlink:href=\"#DejaVuSans-48\"/>\n       <use x=\"190.869141\" xlink:href=\"#DejaVuSans-48\"/>\n       <use x=\"254.492188\" xlink:href=\"#DejaVuSans-48\"/>\n      </g>\n     </g>\n    </g>\n    <g id=\"xtick_5\">\n     <g id=\"line2d_5\">\n      <g>\n       <use style=\"stroke:#000000;stroke-width:0.8;\" x=\"247.310717\" xlink:href=\"#m552def53ab\" y=\"239.758125\"/>\n      </g>\n     </g>\n     <g id=\"text_5\">\n      <!-- 80000 -->\n      <defs>\n       <path d=\"M 31.78125 34.625 \nQ 24.75 34.625 20.71875 30.859375 \nQ 16.703125 27.09375 16.703125 20.515625 \nQ 16.703125 13.921875 20.71875 10.15625 \nQ 24.75 6.390625 31.78125 6.390625 \nQ 38.8125 6.390625 42.859375 10.171875 \nQ 46.921875 13.96875 46.921875 20.515625 \nQ 46.921875 27.09375 42.890625 30.859375 \nQ 38.875 34.625 31.78125 34.625 \nz\nM 21.921875 38.8125 \nQ 15.578125 40.375 12.03125 44.71875 \nQ 8.5 49.078125 8.5 55.328125 \nQ 8.5 64.0625 14.71875 69.140625 \nQ 20.953125 74.21875 31.78125 74.21875 \nQ 42.671875 74.21875 48.875 69.140625 \nQ 55.078125 64.0625 55.078125 55.328125 \nQ 55.078125 49.078125 51.53125 44.71875 \nQ 48 40.375 41.703125 38.8125 \nQ 48.828125 37.15625 52.796875 32.3125 \nQ 56.78125 27.484375 56.78125 20.515625 \nQ 56.78125 9.90625 50.3125 4.234375 \nQ 43.84375 -1.421875 31.78125 -1.421875 \nQ 19.734375 -1.421875 13.25 4.234375 \nQ 6.78125 9.90625 6.78125 20.515625 \nQ 6.78125 27.484375 10.78125 32.3125 \nQ 14.796875 37.15625 21.921875 38.8125 \nz\nM 18.3125 54.390625 \nQ 18.3125 48.734375 21.84375 45.5625 \nQ 25.390625 42.390625 31.78125 42.390625 \nQ 38.140625 42.390625 41.71875 45.5625 \nQ 45.3125 48.734375 45.3125 54.390625 \nQ 45.3125 60.0625 41.71875 63.234375 \nQ 38.140625 66.40625 31.78125 66.40625 \nQ 25.390625 66.40625 21.84375 63.234375 \nQ 18.3125 60.0625 18.3125 54.390625 \nz\n\" id=\"DejaVuSans-56\"/>\n      </defs>\n      <g transform=\"translate(231.404467 254.356562)scale(0.1 -0.1)\">\n       <use xlink:href=\"#DejaVuSans-56\"/>\n       <use x=\"63.623047\" xlink:href=\"#DejaVuSans-48\"/>\n       <use x=\"127.246094\" xlink:href=\"#DejaVuSans-48\"/>\n       <use x=\"190.869141\" xlink:href=\"#DejaVuSans-48\"/>\n       <use x=\"254.492188\" xlink:href=\"#DejaVuSans-48\"/>\n      </g>\n     </g>\n    </g>\n    <g id=\"xtick_6\">\n     <g id=\"line2d_6\">\n      <g>\n       <use style=\"stroke:#000000;stroke-width:0.8;\" x=\"287.997508\" xlink:href=\"#m552def53ab\" y=\"239.758125\"/>\n      </g>\n     </g>\n     <g id=\"text_6\">\n      <!-- 100000 -->\n      <defs>\n       <path d=\"M 12.40625 8.296875 \nL 28.515625 8.296875 \nL 28.515625 63.921875 \nL 10.984375 60.40625 \nL 10.984375 69.390625 \nL 28.421875 72.90625 \nL 38.28125 72.90625 \nL 38.28125 8.296875 \nL 54.390625 8.296875 \nL 54.390625 0 \nL 12.40625 0 \nz\n\" id=\"DejaVuSans-49\"/>\n      </defs>\n      <g transform=\"translate(268.910008 254.356562)scale(0.1 -0.1)\">\n       <use xlink:href=\"#DejaVuSans-49\"/>\n       <use x=\"63.623047\" xlink:href=\"#DejaVuSans-48\"/>\n       <use x=\"127.246094\" xlink:href=\"#DejaVuSans-48\"/>\n       <use x=\"190.869141\" xlink:href=\"#DejaVuSans-48\"/>\n       <use x=\"254.492188\" xlink:href=\"#DejaVuSans-48\"/>\n       <use x=\"318.115234\" xlink:href=\"#DejaVuSans-48\"/>\n      </g>\n     </g>\n    </g>\n    <g id=\"xtick_7\">\n     <g id=\"line2d_7\">\n      <g>\n       <use style=\"stroke:#000000;stroke-width:0.8;\" x=\"328.684298\" xlink:href=\"#m552def53ab\" y=\"239.758125\"/>\n      </g>\n     </g>\n     <g id=\"text_7\">\n      <!-- 120000 -->\n      <g transform=\"translate(309.596798 254.356562)scale(0.1 -0.1)\">\n       <use xlink:href=\"#DejaVuSans-49\"/>\n       <use x=\"63.623047\" xlink:href=\"#DejaVuSans-50\"/>\n       <use x=\"127.246094\" xlink:href=\"#DejaVuSans-48\"/>\n       <use x=\"190.869141\" xlink:href=\"#DejaVuSans-48\"/>\n       <use x=\"254.492188\" xlink:href=\"#DejaVuSans-48\"/>\n       <use x=\"318.115234\" xlink:href=\"#DejaVuSans-48\"/>\n      </g>\n     </g>\n    </g>\n    <g id=\"xtick_8\">\n     <g id=\"line2d_8\">\n      <g>\n       <use style=\"stroke:#000000;stroke-width:0.8;\" x=\"369.371088\" xlink:href=\"#m552def53ab\" y=\"239.758125\"/>\n      </g>\n     </g>\n     <g id=\"text_8\">\n      <!-- 140000 -->\n      <g transform=\"translate(350.283588 254.356562)scale(0.1 -0.1)\">\n       <use xlink:href=\"#DejaVuSans-49\"/>\n       <use x=\"63.623047\" xlink:href=\"#DejaVuSans-52\"/>\n       <use x=\"127.246094\" xlink:href=\"#DejaVuSans-48\"/>\n       <use x=\"190.869141\" xlink:href=\"#DejaVuSans-48\"/>\n       <use x=\"254.492188\" xlink:href=\"#DejaVuSans-48\"/>\n       <use x=\"318.115234\" xlink:href=\"#DejaVuSans-48\"/>\n      </g>\n     </g>\n    </g>\n    <g id=\"text_9\">\n     <!-- Word Offset -->\n     <defs>\n      <path d=\"M 3.328125 72.90625 \nL 13.28125 72.90625 \nL 28.609375 11.28125 \nL 43.890625 72.90625 \nL 54.984375 72.90625 \nL 70.3125 11.28125 \nL 85.59375 72.90625 \nL 95.609375 72.90625 \nL 77.296875 0 \nL 64.890625 0 \nL 49.515625 63.28125 \nL 33.984375 0 \nL 21.578125 0 \nz\n\" id=\"DejaVuSans-87\"/>\n      <path d=\"M 30.609375 48.390625 \nQ 23.390625 48.390625 19.1875 42.75 \nQ 14.984375 37.109375 14.984375 27.296875 \nQ 14.984375 17.484375 19.15625 11.84375 \nQ 23.34375 6.203125 30.609375 6.203125 \nQ 37.796875 6.203125 41.984375 11.859375 \nQ 46.1875 17.53125 46.1875 27.296875 \nQ 46.1875 37.015625 41.984375 42.703125 \nQ 37.796875 48.390625 30.609375 48.390625 \nz\nM 30.609375 56 \nQ 42.328125 56 49.015625 48.375 \nQ 55.71875 40.765625 55.71875 27.296875 \nQ 55.71875 13.875 49.015625 6.21875 \nQ 42.328125 -1.421875 30.609375 -1.421875 \nQ 18.84375 -1.421875 12.171875 6.21875 \nQ 5.515625 13.875 5.515625 27.296875 \nQ 5.515625 40.765625 12.171875 48.375 \nQ 18.84375 56 30.609375 56 \nz\n\" id=\"DejaVuSans-111\"/>\n      <path d=\"M 41.109375 46.296875 \nQ 39.59375 47.171875 37.8125 47.578125 \nQ 36.03125 48 33.890625 48 \nQ 26.265625 48 22.1875 43.046875 \nQ 18.109375 38.09375 18.109375 28.8125 \nL 18.109375 0 \nL 9.078125 0 \nL 9.078125 54.6875 \nL 18.109375 54.6875 \nL 18.109375 46.1875 \nQ 20.953125 51.171875 25.484375 53.578125 \nQ 30.03125 56 36.53125 56 \nQ 37.453125 56 38.578125 55.875 \nQ 39.703125 55.765625 41.0625 55.515625 \nz\n\" id=\"DejaVuSans-114\"/>\n      <path d=\"M 45.40625 46.390625 \nL 45.40625 75.984375 \nL 54.390625 75.984375 \nL 54.390625 0 \nL 45.40625 0 \nL 45.40625 8.203125 \nQ 42.578125 3.328125 38.25 0.953125 \nQ 33.9375 -1.421875 27.875 -1.421875 \nQ 17.96875 -1.421875 11.734375 6.484375 \nQ 5.515625 14.40625 5.515625 27.296875 \nQ 5.515625 40.1875 11.734375 48.09375 \nQ 17.96875 56 27.875 56 \nQ 33.9375 56 38.25 53.625 \nQ 42.578125 51.265625 45.40625 46.390625 \nz\nM 14.796875 27.296875 \nQ 14.796875 17.390625 18.875 11.75 \nQ 22.953125 6.109375 30.078125 6.109375 \nQ 37.203125 6.109375 41.296875 11.75 \nQ 45.40625 17.390625 45.40625 27.296875 \nQ 45.40625 37.203125 41.296875 42.84375 \nQ 37.203125 48.484375 30.078125 48.484375 \nQ 22.953125 48.484375 18.875 42.84375 \nQ 14.796875 37.203125 14.796875 27.296875 \nz\n\" id=\"DejaVuSans-100\"/>\n      <path id=\"DejaVuSans-32\"/>\n      <path d=\"M 39.40625 66.21875 \nQ 28.65625 66.21875 22.328125 58.203125 \nQ 16.015625 50.203125 16.015625 36.375 \nQ 16.015625 22.609375 22.328125 14.59375 \nQ 28.65625 6.59375 39.40625 6.59375 \nQ 50.140625 6.59375 56.421875 14.59375 \nQ 62.703125 22.609375 62.703125 36.375 \nQ 62.703125 50.203125 56.421875 58.203125 \nQ 50.140625 66.21875 39.40625 66.21875 \nz\nM 39.40625 74.21875 \nQ 54.734375 74.21875 63.90625 63.9375 \nQ 73.09375 53.65625 73.09375 36.375 \nQ 73.09375 19.140625 63.90625 8.859375 \nQ 54.734375 -1.421875 39.40625 -1.421875 \nQ 24.03125 -1.421875 14.8125 8.828125 \nQ 5.609375 19.09375 5.609375 36.375 \nQ 5.609375 53.65625 14.8125 63.9375 \nQ 24.03125 74.21875 39.40625 74.21875 \nz\n\" id=\"DejaVuSans-79\"/>\n      <path d=\"M 37.109375 75.984375 \nL 37.109375 68.5 \nL 28.515625 68.5 \nQ 23.6875 68.5 21.796875 66.546875 \nQ 19.921875 64.59375 19.921875 59.515625 \nL 19.921875 54.6875 \nL 34.71875 54.6875 \nL 34.71875 47.703125 \nL 19.921875 47.703125 \nL 19.921875 0 \nL 10.890625 0 \nL 10.890625 47.703125 \nL 2.296875 47.703125 \nL 2.296875 54.6875 \nL 10.890625 54.6875 \nL 10.890625 58.5 \nQ 10.890625 67.625 15.140625 71.796875 \nQ 19.390625 75.984375 28.609375 75.984375 \nz\n\" id=\"DejaVuSans-102\"/>\n      <path d=\"M 44.28125 53.078125 \nL 44.28125 44.578125 \nQ 40.484375 46.53125 36.375 47.5 \nQ 32.28125 48.484375 27.875 48.484375 \nQ 21.1875 48.484375 17.84375 46.4375 \nQ 14.5 44.390625 14.5 40.28125 \nQ 14.5 37.15625 16.890625 35.375 \nQ 19.28125 33.59375 26.515625 31.984375 \nL 29.59375 31.296875 \nQ 39.15625 29.25 43.1875 25.515625 \nQ 47.21875 21.78125 47.21875 15.09375 \nQ 47.21875 7.46875 41.1875 3.015625 \nQ 35.15625 -1.421875 24.609375 -1.421875 \nQ 20.21875 -1.421875 15.453125 -0.5625 \nQ 10.6875 0.296875 5.421875 2 \nL 5.421875 11.28125 \nQ 10.40625 8.6875 15.234375 7.390625 \nQ 20.0625 6.109375 24.8125 6.109375 \nQ 31.15625 6.109375 34.5625 8.28125 \nQ 37.984375 10.453125 37.984375 14.40625 \nQ 37.984375 18.0625 35.515625 20.015625 \nQ 33.0625 21.96875 24.703125 23.78125 \nL 21.578125 24.515625 \nQ 13.234375 26.265625 9.515625 29.90625 \nQ 5.8125 33.546875 5.8125 39.890625 \nQ 5.8125 47.609375 11.28125 51.796875 \nQ 16.75 56 26.8125 56 \nQ 31.78125 56 36.171875 55.265625 \nQ 40.578125 54.546875 44.28125 53.078125 \nz\n\" id=\"DejaVuSans-115\"/>\n      <path d=\"M 56.203125 29.59375 \nL 56.203125 25.203125 \nL 14.890625 25.203125 \nQ 15.484375 15.921875 20.484375 11.0625 \nQ 25.484375 6.203125 34.421875 6.203125 \nQ 39.59375 6.203125 44.453125 7.46875 \nQ 49.3125 8.734375 54.109375 11.28125 \nL 54.109375 2.78125 \nQ 49.265625 0.734375 44.1875 -0.34375 \nQ 39.109375 -1.421875 33.890625 -1.421875 \nQ 20.796875 -1.421875 13.15625 6.1875 \nQ 5.515625 13.8125 5.515625 26.8125 \nQ 5.515625 40.234375 12.765625 48.109375 \nQ 20.015625 56 32.328125 56 \nQ 43.359375 56 49.78125 48.890625 \nQ 56.203125 41.796875 56.203125 29.59375 \nz\nM 47.21875 32.234375 \nQ 47.125 39.59375 43.09375 43.984375 \nQ 39.0625 48.390625 32.421875 48.390625 \nQ 24.90625 48.390625 20.390625 44.140625 \nQ 15.875 39.890625 15.1875 32.171875 \nz\n\" id=\"DejaVuSans-101\"/>\n      <path d=\"M 18.3125 70.21875 \nL 18.3125 54.6875 \nL 36.8125 54.6875 \nL 36.8125 47.703125 \nL 18.3125 47.703125 \nL 18.3125 18.015625 \nQ 18.3125 11.328125 20.140625 9.421875 \nQ 21.96875 7.515625 27.59375 7.515625 \nL 36.8125 7.515625 \nL 36.8125 0 \nL 27.59375 0 \nQ 17.1875 0 13.234375 3.875 \nQ 9.28125 7.765625 9.28125 18.015625 \nL 9.28125 47.703125 \nL 2.6875 47.703125 \nL 2.6875 54.6875 \nL 9.28125 54.6875 \nL 9.28125 70.21875 \nz\n\" id=\"DejaVuSans-116\"/>\n     </defs>\n     <g transform=\"translate(207.577344 268.034687)scale(0.1 -0.1)\">\n      <use xlink:href=\"#DejaVuSans-87\"/>\n      <use x=\"93.001953\" xlink:href=\"#DejaVuSans-111\"/>\n      <use x=\"154.183594\" xlink:href=\"#DejaVuSans-114\"/>\n      <use x=\"193.546875\" xlink:href=\"#DejaVuSans-100\"/>\n      <use x=\"257.023438\" xlink:href=\"#DejaVuSans-32\"/>\n      <use x=\"288.810547\" xlink:href=\"#DejaVuSans-79\"/>\n      <use x=\"367.521484\" xlink:href=\"#DejaVuSans-102\"/>\n      <use x=\"402.726562\" xlink:href=\"#DejaVuSans-102\"/>\n      <use x=\"437.931641\" xlink:href=\"#DejaVuSans-115\"/>\n      <use x=\"490.03125\" xlink:href=\"#DejaVuSans-101\"/>\n      <use x=\"551.554688\" xlink:href=\"#DejaVuSans-116\"/>\n     </g>\n    </g>\n   </g>\n   <g id=\"matplotlib.axis_2\">\n    <g id=\"ytick_1\">\n     <g id=\"line2d_9\">\n      <defs>\n       <path d=\"M 0 0 \nL -3.5 0 \n\" id=\"m0007faa281\" style=\"stroke:#000000;stroke-width:0.8;\"/>\n      </defs>\n      <g>\n       <use style=\"stroke:#000000;stroke-width:0.8;\" x=\"69.715625\" xlink:href=\"#m0007faa281\" y=\"203.518125\"/>\n      </g>\n     </g>\n     <g id=\"text_10\">\n      <!-- America -->\n      <defs>\n       <path d=\"M 34.1875 63.1875 \nL 20.796875 26.90625 \nL 47.609375 26.90625 \nz\nM 28.609375 72.90625 \nL 39.796875 72.90625 \nL 67.578125 0 \nL 57.328125 0 \nL 50.6875 18.703125 \nL 17.828125 18.703125 \nL 11.1875 0 \nL 0.78125 0 \nz\n\" id=\"DejaVuSans-65\"/>\n       <path d=\"M 52 44.1875 \nQ 55.375 50.25 60.0625 53.125 \nQ 64.75 56 71.09375 56 \nQ 79.640625 56 84.28125 50.015625 \nQ 88.921875 44.046875 88.921875 33.015625 \nL 88.921875 0 \nL 79.890625 0 \nL 79.890625 32.71875 \nQ 79.890625 40.578125 77.09375 44.375 \nQ 74.3125 48.1875 68.609375 48.1875 \nQ 61.625 48.1875 57.5625 43.546875 \nQ 53.515625 38.921875 53.515625 30.90625 \nL 53.515625 0 \nL 44.484375 0 \nL 44.484375 32.71875 \nQ 44.484375 40.625 41.703125 44.40625 \nQ 38.921875 48.1875 33.109375 48.1875 \nQ 26.21875 48.1875 22.15625 43.53125 \nQ 18.109375 38.875 18.109375 30.90625 \nL 18.109375 0 \nL 9.078125 0 \nL 9.078125 54.6875 \nL 18.109375 54.6875 \nL 18.109375 46.1875 \nQ 21.1875 51.21875 25.484375 53.609375 \nQ 29.78125 56 35.6875 56 \nQ 41.65625 56 45.828125 52.96875 \nQ 50 49.953125 52 44.1875 \nz\n\" id=\"DejaVuSans-109\"/>\n       <path d=\"M 9.421875 54.6875 \nL 18.40625 54.6875 \nL 18.40625 0 \nL 9.421875 0 \nz\nM 9.421875 75.984375 \nL 18.40625 75.984375 \nL 18.40625 64.59375 \nL 9.421875 64.59375 \nz\n\" id=\"DejaVuSans-105\"/>\n       <path d=\"M 48.78125 52.59375 \nL 48.78125 44.1875 \nQ 44.96875 46.296875 41.140625 47.34375 \nQ 37.3125 48.390625 33.40625 48.390625 \nQ 24.65625 48.390625 19.8125 42.84375 \nQ 14.984375 37.3125 14.984375 27.296875 \nQ 14.984375 17.28125 19.8125 11.734375 \nQ 24.65625 6.203125 33.40625 6.203125 \nQ 37.3125 6.203125 41.140625 7.25 \nQ 44.96875 8.296875 48.78125 10.40625 \nL 48.78125 2.09375 \nQ 45.015625 0.34375 40.984375 -0.53125 \nQ 36.96875 -1.421875 32.421875 -1.421875 \nQ 20.0625 -1.421875 12.78125 6.34375 \nQ 5.515625 14.109375 5.515625 27.296875 \nQ 5.515625 40.671875 12.859375 48.328125 \nQ 20.21875 56 33.015625 56 \nQ 37.15625 56 41.109375 55.140625 \nQ 45.0625 54.296875 48.78125 52.59375 \nz\n\" id=\"DejaVuSans-99\"/>\n       <path d=\"M 34.28125 27.484375 \nQ 23.390625 27.484375 19.1875 25 \nQ 14.984375 22.515625 14.984375 16.5 \nQ 14.984375 11.71875 18.140625 8.90625 \nQ 21.296875 6.109375 26.703125 6.109375 \nQ 34.1875 6.109375 38.703125 11.40625 \nQ 43.21875 16.703125 43.21875 25.484375 \nL 43.21875 27.484375 \nz\nM 52.203125 31.203125 \nL 52.203125 0 \nL 43.21875 0 \nL 43.21875 8.296875 \nQ 40.140625 3.328125 35.546875 0.953125 \nQ 30.953125 -1.421875 24.3125 -1.421875 \nQ 15.921875 -1.421875 10.953125 3.296875 \nQ 6 8.015625 6 15.921875 \nQ 6 25.140625 12.171875 29.828125 \nQ 18.359375 34.515625 30.609375 34.515625 \nL 43.21875 34.515625 \nL 43.21875 35.40625 \nQ 43.21875 41.609375 39.140625 45 \nQ 35.0625 48.390625 27.6875 48.390625 \nQ 23 48.390625 18.546875 47.265625 \nQ 14.109375 46.140625 10.015625 43.890625 \nL 10.015625 52.203125 \nQ 14.9375 54.109375 19.578125 55.046875 \nQ 24.21875 56 28.609375 56 \nQ 40.484375 56 46.34375 49.84375 \nQ 52.203125 43.703125 52.203125 31.203125 \nz\n\" id=\"DejaVuSans-97\"/>\n      </defs>\n      <g style=\"fill:#0000ff;\" transform=\"translate(21.465625 207.317344)scale(0.1 -0.1)\">\n       <use xlink:href=\"#DejaVuSans-65\"/>\n       <use x=\"68.408203\" xlink:href=\"#DejaVuSans-109\"/>\n       <use x=\"165.820312\" xlink:href=\"#DejaVuSans-101\"/>\n       <use x=\"227.34375\" xlink:href=\"#DejaVuSans-114\"/>\n       <use x=\"268.457031\" xlink:href=\"#DejaVuSans-105\"/>\n       <use x=\"296.240234\" xlink:href=\"#DejaVuSans-99\"/>\n       <use x=\"351.220703\" xlink:href=\"#DejaVuSans-97\"/>\n      </g>\n     </g>\n    </g>\n    <g id=\"ytick_2\">\n     <g id=\"line2d_10\">\n      <g>\n       <use style=\"stroke:#000000;stroke-width:0.8;\" x=\"69.715625\" xlink:href=\"#m0007faa281\" y=\"167.278125\"/>\n      </g>\n     </g>\n     <g id=\"text_11\">\n      <!-- duties -->\n      <defs>\n       <path d=\"M 8.5 21.578125 \nL 8.5 54.6875 \nL 17.484375 54.6875 \nL 17.484375 21.921875 \nQ 17.484375 14.15625 20.5 10.265625 \nQ 23.53125 6.390625 29.59375 6.390625 \nQ 36.859375 6.390625 41.078125 11.03125 \nQ 45.3125 15.671875 45.3125 23.6875 \nL 45.3125 54.6875 \nL 54.296875 54.6875 \nL 54.296875 0 \nL 45.3125 0 \nL 45.3125 8.40625 \nQ 42.046875 3.421875 37.71875 1 \nQ 33.40625 -1.421875 27.6875 -1.421875 \nQ 18.265625 -1.421875 13.375 4.4375 \nQ 8.5 10.296875 8.5 21.578125 \nz\nM 31.109375 56 \nz\n\" id=\"DejaVuSans-117\"/>\n      </defs>\n      <g style=\"fill:#0000ff;\" transform=\"translate(31.96875 171.077344)scale(0.1 -0.1)\">\n       <use xlink:href=\"#DejaVuSans-100\"/>\n       <use x=\"63.476562\" xlink:href=\"#DejaVuSans-117\"/>\n       <use x=\"126.855469\" xlink:href=\"#DejaVuSans-116\"/>\n       <use x=\"166.064453\" xlink:href=\"#DejaVuSans-105\"/>\n       <use x=\"193.847656\" xlink:href=\"#DejaVuSans-101\"/>\n       <use x=\"255.371094\" xlink:href=\"#DejaVuSans-115\"/>\n      </g>\n     </g>\n    </g>\n    <g id=\"ytick_3\">\n     <g id=\"line2d_11\">\n      <g>\n       <use style=\"stroke:#000000;stroke-width:0.8;\" x=\"69.715625\" xlink:href=\"#m0007faa281\" y=\"131.038125\"/>\n      </g>\n     </g>\n     <g id=\"text_12\">\n      <!-- freedom -->\n      <g style=\"fill:#0000ff;\" transform=\"translate(20.795313 134.837344)scale(0.1 -0.1)\">\n       <use xlink:href=\"#DejaVuSans-102\"/>\n       <use x=\"35.205078\" xlink:href=\"#DejaVuSans-114\"/>\n       <use x=\"74.068359\" xlink:href=\"#DejaVuSans-101\"/>\n       <use x=\"135.591797\" xlink:href=\"#DejaVuSans-101\"/>\n       <use x=\"197.115234\" xlink:href=\"#DejaVuSans-100\"/>\n       <use x=\"260.591797\" xlink:href=\"#DejaVuSans-111\"/>\n       <use x=\"321.773438\" xlink:href=\"#DejaVuSans-109\"/>\n      </g>\n     </g>\n    </g>\n    <g id=\"ytick_4\">\n     <g id=\"line2d_12\">\n      <g>\n       <use style=\"stroke:#000000;stroke-width:0.8;\" x=\"69.715625\" xlink:href=\"#m0007faa281\" y=\"94.798125\"/>\n      </g>\n     </g>\n     <g id=\"text_13\">\n      <!-- democracy -->\n      <defs>\n       <path d=\"M 32.171875 -5.078125 \nQ 28.375 -14.84375 24.75 -17.8125 \nQ 21.140625 -20.796875 15.09375 -20.796875 \nL 7.90625 -20.796875 \nL 7.90625 -13.28125 \nL 13.1875 -13.28125 \nQ 16.890625 -13.28125 18.9375 -11.515625 \nQ 21 -9.765625 23.484375 -3.21875 \nL 25.09375 0.875 \nL 2.984375 54.6875 \nL 12.5 54.6875 \nL 29.59375 11.921875 \nL 46.6875 54.6875 \nL 56.203125 54.6875 \nz\n\" id=\"DejaVuSans-121\"/>\n      </defs>\n      <g style=\"fill:#0000ff;\" transform=\"translate(7.2 98.597344)scale(0.1 -0.1)\">\n       <use xlink:href=\"#DejaVuSans-100\"/>\n       <use x=\"63.476562\" xlink:href=\"#DejaVuSans-101\"/>\n       <use x=\"125\" xlink:href=\"#DejaVuSans-109\"/>\n       <use x=\"222.412109\" xlink:href=\"#DejaVuSans-111\"/>\n       <use x=\"283.59375\" xlink:href=\"#DejaVuSans-99\"/>\n       <use x=\"338.574219\" xlink:href=\"#DejaVuSans-114\"/>\n       <use x=\"379.6875\" xlink:href=\"#DejaVuSans-97\"/>\n       <use x=\"440.966797\" xlink:href=\"#DejaVuSans-99\"/>\n       <use x=\"495.947266\" xlink:href=\"#DejaVuSans-121\"/>\n      </g>\n     </g>\n    </g>\n    <g id=\"ytick_5\">\n     <g id=\"line2d_13\">\n      <g>\n       <use style=\"stroke:#000000;stroke-width:0.8;\" x=\"69.715625\" xlink:href=\"#m0007faa281\" y=\"58.558125\"/>\n      </g>\n     </g>\n     <g id=\"text_14\">\n      <!-- citizens -->\n      <defs>\n       <path d=\"M 5.515625 54.6875 \nL 48.1875 54.6875 \nL 48.1875 46.484375 \nL 14.40625 7.171875 \nL 48.1875 7.171875 \nL 48.1875 0 \nL 4.296875 0 \nL 4.296875 8.203125 \nL 38.09375 47.515625 \nL 5.515625 47.515625 \nz\n\" id=\"DejaVuSans-122\"/>\n       <path d=\"M 54.890625 33.015625 \nL 54.890625 0 \nL 45.90625 0 \nL 45.90625 32.71875 \nQ 45.90625 40.484375 42.875 44.328125 \nQ 39.84375 48.1875 33.796875 48.1875 \nQ 26.515625 48.1875 22.3125 43.546875 \nQ 18.109375 38.921875 18.109375 30.90625 \nL 18.109375 0 \nL 9.078125 0 \nL 9.078125 54.6875 \nL 18.109375 54.6875 \nL 18.109375 46.1875 \nQ 21.34375 51.125 25.703125 53.5625 \nQ 30.078125 56 35.796875 56 \nQ 45.21875 56 50.046875 50.171875 \nQ 54.890625 44.34375 54.890625 33.015625 \nz\n\" id=\"DejaVuSans-110\"/>\n      </defs>\n      <g style=\"fill:#0000ff;\" transform=\"translate(24.792188 62.357344)scale(0.1 -0.1)\">\n       <use xlink:href=\"#DejaVuSans-99\"/>\n       <use x=\"54.980469\" xlink:href=\"#DejaVuSans-105\"/>\n       <use x=\"82.763672\" xlink:href=\"#DejaVuSans-116\"/>\n       <use x=\"121.972656\" xlink:href=\"#DejaVuSans-105\"/>\n       <use x=\"149.755859\" xlink:href=\"#DejaVuSans-122\"/>\n       <use x=\"202.246094\" xlink:href=\"#DejaVuSans-101\"/>\n       <use x=\"263.769531\" xlink:href=\"#DejaVuSans-110\"/>\n       <use x=\"327.148438\" xlink:href=\"#DejaVuSans-115\"/>\n      </g>\n     </g>\n    </g>\n   </g>\n   <g id=\"line2d_14\">\n    <defs>\n     <path d=\"M 0 3 \nL 0 -3 \n\" id=\"m749777004a\" style=\"stroke:#0000ff;\"/>\n    </defs>\n    <g clip-path=\"url(#p4d8fa6e8f6)\">\n     <use style=\"fill:#0000ff;stroke:#0000ff;\" x=\"84.933807\" xlink:href=\"#m749777004a\" y=\"58.558125\"/>\n     <use style=\"fill:#0000ff;stroke:#0000ff;\" x=\"84.9867\" xlink:href=\"#m749777004a\" y=\"167.278125\"/>\n     <use style=\"fill:#0000ff;stroke:#0000ff;\" x=\"85.173859\" xlink:href=\"#m749777004a\" y=\"58.558125\"/>\n     <use style=\"fill:#0000ff;stroke:#0000ff;\" x=\"85.580727\" xlink:href=\"#m749777004a\" y=\"58.558125\"/>\n     <use style=\"fill:#0000ff;stroke:#0000ff;\" x=\"86.420909\" xlink:href=\"#m749777004a\" y=\"58.558125\"/>\n     <use style=\"fill:#0000ff;stroke:#0000ff;\" x=\"87.694406\" xlink:href=\"#m749777004a\" y=\"58.558125\"/>\n     <use style=\"fill:#0000ff;stroke:#0000ff;\" x=\"87.8185\" xlink:href=\"#m749777004a\" y=\"203.518125\"/>\n     <use style=\"fill:#0000ff;stroke:#0000ff;\" x=\"88.021934\" xlink:href=\"#m749777004a\" y=\"203.518125\"/>\n     <use style=\"fill:#0000ff;stroke:#0000ff;\" x=\"88.856013\" xlink:href=\"#m749777004a\" y=\"203.518125\"/>\n     <use style=\"fill:#0000ff;stroke:#0000ff;\" x=\"89.309671\" xlink:href=\"#m749777004a\" y=\"58.558125\"/>\n     <use style=\"fill:#0000ff;stroke:#0000ff;\" x=\"90.044068\" xlink:href=\"#m749777004a\" y=\"58.558125\"/>\n     <use style=\"fill:#0000ff;stroke:#0000ff;\" x=\"90.878147\" xlink:href=\"#m749777004a\" y=\"203.518125\"/>\n     <use style=\"fill:#0000ff;stroke:#0000ff;\" x=\"91.051066\" xlink:href=\"#m749777004a\" y=\"58.558125\"/>\n     <use style=\"fill:#0000ff;stroke:#0000ff;\" x=\"92.076373\" xlink:href=\"#m749777004a\" y=\"203.518125\"/>\n     <use style=\"fill:#0000ff;stroke:#0000ff;\" x=\"92.119094\" xlink:href=\"#m749777004a\" y=\"58.558125\"/>\n     <use style=\"fill:#0000ff;stroke:#0000ff;\" x=\"92.377455\" xlink:href=\"#m749777004a\" y=\"203.518125\"/>\n     <use style=\"fill:#0000ff;stroke:#0000ff;\" x=\"92.489344\" xlink:href=\"#m749777004a\" y=\"58.558125\"/>\n     <use style=\"fill:#0000ff;stroke:#0000ff;\" x=\"92.733464\" xlink:href=\"#m749777004a\" y=\"167.278125\"/>\n     <use style=\"fill:#0000ff;stroke:#0000ff;\" x=\"93.27053\" xlink:href=\"#m749777004a\" y=\"167.278125\"/>\n     <use style=\"fill:#0000ff;stroke:#0000ff;\" x=\"93.315286\" xlink:href=\"#m749777004a\" y=\"58.558125\"/>\n     <use style=\"fill:#0000ff;stroke:#0000ff;\" x=\"94.165639\" xlink:href=\"#m749777004a\" y=\"58.558125\"/>\n     <use style=\"fill:#0000ff;stroke:#0000ff;\" x=\"95.233668\" xlink:href=\"#m749777004a\" y=\"58.558125\"/>\n     <use style=\"fill:#0000ff;stroke:#0000ff;\" x=\"95.447273\" xlink:href=\"#m749777004a\" y=\"58.558125\"/>\n     <use style=\"fill:#0000ff;stroke:#0000ff;\" x=\"95.59578\" xlink:href=\"#m749777004a\" y=\"58.558125\"/>\n     <use style=\"fill:#0000ff;stroke:#0000ff;\" x=\"95.607986\" xlink:href=\"#m749777004a\" y=\"167.278125\"/>\n     <use style=\"fill:#0000ff;stroke:#0000ff;\" x=\"96.220322\" xlink:href=\"#m749777004a\" y=\"131.038125\"/>\n     <use style=\"fill:#0000ff;stroke:#0000ff;\" x=\"96.22846\" xlink:href=\"#m749777004a\" y=\"131.038125\"/>\n     <use style=\"fill:#0000ff;stroke:#0000ff;\" x=\"96.240666\" xlink:href=\"#m749777004a\" y=\"131.038125\"/>\n     <use style=\"fill:#0000ff;stroke:#0000ff;\" x=\"96.507164\" xlink:href=\"#m749777004a\" y=\"58.558125\"/>\n     <use style=\"fill:#0000ff;stroke:#0000ff;\" x=\"97.02999\" xlink:href=\"#m749777004a\" y=\"131.038125\"/>\n     <use style=\"fill:#0000ff;stroke:#0000ff;\" x=\"97.192737\" xlink:href=\"#m749777004a\" y=\"58.558125\"/>\n     <use style=\"fill:#0000ff;stroke:#0000ff;\" x=\"97.27411\" xlink:href=\"#m749777004a\" y=\"58.558125\"/>\n     <use style=\"fill:#0000ff;stroke:#0000ff;\" x=\"97.613845\" xlink:href=\"#m749777004a\" y=\"167.278125\"/>\n     <use style=\"fill:#0000ff;stroke:#0000ff;\" x=\"97.683012\" xlink:href=\"#m749777004a\" y=\"58.558125\"/>\n     <use style=\"fill:#0000ff;stroke:#0000ff;\" x=\"98.020713\" xlink:href=\"#m749777004a\" y=\"58.558125\"/>\n     <use style=\"fill:#0000ff;stroke:#0000ff;\" x=\"98.52116\" xlink:href=\"#m749777004a\" y=\"58.558125\"/>\n     <use style=\"fill:#0000ff;stroke:#0000ff;\" x=\"99.863824\" xlink:href=\"#m749777004a\" y=\"58.558125\"/>\n     <use style=\"fill:#0000ff;stroke:#0000ff;\" x=\"99.918752\" xlink:href=\"#m749777004a\" y=\"58.558125\"/>\n     <use style=\"fill:#0000ff;stroke:#0000ff;\" x=\"100.00216\" xlink:href=\"#m749777004a\" y=\"167.278125\"/>\n     <use style=\"fill:#0000ff;stroke:#0000ff;\" x=\"100.207628\" xlink:href=\"#m749777004a\" y=\"131.038125\"/>\n     <use style=\"fill:#0000ff;stroke:#0000ff;\" x=\"100.315448\" xlink:href=\"#m749777004a\" y=\"167.278125\"/>\n     <use style=\"fill:#0000ff;stroke:#0000ff;\" x=\"100.406993\" xlink:href=\"#m749777004a\" y=\"131.038125\"/>\n     <use style=\"fill:#0000ff;stroke:#0000ff;\" x=\"100.559569\" xlink:href=\"#m749777004a\" y=\"58.558125\"/>\n     <use style=\"fill:#0000ff;stroke:#0000ff;\" x=\"101.151561\" xlink:href=\"#m749777004a\" y=\"58.558125\"/>\n     <use style=\"fill:#0000ff;stroke:#0000ff;\" x=\"101.564532\" xlink:href=\"#m749777004a\" y=\"167.278125\"/>\n     <use style=\"fill:#0000ff;stroke:#0000ff;\" x=\"101.574704\" xlink:href=\"#m749777004a\" y=\"58.558125\"/>\n     <use style=\"fill:#0000ff;stroke:#0000ff;\" x=\"102.113804\" xlink:href=\"#m749777004a\" y=\"167.278125\"/>\n     <use style=\"fill:#0000ff;stroke:#0000ff;\" x=\"103.212347\" xlink:href=\"#m749777004a\" y=\"167.278125\"/>\n     <use style=\"fill:#0000ff;stroke:#0000ff;\" x=\"103.739241\" xlink:href=\"#m749777004a\" y=\"131.038125\"/>\n     <use style=\"fill:#0000ff;stroke:#0000ff;\" x=\"104.400402\" xlink:href=\"#m749777004a\" y=\"58.558125\"/>\n     <use style=\"fill:#0000ff;stroke:#0000ff;\" x=\"104.762514\" xlink:href=\"#m749777004a\" y=\"167.278125\"/>\n     <use style=\"fill:#0000ff;stroke:#0000ff;\" x=\"105.273133\" xlink:href=\"#m749777004a\" y=\"58.558125\"/>\n     <use style=\"fill:#0000ff;stroke:#0000ff;\" x=\"105.751203\" xlink:href=\"#m749777004a\" y=\"58.558125\"/>\n     <use style=\"fill:#0000ff;stroke:#0000ff;\" x=\"105.940397\" xlink:href=\"#m749777004a\" y=\"58.558125\"/>\n     <use style=\"fill:#0000ff;stroke:#0000ff;\" x=\"107.010459\" xlink:href=\"#m749777004a\" y=\"58.558125\"/>\n     <use style=\"fill:#0000ff;stroke:#0000ff;\" x=\"107.303404\" xlink:href=\"#m749777004a\" y=\"58.558125\"/>\n     <use style=\"fill:#0000ff;stroke:#0000ff;\" x=\"107.474289\" xlink:href=\"#m749777004a\" y=\"167.278125\"/>\n     <use style=\"fill:#0000ff;stroke:#0000ff;\" x=\"107.539387\" xlink:href=\"#m749777004a\" y=\"167.278125\"/>\n     <use style=\"fill:#0000ff;stroke:#0000ff;\" x=\"107.657379\" xlink:href=\"#m749777004a\" y=\"167.278125\"/>\n     <use style=\"fill:#0000ff;stroke:#0000ff;\" x=\"107.805886\" xlink:href=\"#m749777004a\" y=\"167.278125\"/>\n     <use style=\"fill:#0000ff;stroke:#0000ff;\" x=\"108.050007\" xlink:href=\"#m749777004a\" y=\"58.558125\"/>\n     <use style=\"fill:#0000ff;stroke:#0000ff;\" x=\"108.534179\" xlink:href=\"#m749777004a\" y=\"167.278125\"/>\n     <use style=\"fill:#0000ff;stroke:#0000ff;\" x=\"109.537109\" xlink:href=\"#m749777004a\" y=\"58.558125\"/>\n     <use style=\"fill:#0000ff;stroke:#0000ff;\" x=\"110.590897\" xlink:href=\"#m749777004a\" y=\"58.558125\"/>\n     <use style=\"fill:#0000ff;stroke:#0000ff;\" x=\"111.115756\" xlink:href=\"#m749777004a\" y=\"58.558125\"/>\n     <use style=\"fill:#0000ff;stroke:#0000ff;\" x=\"111.363946\" xlink:href=\"#m749777004a\" y=\"58.558125\"/>\n     <use style=\"fill:#0000ff;stroke:#0000ff;\" x=\"112.098342\" xlink:href=\"#m749777004a\" y=\"58.558125\"/>\n     <use style=\"fill:#0000ff;stroke:#0000ff;\" x=\"112.859185\" xlink:href=\"#m749777004a\" y=\"58.558125\"/>\n     <use style=\"fill:#0000ff;stroke:#0000ff;\" x=\"113.520346\" xlink:href=\"#m749777004a\" y=\"167.278125\"/>\n     <use style=\"fill:#0000ff;stroke:#0000ff;\" x=\"114.712468\" xlink:href=\"#m749777004a\" y=\"58.558125\"/>\n     <use style=\"fill:#0000ff;stroke:#0000ff;\" x=\"114.777567\" xlink:href=\"#m749777004a\" y=\"58.558125\"/>\n     <use style=\"fill:#0000ff;stroke:#0000ff;\" x=\"114.826392\" xlink:href=\"#m749777004a\" y=\"58.558125\"/>\n     <use style=\"fill:#0000ff;stroke:#0000ff;\" x=\"115.434659\" xlink:href=\"#m749777004a\" y=\"167.278125\"/>\n     <use style=\"fill:#0000ff;stroke:#0000ff;\" x=\"115.690986\" xlink:href=\"#m749777004a\" y=\"58.558125\"/>\n     <use style=\"fill:#0000ff;stroke:#0000ff;\" x=\"115.939175\" xlink:href=\"#m749777004a\" y=\"58.558125\"/>\n     <use style=\"fill:#0000ff;stroke:#0000ff;\" x=\"117.226912\" xlink:href=\"#m749777004a\" y=\"58.558125\"/>\n     <use style=\"fill:#0000ff;stroke:#0000ff;\" x=\"117.654123\" xlink:href=\"#m749777004a\" y=\"203.518125\"/>\n     <use style=\"fill:#0000ff;stroke:#0000ff;\" x=\"118.244082\" xlink:href=\"#m749777004a\" y=\"58.558125\"/>\n     <use style=\"fill:#0000ff;stroke:#0000ff;\" x=\"119.263286\" xlink:href=\"#m749777004a\" y=\"58.558125\"/>\n     <use style=\"fill:#0000ff;stroke:#0000ff;\" x=\"119.887828\" xlink:href=\"#m749777004a\" y=\"58.558125\"/>\n     <use style=\"fill:#0000ff;stroke:#0000ff;\" x=\"119.922412\" xlink:href=\"#m749777004a\" y=\"203.518125\"/>\n     <use style=\"fill:#0000ff;stroke:#0000ff;\" x=\"120.463546\" xlink:href=\"#m749777004a\" y=\"167.278125\"/>\n     <use style=\"fill:#0000ff;stroke:#0000ff;\" x=\"120.854139\" xlink:href=\"#m749777004a\" y=\"58.558125\"/>\n     <use style=\"fill:#0000ff;stroke:#0000ff;\" x=\"121.126741\" xlink:href=\"#m749777004a\" y=\"58.558125\"/>\n     <use style=\"fill:#0000ff;stroke:#0000ff;\" x=\"121.610914\" xlink:href=\"#m749777004a\" y=\"58.558125\"/>\n     <use style=\"fill:#0000ff;stroke:#0000ff;\" x=\"121.769592\" xlink:href=\"#m749777004a\" y=\"167.278125\"/>\n     <use style=\"fill:#0000ff;stroke:#0000ff;\" x=\"122.97799\" xlink:href=\"#m749777004a\" y=\"58.558125\"/>\n     <use style=\"fill:#0000ff;stroke:#0000ff;\" x=\"124.448817\" xlink:href=\"#m749777004a\" y=\"58.558125\"/>\n     <use style=\"fill:#0000ff;stroke:#0000ff;\" x=\"124.623771\" xlink:href=\"#m749777004a\" y=\"58.558125\"/>\n     <use style=\"fill:#0000ff;stroke:#0000ff;\" x=\"124.684801\" xlink:href=\"#m749777004a\" y=\"58.558125\"/>\n     <use style=\"fill:#0000ff;stroke:#0000ff;\" x=\"124.737694\" xlink:href=\"#m749777004a\" y=\"167.278125\"/>\n     <use style=\"fill:#0000ff;stroke:#0000ff;\" x=\"124.839411\" xlink:href=\"#m749777004a\" y=\"58.558125\"/>\n     <use style=\"fill:#0000ff;stroke:#0000ff;\" x=\"124.890269\" xlink:href=\"#m749777004a\" y=\"167.278125\"/>\n     <use style=\"fill:#0000ff;stroke:#0000ff;\" x=\"124.955368\" xlink:href=\"#m749777004a\" y=\"167.278125\"/>\n     <use style=\"fill:#0000ff;stroke:#0000ff;\" x=\"125.028604\" xlink:href=\"#m749777004a\" y=\"167.278125\"/>\n     <use style=\"fill:#0000ff;stroke:#0000ff;\" x=\"125.413094\" xlink:href=\"#m749777004a\" y=\"131.038125\"/>\n     <use style=\"fill:#0000ff;stroke:#0000ff;\" x=\"126.029499\" xlink:href=\"#m749777004a\" y=\"167.278125\"/>\n     <use style=\"fill:#0000ff;stroke:#0000ff;\" x=\"126.462813\" xlink:href=\"#m749777004a\" y=\"131.038125\"/>\n     <use style=\"fill:#0000ff;stroke:#0000ff;\" x=\"127.575597\" xlink:href=\"#m749777004a\" y=\"131.038125\"/>\n     <use style=\"fill:#0000ff;stroke:#0000ff;\" x=\"127.79734\" xlink:href=\"#m749777004a\" y=\"131.038125\"/>\n     <use style=\"fill:#0000ff;stroke:#0000ff;\" x=\"127.899057\" xlink:href=\"#m749777004a\" y=\"94.798125\"/>\n     <use style=\"fill:#0000ff;stroke:#0000ff;\" x=\"128.61311\" xlink:href=\"#m749777004a\" y=\"167.278125\"/>\n     <use style=\"fill:#0000ff;stroke:#0000ff;\" x=\"129.272236\" xlink:href=\"#m749777004a\" y=\"131.038125\"/>\n     <use style=\"fill:#0000ff;stroke:#0000ff;\" x=\"130.665759\" xlink:href=\"#m749777004a\" y=\"58.558125\"/>\n     <use style=\"fill:#0000ff;stroke:#0000ff;\" x=\"130.93836\" xlink:href=\"#m749777004a\" y=\"167.278125\"/>\n     <use style=\"fill:#0000ff;stroke:#0000ff;\" x=\"131.172309\" xlink:href=\"#m749777004a\" y=\"58.558125\"/>\n     <use style=\"fill:#0000ff;stroke:#0000ff;\" x=\"131.18655\" xlink:href=\"#m749777004a\" y=\"167.278125\"/>\n     <use style=\"fill:#0000ff;stroke:#0000ff;\" x=\"131.52425\" xlink:href=\"#m749777004a\" y=\"167.278125\"/>\n     <use style=\"fill:#0000ff;stroke:#0000ff;\" x=\"133.104932\" xlink:href=\"#m749777004a\" y=\"167.278125\"/>\n     <use style=\"fill:#0000ff;stroke:#0000ff;\" x=\"133.180203\" xlink:href=\"#m749777004a\" y=\"131.038125\"/>\n     <use style=\"fill:#0000ff;stroke:#0000ff;\" x=\"133.509766\" xlink:href=\"#m749777004a\" y=\"58.558125\"/>\n     <use style=\"fill:#0000ff;stroke:#0000ff;\" x=\"133.629792\" xlink:href=\"#m749777004a\" y=\"58.558125\"/>\n     <use style=\"fill:#0000ff;stroke:#0000ff;\" x=\"133.690822\" xlink:href=\"#m749777004a\" y=\"167.278125\"/>\n     <use style=\"fill:#0000ff;stroke:#0000ff;\" x=\"135.928595\" xlink:href=\"#m749777004a\" y=\"167.278125\"/>\n     <use style=\"fill:#0000ff;stroke:#0000ff;\" x=\"135.983522\" xlink:href=\"#m749777004a\" y=\"58.558125\"/>\n     <use style=\"fill:#0000ff;stroke:#0000ff;\" x=\"136.164579\" xlink:href=\"#m749777004a\" y=\"58.558125\"/>\n     <use style=\"fill:#0000ff;stroke:#0000ff;\" x=\"136.2073\" xlink:href=\"#m749777004a\" y=\"58.558125\"/>\n     <use style=\"fill:#0000ff;stroke:#0000ff;\" x=\"136.59179\" xlink:href=\"#m749777004a\" y=\"167.278125\"/>\n     <use style=\"fill:#0000ff;stroke:#0000ff;\" x=\"136.791155\" xlink:href=\"#m749777004a\" y=\"58.558125\"/>\n     <use style=\"fill:#0000ff;stroke:#0000ff;\" x=\"138.71564\" xlink:href=\"#m749777004a\" y=\"58.558125\"/>\n     <use style=\"fill:#0000ff;stroke:#0000ff;\" x=\"138.862113\" xlink:href=\"#m749777004a\" y=\"203.518125\"/>\n     <use style=\"fill:#0000ff;stroke:#0000ff;\" x=\"139.946416\" xlink:href=\"#m749777004a\" y=\"58.558125\"/>\n     <use style=\"fill:#0000ff;stroke:#0000ff;\" x=\"141.722394\" xlink:href=\"#m749777004a\" y=\"58.558125\"/>\n     <use style=\"fill:#0000ff;stroke:#0000ff;\" x=\"142.051957\" xlink:href=\"#m749777004a\" y=\"58.558125\"/>\n     <use style=\"fill:#0000ff;stroke:#0000ff;\" x=\"144.765766\" xlink:href=\"#m749777004a\" y=\"58.558125\"/>\n     <use style=\"fill:#0000ff;stroke:#0000ff;\" x=\"144.804418\" xlink:href=\"#m749777004a\" y=\"167.278125\"/>\n     <use style=\"fill:#0000ff;stroke:#0000ff;\" x=\"144.885792\" xlink:href=\"#m749777004a\" y=\"167.278125\"/>\n     <use style=\"fill:#0000ff;stroke:#0000ff;\" x=\"145.756489\" xlink:href=\"#m749777004a\" y=\"94.798125\"/>\n     <use style=\"fill:#0000ff;stroke:#0000ff;\" x=\"145.970095\" xlink:href=\"#m749777004a\" y=\"58.558125\"/>\n     <use style=\"fill:#0000ff;stroke:#0000ff;\" x=\"147.925095\" xlink:href=\"#m749777004a\" y=\"94.798125\"/>\n     <use style=\"fill:#0000ff;stroke:#0000ff;\" x=\"148.569981\" xlink:href=\"#m749777004a\" y=\"58.558125\"/>\n     <use style=\"fill:#0000ff;stroke:#0000ff;\" x=\"151.418056\" xlink:href=\"#m749777004a\" y=\"131.038125\"/>\n     <use style=\"fill:#0000ff;stroke:#0000ff;\" x=\"152.992635\" xlink:href=\"#m749777004a\" y=\"131.038125\"/>\n     <use style=\"fill:#0000ff;stroke:#0000ff;\" x=\"154.105419\" xlink:href=\"#m749777004a\" y=\"131.038125\"/>\n     <use style=\"fill:#0000ff;stroke:#0000ff;\" x=\"154.384123\" xlink:href=\"#m749777004a\" y=\"131.038125\"/>\n     <use style=\"fill:#0000ff;stroke:#0000ff;\" x=\"155.580315\" xlink:href=\"#m749777004a\" y=\"58.558125\"/>\n     <use style=\"fill:#0000ff;stroke:#0000ff;\" x=\"155.645414\" xlink:href=\"#m749777004a\" y=\"58.558125\"/>\n     <use style=\"fill:#0000ff;stroke:#0000ff;\" x=\"155.867157\" xlink:href=\"#m749777004a\" y=\"167.278125\"/>\n     <use style=\"fill:#0000ff;stroke:#0000ff;\" x=\"156.00956\" xlink:href=\"#m749777004a\" y=\"58.558125\"/>\n     <use style=\"fill:#0000ff;stroke:#0000ff;\" x=\"156.198754\" xlink:href=\"#m749777004a\" y=\"58.558125\"/>\n     <use style=\"fill:#0000ff;stroke:#0000ff;\" x=\"156.328952\" xlink:href=\"#m749777004a\" y=\"58.558125\"/>\n     <use style=\"fill:#0000ff;stroke:#0000ff;\" x=\"156.432703\" xlink:href=\"#m749777004a\" y=\"58.558125\"/>\n     <use style=\"fill:#0000ff;stroke:#0000ff;\" x=\"156.599519\" xlink:href=\"#m749777004a\" y=\"58.558125\"/>\n     <use style=\"fill:#0000ff;stroke:#0000ff;\" x=\"157.523109\" xlink:href=\"#m749777004a\" y=\"58.558125\"/>\n     <use style=\"fill:#0000ff;stroke:#0000ff;\" x=\"157.569899\" xlink:href=\"#m749777004a\" y=\"58.558125\"/>\n     <use style=\"fill:#0000ff;stroke:#0000ff;\" x=\"157.614654\" xlink:href=\"#m749777004a\" y=\"58.558125\"/>\n     <use style=\"fill:#0000ff;stroke:#0000ff;\" x=\"157.744852\" xlink:href=\"#m749777004a\" y=\"58.558125\"/>\n     <use style=\"fill:#0000ff;stroke:#0000ff;\" x=\"157.82826\" xlink:href=\"#m749777004a\" y=\"58.558125\"/>\n     <use style=\"fill:#0000ff;stroke:#0000ff;\" x=\"158.249368\" xlink:href=\"#m749777004a\" y=\"58.558125\"/>\n     <use style=\"fill:#0000ff;stroke:#0000ff;\" x=\"158.27378\" xlink:href=\"#m749777004a\" y=\"58.558125\"/>\n     <use style=\"fill:#0000ff;stroke:#0000ff;\" x=\"158.613515\" xlink:href=\"#m749777004a\" y=\"58.558125\"/>\n     <use style=\"fill:#0000ff;stroke:#0000ff;\" x=\"159.211611\" xlink:href=\"#m749777004a\" y=\"58.558125\"/>\n     <use style=\"fill:#0000ff;stroke:#0000ff;\" x=\"159.895149\" xlink:href=\"#m749777004a\" y=\"94.798125\"/>\n     <use style=\"fill:#0000ff;stroke:#0000ff;\" x=\"160.238952\" xlink:href=\"#m749777004a\" y=\"131.038125\"/>\n     <use style=\"fill:#0000ff;stroke:#0000ff;\" x=\"160.773984\" xlink:href=\"#m749777004a\" y=\"94.798125\"/>\n     <use style=\"fill:#0000ff;stroke:#0000ff;\" x=\"160.841117\" xlink:href=\"#m749777004a\" y=\"58.558125\"/>\n     <use style=\"fill:#0000ff;stroke:#0000ff;\" x=\"161.087272\" xlink:href=\"#m749777004a\" y=\"58.558125\"/>\n     <use style=\"fill:#0000ff;stroke:#0000ff;\" x=\"161.180851\" xlink:href=\"#m749777004a\" y=\"58.558125\"/>\n     <use style=\"fill:#0000ff;stroke:#0000ff;\" x=\"161.345633\" xlink:href=\"#m749777004a\" y=\"167.278125\"/>\n     <use style=\"fill:#0000ff;stroke:#0000ff;\" x=\"161.483968\" xlink:href=\"#m749777004a\" y=\"58.558125\"/>\n     <use style=\"fill:#0000ff;stroke:#0000ff;\" x=\"161.803359\" xlink:href=\"#m749777004a\" y=\"58.558125\"/>\n     <use style=\"fill:#0000ff;stroke:#0000ff;\" x=\"161.868458\" xlink:href=\"#m749777004a\" y=\"58.558125\"/>\n     <use style=\"fill:#0000ff;stroke:#0000ff;\" x=\"162.958864\" xlink:href=\"#m749777004a\" y=\"58.558125\"/>\n     <use style=\"fill:#0000ff;stroke:#0000ff;\" x=\"163.06465\" xlink:href=\"#m749777004a\" y=\"131.038125\"/>\n     <use style=\"fill:#0000ff;stroke:#0000ff;\" x=\"163.162298\" xlink:href=\"#m749777004a\" y=\"58.558125\"/>\n     <use style=\"fill:#0000ff;stroke:#0000ff;\" x=\"163.268084\" xlink:href=\"#m749777004a\" y=\"167.278125\"/>\n     <use style=\"fill:#0000ff;stroke:#0000ff;\" x=\"163.337251\" xlink:href=\"#m749777004a\" y=\"58.558125\"/>\n     <use style=\"fill:#0000ff;stroke:#0000ff;\" x=\"163.502033\" xlink:href=\"#m749777004a\" y=\"167.278125\"/>\n     <use style=\"fill:#0000ff;stroke:#0000ff;\" x=\"163.569166\" xlink:href=\"#m749777004a\" y=\"167.278125\"/>\n     <use style=\"fill:#0000ff;stroke:#0000ff;\" x=\"165.145779\" xlink:href=\"#m749777004a\" y=\"131.038125\"/>\n     <use style=\"fill:#0000ff;stroke:#0000ff;\" x=\"166.368417\" xlink:href=\"#m749777004a\" y=\"58.558125\"/>\n     <use style=\"fill:#0000ff;stroke:#0000ff;\" x=\"166.439619\" xlink:href=\"#m749777004a\" y=\"131.038125\"/>\n     <use style=\"fill:#0000ff;stroke:#0000ff;\" x=\"167.670394\" xlink:href=\"#m749777004a\" y=\"58.558125\"/>\n     <use style=\"fill:#0000ff;stroke:#0000ff;\" x=\"168.421066\" xlink:href=\"#m749777004a\" y=\"58.558125\"/>\n     <use style=\"fill:#0000ff;stroke:#0000ff;\" x=\"168.691633\" xlink:href=\"#m749777004a\" y=\"58.558125\"/>\n     <use style=\"fill:#0000ff;stroke:#0000ff;\" x=\"169.025265\" xlink:href=\"#m749777004a\" y=\"58.558125\"/>\n     <use style=\"fill:#0000ff;stroke:#0000ff;\" x=\"169.149359\" xlink:href=\"#m749777004a\" y=\"58.558125\"/>\n     <use style=\"fill:#0000ff;stroke:#0000ff;\" x=\"169.356862\" xlink:href=\"#m749777004a\" y=\"167.278125\"/>\n     <use style=\"fill:#0000ff;stroke:#0000ff;\" x=\"169.458579\" xlink:href=\"#m749777004a\" y=\"167.278125\"/>\n     <use style=\"fill:#0000ff;stroke:#0000ff;\" x=\"169.544021\" xlink:href=\"#m749777004a\" y=\"167.278125\"/>\n     <use style=\"fill:#0000ff;stroke:#0000ff;\" x=\"169.643704\" xlink:href=\"#m749777004a\" y=\"167.278125\"/>\n     <use style=\"fill:#0000ff;stroke:#0000ff;\" x=\"170.032263\" xlink:href=\"#m749777004a\" y=\"167.278125\"/>\n     <use style=\"fill:#0000ff;stroke:#0000ff;\" x=\"170.408615\" xlink:href=\"#m749777004a\" y=\"58.558125\"/>\n     <use style=\"fill:#0000ff;stroke:#0000ff;\" x=\"171.956748\" xlink:href=\"#m749777004a\" y=\"58.558125\"/>\n     <use style=\"fill:#0000ff;stroke:#0000ff;\" x=\"172.02795\" xlink:href=\"#m749777004a\" y=\"167.278125\"/>\n     <use style=\"fill:#0000ff;stroke:#0000ff;\" x=\"172.084911\" xlink:href=\"#m749777004a\" y=\"58.558125\"/>\n     <use style=\"fill:#0000ff;stroke:#0000ff;\" x=\"173.671696\" xlink:href=\"#m749777004a\" y=\"58.558125\"/>\n     <use style=\"fill:#0000ff;stroke:#0000ff;\" x=\"173.799859\" xlink:href=\"#m749777004a\" y=\"167.278125\"/>\n     <use style=\"fill:#0000ff;stroke:#0000ff;\" x=\"174.123319\" xlink:href=\"#m749777004a\" y=\"167.278125\"/>\n     <use style=\"fill:#0000ff;stroke:#0000ff;\" x=\"174.214865\" xlink:href=\"#m749777004a\" y=\"167.278125\"/>\n     <use style=\"fill:#0000ff;stroke:#0000ff;\" x=\"174.426436\" xlink:href=\"#m749777004a\" y=\"167.278125\"/>\n     <use style=\"fill:#0000ff;stroke:#0000ff;\" x=\"174.446779\" xlink:href=\"#m749777004a\" y=\"167.278125\"/>\n     <use style=\"fill:#0000ff;stroke:#0000ff;\" x=\"175.488361\" xlink:href=\"#m749777004a\" y=\"58.558125\"/>\n     <use style=\"fill:#0000ff;stroke:#0000ff;\" x=\"175.612456\" xlink:href=\"#m749777004a\" y=\"167.278125\"/>\n     <use style=\"fill:#0000ff;stroke:#0000ff;\" x=\"176.086457\" xlink:href=\"#m749777004a\" y=\"58.558125\"/>\n     <use style=\"fill:#0000ff;stroke:#0000ff;\" x=\"176.733377\" xlink:href=\"#m749777004a\" y=\"167.278125\"/>\n     <use style=\"fill:#0000ff;stroke:#0000ff;\" x=\"177.335541\" xlink:href=\"#m749777004a\" y=\"131.038125\"/>\n     <use style=\"fill:#0000ff;stroke:#0000ff;\" x=\"177.785131\" xlink:href=\"#m749777004a\" y=\"131.038125\"/>\n     <use style=\"fill:#0000ff;stroke:#0000ff;\" x=\"178.84909\" xlink:href=\"#m749777004a\" y=\"58.558125\"/>\n     <use style=\"fill:#0000ff;stroke:#0000ff;\" x=\"179.491941\" xlink:href=\"#m749777004a\" y=\"131.038125\"/>\n     <use style=\"fill:#0000ff;stroke:#0000ff;\" x=\"180.942425\" xlink:href=\"#m749777004a\" y=\"167.278125\"/>\n     <use style=\"fill:#0000ff;stroke:#0000ff;\" x=\"180.954631\" xlink:href=\"#m749777004a\" y=\"58.558125\"/>\n     <use style=\"fill:#0000ff;stroke:#0000ff;\" x=\"181.37574\" xlink:href=\"#m749777004a\" y=\"167.278125\"/>\n     <use style=\"fill:#0000ff;stroke:#0000ff;\" x=\"183.751848\" xlink:href=\"#m749777004a\" y=\"58.558125\"/>\n     <use style=\"fill:#0000ff;stroke:#0000ff;\" x=\"183.900355\" xlink:href=\"#m749777004a\" y=\"167.278125\"/>\n     <use style=\"fill:#0000ff;stroke:#0000ff;\" x=\"184.1933\" xlink:href=\"#m749777004a\" y=\"58.558125\"/>\n     <use style=\"fill:#0000ff;stroke:#0000ff;\" x=\"184.801567\" xlink:href=\"#m749777004a\" y=\"58.558125\"/>\n     <use style=\"fill:#0000ff;stroke:#0000ff;\" x=\"187.639471\" xlink:href=\"#m749777004a\" y=\"58.558125\"/>\n     <use style=\"fill:#0000ff;stroke:#0000ff;\" x=\"187.790012\" xlink:href=\"#m749777004a\" y=\"58.558125\"/>\n     <use style=\"fill:#0000ff;stroke:#0000ff;\" x=\"187.834768\" xlink:href=\"#m749777004a\" y=\"58.558125\"/>\n     <use style=\"fill:#0000ff;stroke:#0000ff;\" x=\"188.67495\" xlink:href=\"#m749777004a\" y=\"203.518125\"/>\n     <use style=\"fill:#0000ff;stroke:#0000ff;\" x=\"188.849903\" xlink:href=\"#m749777004a\" y=\"58.558125\"/>\n     <use style=\"fill:#0000ff;stroke:#0000ff;\" x=\"189.148951\" xlink:href=\"#m749777004a\" y=\"167.278125\"/>\n     <use style=\"fill:#0000ff;stroke:#0000ff;\" x=\"191.736631\" xlink:href=\"#m749777004a\" y=\"58.558125\"/>\n     <use style=\"fill:#0000ff;stroke:#0000ff;\" x=\"191.763077\" xlink:href=\"#m749777004a\" y=\"58.558125\"/>\n     <use style=\"fill:#0000ff;stroke:#0000ff;\" x=\"192.021438\" xlink:href=\"#m749777004a\" y=\"58.558125\"/>\n     <use style=\"fill:#0000ff;stroke:#0000ff;\" x=\"193.319347\" xlink:href=\"#m749777004a\" y=\"167.278125\"/>\n     <use style=\"fill:#0000ff;stroke:#0000ff;\" x=\"193.425133\" xlink:href=\"#m749777004a\" y=\"58.558125\"/>\n     <use style=\"fill:#0000ff;stroke:#0000ff;\" x=\"196.547844\" xlink:href=\"#m749777004a\" y=\"58.558125\"/>\n     <use style=\"fill:#0000ff;stroke:#0000ff;\" x=\"199.985878\" xlink:href=\"#m749777004a\" y=\"167.278125\"/>\n     <use style=\"fill:#0000ff;stroke:#0000ff;\" x=\"202.107694\" xlink:href=\"#m749777004a\" y=\"58.558125\"/>\n     <use style=\"fill:#0000ff;stroke:#0000ff;\" x=\"205.326019\" xlink:href=\"#m749777004a\" y=\"58.558125\"/>\n     <use style=\"fill:#0000ff;stroke:#0000ff;\" x=\"205.417564\" xlink:href=\"#m749777004a\" y=\"167.278125\"/>\n     <use style=\"fill:#0000ff;stroke:#0000ff;\" x=\"205.513178\" xlink:href=\"#m749777004a\" y=\"167.278125\"/>\n     <use style=\"fill:#0000ff;stroke:#0000ff;\" x=\"205.999385\" xlink:href=\"#m749777004a\" y=\"58.558125\"/>\n     <use style=\"fill:#0000ff;stroke:#0000ff;\" x=\"206.048209\" xlink:href=\"#m749777004a\" y=\"58.558125\"/>\n     <use style=\"fill:#0000ff;stroke:#0000ff;\" x=\"206.898563\" xlink:href=\"#m749777004a\" y=\"58.558125\"/>\n     <use style=\"fill:#0000ff;stroke:#0000ff;\" x=\"207.449869\" xlink:href=\"#m749777004a\" y=\"58.558125\"/>\n     <use style=\"fill:#0000ff;stroke:#0000ff;\" x=\"208.328704\" xlink:href=\"#m749777004a\" y=\"167.278125\"/>\n     <use style=\"fill:#0000ff;stroke:#0000ff;\" x=\"209.720192\" xlink:href=\"#m749777004a\" y=\"58.558125\"/>\n     <use style=\"fill:#0000ff;stroke:#0000ff;\" x=\"210.670229\" xlink:href=\"#m749777004a\" y=\"58.558125\"/>\n     <use style=\"fill:#0000ff;stroke:#0000ff;\" x=\"211.498205\" xlink:href=\"#m749777004a\" y=\"131.038125\"/>\n     <use style=\"fill:#0000ff;stroke:#0000ff;\" x=\"211.69757\" xlink:href=\"#m749777004a\" y=\"58.558125\"/>\n     <use style=\"fill:#0000ff;stroke:#0000ff;\" x=\"212.785942\" xlink:href=\"#m749777004a\" y=\"131.038125\"/>\n     <use style=\"fill:#0000ff;stroke:#0000ff;\" x=\"213.36166\" xlink:href=\"#m749777004a\" y=\"58.558125\"/>\n     <use style=\"fill:#0000ff;stroke:#0000ff;\" x=\"213.371831\" xlink:href=\"#m749777004a\" y=\"131.038125\"/>\n     <use style=\"fill:#0000ff;stroke:#0000ff;\" x=\"213.504064\" xlink:href=\"#m749777004a\" y=\"131.038125\"/>\n     <use style=\"fill:#0000ff;stroke:#0000ff;\" x=\"213.552888\" xlink:href=\"#m749777004a\" y=\"131.038125\"/>\n     <use style=\"fill:#0000ff;stroke:#0000ff;\" x=\"213.982133\" xlink:href=\"#m749777004a\" y=\"58.558125\"/>\n     <use style=\"fill:#0000ff;stroke:#0000ff;\" x=\"216.366379\" xlink:href=\"#m749777004a\" y=\"203.518125\"/>\n     <use style=\"fill:#0000ff;stroke:#0000ff;\" x=\"216.392826\" xlink:href=\"#m749777004a\" y=\"131.038125\"/>\n     <use style=\"fill:#0000ff;stroke:#0000ff;\" x=\"217.245214\" xlink:href=\"#m749777004a\" y=\"58.558125\"/>\n     <use style=\"fill:#0000ff;stroke:#0000ff;\" x=\"217.385583\" xlink:href=\"#m749777004a\" y=\"167.278125\"/>\n     <use style=\"fill:#0000ff;stroke:#0000ff;\" x=\"217.456785\" xlink:href=\"#m749777004a\" y=\"58.558125\"/>\n     <use style=\"fill:#0000ff;stroke:#0000ff;\" x=\"217.576811\" xlink:href=\"#m749777004a\" y=\"58.558125\"/>\n     <use style=\"fill:#0000ff;stroke:#0000ff;\" x=\"219.635563\" xlink:href=\"#m749777004a\" y=\"58.558125\"/>\n     <use style=\"fill:#0000ff;stroke:#0000ff;\" x=\"220.50626\" xlink:href=\"#m749777004a\" y=\"58.558125\"/>\n     <use style=\"fill:#0000ff;stroke:#0000ff;\" x=\"220.784965\" xlink:href=\"#m749777004a\" y=\"58.558125\"/>\n     <use style=\"fill:#0000ff;stroke:#0000ff;\" x=\"220.825651\" xlink:href=\"#m749777004a\" y=\"58.558125\"/>\n     <use style=\"fill:#0000ff;stroke:#0000ff;\" x=\"220.860235\" xlink:href=\"#m749777004a\" y=\"167.278125\"/>\n     <use style=\"fill:#0000ff;stroke:#0000ff;\" x=\"220.947712\" xlink:href=\"#m749777004a\" y=\"167.278125\"/>\n     <use style=\"fill:#0000ff;stroke:#0000ff;\" x=\"223.173279\" xlink:href=\"#m749777004a\" y=\"131.038125\"/>\n     <use style=\"fill:#0000ff;stroke:#0000ff;\" x=\"223.366541\" xlink:href=\"#m749777004a\" y=\"167.278125\"/>\n     <use style=\"fill:#0000ff;stroke:#0000ff;\" x=\"225.219825\" xlink:href=\"#m749777004a\" y=\"167.278125\"/>\n     <use style=\"fill:#0000ff;stroke:#0000ff;\" x=\"225.293061\" xlink:href=\"#m749777004a\" y=\"58.558125\"/>\n     <use style=\"fill:#0000ff;stroke:#0000ff;\" x=\"225.858607\" xlink:href=\"#m749777004a\" y=\"167.278125\"/>\n     <use style=\"fill:#0000ff;stroke:#0000ff;\" x=\"225.903363\" xlink:href=\"#m749777004a\" y=\"167.278125\"/>\n     <use style=\"fill:#0000ff;stroke:#0000ff;\" x=\"226.719133\" xlink:href=\"#m749777004a\" y=\"58.558125\"/>\n     <use style=\"fill:#0000ff;stroke:#0000ff;\" x=\"226.995803\" xlink:href=\"#m749777004a\" y=\"58.558125\"/>\n     <use style=\"fill:#0000ff;stroke:#0000ff;\" x=\"227.573556\" xlink:href=\"#m749777004a\" y=\"167.278125\"/>\n     <use style=\"fill:#0000ff;stroke:#0000ff;\" x=\"229.508212\" xlink:href=\"#m749777004a\" y=\"131.038125\"/>\n     <use style=\"fill:#0000ff;stroke:#0000ff;\" x=\"230.840705\" xlink:href=\"#m749777004a\" y=\"58.558125\"/>\n     <use style=\"fill:#0000ff;stroke:#0000ff;\" x=\"232.423421\" xlink:href=\"#m749777004a\" y=\"58.558125\"/>\n     <use style=\"fill:#0000ff;stroke:#0000ff;\" x=\"233.410076\" xlink:href=\"#m749777004a\" y=\"58.558125\"/>\n     <use style=\"fill:#0000ff;stroke:#0000ff;\" x=\"234.390627\" xlink:href=\"#m749777004a\" y=\"58.558125\"/>\n     <use style=\"fill:#0000ff;stroke:#0000ff;\" x=\"234.893109\" xlink:href=\"#m749777004a\" y=\"167.278125\"/>\n     <use style=\"fill:#0000ff;stroke:#0000ff;\" x=\"235.218603\" xlink:href=\"#m749777004a\" y=\"58.558125\"/>\n     <use style=\"fill:#0000ff;stroke:#0000ff;\" x=\"235.283702\" xlink:href=\"#m749777004a\" y=\"167.278125\"/>\n     <use style=\"fill:#0000ff;stroke:#0000ff;\" x=\"236.188983\" xlink:href=\"#m749777004a\" y=\"58.558125\"/>\n     <use style=\"fill:#0000ff;stroke:#0000ff;\" x=\"237.956824\" xlink:href=\"#m749777004a\" y=\"167.278125\"/>\n     <use style=\"fill:#0000ff;stroke:#0000ff;\" x=\"239.425618\" xlink:href=\"#m749777004a\" y=\"131.038125\"/>\n     <use style=\"fill:#0000ff;stroke:#0000ff;\" x=\"239.592433\" xlink:href=\"#m749777004a\" y=\"58.558125\"/>\n     <use style=\"fill:#0000ff;stroke:#0000ff;\" x=\"239.919962\" xlink:href=\"#m749777004a\" y=\"58.558125\"/>\n     <use style=\"fill:#0000ff;stroke:#0000ff;\" x=\"240.231216\" xlink:href=\"#m749777004a\" y=\"58.558125\"/>\n     <use style=\"fill:#0000ff;stroke:#0000ff;\" x=\"240.568916\" xlink:href=\"#m749777004a\" y=\"58.558125\"/>\n     <use style=\"fill:#0000ff;stroke:#0000ff;\" x=\"241.614567\" xlink:href=\"#m749777004a\" y=\"58.558125\"/>\n     <use style=\"fill:#0000ff;stroke:#0000ff;\" x=\"243.128115\" xlink:href=\"#m749777004a\" y=\"58.558125\"/>\n     <use style=\"fill:#0000ff;stroke:#0000ff;\" x=\"244.11477\" xlink:href=\"#m749777004a\" y=\"58.558125\"/>\n     <use style=\"fill:#0000ff;stroke:#0000ff;\" x=\"245.312996\" xlink:href=\"#m749777004a\" y=\"167.278125\"/>\n     <use style=\"fill:#0000ff;stroke:#0000ff;\" x=\"245.451331\" xlink:href=\"#m749777004a\" y=\"167.278125\"/>\n     <use style=\"fill:#0000ff;stroke:#0000ff;\" x=\"246.138938\" xlink:href=\"#m749777004a\" y=\"131.038125\"/>\n     <use style=\"fill:#0000ff;stroke:#0000ff;\" x=\"246.348475\" xlink:href=\"#m749777004a\" y=\"131.038125\"/>\n     <use style=\"fill:#0000ff;stroke:#0000ff;\" x=\"246.64142\" xlink:href=\"#m749777004a\" y=\"131.038125\"/>\n     <use style=\"fill:#0000ff;stroke:#0000ff;\" x=\"246.891643\" xlink:href=\"#m749777004a\" y=\"58.558125\"/>\n     <use style=\"fill:#0000ff;stroke:#0000ff;\" x=\"247.560941\" xlink:href=\"#m749777004a\" y=\"167.278125\"/>\n     <use style=\"fill:#0000ff;stroke:#0000ff;\" x=\"248.146831\" xlink:href=\"#m749777004a\" y=\"167.278125\"/>\n     <use style=\"fill:#0000ff;stroke:#0000ff;\" x=\"248.856815\" xlink:href=\"#m749777004a\" y=\"131.038125\"/>\n     <use style=\"fill:#0000ff;stroke:#0000ff;\" x=\"249.096868\" xlink:href=\"#m749777004a\" y=\"58.558125\"/>\n     <use style=\"fill:#0000ff;stroke:#0000ff;\" x=\"249.656311\" xlink:href=\"#m749777004a\" y=\"167.278125\"/>\n     <use style=\"fill:#0000ff;stroke:#0000ff;\" x=\"249.664448\" xlink:href=\"#m749777004a\" y=\"167.278125\"/>\n     <use style=\"fill:#0000ff;stroke:#0000ff;\" x=\"251.316332\" xlink:href=\"#m749777004a\" y=\"58.558125\"/>\n     <use style=\"fill:#0000ff;stroke:#0000ff;\" x=\"251.379396\" xlink:href=\"#m749777004a\" y=\"167.278125\"/>\n     <use style=\"fill:#0000ff;stroke:#0000ff;\" x=\"251.847295\" xlink:href=\"#m749777004a\" y=\"131.038125\"/>\n     <use style=\"fill:#0000ff;stroke:#0000ff;\" x=\"252.720026\" xlink:href=\"#m749777004a\" y=\"167.278125\"/>\n     <use style=\"fill:#0000ff;stroke:#0000ff;\" x=\"253.61717\" xlink:href=\"#m749777004a\" y=\"167.278125\"/>\n     <use style=\"fill:#0000ff;stroke:#0000ff;\" x=\"253.651754\" xlink:href=\"#m749777004a\" y=\"167.278125\"/>\n     <use style=\"fill:#0000ff;stroke:#0000ff;\" x=\"256.310635\" xlink:href=\"#m749777004a\" y=\"58.558125\"/>\n     <use style=\"fill:#0000ff;stroke:#0000ff;\" x=\"256.3737\" xlink:href=\"#m749777004a\" y=\"58.558125\"/>\n     <use style=\"fill:#0000ff;stroke:#0000ff;\" x=\"256.721572\" xlink:href=\"#m749777004a\" y=\"58.558125\"/>\n     <use style=\"fill:#0000ff;stroke:#0000ff;\" x=\"257.909626\" xlink:href=\"#m749777004a\" y=\"203.518125\"/>\n     <use style=\"fill:#0000ff;stroke:#0000ff;\" x=\"258.019481\" xlink:href=\"#m749777004a\" y=\"203.518125\"/>\n     <use style=\"fill:#0000ff;stroke:#0000ff;\" x=\"258.428383\" xlink:href=\"#m749777004a\" y=\"203.518125\"/>\n     <use style=\"fill:#0000ff;stroke:#0000ff;\" x=\"258.465001\" xlink:href=\"#m749777004a\" y=\"203.518125\"/>\n     <use style=\"fill:#0000ff;stroke:#0000ff;\" x=\"259.746635\" xlink:href=\"#m749777004a\" y=\"131.038125\"/>\n     <use style=\"fill:#0000ff;stroke:#0000ff;\" x=\"260.169777\" xlink:href=\"#m749777004a\" y=\"58.558125\"/>\n     <use style=\"fill:#0000ff;stroke:#0000ff;\" x=\"263.172463\" xlink:href=\"#m749777004a\" y=\"58.558125\"/>\n     <use style=\"fill:#0000ff;stroke:#0000ff;\" x=\"263.200943\" xlink:href=\"#m749777004a\" y=\"167.278125\"/>\n     <use style=\"fill:#0000ff;stroke:#0000ff;\" x=\"267.084497\" xlink:href=\"#m749777004a\" y=\"58.558125\"/>\n     <use style=\"fill:#0000ff;stroke:#0000ff;\" x=\"268.160663\" xlink:href=\"#m749777004a\" y=\"131.038125\"/>\n     <use style=\"fill:#0000ff;stroke:#0000ff;\" x=\"268.311204\" xlink:href=\"#m749777004a\" y=\"131.038125\"/>\n     <use style=\"fill:#0000ff;stroke:#0000ff;\" x=\"268.827926\" xlink:href=\"#m749777004a\" y=\"58.558125\"/>\n     <use style=\"fill:#0000ff;stroke:#0000ff;\" x=\"269.438228\" xlink:href=\"#m749777004a\" y=\"58.558125\"/>\n     <use style=\"fill:#0000ff;stroke:#0000ff;\" x=\"270.093286\" xlink:href=\"#m749777004a\" y=\"203.518125\"/>\n     <use style=\"fill:#0000ff;stroke:#0000ff;\" x=\"270.099389\" xlink:href=\"#m749777004a\" y=\"203.518125\"/>\n     <use style=\"fill:#0000ff;stroke:#0000ff;\" x=\"271.035185\" xlink:href=\"#m749777004a\" y=\"131.038125\"/>\n     <use style=\"fill:#0000ff;stroke:#0000ff;\" x=\"271.407469\" xlink:href=\"#m749777004a\" y=\"203.518125\"/>\n     <use style=\"fill:#0000ff;stroke:#0000ff;\" x=\"271.413572\" xlink:href=\"#m749777004a\" y=\"203.518125\"/>\n     <use style=\"fill:#0000ff;stroke:#0000ff;\" x=\"271.419675\" xlink:href=\"#m749777004a\" y=\"203.518125\"/>\n     <use style=\"fill:#0000ff;stroke:#0000ff;\" x=\"271.983187\" xlink:href=\"#m749777004a\" y=\"131.038125\"/>\n     <use style=\"fill:#0000ff;stroke:#0000ff;\" x=\"272.37378\" xlink:href=\"#m749777004a\" y=\"203.518125\"/>\n     <use style=\"fill:#0000ff;stroke:#0000ff;\" x=\"272.469394\" xlink:href=\"#m749777004a\" y=\"203.518125\"/>\n     <use style=\"fill:#0000ff;stroke:#0000ff;\" x=\"272.648416\" xlink:href=\"#m749777004a\" y=\"203.518125\"/>\n     <use style=\"fill:#0000ff;stroke:#0000ff;\" x=\"272.670794\" xlink:href=\"#m749777004a\" y=\"94.798125\"/>\n     <use style=\"fill:#0000ff;stroke:#0000ff;\" x=\"272.965773\" xlink:href=\"#m749777004a\" y=\"94.798125\"/>\n     <use style=\"fill:#0000ff;stroke:#0000ff;\" x=\"273.207859\" xlink:href=\"#m749777004a\" y=\"203.518125\"/>\n     <use style=\"fill:#0000ff;stroke:#0000ff;\" x=\"273.270924\" xlink:href=\"#m749777004a\" y=\"94.798125\"/>\n     <use style=\"fill:#0000ff;stroke:#0000ff;\" x=\"273.279061\" xlink:href=\"#m749777004a\" y=\"131.038125\"/>\n     <use style=\"fill:#0000ff;stroke:#0000ff;\" x=\"273.3584\" xlink:href=\"#m749777004a\" y=\"131.038125\"/>\n     <use style=\"fill:#0000ff;stroke:#0000ff;\" x=\"273.848676\" xlink:href=\"#m749777004a\" y=\"203.518125\"/>\n     <use style=\"fill:#0000ff;stroke:#0000ff;\" x=\"274.0989\" xlink:href=\"#m749777004a\" y=\"94.798125\"/>\n     <use style=\"fill:#0000ff;stroke:#0000ff;\" x=\"275.425289\" xlink:href=\"#m749777004a\" y=\"203.518125\"/>\n     <use style=\"fill:#0000ff;stroke:#0000ff;\" x=\"275.775196\" xlink:href=\"#m749777004a\" y=\"167.278125\"/>\n     <use style=\"fill:#0000ff;stroke:#0000ff;\" x=\"275.807745\" xlink:href=\"#m749777004a\" y=\"203.518125\"/>\n     <use style=\"fill:#0000ff;stroke:#0000ff;\" x=\"275.94608\" xlink:href=\"#m749777004a\" y=\"203.518125\"/>\n     <use style=\"fill:#0000ff;stroke:#0000ff;\" x=\"276.066106\" xlink:href=\"#m749777004a\" y=\"58.558125\"/>\n     <use style=\"fill:#0000ff;stroke:#0000ff;\" x=\"276.143411\" xlink:href=\"#m749777004a\" y=\"203.518125\"/>\n     <use style=\"fill:#0000ff;stroke:#0000ff;\" x=\"276.22275\" xlink:href=\"#m749777004a\" y=\"131.038125\"/>\n     <use style=\"fill:#0000ff;stroke:#0000ff;\" x=\"276.879842\" xlink:href=\"#m749777004a\" y=\"203.518125\"/>\n     <use style=\"fill:#0000ff;stroke:#0000ff;\" x=\"277.184993\" xlink:href=\"#m749777004a\" y=\"203.518125\"/>\n     <use style=\"fill:#0000ff;stroke:#0000ff;\" x=\"277.81157\" xlink:href=\"#m749777004a\" y=\"203.518125\"/>\n     <use style=\"fill:#0000ff;stroke:#0000ff;\" x=\"278.482902\" xlink:href=\"#m749777004a\" y=\"203.518125\"/>\n     <use style=\"fill:#0000ff;stroke:#0000ff;\" x=\"278.491039\" xlink:href=\"#m749777004a\" y=\"203.518125\"/>\n     <use style=\"fill:#0000ff;stroke:#0000ff;\" x=\"279.017933\" xlink:href=\"#m749777004a\" y=\"131.038125\"/>\n     <use style=\"fill:#0000ff;stroke:#0000ff;\" x=\"279.048448\" xlink:href=\"#m749777004a\" y=\"131.038125\"/>\n     <use style=\"fill:#0000ff;stroke:#0000ff;\" x=\"279.168474\" xlink:href=\"#m749777004a\" y=\"131.038125\"/>\n     <use style=\"fill:#0000ff;stroke:#0000ff;\" x=\"279.337324\" xlink:href=\"#m749777004a\" y=\"131.038125\"/>\n     <use style=\"fill:#0000ff;stroke:#0000ff;\" x=\"280.039171\" xlink:href=\"#m749777004a\" y=\"58.558125\"/>\n     <use style=\"fill:#0000ff;stroke:#0000ff;\" x=\"280.48876\" xlink:href=\"#m749777004a\" y=\"203.518125\"/>\n     <use style=\"fill:#0000ff;stroke:#0000ff;\" x=\"280.515207\" xlink:href=\"#m749777004a\" y=\"203.518125\"/>\n     <use style=\"fill:#0000ff;stroke:#0000ff;\" x=\"281.499827\" xlink:href=\"#m749777004a\" y=\"58.558125\"/>\n     <use style=\"fill:#0000ff;stroke:#0000ff;\" x=\"282.022652\" xlink:href=\"#m749777004a\" y=\"203.518125\"/>\n     <use style=\"fill:#0000ff;stroke:#0000ff;\" x=\"283.591128\" xlink:href=\"#m749777004a\" y=\"131.038125\"/>\n     <use style=\"fill:#0000ff;stroke:#0000ff;\" x=\"285.251149\" xlink:href=\"#m749777004a\" y=\"167.278125\"/>\n     <use style=\"fill:#0000ff;stroke:#0000ff;\" x=\"286.02013\" xlink:href=\"#m749777004a\" y=\"131.038125\"/>\n     <use style=\"fill:#0000ff;stroke:#0000ff;\" x=\"286.323246\" xlink:href=\"#m749777004a\" y=\"203.518125\"/>\n     <use style=\"fill:#0000ff;stroke:#0000ff;\" x=\"286.64874\" xlink:href=\"#m749777004a\" y=\"203.518125\"/>\n     <use style=\"fill:#0000ff;stroke:#0000ff;\" x=\"286.966097\" xlink:href=\"#m749777004a\" y=\"203.518125\"/>\n     <use style=\"fill:#0000ff;stroke:#0000ff;\" x=\"287.462476\" xlink:href=\"#m749777004a\" y=\"203.518125\"/>\n     <use style=\"fill:#0000ff;stroke:#0000ff;\" x=\"287.582502\" xlink:href=\"#m749777004a\" y=\"131.038125\"/>\n     <use style=\"fill:#0000ff;stroke:#0000ff;\" x=\"288.632221\" xlink:href=\"#m749777004a\" y=\"131.038125\"/>\n     <use style=\"fill:#0000ff;stroke:#0000ff;\" x=\"289.030952\" xlink:href=\"#m749777004a\" y=\"58.558125\"/>\n     <use style=\"fill:#0000ff;stroke:#0000ff;\" x=\"289.096051\" xlink:href=\"#m749777004a\" y=\"58.558125\"/>\n     <use style=\"fill:#0000ff;stroke:#0000ff;\" x=\"289.214043\" xlink:href=\"#m749777004a\" y=\"58.558125\"/>\n     <use style=\"fill:#0000ff;stroke:#0000ff;\" x=\"289.228283\" xlink:href=\"#m749777004a\" y=\"58.558125\"/>\n     <use style=\"fill:#0000ff;stroke:#0000ff;\" x=\"289.429683\" xlink:href=\"#m749777004a\" y=\"58.558125\"/>\n     <use style=\"fill:#0000ff;stroke:#0000ff;\" x=\"289.48461\" xlink:href=\"#m749777004a\" y=\"58.558125\"/>\n     <use style=\"fill:#0000ff;stroke:#0000ff;\" x=\"289.574121\" xlink:href=\"#m749777004a\" y=\"58.558125\"/>\n     <use style=\"fill:#0000ff;stroke:#0000ff;\" x=\"290.890338\" xlink:href=\"#m749777004a\" y=\"58.558125\"/>\n     <use style=\"fill:#0000ff;stroke:#0000ff;\" x=\"291.17718\" xlink:href=\"#m749777004a\" y=\"203.518125\"/>\n     <use style=\"fill:#0000ff;stroke:#0000ff;\" x=\"291.236176\" xlink:href=\"#m749777004a\" y=\"131.038125\"/>\n     <use style=\"fill:#0000ff;stroke:#0000ff;\" x=\"291.409095\" xlink:href=\"#m749777004a\" y=\"131.038125\"/>\n     <use style=\"fill:#0000ff;stroke:#0000ff;\" x=\"291.60846\" xlink:href=\"#m749777004a\" y=\"203.518125\"/>\n     <use style=\"fill:#0000ff;stroke:#0000ff;\" x=\"292.375406\" xlink:href=\"#m749777004a\" y=\"203.518125\"/>\n     <use style=\"fill:#0000ff;stroke:#0000ff;\" x=\"292.745656\" xlink:href=\"#m749777004a\" y=\"203.518125\"/>\n     <use style=\"fill:#0000ff;stroke:#0000ff;\" x=\"293.205417\" xlink:href=\"#m749777004a\" y=\"94.798125\"/>\n     <use style=\"fill:#0000ff;stroke:#0000ff;\" x=\"293.795375\" xlink:href=\"#m749777004a\" y=\"58.558125\"/>\n     <use style=\"fill:#0000ff;stroke:#0000ff;\" x=\"293.962191\" xlink:href=\"#m749777004a\" y=\"203.518125\"/>\n     <use style=\"fill:#0000ff;stroke:#0000ff;\" x=\"294.328372\" xlink:href=\"#m749777004a\" y=\"131.038125\"/>\n     <use style=\"fill:#0000ff;stroke:#0000ff;\" x=\"295.599834\" xlink:href=\"#m749777004a\" y=\"58.558125\"/>\n     <use style=\"fill:#0000ff;stroke:#0000ff;\" x=\"299.04804\" xlink:href=\"#m749777004a\" y=\"94.798125\"/>\n     <use style=\"fill:#0000ff;stroke:#0000ff;\" x=\"300.221854\" xlink:href=\"#m749777004a\" y=\"94.798125\"/>\n     <use style=\"fill:#0000ff;stroke:#0000ff;\" x=\"300.246266\" xlink:href=\"#m749777004a\" y=\"94.798125\"/>\n     <use style=\"fill:#0000ff;stroke:#0000ff;\" x=\"300.327639\" xlink:href=\"#m749777004a\" y=\"94.798125\"/>\n     <use style=\"fill:#0000ff;stroke:#0000ff;\" x=\"300.431391\" xlink:href=\"#m749777004a\" y=\"94.798125\"/>\n     <use style=\"fill:#0000ff;stroke:#0000ff;\" x=\"300.547348\" xlink:href=\"#m749777004a\" y=\"94.798125\"/>\n     <use style=\"fill:#0000ff;stroke:#0000ff;\" x=\"301.167821\" xlink:href=\"#m749777004a\" y=\"203.518125\"/>\n     <use style=\"fill:#0000ff;stroke:#0000ff;\" x=\"301.188165\" xlink:href=\"#m749777004a\" y=\"94.798125\"/>\n     <use style=\"fill:#0000ff;stroke:#0000ff;\" x=\"301.957145\" xlink:href=\"#m749777004a\" y=\"94.798125\"/>\n     <use style=\"fill:#0000ff;stroke:#0000ff;\" x=\"301.981557\" xlink:href=\"#m749777004a\" y=\"58.558125\"/>\n     <use style=\"fill:#0000ff;stroke:#0000ff;\" x=\"303.063826\" xlink:href=\"#m749777004a\" y=\"94.798125\"/>\n     <use style=\"fill:#0000ff;stroke:#0000ff;\" x=\"303.777879\" xlink:href=\"#m749777004a\" y=\"94.798125\"/>\n     <use style=\"fill:#0000ff;stroke:#0000ff;\" x=\"303.871459\" xlink:href=\"#m749777004a\" y=\"131.038125\"/>\n     <use style=\"fill:#0000ff;stroke:#0000ff;\" x=\"304.026068\" xlink:href=\"#m749777004a\" y=\"94.798125\"/>\n     <use style=\"fill:#0000ff;stroke:#0000ff;\" x=\"304.119648\" xlink:href=\"#m749777004a\" y=\"94.798125\"/>\n     <use style=\"fill:#0000ff;stroke:#0000ff;\" x=\"304.184747\" xlink:href=\"#m749777004a\" y=\"94.798125\"/>\n     <use style=\"fill:#0000ff;stroke:#0000ff;\" x=\"304.266121\" xlink:href=\"#m749777004a\" y=\"131.038125\"/>\n     <use style=\"fill:#0000ff;stroke:#0000ff;\" x=\"304.292567\" xlink:href=\"#m749777004a\" y=\"94.798125\"/>\n     <use style=\"fill:#0000ff;stroke:#0000ff;\" x=\"304.441074\" xlink:href=\"#m749777004a\" y=\"94.798125\"/>\n     <use style=\"fill:#0000ff;stroke:#0000ff;\" x=\"304.489898\" xlink:href=\"#m749777004a\" y=\"94.798125\"/>\n     <use style=\"fill:#0000ff;stroke:#0000ff;\" x=\"304.978139\" xlink:href=\"#m749777004a\" y=\"203.518125\"/>\n     <use style=\"fill:#0000ff;stroke:#0000ff;\" x=\"305.065616\" xlink:href=\"#m749777004a\" y=\"131.038125\"/>\n     <use style=\"fill:#0000ff;stroke:#0000ff;\" x=\"305.17547\" xlink:href=\"#m749777004a\" y=\"203.518125\"/>\n     <use style=\"fill:#0000ff;stroke:#0000ff;\" x=\"305.277187\" xlink:href=\"#m749777004a\" y=\"131.038125\"/>\n     <use style=\"fill:#0000ff;stroke:#0000ff;\" x=\"305.710502\" xlink:href=\"#m749777004a\" y=\"203.518125\"/>\n     <use style=\"fill:#0000ff;stroke:#0000ff;\" x=\"305.759326\" xlink:href=\"#m749777004a\" y=\"203.518125\"/>\n     <use style=\"fill:#0000ff;stroke:#0000ff;\" x=\"305.999378\" xlink:href=\"#m749777004a\" y=\"131.038125\"/>\n     <use style=\"fill:#0000ff;stroke:#0000ff;\" x=\"306.015653\" xlink:href=\"#m749777004a\" y=\"131.038125\"/>\n     <use style=\"fill:#0000ff;stroke:#0000ff;\" x=\"306.040065\" xlink:href=\"#m749777004a\" y=\"203.518125\"/>\n     <use style=\"fill:#0000ff;stroke:#0000ff;\" x=\"306.367593\" xlink:href=\"#m749777004a\" y=\"94.798125\"/>\n     <use style=\"fill:#0000ff;stroke:#0000ff;\" x=\"306.385902\" xlink:href=\"#m749777004a\" y=\"203.518125\"/>\n     <use style=\"fill:#0000ff;stroke:#0000ff;\" x=\"306.398108\" xlink:href=\"#m749777004a\" y=\"203.518125\"/>\n     <use style=\"fill:#0000ff;stroke:#0000ff;\" x=\"306.617817\" xlink:href=\"#m749777004a\" y=\"94.798125\"/>\n     <use style=\"fill:#0000ff;stroke:#0000ff;\" x=\"306.750049\" xlink:href=\"#m749777004a\" y=\"203.518125\"/>\n     <use style=\"fill:#0000ff;stroke:#0000ff;\" x=\"307.230153\" xlink:href=\"#m749777004a\" y=\"94.798125\"/>\n     <use style=\"fill:#0000ff;stroke:#0000ff;\" x=\"307.409175\" xlink:href=\"#m749777004a\" y=\"58.558125\"/>\n     <use style=\"fill:#0000ff;stroke:#0000ff;\" x=\"307.622781\" xlink:href=\"#m749777004a\" y=\"131.038125\"/>\n     <use style=\"fill:#0000ff;stroke:#0000ff;\" x=\"307.789597\" xlink:href=\"#m749777004a\" y=\"58.558125\"/>\n     <use style=\"fill:#0000ff;stroke:#0000ff;\" x=\"307.885211\" xlink:href=\"#m749777004a\" y=\"167.278125\"/>\n     <use style=\"fill:#0000ff;stroke:#0000ff;\" x=\"308.515856\" xlink:href=\"#m749777004a\" y=\"131.038125\"/>\n     <use style=\"fill:#0000ff;stroke:#0000ff;\" x=\"308.82711\" xlink:href=\"#m749777004a\" y=\"131.038125\"/>\n     <use style=\"fill:#0000ff;stroke:#0000ff;\" x=\"309.203463\" xlink:href=\"#m749777004a\" y=\"131.038125\"/>\n     <use style=\"fill:#0000ff;stroke:#0000ff;\" x=\"309.343832\" xlink:href=\"#m749777004a\" y=\"94.798125\"/>\n     <use style=\"fill:#0000ff;stroke:#0000ff;\" x=\"309.561506\" xlink:href=\"#m749777004a\" y=\"131.038125\"/>\n     <use style=\"fill:#0000ff;stroke:#0000ff;\" x=\"309.880898\" xlink:href=\"#m749777004a\" y=\"94.798125\"/>\n     <use style=\"fill:#0000ff;stroke:#0000ff;\" x=\"310.234873\" xlink:href=\"#m749777004a\" y=\"131.038125\"/>\n     <use style=\"fill:#0000ff;stroke:#0000ff;\" x=\"310.590882\" xlink:href=\"#m749777004a\" y=\"131.038125\"/>\n     <use style=\"fill:#0000ff;stroke:#0000ff;\" x=\"311.601949\" xlink:href=\"#m749777004a\" y=\"131.038125\"/>\n     <use style=\"fill:#0000ff;stroke:#0000ff;\" x=\"312.18377\" xlink:href=\"#m749777004a\" y=\"131.038125\"/>\n     <use style=\"fill:#0000ff;stroke:#0000ff;\" x=\"312.313968\" xlink:href=\"#m749777004a\" y=\"131.038125\"/>\n     <use style=\"fill:#0000ff;stroke:#0000ff;\" x=\"312.490955\" xlink:href=\"#m749777004a\" y=\"131.038125\"/>\n     <use style=\"fill:#0000ff;stroke:#0000ff;\" x=\"312.499093\" xlink:href=\"#m749777004a\" y=\"131.038125\"/>\n     <use style=\"fill:#0000ff;stroke:#0000ff;\" x=\"312.509264\" xlink:href=\"#m749777004a\" y=\"131.038125\"/>\n     <use style=\"fill:#0000ff;stroke:#0000ff;\" x=\"312.596741\" xlink:href=\"#m749777004a\" y=\"94.798125\"/>\n     <use style=\"fill:#0000ff;stroke:#0000ff;\" x=\"312.684217\" xlink:href=\"#m749777004a\" y=\"94.798125\"/>\n     <use style=\"fill:#0000ff;stroke:#0000ff;\" x=\"312.814415\" xlink:href=\"#m749777004a\" y=\"131.038125\"/>\n     <use style=\"fill:#0000ff;stroke:#0000ff;\" x=\"313.089051\" xlink:href=\"#m749777004a\" y=\"58.558125\"/>\n     <use style=\"fill:#0000ff;stroke:#0000ff;\" x=\"313.302657\" xlink:href=\"#m749777004a\" y=\"58.558125\"/>\n     <use style=\"fill:#0000ff;stroke:#0000ff;\" x=\"314.002469\" xlink:href=\"#m749777004a\" y=\"131.038125\"/>\n     <use style=\"fill:#0000ff;stroke:#0000ff;\" x=\"314.740935\" xlink:href=\"#m749777004a\" y=\"203.518125\"/>\n     <use style=\"fill:#0000ff;stroke:#0000ff;\" x=\"316.07953\" xlink:href=\"#m749777004a\" y=\"131.038125\"/>\n     <use style=\"fill:#0000ff;stroke:#0000ff;\" x=\"316.685763\" xlink:href=\"#m749777004a\" y=\"131.038125\"/>\n     <use style=\"fill:#0000ff;stroke:#0000ff;\" x=\"316.761034\" xlink:href=\"#m749777004a\" y=\"58.558125\"/>\n     <use style=\"fill:#0000ff;stroke:#0000ff;\" x=\"316.911575\" xlink:href=\"#m749777004a\" y=\"131.038125\"/>\n     <use style=\"fill:#0000ff;stroke:#0000ff;\" x=\"317.00312\" xlink:href=\"#m749777004a\" y=\"131.038125\"/>\n     <use style=\"fill:#0000ff;stroke:#0000ff;\" x=\"317.426263\" xlink:href=\"#m749777004a\" y=\"131.038125\"/>\n     <use style=\"fill:#0000ff;stroke:#0000ff;\" x=\"317.432366\" xlink:href=\"#m749777004a\" y=\"131.038125\"/>\n     <use style=\"fill:#0000ff;stroke:#0000ff;\" x=\"317.772101\" xlink:href=\"#m749777004a\" y=\"131.038125\"/>\n     <use style=\"fill:#0000ff;stroke:#0000ff;\" x=\"318.018256\" xlink:href=\"#m749777004a\" y=\"131.038125\"/>\n     <use style=\"fill:#0000ff;stroke:#0000ff;\" x=\"318.286788\" xlink:href=\"#m749777004a\" y=\"203.518125\"/>\n     <use style=\"fill:#0000ff;stroke:#0000ff;\" x=\"318.323407\" xlink:href=\"#m749777004a\" y=\"203.518125\"/>\n     <use style=\"fill:#0000ff;stroke:#0000ff;\" x=\"318.935743\" xlink:href=\"#m749777004a\" y=\"203.518125\"/>\n     <use style=\"fill:#0000ff;stroke:#0000ff;\" x=\"319.177829\" xlink:href=\"#m749777004a\" y=\"203.518125\"/>\n     <use style=\"fill:#0000ff;stroke:#0000ff;\" x=\"319.464671\" xlink:href=\"#m749777004a\" y=\"131.038125\"/>\n     <use style=\"fill:#0000ff;stroke:#0000ff;\" x=\"319.46874\" xlink:href=\"#m749777004a\" y=\"131.038125\"/>\n     <use style=\"fill:#0000ff;stroke:#0000ff;\" x=\"319.910191\" xlink:href=\"#m749777004a\" y=\"131.038125\"/>\n     <use style=\"fill:#0000ff;stroke:#0000ff;\" x=\"320.304853\" xlink:href=\"#m749777004a\" y=\"131.038125\"/>\n     <use style=\"fill:#0000ff;stroke:#0000ff;\" x=\"320.579489\" xlink:href=\"#m749777004a\" y=\"131.038125\"/>\n     <use style=\"fill:#0000ff;stroke:#0000ff;\" x=\"321.299645\" xlink:href=\"#m749777004a\" y=\"131.038125\"/>\n     <use style=\"fill:#0000ff;stroke:#0000ff;\" x=\"321.350504\" xlink:href=\"#m749777004a\" y=\"203.518125\"/>\n     <use style=\"fill:#0000ff;stroke:#0000ff;\" x=\"321.494942\" xlink:href=\"#m749777004a\" y=\"203.518125\"/>\n     <use style=\"fill:#0000ff;stroke:#0000ff;\" x=\"321.535629\" xlink:href=\"#m749777004a\" y=\"203.518125\"/>\n     <use style=\"fill:#0000ff;stroke:#0000ff;\" x=\"321.582418\" xlink:href=\"#m749777004a\" y=\"131.038125\"/>\n     <use style=\"fill:#0000ff;stroke:#0000ff;\" x=\"321.863157\" xlink:href=\"#m749777004a\" y=\"131.038125\"/>\n     <use style=\"fill:#0000ff;stroke:#0000ff;\" x=\"321.944531\" xlink:href=\"#m749777004a\" y=\"131.038125\"/>\n     <use style=\"fill:#0000ff;stroke:#0000ff;\" x=\"322.046248\" xlink:href=\"#m749777004a\" y=\"131.038125\"/>\n     <use style=\"fill:#0000ff;stroke:#0000ff;\" x=\"322.343261\" xlink:href=\"#m749777004a\" y=\"131.038125\"/>\n     <use style=\"fill:#0000ff;stroke:#0000ff;\" x=\"322.508043\" xlink:href=\"#m749777004a\" y=\"58.558125\"/>\n     <use style=\"fill:#0000ff;stroke:#0000ff;\" x=\"322.538558\" xlink:href=\"#m749777004a\" y=\"131.038125\"/>\n     <use style=\"fill:#0000ff;stroke:#0000ff;\" x=\"323.352294\" xlink:href=\"#m749777004a\" y=\"131.038125\"/>\n     <use style=\"fill:#0000ff;stroke:#0000ff;\" x=\"324.774297\" xlink:href=\"#m749777004a\" y=\"58.558125\"/>\n     <use style=\"fill:#0000ff;stroke:#0000ff;\" x=\"325.16489\" xlink:href=\"#m749777004a\" y=\"131.038125\"/>\n     <use style=\"fill:#0000ff;stroke:#0000ff;\" x=\"325.376462\" xlink:href=\"#m749777004a\" y=\"58.558125\"/>\n     <use style=\"fill:#0000ff;stroke:#0000ff;\" x=\"325.392736\" xlink:href=\"#m749777004a\" y=\"203.518125\"/>\n     <use style=\"fill:#0000ff;stroke:#0000ff;\" x=\"325.421217\" xlink:href=\"#m749777004a\" y=\"131.038125\"/>\n     <use style=\"fill:#0000ff;stroke:#0000ff;\" x=\"325.439526\" xlink:href=\"#m749777004a\" y=\"58.558125\"/>\n     <use style=\"fill:#0000ff;stroke:#0000ff;\" x=\"325.443595\" xlink:href=\"#m749777004a\" y=\"203.518125\"/>\n     <use style=\"fill:#0000ff;stroke:#0000ff;\" x=\"325.447663\" xlink:href=\"#m749777004a\" y=\"58.558125\"/>\n     <use style=\"fill:#0000ff;stroke:#0000ff;\" x=\"325.710093\" xlink:href=\"#m749777004a\" y=\"58.558125\"/>\n     <use style=\"fill:#0000ff;stroke:#0000ff;\" x=\"326.633683\" xlink:href=\"#m749777004a\" y=\"203.518125\"/>\n     <use style=\"fill:#0000ff;stroke:#0000ff;\" x=\"326.713023\" xlink:href=\"#m749777004a\" y=\"203.518125\"/>\n     <use style=\"fill:#0000ff;stroke:#0000ff;\" x=\"328.037378\" xlink:href=\"#m749777004a\" y=\"131.038125\"/>\n     <use style=\"fill:#0000ff;stroke:#0000ff;\" x=\"328.287601\" xlink:href=\"#m749777004a\" y=\"94.798125\"/>\n     <use style=\"fill:#0000ff;stroke:#0000ff;\" x=\"328.299807\" xlink:href=\"#m749777004a\" y=\"131.038125\"/>\n     <use style=\"fill:#0000ff;stroke:#0000ff;\" x=\"328.674126\" xlink:href=\"#m749777004a\" y=\"203.518125\"/>\n     <use style=\"fill:#0000ff;stroke:#0000ff;\" x=\"329.142024\" xlink:href=\"#m749777004a\" y=\"58.558125\"/>\n     <use style=\"fill:#0000ff;stroke:#0000ff;\" x=\"329.512274\" xlink:href=\"#m749777004a\" y=\"203.518125\"/>\n     <use style=\"fill:#0000ff;stroke:#0000ff;\" x=\"329.711639\" xlink:href=\"#m749777004a\" y=\"203.518125\"/>\n     <use style=\"fill:#0000ff;stroke:#0000ff;\" x=\"329.994412\" xlink:href=\"#m749777004a\" y=\"131.038125\"/>\n     <use style=\"fill:#0000ff;stroke:#0000ff;\" x=\"330.065614\" xlink:href=\"#m749777004a\" y=\"203.518125\"/>\n     <use style=\"fill:#0000ff;stroke:#0000ff;\" x=\"330.712534\" xlink:href=\"#m749777004a\" y=\"203.518125\"/>\n     <use style=\"fill:#0000ff;stroke:#0000ff;\" x=\"331.813112\" xlink:href=\"#m749777004a\" y=\"131.038125\"/>\n     <use style=\"fill:#0000ff;stroke:#0000ff;\" x=\"332.997097\" xlink:href=\"#m749777004a\" y=\"203.518125\"/>\n     <use style=\"fill:#0000ff;stroke:#0000ff;\" x=\"333.011338\" xlink:href=\"#m749777004a\" y=\"203.518125\"/>\n     <use style=\"fill:#0000ff;stroke:#0000ff;\" x=\"334.069194\" xlink:href=\"#m749777004a\" y=\"58.558125\"/>\n     <use style=\"fill:#0000ff;stroke:#0000ff;\" x=\"334.107847\" xlink:href=\"#m749777004a\" y=\"203.518125\"/>\n     <use style=\"fill:#0000ff;stroke:#0000ff;\" x=\"334.368242\" xlink:href=\"#m749777004a\" y=\"203.518125\"/>\n     <use style=\"fill:#0000ff;stroke:#0000ff;\" x=\"334.508612\" xlink:href=\"#m749777004a\" y=\"203.518125\"/>\n     <use style=\"fill:#0000ff;stroke:#0000ff;\" x=\"334.665256\" xlink:href=\"#m749777004a\" y=\"203.518125\"/>\n     <use style=\"fill:#0000ff;stroke:#0000ff;\" x=\"334.689668\" xlink:href=\"#m749777004a\" y=\"203.518125\"/>\n     <use style=\"fill:#0000ff;stroke:#0000ff;\" x=\"334.722217\" xlink:href=\"#m749777004a\" y=\"203.518125\"/>\n     <use style=\"fill:#0000ff;stroke:#0000ff;\" x=\"334.730355\" xlink:href=\"#m749777004a\" y=\"131.038125\"/>\n     <use style=\"fill:#0000ff;stroke:#0000ff;\" x=\"334.742561\" xlink:href=\"#m749777004a\" y=\"131.038125\"/>\n     <use style=\"fill:#0000ff;stroke:#0000ff;\" x=\"334.764938\" xlink:href=\"#m749777004a\" y=\"203.518125\"/>\n     <use style=\"fill:#0000ff;stroke:#0000ff;\" x=\"334.950063\" xlink:href=\"#m749777004a\" y=\"131.038125\"/>\n     <use style=\"fill:#0000ff;stroke:#0000ff;\" x=\"334.99075\" xlink:href=\"#m749777004a\" y=\"203.518125\"/>\n     <use style=\"fill:#0000ff;stroke:#0000ff;\" x=\"335.133154\" xlink:href=\"#m749777004a\" y=\"203.518125\"/>\n     <use style=\"fill:#0000ff;stroke:#0000ff;\" x=\"335.649876\" xlink:href=\"#m749777004a\" y=\"203.518125\"/>\n     <use style=\"fill:#0000ff;stroke:#0000ff;\" x=\"336.473784\" xlink:href=\"#m749777004a\" y=\"203.518125\"/>\n     <use style=\"fill:#0000ff;stroke:#0000ff;\" x=\"336.87048\" xlink:href=\"#m749777004a\" y=\"203.518125\"/>\n     <use style=\"fill:#0000ff;stroke:#0000ff;\" x=\"336.939647\" xlink:href=\"#m749777004a\" y=\"203.518125\"/>\n     <use style=\"fill:#0000ff;stroke:#0000ff;\" x=\"337.128841\" xlink:href=\"#m749777004a\" y=\"203.518125\"/>\n     <use style=\"fill:#0000ff;stroke:#0000ff;\" x=\"337.191905\" xlink:href=\"#m749777004a\" y=\"203.518125\"/>\n     <use style=\"fill:#0000ff;stroke:#0000ff;\" x=\"337.250901\" xlink:href=\"#m749777004a\" y=\"203.518125\"/>\n     <use style=\"fill:#0000ff;stroke:#0000ff;\" x=\"337.316\" xlink:href=\"#m749777004a\" y=\"203.518125\"/>\n     <use style=\"fill:#0000ff;stroke:#0000ff;\" x=\"337.405511\" xlink:href=\"#m749777004a\" y=\"131.038125\"/>\n     <use style=\"fill:#0000ff;stroke:#0000ff;\" x=\"337.828654\" xlink:href=\"#m749777004a\" y=\"203.518125\"/>\n     <use style=\"fill:#0000ff;stroke:#0000ff;\" x=\"337.930371\" xlink:href=\"#m749777004a\" y=\"203.518125\"/>\n     <use style=\"fill:#0000ff;stroke:#0000ff;\" x=\"337.999538\" xlink:href=\"#m749777004a\" y=\"203.518125\"/>\n     <use style=\"fill:#0000ff;stroke:#0000ff;\" x=\"338.021916\" xlink:href=\"#m749777004a\" y=\"203.518125\"/>\n     <use style=\"fill:#0000ff;stroke:#0000ff;\" x=\"338.601703\" xlink:href=\"#m749777004a\" y=\"131.038125\"/>\n     <use style=\"fill:#0000ff;stroke:#0000ff;\" x=\"338.784793\" xlink:href=\"#m749777004a\" y=\"167.278125\"/>\n     <use style=\"fill:#0000ff;stroke:#0000ff;\" x=\"339.037051\" xlink:href=\"#m749777004a\" y=\"203.518125\"/>\n     <use style=\"fill:#0000ff;stroke:#0000ff;\" x=\"339.582254\" xlink:href=\"#m749777004a\" y=\"131.038125\"/>\n     <use style=\"fill:#0000ff;stroke:#0000ff;\" x=\"339.816203\" xlink:href=\"#m749777004a\" y=\"131.038125\"/>\n     <use style=\"fill:#0000ff;stroke:#0000ff;\" x=\"339.858925\" xlink:href=\"#m749777004a\" y=\"203.518125\"/>\n     <use style=\"fill:#0000ff;stroke:#0000ff;\" x=\"340.129492\" xlink:href=\"#m749777004a\" y=\"131.038125\"/>\n     <use style=\"fill:#0000ff;stroke:#0000ff;\" x=\"341.022567\" xlink:href=\"#m749777004a\" y=\"58.558125\"/>\n     <use style=\"fill:#0000ff;stroke:#0000ff;\" x=\"341.234138\" xlink:href=\"#m749777004a\" y=\"58.558125\"/>\n     <use style=\"fill:#0000ff;stroke:#0000ff;\" x=\"342.047874\" xlink:href=\"#m749777004a\" y=\"131.038125\"/>\n     <use style=\"fill:#0000ff;stroke:#0000ff;\" x=\"342.586974\" xlink:href=\"#m749777004a\" y=\"203.518125\"/>\n     <use style=\"fill:#0000ff;stroke:#0000ff;\" x=\"342.739549\" xlink:href=\"#m749777004a\" y=\"203.518125\"/>\n     <use style=\"fill:#0000ff;stroke:#0000ff;\" x=\"343.347817\" xlink:href=\"#m749777004a\" y=\"131.038125\"/>\n     <use style=\"fill:#0000ff;stroke:#0000ff;\" x=\"344.063904\" xlink:href=\"#m749777004a\" y=\"58.558125\"/>\n     <use style=\"fill:#0000ff;stroke:#0000ff;\" x=\"344.700653\" xlink:href=\"#m749777004a\" y=\"203.518125\"/>\n     <use style=\"fill:#0000ff;stroke:#0000ff;\" x=\"344.904087\" xlink:href=\"#m749777004a\" y=\"131.038125\"/>\n     <use style=\"fill:#0000ff;stroke:#0000ff;\" x=\"344.930533\" xlink:href=\"#m749777004a\" y=\"131.038125\"/>\n     <use style=\"fill:#0000ff;stroke:#0000ff;\" x=\"344.950876\" xlink:href=\"#m749777004a\" y=\"131.038125\"/>\n     <use style=\"fill:#0000ff;stroke:#0000ff;\" x=\"345.070902\" xlink:href=\"#m749777004a\" y=\"131.038125\"/>\n     <use style=\"fill:#0000ff;stroke:#0000ff;\" x=\"345.795127\" xlink:href=\"#m749777004a\" y=\"203.518125\"/>\n     <use style=\"fill:#0000ff;stroke:#0000ff;\" x=\"345.902947\" xlink:href=\"#m749777004a\" y=\"203.518125\"/>\n     <use style=\"fill:#0000ff;stroke:#0000ff;\" x=\"346.037214\" xlink:href=\"#m749777004a\" y=\"131.038125\"/>\n     <use style=\"fill:#0000ff;stroke:#0000ff;\" x=\"346.342365\" xlink:href=\"#m749777004a\" y=\"203.518125\"/>\n     <use style=\"fill:#0000ff;stroke:#0000ff;\" x=\"346.716683\" xlink:href=\"#m749777004a\" y=\"58.558125\"/>\n     <use style=\"fill:#0000ff;stroke:#0000ff;\" x=\"347.72775\" xlink:href=\"#m749777004a\" y=\"131.038125\"/>\n     <use style=\"fill:#0000ff;stroke:#0000ff;\" x=\"347.923046\" xlink:href=\"#m749777004a\" y=\"131.038125\"/>\n     <use style=\"fill:#0000ff;stroke:#0000ff;\" x=\"347.953561\" xlink:href=\"#m749777004a\" y=\"58.558125\"/>\n     <use style=\"fill:#0000ff;stroke:#0000ff;\" x=\"348.213957\" xlink:href=\"#m749777004a\" y=\"131.038125\"/>\n     <use style=\"fill:#0000ff;stroke:#0000ff;\" x=\"348.222094\" xlink:href=\"#m749777004a\" y=\"58.558125\"/>\n     <use style=\"fill:#0000ff;stroke:#0000ff;\" x=\"348.31364\" xlink:href=\"#m749777004a\" y=\"131.038125\"/>\n     <use style=\"fill:#0000ff;stroke:#0000ff;\" x=\"348.325846\" xlink:href=\"#m749777004a\" y=\"203.518125\"/>\n     <use style=\"fill:#0000ff;stroke:#0000ff;\" x=\"349.534243\" xlink:href=\"#m749777004a\" y=\"131.038125\"/>\n     <use style=\"fill:#0000ff;stroke:#0000ff;\" x=\"349.57493\" xlink:href=\"#m749777004a\" y=\"203.518125\"/>\n     <use style=\"fill:#0000ff;stroke:#0000ff;\" x=\"349.581033\" xlink:href=\"#m749777004a\" y=\"203.518125\"/>\n     <use style=\"fill:#0000ff;stroke:#0000ff;\" x=\"349.672578\" xlink:href=\"#m749777004a\" y=\"58.558125\"/>\n     <use style=\"fill:#0000ff;stroke:#0000ff;\" x=\"350.02045\" xlink:href=\"#m749777004a\" y=\"58.558125\"/>\n     <use style=\"fill:#0000ff;stroke:#0000ff;\" x=\"350.508692\" xlink:href=\"#m749777004a\" y=\"203.518125\"/>\n     <use style=\"fill:#0000ff;stroke:#0000ff;\" x=\"350.53107\" xlink:href=\"#m749777004a\" y=\"58.558125\"/>\n     <use style=\"fill:#0000ff;stroke:#0000ff;\" x=\"350.842324\" xlink:href=\"#m749777004a\" y=\"131.038125\"/>\n     <use style=\"fill:#0000ff;stroke:#0000ff;\" x=\"350.889113\" xlink:href=\"#m749777004a\" y=\"131.038125\"/>\n     <use style=\"fill:#0000ff;stroke:#0000ff;\" x=\"351.011174\" xlink:href=\"#m749777004a\" y=\"203.518125\"/>\n     <use style=\"fill:#0000ff;stroke:#0000ff;\" x=\"351.611304\" xlink:href=\"#m749777004a\" y=\"131.038125\"/>\n     <use style=\"fill:#0000ff;stroke:#0000ff;\" x=\"351.721158\" xlink:href=\"#m749777004a\" y=\"203.518125\"/>\n     <use style=\"fill:#0000ff;stroke:#0000ff;\" x=\"351.727261\" xlink:href=\"#m749777004a\" y=\"131.038125\"/>\n     <use style=\"fill:#0000ff;stroke:#0000ff;\" x=\"351.741502\" xlink:href=\"#m749777004a\" y=\"131.038125\"/>\n     <use style=\"fill:#0000ff;stroke:#0000ff;\" x=\"351.835081\" xlink:href=\"#m749777004a\" y=\"131.038125\"/>\n     <use style=\"fill:#0000ff;stroke:#0000ff;\" x=\"352.142266\" xlink:href=\"#m749777004a\" y=\"94.798125\"/>\n     <use style=\"fill:#0000ff;stroke:#0000ff;\" x=\"352.201262\" xlink:href=\"#m749777004a\" y=\"94.798125\"/>\n     <use style=\"fill:#0000ff;stroke:#0000ff;\" x=\"352.575581\" xlink:href=\"#m749777004a\" y=\"131.038125\"/>\n     <use style=\"fill:#0000ff;stroke:#0000ff;\" x=\"352.64068\" xlink:href=\"#m749777004a\" y=\"203.518125\"/>\n     <use style=\"fill:#0000ff;stroke:#0000ff;\" x=\"352.699675\" xlink:href=\"#m749777004a\" y=\"58.558125\"/>\n     <use style=\"fill:#0000ff;stroke:#0000ff;\" x=\"352.795289\" xlink:href=\"#m749777004a\" y=\"203.518125\"/>\n     <use style=\"fill:#0000ff;stroke:#0000ff;\" x=\"353.010929\" xlink:href=\"#m749777004a\" y=\"94.798125\"/>\n     <use style=\"fill:#0000ff;stroke:#0000ff;\" x=\"353.454415\" xlink:href=\"#m749777004a\" y=\"131.038125\"/>\n     <use style=\"fill:#0000ff;stroke:#0000ff;\" x=\"353.566304\" xlink:href=\"#m749777004a\" y=\"131.038125\"/>\n     <use style=\"fill:#0000ff;stroke:#0000ff;\" x=\"353.729051\" xlink:href=\"#m749777004a\" y=\"94.798125\"/>\n     <use style=\"fill:#0000ff;stroke:#0000ff;\" x=\"353.739223\" xlink:href=\"#m749777004a\" y=\"131.038125\"/>\n     <use style=\"fill:#0000ff;stroke:#0000ff;\" x=\"354.162366\" xlink:href=\"#m749777004a\" y=\"203.518125\"/>\n     <use style=\"fill:#0000ff;stroke:#0000ff;\" x=\"354.780805\" xlink:href=\"#m749777004a\" y=\"203.518125\"/>\n     <use style=\"fill:#0000ff;stroke:#0000ff;\" x=\"355.873245\" xlink:href=\"#m749777004a\" y=\"203.518125\"/>\n     <use style=\"fill:#0000ff;stroke:#0000ff;\" x=\"356.912793\" xlink:href=\"#m749777004a\" y=\"203.518125\"/>\n     <use style=\"fill:#0000ff;stroke:#0000ff;\" x=\"356.92093\" xlink:href=\"#m749777004a\" y=\"203.518125\"/>\n     <use style=\"fill:#0000ff;stroke:#0000ff;\" x=\"357.158948\" xlink:href=\"#m749777004a\" y=\"58.558125\"/>\n     <use style=\"fill:#0000ff;stroke:#0000ff;\" x=\"357.185394\" xlink:href=\"#m749777004a\" y=\"94.798125\"/>\n     <use style=\"fill:#0000ff;stroke:#0000ff;\" x=\"357.419343\" xlink:href=\"#m749777004a\" y=\"94.798125\"/>\n     <use style=\"fill:#0000ff;stroke:#0000ff;\" x=\"357.433584\" xlink:href=\"#m749777004a\" y=\"94.798125\"/>\n     <use style=\"fill:#0000ff;stroke:#0000ff;\" x=\"357.447824\" xlink:href=\"#m749777004a\" y=\"131.038125\"/>\n     <use style=\"fill:#0000ff;stroke:#0000ff;\" x=\"358.159843\" xlink:href=\"#m749777004a\" y=\"203.518125\"/>\n     <use style=\"fill:#0000ff;stroke:#0000ff;\" x=\"358.16798\" xlink:href=\"#m749777004a\" y=\"58.558125\"/>\n     <use style=\"fill:#0000ff;stroke:#0000ff;\" x=\"358.267663\" xlink:href=\"#m749777004a\" y=\"94.798125\"/>\n     <use style=\"fill:#0000ff;stroke:#0000ff;\" x=\"358.29004\" xlink:href=\"#m749777004a\" y=\"203.518125\"/>\n     <use style=\"fill:#0000ff;stroke:#0000ff;\" x=\"358.304281\" xlink:href=\"#m749777004a\" y=\"203.518125\"/>\n     <use style=\"fill:#0000ff;stroke:#0000ff;\" x=\"358.340899\" xlink:href=\"#m749777004a\" y=\"203.518125\"/>\n     <use style=\"fill:#0000ff;stroke:#0000ff;\" x=\"358.381586\" xlink:href=\"#m749777004a\" y=\"203.518125\"/>\n     <use style=\"fill:#0000ff;stroke:#0000ff;\" x=\"358.517886\" xlink:href=\"#m749777004a\" y=\"203.518125\"/>\n     <use style=\"fill:#0000ff;stroke:#0000ff;\" x=\"358.609432\" xlink:href=\"#m749777004a\" y=\"131.038125\"/>\n     <use style=\"fill:#0000ff;stroke:#0000ff;\" x=\"358.867793\" xlink:href=\"#m749777004a\" y=\"203.518125\"/>\n     <use style=\"fill:#0000ff;stroke:#0000ff;\" x=\"359.089536\" xlink:href=\"#m749777004a\" y=\"58.558125\"/>\n     <use style=\"fill:#0000ff;stroke:#0000ff;\" x=\"359.095639\" xlink:href=\"#m749777004a\" y=\"131.038125\"/>\n     <use style=\"fill:#0000ff;stroke:#0000ff;\" x=\"359.478095\" xlink:href=\"#m749777004a\" y=\"94.798125\"/>\n     <use style=\"fill:#0000ff;stroke:#0000ff;\" x=\"359.524885\" xlink:href=\"#m749777004a\" y=\"203.518125\"/>\n     <use style=\"fill:#0000ff;stroke:#0000ff;\" x=\"359.545228\" xlink:href=\"#m749777004a\" y=\"203.518125\"/>\n     <use style=\"fill:#0000ff;stroke:#0000ff;\" x=\"359.604224\" xlink:href=\"#m749777004a\" y=\"203.518125\"/>\n     <use style=\"fill:#0000ff;stroke:#0000ff;\" x=\"359.974474\" xlink:href=\"#m749777004a\" y=\"203.518125\"/>\n     <use style=\"fill:#0000ff;stroke:#0000ff;\" x=\"360.104671\" xlink:href=\"#m749777004a\" y=\"203.518125\"/>\n     <use style=\"fill:#0000ff;stroke:#0000ff;\" x=\"360.114843\" xlink:href=\"#m749777004a\" y=\"94.798125\"/>\n     <use style=\"fill:#0000ff;stroke:#0000ff;\" x=\"360.387444\" xlink:href=\"#m749777004a\" y=\"203.518125\"/>\n     <use style=\"fill:#0000ff;stroke:#0000ff;\" x=\"360.485093\" xlink:href=\"#m749777004a\" y=\"203.518125\"/>\n     <use style=\"fill:#0000ff;stroke:#0000ff;\" x=\"360.660046\" xlink:href=\"#m749777004a\" y=\"203.518125\"/>\n     <use style=\"fill:#0000ff;stroke:#0000ff;\" x=\"360.690561\" xlink:href=\"#m749777004a\" y=\"203.518125\"/>\n     <use style=\"fill:#0000ff;stroke:#0000ff;\" x=\"361.003849\" xlink:href=\"#m749777004a\" y=\"94.798125\"/>\n     <use style=\"fill:#0000ff;stroke:#0000ff;\" x=\"361.007918\" xlink:href=\"#m749777004a\" y=\"131.038125\"/>\n     <use style=\"fill:#0000ff;stroke:#0000ff;\" x=\"361.01809\" xlink:href=\"#m749777004a\" y=\"203.518125\"/>\n     <use style=\"fill:#0000ff;stroke:#0000ff;\" x=\"361.483953\" xlink:href=\"#m749777004a\" y=\"203.518125\"/>\n     <use style=\"fill:#0000ff;stroke:#0000ff;\" x=\"361.504297\" xlink:href=\"#m749777004a\" y=\"203.518125\"/>\n     <use style=\"fill:#0000ff;stroke:#0000ff;\" x=\"361.646701\" xlink:href=\"#m749777004a\" y=\"203.518125\"/>\n     <use style=\"fill:#0000ff;stroke:#0000ff;\" x=\"361.94168\" xlink:href=\"#m749777004a\" y=\"58.558125\"/>\n     <use style=\"fill:#0000ff;stroke:#0000ff;\" x=\"362.126805\" xlink:href=\"#m749777004a\" y=\"94.798125\"/>\n     <use style=\"fill:#0000ff;stroke:#0000ff;\" x=\"362.185801\" xlink:href=\"#m749777004a\" y=\"203.518125\"/>\n     <use style=\"fill:#0000ff;stroke:#0000ff;\" x=\"362.344479\" xlink:href=\"#m749777004a\" y=\"203.518125\"/>\n     <use style=\"fill:#0000ff;stroke:#0000ff;\" x=\"362.946644\" xlink:href=\"#m749777004a\" y=\"203.518125\"/>\n     <use style=\"fill:#0000ff;stroke:#0000ff;\" x=\"363.078876\" xlink:href=\"#m749777004a\" y=\"58.558125\"/>\n     <use style=\"fill:#0000ff;stroke:#0000ff;\" x=\"363.211108\" xlink:href=\"#m749777004a\" y=\"94.798125\"/>\n     <use style=\"fill:#0000ff;stroke:#0000ff;\" x=\"363.544739\" xlink:href=\"#m749777004a\" y=\"58.558125\"/>\n     <use style=\"fill:#0000ff;stroke:#0000ff;\" x=\"363.866165\" xlink:href=\"#m749777004a\" y=\"203.518125\"/>\n     <use style=\"fill:#0000ff;stroke:#0000ff;\" x=\"363.961779\" xlink:href=\"#m749777004a\" y=\"203.518125\"/>\n     <use style=\"fill:#0000ff;stroke:#0000ff;\" x=\"364.602596\" xlink:href=\"#m749777004a\" y=\"94.798125\"/>\n     <use style=\"fill:#0000ff;stroke:#0000ff;\" x=\"364.68397\" xlink:href=\"#m749777004a\" y=\"203.518125\"/>\n     <use style=\"fill:#0000ff;stroke:#0000ff;\" x=\"364.812133\" xlink:href=\"#m749777004a\" y=\"203.518125\"/>\n     <use style=\"fill:#0000ff;stroke:#0000ff;\" x=\"365.296306\" xlink:href=\"#m749777004a\" y=\"131.038125\"/>\n     <use style=\"fill:#0000ff;stroke:#0000ff;\" x=\"365.398023\" xlink:href=\"#m749777004a\" y=\"94.798125\"/>\n     <use style=\"fill:#0000ff;stroke:#0000ff;\" x=\"365.686899\" xlink:href=\"#m749777004a\" y=\"58.558125\"/>\n     <use style=\"fill:#0000ff;stroke:#0000ff;\" x=\"365.699105\" xlink:href=\"#m749777004a\" y=\"203.518125\"/>\n     <use style=\"fill:#0000ff;stroke:#0000ff;\" x=\"365.72962\" xlink:href=\"#m749777004a\" y=\"58.558125\"/>\n     <use style=\"fill:#0000ff;stroke:#0000ff;\" x=\"365.983912\" xlink:href=\"#m749777004a\" y=\"203.518125\"/>\n     <use style=\"fill:#0000ff;stroke:#0000ff;\" x=\"366.000187\" xlink:href=\"#m749777004a\" y=\"58.558125\"/>\n     <use style=\"fill:#0000ff;stroke:#0000ff;\" x=\"366.124282\" xlink:href=\"#m749777004a\" y=\"203.518125\"/>\n     <use style=\"fill:#0000ff;stroke:#0000ff;\" x=\"366.309407\" xlink:href=\"#m749777004a\" y=\"203.518125\"/>\n     <use style=\"fill:#0000ff;stroke:#0000ff;\" x=\"366.319578\" xlink:href=\"#m749777004a\" y=\"203.518125\"/>\n     <use style=\"fill:#0000ff;stroke:#0000ff;\" x=\"366.43757\" xlink:href=\"#m749777004a\" y=\"58.558125\"/>\n     <use style=\"fill:#0000ff;stroke:#0000ff;\" x=\"366.525047\" xlink:href=\"#m749777004a\" y=\"203.518125\"/>\n     <use style=\"fill:#0000ff;stroke:#0000ff;\" x=\"366.844438\" xlink:href=\"#m749777004a\" y=\"203.518125\"/>\n     <use style=\"fill:#0000ff;stroke:#0000ff;\" x=\"366.856644\" xlink:href=\"#m749777004a\" y=\"131.038125\"/>\n     <use style=\"fill:#0000ff;stroke:#0000ff;\" x=\"366.942086\" xlink:href=\"#m749777004a\" y=\"203.518125\"/>\n     <use style=\"fill:#0000ff;stroke:#0000ff;\" x=\"366.96243\" xlink:href=\"#m749777004a\" y=\"58.558125\"/>\n     <use style=\"fill:#0000ff;stroke:#0000ff;\" x=\"367.119074\" xlink:href=\"#m749777004a\" y=\"203.518125\"/>\n     <use style=\"fill:#0000ff;stroke:#0000ff;\" x=\"367.267581\" xlink:href=\"#m749777004a\" y=\"131.038125\"/>\n     <use style=\"fill:#0000ff;stroke:#0000ff;\" x=\"367.507633\" xlink:href=\"#m749777004a\" y=\"203.518125\"/>\n     <use style=\"fill:#0000ff;stroke:#0000ff;\" x=\"367.517804\" xlink:href=\"#m749777004a\" y=\"131.038125\"/>\n     <use style=\"fill:#0000ff;stroke:#0000ff;\" x=\"367.521873\" xlink:href=\"#m749777004a\" y=\"94.798125\"/>\n     <use style=\"fill:#0000ff;stroke:#0000ff;\" x=\"367.688689\" xlink:href=\"#m749777004a\" y=\"58.558125\"/>\n     <use style=\"fill:#0000ff;stroke:#0000ff;\" x=\"367.857539\" xlink:href=\"#m749777004a\" y=\"58.558125\"/>\n     <use style=\"fill:#0000ff;stroke:#0000ff;\" x=\"367.985703\" xlink:href=\"#m749777004a\" y=\"203.518125\"/>\n     <use style=\"fill:#0000ff;stroke:#0000ff;\" x=\"368.060973\" xlink:href=\"#m749777004a\" y=\"58.558125\"/>\n     <use style=\"fill:#0000ff;stroke:#0000ff;\" x=\"368.180999\" xlink:href=\"#m749777004a\" y=\"203.518125\"/>\n     <use style=\"fill:#0000ff;stroke:#0000ff;\" x=\"368.3173\" xlink:href=\"#m749777004a\" y=\"203.518125\"/>\n     <use style=\"fill:#0000ff;stroke:#0000ff;\" x=\"368.345781\" xlink:href=\"#m749777004a\" y=\"131.038125\"/>\n     <use style=\"fill:#0000ff;stroke:#0000ff;\" x=\"368.545146\" xlink:href=\"#m749777004a\" y=\"203.518125\"/>\n     <use style=\"fill:#0000ff;stroke:#0000ff;\" x=\"368.70179\" xlink:href=\"#m749777004a\" y=\"203.518125\"/>\n     <use style=\"fill:#0000ff;stroke:#0000ff;\" x=\"368.905224\" xlink:href=\"#m749777004a\" y=\"203.518125\"/>\n     <use style=\"fill:#0000ff;stroke:#0000ff;\" x=\"368.943876\" xlink:href=\"#m749777004a\" y=\"131.038125\"/>\n     <use style=\"fill:#0000ff;stroke:#0000ff;\" x=\"369.03949\" xlink:href=\"#m749777004a\" y=\"203.518125\"/>\n     <use style=\"fill:#0000ff;stroke:#0000ff;\" x=\"369.253096\" xlink:href=\"#m749777004a\" y=\"58.558125\"/>\n     <use style=\"fill:#0000ff;stroke:#0000ff;\" x=\"369.570453\" xlink:href=\"#m749777004a\" y=\"203.518125\"/>\n     <use style=\"fill:#0000ff;stroke:#0000ff;\" x=\"369.784059\" xlink:href=\"#m749777004a\" y=\"131.038125\"/>\n     <use style=\"fill:#0000ff;stroke:#0000ff;\" x=\"369.869501\" xlink:href=\"#m749777004a\" y=\"94.798125\"/>\n     <use style=\"fill:#0000ff;stroke:#0000ff;\" x=\"370.105484\" xlink:href=\"#m749777004a\" y=\"58.558125\"/>\n     <use style=\"fill:#0000ff;stroke:#0000ff;\" x=\"370.109553\" xlink:href=\"#m749777004a\" y=\"58.558125\"/>\n     <use style=\"fill:#0000ff;stroke:#0000ff;\" x=\"370.119725\" xlink:href=\"#m749777004a\" y=\"58.558125\"/>\n     <use style=\"fill:#0000ff;stroke:#0000ff;\" x=\"370.131931\" xlink:href=\"#m749777004a\" y=\"58.558125\"/>\n     <use style=\"fill:#0000ff;stroke:#0000ff;\" x=\"370.654756\" xlink:href=\"#m749777004a\" y=\"203.518125\"/>\n     <use style=\"fill:#0000ff;stroke:#0000ff;\" x=\"370.723924\" xlink:href=\"#m749777004a\" y=\"58.558125\"/>\n     <use style=\"fill:#0000ff;stroke:#0000ff;\" x=\"370.874465\" xlink:href=\"#m749777004a\" y=\"167.278125\"/>\n     <use style=\"fill:#0000ff;stroke:#0000ff;\" x=\"370.925323\" xlink:href=\"#m749777004a\" y=\"203.518125\"/>\n     <use style=\"fill:#0000ff;stroke:#0000ff;\" x=\"370.93346\" xlink:href=\"#m749777004a\" y=\"131.038125\"/>\n     <use style=\"fill:#0000ff;stroke:#0000ff;\" x=\"371.216234\" xlink:href=\"#m749777004a\" y=\"131.038125\"/>\n     <use style=\"fill:#0000ff;stroke:#0000ff;\" x=\"371.309813\" xlink:href=\"#m749777004a\" y=\"131.038125\"/>\n     <use style=\"fill:#0000ff;stroke:#0000ff;\" x=\"371.322019\" xlink:href=\"#m749777004a\" y=\"203.518125\"/>\n     <use style=\"fill:#0000ff;stroke:#0000ff;\" x=\"371.728887\" xlink:href=\"#m749777004a\" y=\"58.558125\"/>\n     <use style=\"fill:#0000ff;stroke:#0000ff;\" x=\"371.810261\" xlink:href=\"#m749777004a\" y=\"203.518125\"/>\n     <use style=\"fill:#0000ff;stroke:#0000ff;\" x=\"371.867222\" xlink:href=\"#m749777004a\" y=\"131.038125\"/>\n     <use style=\"fill:#0000ff;stroke:#0000ff;\" x=\"371.934356\" xlink:href=\"#m749777004a\" y=\"203.518125\"/>\n     <use style=\"fill:#0000ff;stroke:#0000ff;\" x=\"371.962836\" xlink:href=\"#m749777004a\" y=\"203.518125\"/>\n     <use style=\"fill:#0000ff;stroke:#0000ff;\" x=\"371.991317\" xlink:href=\"#m749777004a\" y=\"131.038125\"/>\n     <use style=\"fill:#0000ff;stroke:#0000ff;\" x=\"372.052347\" xlink:href=\"#m749777004a\" y=\"203.518125\"/>\n     <use style=\"fill:#0000ff;stroke:#0000ff;\" x=\"372.125583\" xlink:href=\"#m749777004a\" y=\"131.038125\"/>\n     <use style=\"fill:#0000ff;stroke:#0000ff;\" x=\"372.139824\" xlink:href=\"#m749777004a\" y=\"203.518125\"/>\n     <use style=\"fill:#0000ff;stroke:#0000ff;\" x=\"372.257815\" xlink:href=\"#m749777004a\" y=\"203.518125\"/>\n     <use style=\"fill:#0000ff;stroke:#0000ff;\" x=\"372.353429\" xlink:href=\"#m749777004a\" y=\"131.038125\"/>\n     <use style=\"fill:#0000ff;stroke:#0000ff;\" x=\"372.434803\" xlink:href=\"#m749777004a\" y=\"131.038125\"/>\n     <use style=\"fill:#0000ff;stroke:#0000ff;\" x=\"372.501936\" xlink:href=\"#m749777004a\" y=\"131.038125\"/>\n     <use style=\"fill:#0000ff;stroke:#0000ff;\" x=\"372.58331\" xlink:href=\"#m749777004a\" y=\"203.518125\"/>\n     <use style=\"fill:#0000ff;stroke:#0000ff;\" x=\"372.703336\" xlink:href=\"#m749777004a\" y=\"203.518125\"/>\n     <use style=\"fill:#0000ff;stroke:#0000ff;\" x=\"372.776572\" xlink:href=\"#m749777004a\" y=\"131.038125\"/>\n     <use style=\"fill:#0000ff;stroke:#0000ff;\" x=\"372.894564\" xlink:href=\"#m749777004a\" y=\"203.518125\"/>\n     <use style=\"fill:#0000ff;stroke:#0000ff;\" x=\"372.986109\" xlink:href=\"#m749777004a\" y=\"131.038125\"/>\n     <use style=\"fill:#0000ff;stroke:#0000ff;\" x=\"373.012555\" xlink:href=\"#m749777004a\" y=\"94.798125\"/>\n     <use style=\"fill:#0000ff;stroke:#0000ff;\" x=\"373.051208\" xlink:href=\"#m749777004a\" y=\"58.558125\"/>\n     <use style=\"fill:#0000ff;stroke:#0000ff;\" x=\"373.085792\" xlink:href=\"#m749777004a\" y=\"203.518125\"/>\n     <use style=\"fill:#0000ff;stroke:#0000ff;\" x=\"373.18344\" xlink:href=\"#m749777004a\" y=\"131.038125\"/>\n     <use style=\"fill:#0000ff;stroke:#0000ff;\" x=\"373.299397\" xlink:href=\"#m749777004a\" y=\"131.038125\"/>\n     <use style=\"fill:#0000ff;stroke:#0000ff;\" x=\"373.333981\" xlink:href=\"#m749777004a\" y=\"167.278125\"/>\n     <use style=\"fill:#0000ff;stroke:#0000ff;\" x=\"373.498763\" xlink:href=\"#m749777004a\" y=\"58.558125\"/>\n     <use style=\"fill:#0000ff;stroke:#0000ff;\" x=\"373.657441\" xlink:href=\"#m749777004a\" y=\"203.518125\"/>\n     <use style=\"fill:#0000ff;stroke:#0000ff;\" x=\"373.700162\" xlink:href=\"#m749777004a\" y=\"131.038125\"/>\n     <use style=\"fill:#0000ff;stroke:#0000ff;\" x=\"373.744918\" xlink:href=\"#m749777004a\" y=\"203.518125\"/>\n     <use style=\"fill:#0000ff;stroke:#0000ff;\" x=\"373.755089\" xlink:href=\"#m749777004a\" y=\"131.038125\"/>\n     <use style=\"fill:#0000ff;stroke:#0000ff;\" x=\"373.759158\" xlink:href=\"#m749777004a\" y=\"58.558125\"/>\n     <use style=\"fill:#0000ff;stroke:#0000ff;\" x=\"374.056172\" xlink:href=\"#m749777004a\" y=\"131.038125\"/>\n     <use style=\"fill:#0000ff;stroke:#0000ff;\" x=\"374.09279\" xlink:href=\"#m749777004a\" y=\"203.518125\"/>\n     <use style=\"fill:#0000ff;stroke:#0000ff;\" x=\"374.102961\" xlink:href=\"#m749777004a\" y=\"131.038125\"/>\n     <use style=\"fill:#0000ff;stroke:#0000ff;\" x=\"374.359288\" xlink:href=\"#m749777004a\" y=\"203.518125\"/>\n     <use style=\"fill:#0000ff;stroke:#0000ff;\" x=\"374.36946\" xlink:href=\"#m749777004a\" y=\"131.038125\"/>\n     <use style=\"fill:#0000ff;stroke:#0000ff;\" x=\"374.562722\" xlink:href=\"#m749777004a\" y=\"131.038125\"/>\n     <use style=\"fill:#0000ff;stroke:#0000ff;\" x=\"374.682748\" xlink:href=\"#m749777004a\" y=\"131.038125\"/>\n     <use style=\"fill:#0000ff;stroke:#0000ff;\" x=\"374.774293\" xlink:href=\"#m749777004a\" y=\"131.038125\"/>\n     <use style=\"fill:#0000ff;stroke:#0000ff;\" x=\"374.845495\" xlink:href=\"#m749777004a\" y=\"203.518125\"/>\n     <use style=\"fill:#0000ff;stroke:#0000ff;\" x=\"374.869907\" xlink:href=\"#m749777004a\" y=\"131.038125\"/>\n     <use style=\"fill:#0000ff;stroke:#0000ff;\" x=\"374.926869\" xlink:href=\"#m749777004a\" y=\"203.518125\"/>\n     <use style=\"fill:#0000ff;stroke:#0000ff;\" x=\"375.004174\" xlink:href=\"#m749777004a\" y=\"131.038125\"/>\n     <use style=\"fill:#0000ff;stroke:#0000ff;\" x=\"375.087582\" xlink:href=\"#m749777004a\" y=\"131.038125\"/>\n     <use style=\"fill:#0000ff;stroke:#0000ff;\" x=\"375.181161\" xlink:href=\"#m749777004a\" y=\"58.558125\"/>\n     <use style=\"fill:#0000ff;stroke:#0000ff;\" x=\"375.368321\" xlink:href=\"#m749777004a\" y=\"203.518125\"/>\n     <use style=\"fill:#0000ff;stroke:#0000ff;\" x=\"375.455797\" xlink:href=\"#m749777004a\" y=\"131.038125\"/>\n     <use style=\"fill:#0000ff;stroke:#0000ff;\" x=\"375.488347\" xlink:href=\"#m749777004a\" y=\"203.518125\"/>\n     <use style=\"fill:#0000ff;stroke:#0000ff;\" x=\"375.496484\" xlink:href=\"#m749777004a\" y=\"58.558125\"/>\n     <use style=\"fill:#0000ff;stroke:#0000ff;\" x=\"375.706021\" xlink:href=\"#m749777004a\" y=\"203.518125\"/>\n     <use style=\"fill:#0000ff;stroke:#0000ff;\" x=\"376.106786\" xlink:href=\"#m749777004a\" y=\"203.518125\"/>\n     <use style=\"fill:#0000ff;stroke:#0000ff;\" x=\"376.218675\" xlink:href=\"#m749777004a\" y=\"203.518125\"/>\n     <use style=\"fill:#0000ff;stroke:#0000ff;\" x=\"376.7415\" xlink:href=\"#m749777004a\" y=\"131.038125\"/>\n     <use style=\"fill:#0000ff;stroke:#0000ff;\" x=\"376.934762\" xlink:href=\"#m749777004a\" y=\"203.518125\"/>\n     <use style=\"fill:#0000ff;stroke:#0000ff;\" x=\"377.195157\" xlink:href=\"#m749777004a\" y=\"203.518125\"/>\n     <use style=\"fill:#0000ff;stroke:#0000ff;\" x=\"377.972275\" xlink:href=\"#m749777004a\" y=\"131.038125\"/>\n     <use style=\"fill:#0000ff;stroke:#0000ff;\" x=\"378.37304\" xlink:href=\"#m749777004a\" y=\"203.518125\"/>\n     <use style=\"fill:#0000ff;stroke:#0000ff;\" x=\"379.129814\" xlink:href=\"#m749777004a\" y=\"203.518125\"/>\n     <use style=\"fill:#0000ff;stroke:#0000ff;\" x=\"380.19174\" xlink:href=\"#m749777004a\" y=\"167.278125\"/>\n     <use style=\"fill:#0000ff;stroke:#0000ff;\" x=\"380.214117\" xlink:href=\"#m749777004a\" y=\"167.278125\"/>\n     <use style=\"fill:#0000ff;stroke:#0000ff;\" x=\"380.539612\" xlink:href=\"#m749777004a\" y=\"203.518125\"/>\n     <use style=\"fill:#0000ff;stroke:#0000ff;\" x=\"380.781698\" xlink:href=\"#m749777004a\" y=\"203.518125\"/>\n     <use style=\"fill:#0000ff;stroke:#0000ff;\" x=\"380.987166\" xlink:href=\"#m749777004a\" y=\"131.038125\"/>\n     <use style=\"fill:#0000ff;stroke:#0000ff;\" x=\"381.033956\" xlink:href=\"#m749777004a\" y=\"203.518125\"/>\n     <use style=\"fill:#0000ff;stroke:#0000ff;\" x=\"381.097021\" xlink:href=\"#m749777004a\" y=\"58.558125\"/>\n     <use style=\"fill:#0000ff;stroke:#0000ff;\" x=\"381.151948\" xlink:href=\"#m749777004a\" y=\"94.798125\"/>\n     <use style=\"fill:#0000ff;stroke:#0000ff;\" x=\"381.450996\" xlink:href=\"#m749777004a\" y=\"131.038125\"/>\n     <use style=\"fill:#0000ff;stroke:#0000ff;\" x=\"382.311521\" xlink:href=\"#m749777004a\" y=\"203.518125\"/>\n     <use style=\"fill:#0000ff;stroke:#0000ff;\" x=\"382.500715\" xlink:href=\"#m749777004a\" y=\"203.518125\"/>\n     <use style=\"fill:#0000ff;stroke:#0000ff;\" x=\"382.539367\" xlink:href=\"#m749777004a\" y=\"203.518125\"/>\n     <use style=\"fill:#0000ff;stroke:#0000ff;\" x=\"382.789591\" xlink:href=\"#m749777004a\" y=\"58.558125\"/>\n     <use style=\"fill:#0000ff;stroke:#0000ff;\" x=\"382.999128\" xlink:href=\"#m749777004a\" y=\"203.518125\"/>\n     <use style=\"fill:#0000ff;stroke:#0000ff;\" x=\"383.121188\" xlink:href=\"#m749777004a\" y=\"131.038125\"/>\n     <use style=\"fill:#0000ff;stroke:#0000ff;\" x=\"383.509747\" xlink:href=\"#m749777004a\" y=\"203.518125\"/>\n     <use style=\"fill:#0000ff;stroke:#0000ff;\" x=\"383.786417\" xlink:href=\"#m749777004a\" y=\"58.558125\"/>\n     <use style=\"fill:#0000ff;stroke:#0000ff;\" x=\"384.063088\" xlink:href=\"#m749777004a\" y=\"203.518125\"/>\n     <use style=\"fill:#0000ff;stroke:#0000ff;\" x=\"384.164805\" xlink:href=\"#m749777004a\" y=\"94.798125\"/>\n     <use style=\"fill:#0000ff;stroke:#0000ff;\" x=\"384.227869\" xlink:href=\"#m749777004a\" y=\"131.038125\"/>\n     <use style=\"fill:#0000ff;stroke:#0000ff;\" x=\"384.520814\" xlink:href=\"#m749777004a\" y=\"131.038125\"/>\n     <use style=\"fill:#0000ff;stroke:#0000ff;\" x=\"384.53302\" xlink:href=\"#m749777004a\" y=\"131.038125\"/>\n     <use style=\"fill:#0000ff;stroke:#0000ff;\" x=\"384.799519\" xlink:href=\"#m749777004a\" y=\"203.518125\"/>\n     <use style=\"fill:#0000ff;stroke:#0000ff;\" x=\"385.574602\" xlink:href=\"#m749777004a\" y=\"58.558125\"/>\n     <use style=\"fill:#0000ff;stroke:#0000ff;\" x=\"385.601048\" xlink:href=\"#m749777004a\" y=\"58.558125\"/>\n     <use style=\"fill:#0000ff;stroke:#0000ff;\" x=\"385.637666\" xlink:href=\"#m749777004a\" y=\"58.558125\"/>\n     <use style=\"fill:#0000ff;stroke:#0000ff;\" x=\"385.816688\" xlink:href=\"#m749777004a\" y=\"131.038125\"/>\n     <use style=\"fill:#0000ff;stroke:#0000ff;\" x=\"385.853306\" xlink:href=\"#m749777004a\" y=\"203.518125\"/>\n     <use style=\"fill:#0000ff;stroke:#0000ff;\" x=\"385.92044\" xlink:href=\"#m749777004a\" y=\"58.558125\"/>\n     <use style=\"fill:#0000ff;stroke:#0000ff;\" x=\"385.924508\" xlink:href=\"#m749777004a\" y=\"203.518125\"/>\n     <use style=\"fill:#0000ff;stroke:#0000ff;\" x=\"385.989607\" xlink:href=\"#m749777004a\" y=\"203.518125\"/>\n     <use style=\"fill:#0000ff;stroke:#0000ff;\" x=\"386.378166\" xlink:href=\"#m749777004a\" y=\"58.558125\"/>\n     <use style=\"fill:#0000ff;stroke:#0000ff;\" x=\"386.540913\" xlink:href=\"#m749777004a\" y=\"203.518125\"/>\n     <use style=\"fill:#0000ff;stroke:#0000ff;\" x=\"386.579566\" xlink:href=\"#m749777004a\" y=\"203.518125\"/>\n     <use style=\"fill:#0000ff;stroke:#0000ff;\" x=\"386.807412\" xlink:href=\"#m749777004a\" y=\"58.558125\"/>\n     <use style=\"fill:#0000ff;stroke:#0000ff;\" x=\"386.892854\" xlink:href=\"#m749777004a\" y=\"58.558125\"/>\n     <use style=\"fill:#0000ff;stroke:#0000ff;\" x=\"387.301756\" xlink:href=\"#m749777004a\" y=\"203.518125\"/>\n     <use style=\"fill:#0000ff;stroke:#0000ff;\" x=\"387.621147\" xlink:href=\"#m749777004a\" y=\"203.518125\"/>\n     <use style=\"fill:#0000ff;stroke:#0000ff;\" x=\"387.62725\" xlink:href=\"#m749777004a\" y=\"203.518125\"/>\n     <use style=\"fill:#0000ff;stroke:#0000ff;\" x=\"387.798135\" xlink:href=\"#m749777004a\" y=\"203.518125\"/>\n     <use style=\"fill:#0000ff;stroke:#0000ff;\" x=\"388.229415\" xlink:href=\"#m749777004a\" y=\"203.518125\"/>\n     <use style=\"fill:#0000ff;stroke:#0000ff;\" x=\"388.379956\" xlink:href=\"#m749777004a\" y=\"203.518125\"/>\n     <use style=\"fill:#0000ff;stroke:#0000ff;\" x=\"388.388093\" xlink:href=\"#m749777004a\" y=\"203.518125\"/>\n     <use style=\"fill:#0000ff;stroke:#0000ff;\" x=\"388.514222\" xlink:href=\"#m749777004a\" y=\"203.518125\"/>\n     <use style=\"fill:#0000ff;stroke:#0000ff;\" x=\"388.67697\" xlink:href=\"#m749777004a\" y=\"203.518125\"/>\n     <use style=\"fill:#0000ff;stroke:#0000ff;\" x=\"389.185555\" xlink:href=\"#m749777004a\" y=\"203.518125\"/>\n     <use style=\"fill:#0000ff;stroke:#0000ff;\" x=\"389.199795\" xlink:href=\"#m749777004a\" y=\"203.518125\"/>\n     <use style=\"fill:#0000ff;stroke:#0000ff;\" x=\"389.214035\" xlink:href=\"#m749777004a\" y=\"203.518125\"/>\n     <use style=\"fill:#0000ff;stroke:#0000ff;\" x=\"389.228276\" xlink:href=\"#m749777004a\" y=\"203.518125\"/>\n     <use style=\"fill:#0000ff;stroke:#0000ff;\" x=\"389.254722\" xlink:href=\"#m749777004a\" y=\"203.518125\"/>\n     <use style=\"fill:#0000ff;stroke:#0000ff;\" x=\"389.283203\" xlink:href=\"#m749777004a\" y=\"203.518125\"/>\n     <use style=\"fill:#0000ff;stroke:#0000ff;\" x=\"389.297443\" xlink:href=\"#m749777004a\" y=\"203.518125\"/>\n    </g>\n   </g>\n   <g id=\"patch_3\">\n    <path d=\"M 69.715625 239.758125 \nL 69.715625 22.318125 \n\" style=\"fill:none;stroke:#000000;stroke-linecap:square;stroke-linejoin:miter;stroke-width:0.8;\"/>\n   </g>\n   <g id=\"patch_4\">\n    <path d=\"M 404.515625 239.758125 \nL 404.515625 22.318125 \n\" style=\"fill:none;stroke:#000000;stroke-linecap:square;stroke-linejoin:miter;stroke-width:0.8;\"/>\n   </g>\n   <g id=\"patch_5\">\n    <path d=\"M 69.715625 239.758125 \nL 404.515625 239.758125 \n\" style=\"fill:none;stroke:#000000;stroke-linecap:square;stroke-linejoin:miter;stroke-width:0.8;\"/>\n   </g>\n   <g id=\"patch_6\">\n    <path d=\"M 69.715625 22.318125 \nL 404.515625 22.318125 \n\" style=\"fill:none;stroke:#000000;stroke-linecap:square;stroke-linejoin:miter;stroke-width:0.8;\"/>\n   </g>\n   <g id=\"text_15\">\n    <!-- Lexical Dispersion Plot -->\n    <defs>\n     <path d=\"M 9.8125 72.90625 \nL 19.671875 72.90625 \nL 19.671875 8.296875 \nL 55.171875 8.296875 \nL 55.171875 0 \nL 9.8125 0 \nz\n\" id=\"DejaVuSans-76\"/>\n     <path d=\"M 54.890625 54.6875 \nL 35.109375 28.078125 \nL 55.90625 0 \nL 45.3125 0 \nL 29.390625 21.484375 \nL 13.484375 0 \nL 2.875 0 \nL 24.125 28.609375 \nL 4.6875 54.6875 \nL 15.28125 54.6875 \nL 29.78125 35.203125 \nL 44.28125 54.6875 \nz\n\" id=\"DejaVuSans-120\"/>\n     <path d=\"M 9.421875 75.984375 \nL 18.40625 75.984375 \nL 18.40625 0 \nL 9.421875 0 \nz\n\" id=\"DejaVuSans-108\"/>\n     <path d=\"M 19.671875 64.796875 \nL 19.671875 8.109375 \nL 31.59375 8.109375 \nQ 46.6875 8.109375 53.6875 14.9375 \nQ 60.6875 21.78125 60.6875 36.53125 \nQ 60.6875 51.171875 53.6875 57.984375 \nQ 46.6875 64.796875 31.59375 64.796875 \nz\nM 9.8125 72.90625 \nL 30.078125 72.90625 \nQ 51.265625 72.90625 61.171875 64.09375 \nQ 71.09375 55.28125 71.09375 36.53125 \nQ 71.09375 17.671875 61.125 8.828125 \nQ 51.171875 0 30.078125 0 \nL 9.8125 0 \nz\n\" id=\"DejaVuSans-68\"/>\n     <path d=\"M 18.109375 8.203125 \nL 18.109375 -20.796875 \nL 9.078125 -20.796875 \nL 9.078125 54.6875 \nL 18.109375 54.6875 \nL 18.109375 46.390625 \nQ 20.953125 51.265625 25.265625 53.625 \nQ 29.59375 56 35.59375 56 \nQ 45.5625 56 51.78125 48.09375 \nQ 58.015625 40.1875 58.015625 27.296875 \nQ 58.015625 14.40625 51.78125 6.484375 \nQ 45.5625 -1.421875 35.59375 -1.421875 \nQ 29.59375 -1.421875 25.265625 0.953125 \nQ 20.953125 3.328125 18.109375 8.203125 \nz\nM 48.6875 27.296875 \nQ 48.6875 37.203125 44.609375 42.84375 \nQ 40.53125 48.484375 33.40625 48.484375 \nQ 26.265625 48.484375 22.1875 42.84375 \nQ 18.109375 37.203125 18.109375 27.296875 \nQ 18.109375 17.390625 22.1875 11.75 \nQ 26.265625 6.109375 33.40625 6.109375 \nQ 40.53125 6.109375 44.609375 11.75 \nQ 48.6875 17.390625 48.6875 27.296875 \nz\n\" id=\"DejaVuSans-112\"/>\n     <path d=\"M 19.671875 64.796875 \nL 19.671875 37.40625 \nL 32.078125 37.40625 \nQ 38.96875 37.40625 42.71875 40.96875 \nQ 46.484375 44.53125 46.484375 51.125 \nQ 46.484375 57.671875 42.71875 61.234375 \nQ 38.96875 64.796875 32.078125 64.796875 \nz\nM 9.8125 72.90625 \nL 32.078125 72.90625 \nQ 44.34375 72.90625 50.609375 67.359375 \nQ 56.890625 61.8125 56.890625 51.125 \nQ 56.890625 40.328125 50.609375 34.8125 \nQ 44.34375 29.296875 32.078125 29.296875 \nL 19.671875 29.296875 \nL 19.671875 0 \nL 9.8125 0 \nz\n\" id=\"DejaVuSans-80\"/>\n    </defs>\n    <g transform=\"translate(169.661563 16.318125)scale(0.12 -0.12)\">\n     <use xlink:href=\"#DejaVuSans-76\"/>\n     <use x=\"53.962891\" xlink:href=\"#DejaVuSans-101\"/>\n     <use x=\"113.736328\" xlink:href=\"#DejaVuSans-120\"/>\n     <use x=\"172.916016\" xlink:href=\"#DejaVuSans-105\"/>\n     <use x=\"200.699219\" xlink:href=\"#DejaVuSans-99\"/>\n     <use x=\"255.679688\" xlink:href=\"#DejaVuSans-97\"/>\n     <use x=\"316.958984\" xlink:href=\"#DejaVuSans-108\"/>\n     <use x=\"344.742188\" xlink:href=\"#DejaVuSans-32\"/>\n     <use x=\"376.529297\" xlink:href=\"#DejaVuSans-68\"/>\n     <use x=\"453.53125\" xlink:href=\"#DejaVuSans-105\"/>\n     <use x=\"481.314453\" xlink:href=\"#DejaVuSans-115\"/>\n     <use x=\"533.414062\" xlink:href=\"#DejaVuSans-112\"/>\n     <use x=\"596.890625\" xlink:href=\"#DejaVuSans-101\"/>\n     <use x=\"658.414062\" xlink:href=\"#DejaVuSans-114\"/>\n     <use x=\"699.527344\" xlink:href=\"#DejaVuSans-115\"/>\n     <use x=\"751.626953\" xlink:href=\"#DejaVuSans-105\"/>\n     <use x=\"779.410156\" xlink:href=\"#DejaVuSans-111\"/>\n     <use x=\"840.591797\" xlink:href=\"#DejaVuSans-110\"/>\n     <use x=\"903.970703\" xlink:href=\"#DejaVuSans-32\"/>\n     <use x=\"935.757812\" xlink:href=\"#DejaVuSans-80\"/>\n     <use x=\"996.060547\" xlink:href=\"#DejaVuSans-108\"/>\n     <use x=\"1023.84375\" xlink:href=\"#DejaVuSans-111\"/>\n     <use x=\"1085.025391\" xlink:href=\"#DejaVuSans-116\"/>\n    </g>\n   </g>\n  </g>\n </g>\n <defs>\n  <clipPath id=\"p4d8fa6e8f6\">\n   <rect height=\"217.44\" width=\"334.8\" x=\"69.715625\" y=\"22.318125\"/>\n  </clipPath>\n </defs>\n</svg>\n",
      "image/png": "[encoded data removed]"
     },
     "metadata": {
      "needs_background": "light"
     }
    }
   ],
   "source": [
    "text4.dispersion_plot([\"citizens\", \"democracy\", \"freedom\", \"duties\", \"America\"])"
   ]
  },
  {
   "cell_type": "markdown",
   "metadata": {},
   "source": [
    "Now, just for fun, let's try generating some random text in the various styles we have just seen. To do this, we type the name of the text followed by the term generate"
   ]
  },
  {
   "cell_type": "code",
   "execution_count": 11,
   "metadata": {},
   "outputs": [
    {
     "output_type": "stream",
     "name": "stderr",
     "text": "Building ngram index...\nlaid by her , and said unto Cain , Where art thou , and said , Go to ,\nI will not do it for ten ' s sons ; we dreamed each man according to\ntheir generatio the firstborn said unto Laban , Because I said , Nay ,\nbut Sarah shall her name be . , duke Elah , duke Shobal , and Akan .\nand looked upon my affliction . Bashemath Ishmael ' s blood , but Isra\nfor as a prince hast thou found of all the cattle in the valley , and\nthe wo The\n"
    },
    {
     "output_type": "execute_result",
     "data": {
      "text/plain": "\"laid by her , and said unto Cain , Where art thou , and said , Go to ,\\nI will not do it for ten ' s sons ; we dreamed each man according to\\ntheir generatio the firstborn said unto Laban , Because I said , Nay ,\\nbut Sarah shall her name be . , duke Elah , duke Shobal , and Akan .\\nand looked upon my affliction . Bashemath Ishmael ' s blood , but Isra\\nfor as a prince hast thou found of all the cattle in the valley , and\\nthe wo The\""
     },
     "metadata": {},
     "execution_count": 11
    }
   ],
   "source": [
    "text3.generate()"
   ]
  },
  {
   "cell_type": "markdown",
   "metadata": {},
   "source": [
    "## 1.4   Counting Vocabulary\n",
    "The most obvious fact about texts that emerges from the preceding examples is that they differ in the vocabulary they use. In this section we will see how to use the computer to count the words in a text in a variety of useful ways.\n",
    "\n",
    "Let's begin by finding out the length of a text from start to finish, in terms of the words and punctuation symbols that appear. \n"
   ]
  },
  {
   "cell_type": "code",
   "execution_count": 12,
   "metadata": {},
   "outputs": [
    {
     "output_type": "execute_result",
     "data": {
      "text/plain": "44764"
     },
     "metadata": {},
     "execution_count": 12
    }
   ],
   "source": [
    "len(text3)"
   ]
  },
  {
   "cell_type": "markdown",
   "metadata": {},
   "source": [
    "So Genesis has 44,764 words and punctuation symbols, or \"tokens.\" A token is the technical name for a sequence of characters — such as hairy, his, or :) — that we want to treat as a group.\n",
    "\n",
    "When we count the number of tokens in a text, say, the phrase to be or not to be, we are counting occurrences of these sequences. \n",
    "\n",
    "Thus, in our example phrase there are two occurrences of to, two of be, and one each of or and not. But there are only four distinct vocabulary items in this phrase. \n",
    "\n",
    "How many distinct words does the book of Genesis contain? \n",
    "\n",
    "To work this out in Python, we have to pose the question slightly differently. The vocabulary of a text is just the set of tokens that it uses, since in a set, all duplicates are collapsed together."
   ]
  },
  {
   "cell_type": "code",
   "execution_count": 16,
   "metadata": {},
   "outputs": [
    {
     "output_type": "execute_result",
     "data": {
      "text/plain": "['!',\n \"'\",\n '(',\n ')',\n ',',\n ',)',\n '.',\n '.)',\n ':',\n ';',\n ';)',\n '?',\n '?)',\n 'A',\n 'Abel',\n 'Abelmizraim',\n 'Abidah',\n 'Abide',\n 'Abimael',\n 'Abimelech']"
     },
     "metadata": {},
     "execution_count": 16
    }
   ],
   "source": [
    "sorted(set(text3))[:20] "
   ]
  },
  {
   "cell_type": "markdown",
   "metadata": {},
   "source": [
    "By wrapping `sorted()` around the Python expression `set(text3)` , we obtain a sorted list of vocabulary items, beginning with various punctuation symbols and continuing with words starting with A. \n",
    "All capitalized words precede lowercase words. "
   ]
  },
  {
   "cell_type": "code",
   "execution_count": 17,
   "metadata": {},
   "outputs": [
    {
     "output_type": "execute_result",
     "data": {
      "text/plain": "2789"
     },
     "metadata": {},
     "execution_count": 17
    }
   ],
   "source": [
    "len(set(text3))"
   ]
  },
  {
   "cell_type": "markdown",
   "metadata": {},
   "source": [
    "Although it has 44,764 tokens, this book has only 2,789 distinct words, or \"word types.\" \n",
    "\n",
    "A word type is the form or spelling of the word independently of its specific occurrences in a text — that is, the word considered as a unique item of vocabulary. \n",
    "\n",
    "\n",
    "Now, let's calculate a measure of the lexical richness of the text. The next example shows us that the number of distinct words is just 6% of the total number of words, or equivalently that each word is used 16 times on average "
   ]
  },
  {
   "cell_type": "code",
   "execution_count": 18,
   "metadata": {},
   "outputs": [
    {
     "output_type": "execute_result",
     "data": {
      "text/plain": "0.06230453042623537"
     },
     "metadata": {},
     "execution_count": 18
    }
   ],
   "source": [
    "len(set(text3)) / len(text3)"
   ]
  },
  {
   "cell_type": "markdown",
   "metadata": {},
   "source": [
    "Next, let's focus on particular words. We can count how often a word occurs in a text, and compute what percentage of the text is taken up by a specific word:"
   ]
  },
  {
   "cell_type": "code",
   "execution_count": 19,
   "metadata": {},
   "outputs": [
    {
     "output_type": "execute_result",
     "data": {
      "text/plain": "1.457973123627309"
     },
     "metadata": {},
     "execution_count": 19
    }
   ],
   "source": [
    "text3.count(\"smote\")\n",
    "100 * text4.count('a') / len(text4)"
   ]
  },
  {
   "cell_type": "code",
   "execution_count": 20,
   "metadata": {},
   "outputs": [
    {
     "output_type": "execute_result",
     "data": {
      "text/plain": "nltk.text.Text"
     },
     "metadata": {},
     "execution_count": 20
    }
   ],
   "source": [
    "type(text3)"
   ]
  },
  {
   "cell_type": "markdown",
   "metadata": {},
   "source": [
    "You may want to repeat such calculations on several texts, but it is tedious to keep retyping the formula. Instead, you can come up with your own name for a task, like \"lexical_diversity\" or \"percentage\", and associate it with a block of code. "
   ]
  },
  {
   "cell_type": "code",
   "execution_count": 21,
   "metadata": {},
   "outputs": [],
   "source": [
    "def lexical_diversity(text):\n",
    "    return len(set(text)) / len(text)\n",
    "\n",
    "def percentage(count, total):\n",
    "    return 100 * count / total"
   ]
  },
  {
   "cell_type": "code",
   "execution_count": 22,
   "metadata": {},
   "outputs": [
    {
     "output_type": "execute_result",
     "data": {
      "text/plain": "0.06230453042623537"
     },
     "metadata": {},
     "execution_count": 22
    }
   ],
   "source": [
    "lexical_diversity(text3)"
   ]
  },
  {
   "cell_type": "code",
   "execution_count": 23,
   "metadata": {},
   "outputs": [
    {
     "output_type": "execute_result",
     "data": {
      "text/plain": "0.13477005109975562"
     },
     "metadata": {},
     "execution_count": 23
    }
   ],
   "source": [
    "lexical_diversity(text5)"
   ]
  },
  {
   "cell_type": "code",
   "execution_count": 24,
   "metadata": {},
   "outputs": [
    {
     "output_type": "execute_result",
     "data": {
      "text/plain": "80.0"
     },
     "metadata": {},
     "execution_count": 24
    }
   ],
   "source": [
    "percentage(4, 5)"
   ]
  },
  {
   "cell_type": "code",
   "execution_count": 25,
   "metadata": {},
   "outputs": [
    {
     "output_type": "execute_result",
     "data": {
      "text/plain": "1.457973123627309"
     },
     "metadata": {},
     "execution_count": 25
    }
   ],
   "source": [
    "percentage(text4.count('a'), len(text4))"
   ]
  },
  {
   "cell_type": "markdown",
   "metadata": {},
   "source": [
    "# 2   A Closer Look at Python: Texts as Lists of Words\n",
    "\n",
    "## 2.1   Lists\n",
    "What is a text? At one level, it is a sequence of symbols on a page such as this one. At another level, it is a sequence of chapters, made up of a sequence of sections, where each section is a sequence of paragraphs, and so on. However, for our purposes, we will think of a text as nothing more than a sequence of words and punctuation. "
   ]
  },
  {
   "cell_type": "code",
   "execution_count": 26,
   "metadata": {},
   "outputs": [
    {
     "output_type": "execute_result",
     "data": {
      "text/plain": "['Call', 'me', 'Ishmael', '.']"
     },
     "metadata": {},
     "execution_count": 26
    }
   ],
   "source": [
    "sent1 = ['Call', 'me', 'Ishmael', '.']\n",
    "sent1"
   ]
  },
  {
   "cell_type": "code",
   "execution_count": 27,
   "metadata": {},
   "outputs": [
    {
     "output_type": "execute_result",
     "data": {
      "text/plain": "4"
     },
     "metadata": {},
     "execution_count": 27
    }
   ],
   "source": [
    "len(sent1)"
   ]
  },
  {
   "cell_type": "code",
   "execution_count": 28,
   "metadata": {},
   "outputs": [
    {
     "output_type": "execute_result",
     "data": {
      "text/plain": "1.0"
     },
     "metadata": {},
     "execution_count": 28
    }
   ],
   "source": [
    "lexical_diversity(sent1)"
   ]
  },
  {
   "cell_type": "code",
   "execution_count": 29,
   "metadata": {},
   "outputs": [
    {
     "output_type": "execute_result",
     "data": {
      "text/plain": "['The',\n 'family',\n 'of',\n 'Dashwood',\n 'had',\n 'long',\n 'been',\n 'settled',\n 'in',\n 'Sussex',\n '.']"
     },
     "metadata": {},
     "execution_count": 29
    }
   ],
   "source": [
    "sent2"
   ]
  },
  {
   "cell_type": "code",
   "execution_count": 30,
   "metadata": {},
   "outputs": [
    {
     "output_type": "execute_result",
     "data": {
      "text/plain": "['In',\n 'the',\n 'beginning',\n 'God',\n 'created',\n 'the',\n 'heaven',\n 'and',\n 'the',\n 'earth',\n '.']"
     },
     "metadata": {},
     "execution_count": 30
    }
   ],
   "source": [
    "sent3"
   ]
  },
  {
   "cell_type": "code",
   "execution_count": 31,
   "metadata": {},
   "outputs": [
    {
     "output_type": "execute_result",
     "data": {
      "text/plain": "['Monty', 'Python', 'and', 'the', 'Holy', 'Grail']"
     },
     "metadata": {},
     "execution_count": 31
    }
   ],
   "source": [
    "['Monty', 'Python'] + ['and', 'the', 'Holy', 'Grail']"
   ]
  },
  {
   "cell_type": "code",
   "execution_count": 32,
   "metadata": {},
   "outputs": [
    {
     "output_type": "execute_result",
     "data": {
      "text/plain": "['Fellow',\n '-',\n 'Citizens',\n 'of',\n 'the',\n 'Senate',\n 'and',\n 'of',\n 'the',\n 'House',\n 'of',\n 'Representatives',\n ':',\n 'Call',\n 'me',\n 'Ishmael',\n '.']"
     },
     "metadata": {},
     "execution_count": 32
    }
   ],
   "source": [
    "sent4 + sent1"
   ]
  },
  {
   "cell_type": "code",
   "execution_count": 33,
   "metadata": {},
   "outputs": [
    {
     "output_type": "execute_result",
     "data": {
      "text/plain": "['Call', 'me', 'Ishmael', '.', 'Some']"
     },
     "metadata": {},
     "execution_count": 33
    }
   ],
   "source": [
    "sent1.append(\"Some\")\n",
    "sent1"
   ]
  },
  {
   "cell_type": "markdown",
   "metadata": {},
   "source": [
    "## 2.2   Indexing Lists\n",
    "A text in Python is a list of words, represented using a combination of brackets and quotes.\n",
    "Analogously, we can identify the elements of a Python list by their order of occurrence in the list. The number that represents this position is the item's index. "
   ]
  },
  {
   "cell_type": "code",
   "execution_count": 34,
   "metadata": {},
   "outputs": [
    {
     "output_type": "execute_result",
     "data": {
      "text/plain": "'awaken'"
     },
     "metadata": {},
     "execution_count": 34
    }
   ],
   "source": [
    "text4[173]"
   ]
  },
  {
   "cell_type": "code",
   "execution_count": 35,
   "metadata": {},
   "outputs": [
    {
     "output_type": "execute_result",
     "data": {
      "text/plain": "173"
     },
     "metadata": {},
     "execution_count": 35
    }
   ],
   "source": [
    "text4.index('awaken')"
   ]
  },
  {
   "cell_type": "markdown",
   "metadata": {},
   "source": [
    "Indexes are a common way to access the words of a text, or, more generally, the elements of any list. Python permits us to access sublists as well, extracting manageable pieces of language from large texts, a technique known as slicing."
   ]
  },
  {
   "cell_type": "code",
   "execution_count": 36,
   "metadata": {},
   "outputs": [
    {
     "output_type": "execute_result",
     "data": {
      "text/plain": "['U86',\n 'thats',\n 'why',\n 'something',\n 'like',\n 'gamefly',\n 'is',\n 'so',\n 'good',\n 'because',\n 'you',\n 'can',\n 'actually',\n 'play',\n 'a',\n 'full',\n 'game',\n 'without',\n 'buying',\n 'it']"
     },
     "metadata": {},
     "execution_count": 36
    }
   ],
   "source": [
    "text5[16715:16735]"
   ]
  },
  {
   "cell_type": "code",
   "execution_count": 37,
   "metadata": {},
   "outputs": [
    {
     "output_type": "execute_result",
     "data": {
      "text/plain": "'word1'"
     },
     "metadata": {},
     "execution_count": 37
    }
   ],
   "source": [
    "sent = ['word1', 'word2', 'word3', 'word4', 'word5', 'word6', 'word7', 'word8', 'word9', 'word10']\n",
    "sent[0]"
   ]
  },
  {
   "cell_type": "code",
   "execution_count": 38,
   "metadata": {},
   "outputs": [
    {
     "output_type": "execute_result",
     "data": {
      "text/plain": "'word10'"
     },
     "metadata": {},
     "execution_count": 38
    }
   ],
   "source": [
    "sent[9]"
   ]
  },
  {
   "cell_type": "markdown",
   "metadata": {},
   "source": [
    "**Notice that our indexes start from zero: sent element zero, written `sent[0]`, is the first word, `'word1'`, whereas sent element 9 is `'word10'`.**"
   ]
  },
  {
   "cell_type": "code",
   "execution_count": 39,
   "metadata": {},
   "outputs": [
    {
     "output_type": "error",
     "ename": "IndexError",
     "evalue": "list index out of range",
     "traceback": [
      "\u001b[0;31m---------------------------------------------------------------------------\u001b[0m",
      "\u001b[0;31mIndexError\u001b[0m                                Traceback (most recent call last)",
      "\u001b[0;32m<ipython-input-39-baa8b4ccd19d>\u001b[0m in \u001b[0;36m<module>\u001b[0;34m\u001b[0m\n\u001b[0;32m----> 1\u001b[0;31m \u001b[0msent\u001b[0m\u001b[0;34m[\u001b[0m\u001b[0;36m10\u001b[0m\u001b[0;34m]\u001b[0m\u001b[0;34m\u001b[0m\u001b[0;34m\u001b[0m\u001b[0m\n\u001b[0m",
      "\u001b[0;31mIndexError\u001b[0m: list index out of range"
     ]
    }
   ],
   "source": [
    "sent[10]"
   ]
  },
  {
   "cell_type": "markdown",
   "metadata": {},
   "source": [
    "This time it is not a syntax error, because the program fragment is syntactically correct. Instead, it is a runtime error, and it produces a Traceback message that shows the context of the error, followed by the name of the error, IndexError, and a brief explanation."
   ]
  },
  {
   "cell_type": "code",
   "execution_count": 40,
   "metadata": {},
   "outputs": [
    {
     "output_type": "execute_result",
     "data": {
      "text/plain": "['word6', 'word7', 'word8']"
     },
     "metadata": {},
     "execution_count": 40
    }
   ],
   "source": [
    "sent[5:8]"
   ]
  },
  {
   "cell_type": "code",
   "execution_count": 41,
   "metadata": {},
   "outputs": [
    {
     "output_type": "execute_result",
     "data": {
      "text/plain": "'word6'"
     },
     "metadata": {},
     "execution_count": 41
    }
   ],
   "source": [
    "sent[5]"
   ]
  },
  {
   "cell_type": "code",
   "execution_count": 42,
   "metadata": {},
   "outputs": [
    {
     "output_type": "execute_result",
     "data": {
      "text/plain": "'word7'"
     },
     "metadata": {},
     "execution_count": 42
    }
   ],
   "source": [
    "sent[6]"
   ]
  },
  {
   "cell_type": "code",
   "execution_count": 43,
   "metadata": {},
   "outputs": [
    {
     "output_type": "execute_result",
     "data": {
      "text/plain": "'word8'"
     },
     "metadata": {},
     "execution_count": 43
    }
   ],
   "source": [
    "sent[7]"
   ]
  },
  {
   "cell_type": "markdown",
   "metadata": {},
   "source": [
    "By convention, `m:n` means elements `m, …, n-1`. "
   ]
  },
  {
   "cell_type": "code",
   "execution_count": 44,
   "metadata": {},
   "outputs": [
    {
     "output_type": "execute_result",
     "data": {
      "text/plain": "['word1', 'word2', 'word3']"
     },
     "metadata": {},
     "execution_count": 44
    }
   ],
   "source": [
    "sent[:3]"
   ]
  },
  {
   "cell_type": "code",
   "execution_count": 45,
   "metadata": {},
   "outputs": [
    {
     "output_type": "execute_result",
     "data": {
      "text/plain": "['word8', 'word9', 'word10']"
     },
     "metadata": {},
     "execution_count": 45
    }
   ],
   "source": [
    "sent[7:]"
   ]
  },
  {
   "cell_type": "markdown",
   "metadata": {},
   "source": [
    "We can modify an element of a list by assigning to one of its index values."
   ]
  },
  {
   "cell_type": "code",
   "execution_count": 46,
   "metadata": {},
   "outputs": [
    {
     "output_type": "execute_result",
     "data": {
      "text/plain": "10"
     },
     "metadata": {},
     "execution_count": 46
    }
   ],
   "source": [
    "sent[0] = 'First'\n",
    "sent[9] = 'Last'\n",
    "len(sent)"
   ]
  },
  {
   "cell_type": "code",
   "execution_count": 47,
   "metadata": {},
   "outputs": [
    {
     "output_type": "execute_result",
     "data": {
      "text/plain": "['First', 'Second', 'Third', 'Last']"
     },
     "metadata": {},
     "execution_count": 47
    }
   ],
   "source": [
    "sent[1:9]=['Second','Third'] # replace an entire slice with new materials\n",
    "sent "
   ]
  },
  {
   "cell_type": "markdown",
   "metadata": {},
   "source": [
    "## 2.3   Variables\n"
   ]
  },
  {
   "cell_type": "code",
   "execution_count": 48,
   "metadata": {},
   "outputs": [],
   "source": [
    "sent1 = ['Call', 'me', 'Ishmael', '.']"
   ]
  },
  {
   "cell_type": "markdown",
   "metadata": {},
   "source": [
    "Such lines have the form: variable = expression. \n",
    "\n",
    "Python will evaluate the expression, and save its result to the variable. \n",
    "\n",
    "This process is called **assignment**. It does not generate any output; you have to type the variable on a line of its own to inspect its contents. \n",
    "\n",
    "The equals sign is slightly misleading, since information is moving from the right side to the left. It might help to think of it as a `left-arrow`. The name of the variable can be anything you like, e.g., my_sent, sentence, xyzzy. It must start with a letter, and can include numbers and underscores."
   ]
  },
  {
   "cell_type": "code",
   "execution_count": 49,
   "metadata": {},
   "outputs": [
    {
     "output_type": "execute_result",
     "data": {
      "text/plain": "['bold', 'Sir', 'Robin']"
     },
     "metadata": {},
     "execution_count": 49
    }
   ],
   "source": [
    "my_sent = ['Bravely', 'bold', 'Sir', 'Robin', ',', 'rode', 'forth', 'from', 'Camelot', '.']\n",
    "noun_phrase = my_sent[1:4]\n",
    "noun_phrase"
   ]
  },
  {
   "cell_type": "code",
   "execution_count": 50,
   "metadata": {},
   "outputs": [
    {
     "output_type": "execute_result",
     "data": {
      "text/plain": "['Robin', 'Sir', 'bold']"
     },
     "metadata": {},
     "execution_count": 50
    }
   ],
   "source": [
    "wOrDs = sorted(noun_phrase)\n",
    "wOrDs"
   ]
  },
  {
   "cell_type": "markdown",
   "metadata": {},
   "source": [
    "Remember that capitalized words appear before lowercase words in sorted lists.\n",
    "\n",
    "Python does not try to make sense of the names; it blindly follows your instructions, and does not object if you do something confusing, such as `one = 'two'` or `two = 3`. \n",
    "\n",
    "The only restriction is that a variable name cannot be any of Python's reserved words, such as def, if, not, and import. If you use a reserved word, Python will produce a syntax error:"
   ]
  },
  {
   "cell_type": "code",
   "execution_count": 51,
   "metadata": {},
   "outputs": [
    {
     "output_type": "error",
     "ename": "SyntaxError",
     "evalue": "invalid syntax (<ipython-input-51-ccfe97f8cd6e>, line 1)",
     "traceback": [
      "\u001b[0;36m  File \u001b[0;32m\"<ipython-input-51-ccfe97f8cd6e>\"\u001b[0;36m, line \u001b[0;32m1\u001b[0m\n\u001b[0;31m    not = 'Camelot'\u001b[0m\n\u001b[0m        ^\u001b[0m\n\u001b[0;31mSyntaxError\u001b[0m\u001b[0;31m:\u001b[0m invalid syntax\n"
     ]
    }
   ],
   "source": [
    "not = 'Camelot'           "
   ]
  },
  {
   "cell_type": "markdown",
   "metadata": {},
   "source": [
    "We will often use variables to hold intermediate steps of a computation, especially when this makes the code easier to follow. Thus `len(set(text1))` could also be written:"
   ]
  },
  {
   "cell_type": "code",
   "execution_count": 52,
   "metadata": {},
   "outputs": [
    {
     "output_type": "execute_result",
     "data": {
      "text/plain": "19317"
     },
     "metadata": {},
     "execution_count": 52
    }
   ],
   "source": [
    "vocab = set(text1)\n",
    "vocab_size = len(vocab)\n",
    "vocab_size"
   ]
  },
  {
   "cell_type": "markdown",
   "metadata": {},
   "source": [
    "Take care with your choice of names (or identifiers) for Python variables. First, you should start the name with a letter, optionally followed by digits (0 to 9) or letters. \n",
    "\n",
    "Thus, `abc23` is fine, but `23abc` will cause a syntax error. \n",
    "\n",
    "Names are `case-sensitive`, which means that `myVar` and `myvar` are distinct variables. \n",
    "\n",
    "Variable names cannot contain whitespace, but you can separate words using an underscore, e.g., my_var. \n",
    "\n",
    "Be careful not to insert a hyphen instead of an underscore: `my-var` is wrong, since Python interprets the \"-\" as a minus sign."
   ]
  },
  {
   "cell_type": "markdown",
   "metadata": {},
   "source": [
    "## 2.4   Strings\n",
    "Some of the methods we used to access the elements of a list also work with individual words, or strings. \n"
   ]
  },
  {
   "cell_type": "code",
   "execution_count": 53,
   "metadata": {},
   "outputs": [],
   "source": [
    "name = 'Monty' "
   ]
  },
  {
   "cell_type": "code",
   "execution_count": 54,
   "metadata": {},
   "outputs": [
    {
     "output_type": "execute_result",
     "data": {
      "text/plain": "'M'"
     },
     "metadata": {},
     "execution_count": 54
    }
   ],
   "source": [
    "name[0]"
   ]
  },
  {
   "cell_type": "code",
   "execution_count": 55,
   "metadata": {},
   "outputs": [
    {
     "output_type": "execute_result",
     "data": {
      "text/plain": "'Mont'"
     },
     "metadata": {},
     "execution_count": 55
    }
   ],
   "source": [
    "name[:4]"
   ]
  },
  {
   "cell_type": "code",
   "execution_count": 56,
   "metadata": {},
   "outputs": [
    {
     "output_type": "execute_result",
     "data": {
      "text/plain": "'MontyMonty'"
     },
     "metadata": {},
     "execution_count": 56
    }
   ],
   "source": [
    "name * 2"
   ]
  },
  {
   "cell_type": "code",
   "execution_count": 57,
   "metadata": {},
   "outputs": [
    {
     "output_type": "execute_result",
     "data": {
      "text/plain": "'Monty!'"
     },
     "metadata": {},
     "execution_count": 57
    }
   ],
   "source": [
    "name + '!'"
   ]
  },
  {
   "cell_type": "code",
   "execution_count": 58,
   "metadata": {},
   "outputs": [
    {
     "output_type": "execute_result",
     "data": {
      "text/plain": "'Monty Python'"
     },
     "metadata": {},
     "execution_count": 58
    }
   ],
   "source": [
    "' '.join(['Monty', 'Python'])"
   ]
  },
  {
   "cell_type": "code",
   "execution_count": 59,
   "metadata": {},
   "outputs": [
    {
     "output_type": "execute_result",
     "data": {
      "text/plain": "['Monty', 'Python']"
     },
     "metadata": {},
     "execution_count": 59
    }
   ],
   "source": [
    "'Monty Python'.split()"
   ]
  },
  {
   "cell_type": "markdown",
   "metadata": {},
   "source": [
    "# 3   Computing with Language: Simple Statistics\n",
    "We began this discussion in 1, and saw how to search for words in context, how to compile the vocabulary of a text, how to generate random text in the same style, and so on.\n",
    "\n",
    "In this section we pick up the question of what makes a text distinct, and use automatic methods to find characteristic words and expressions of a text."
   ]
  },
  {
   "cell_type": "code",
   "execution_count": 60,
   "metadata": {},
   "outputs": [
    {
     "output_type": "execute_result",
     "data": {
      "text/plain": "['said', 'than']"
     },
     "metadata": {},
     "execution_count": 60
    }
   ],
   "source": [
    "saying = ['After', 'all', 'is', 'said', 'and', 'done', 'more', 'is', 'said', 'than', 'done']\n",
    "tokens = set(saying)\n",
    "tokens = sorted(tokens)\n",
    "tokens[-2:]"
   ]
  },
  {
   "cell_type": "markdown",
   "metadata": {},
   "source": [
    "## 3.1   Frequency Distributions\n",
    "\n",
    "How can we automatically identify the words of a text that are most informative about the topic and genre of the text? Imagine how you might go about finding the 50 most frequent words of a book.\n",
    "\n",
    "The tally would need thousands of rows, and it would be an exceedingly laborious process — so laborious that we would rather assign the task to a machine."
   ]
  },
  {
   "cell_type": "code",
   "execution_count": 61,
   "metadata": {},
   "outputs": [
    {
     "output_type": "stream",
     "name": "stdout",
     "text": "<FreqDist with 19317 samples and 260819 outcomes>\n"
    }
   ],
   "source": [
    "fdist1 = FreqDist(text1)\n",
    "print(fdist1)"
   ]
  },
  {
   "cell_type": "code",
   "execution_count": 62,
   "metadata": {},
   "outputs": [
    {
     "output_type": "execute_result",
     "data": {
      "text/plain": "[(',', 18713),\n ('the', 13721),\n ('.', 6862),\n ('of', 6536),\n ('and', 6024),\n ('a', 4569),\n ('to', 4542),\n (';', 4072),\n ('in', 3916),\n ('that', 2982),\n (\"'\", 2684),\n ('-', 2552),\n ('his', 2459),\n ('it', 2209),\n ('I', 2124),\n ('s', 1739),\n ('is', 1695),\n ('he', 1661),\n ('with', 1659),\n ('was', 1632)]"
     },
     "metadata": {},
     "execution_count": 62
    }
   ],
   "source": [
    "fdist1.most_common(20)"
   ]
  },
  {
   "cell_type": "code",
   "execution_count": 63,
   "metadata": {},
   "outputs": [
    {
     "output_type": "execute_result",
     "data": {
      "text/plain": "906"
     },
     "metadata": {},
     "execution_count": 63
    }
   ],
   "source": [
    "fdist1['whale']"
   ]
  },
  {
   "cell_type": "code",
   "execution_count": 64,
   "metadata": {},
   "outputs": [
    {
     "output_type": "display_data",
     "data": {
      "text/plain": "<Figure size 432x288 with 1 Axes>",
      "image/svg+xml": "<?xml version=\"1.0\" encoding=\"utf-8\" standalone=\"no\"?>\n<!DOCTYPE svg PUBLIC \"-//W3C//DTD SVG 1.1//EN\"\n  \"http://www.w3.org/Graphics/SVG/1.1/DTD/svg11.dtd\">\n<!-- Created with matplotlib (https://matplotlib.org/) -->\n<svg height=\"282.093125pt\" version=\"1.1\" viewBox=\"0 0 408.053125 282.093125\" width=\"408.053125pt\" xmlns=\"http://www.w3.org/2000/svg\" xmlns:xlink=\"http://www.w3.org/1999/xlink\">\n <defs>\n  <style type=\"text/css\">\n*{stroke-linecap:butt;stroke-linejoin:round;}\n  </style>\n </defs>\n <g id=\"figure_1\">\n  <g id=\"patch_1\">\n   <path d=\"M 0 282.093125 \nL 408.053125 282.093125 \nL 408.053125 0 \nL 0 0 \nz\n\" style=\"fill:none;\"/>\n  </g>\n  <g id=\"axes_1\">\n   <g id=\"patch_2\">\n    <path d=\"M 66.053125 224.64 \nL 400.853125 224.64 \nL 400.853125 7.2 \nL 66.053125 7.2 \nz\n\" style=\"fill:#ffffff;\"/>\n   </g>\n   <g id=\"matplotlib.axis_1\">\n    <g id=\"xtick_1\">\n     <g id=\"line2d_1\">\n      <path clip-path=\"url(#p06f79e5ad7)\" d=\"M 81.271307 224.64 \nL 81.271307 7.2 \n\" style=\"fill:none;stroke:#c0c0c0;stroke-linecap:square;stroke-width:0.8;\"/>\n     </g>\n     <g id=\"line2d_2\">\n      <defs>\n       <path d=\"M 0 0 \nL 0 3.5 \n\" id=\"m4e7ed46df9\" style=\"stroke:#000000;stroke-width:0.8;\"/>\n      </defs>\n      <g>\n       <use style=\"stroke:#000000;stroke-width:0.8;\" x=\"81.271307\" xlink:href=\"#m4e7ed46df9\" y=\"224.64\"/>\n      </g>\n     </g>\n     <g id=\"text_1\">\n      <!-- , -->\n      <defs>\n       <path d=\"M 11.71875 12.40625 \nL 22.015625 12.40625 \nL 22.015625 4 \nL 14.015625 -11.625 \nL 7.71875 -11.625 \nL 11.71875 4 \nz\n\" id=\"DejaVuSans-44\"/>\n      </defs>\n      <g transform=\"translate(84.030682 234.818125)rotate(-90)scale(0.1 -0.1)\">\n       <use xlink:href=\"#DejaVuSans-44\"/>\n      </g>\n     </g>\n    </g>\n    <g id=\"xtick_2\">\n     <g id=\"line2d_3\">\n      <path clip-path=\"url(#p06f79e5ad7)\" d=\"M 87.48281 224.64 \nL 87.48281 7.2 \n\" style=\"fill:none;stroke:#c0c0c0;stroke-linecap:square;stroke-width:0.8;\"/>\n     </g>\n     <g id=\"line2d_4\">\n      <g>\n       <use style=\"stroke:#000000;stroke-width:0.8;\" x=\"87.48281\" xlink:href=\"#m4e7ed46df9\" y=\"224.64\"/>\n      </g>\n     </g>\n     <g id=\"text_2\">\n      <!-- the -->\n      <defs>\n       <path d=\"M 18.3125 70.21875 \nL 18.3125 54.6875 \nL 36.8125 54.6875 \nL 36.8125 47.703125 \nL 18.3125 47.703125 \nL 18.3125 18.015625 \nQ 18.3125 11.328125 20.140625 9.421875 \nQ 21.96875 7.515625 27.59375 7.515625 \nL 36.8125 7.515625 \nL 36.8125 0 \nL 27.59375 0 \nQ 17.1875 0 13.234375 3.875 \nQ 9.28125 7.765625 9.28125 18.015625 \nL 9.28125 47.703125 \nL 2.6875 47.703125 \nL 2.6875 54.6875 \nL 9.28125 54.6875 \nL 9.28125 70.21875 \nz\n\" id=\"DejaVuSans-116\"/>\n       <path d=\"M 54.890625 33.015625 \nL 54.890625 0 \nL 45.90625 0 \nL 45.90625 32.71875 \nQ 45.90625 40.484375 42.875 44.328125 \nQ 39.84375 48.1875 33.796875 48.1875 \nQ 26.515625 48.1875 22.3125 43.546875 \nQ 18.109375 38.921875 18.109375 30.90625 \nL 18.109375 0 \nL 9.078125 0 \nL 9.078125 75.984375 \nL 18.109375 75.984375 \nL 18.109375 46.1875 \nQ 21.34375 51.125 25.703125 53.5625 \nQ 30.078125 56 35.796875 56 \nQ 45.21875 56 50.046875 50.171875 \nQ 54.890625 44.34375 54.890625 33.015625 \nz\n\" id=\"DejaVuSans-104\"/>\n       <path d=\"M 56.203125 29.59375 \nL 56.203125 25.203125 \nL 14.890625 25.203125 \nQ 15.484375 15.921875 20.484375 11.0625 \nQ 25.484375 6.203125 34.421875 6.203125 \nQ 39.59375 6.203125 44.453125 7.46875 \nQ 49.3125 8.734375 54.109375 11.28125 \nL 54.109375 2.78125 \nQ 49.265625 0.734375 44.1875 -0.34375 \nQ 39.109375 -1.421875 33.890625 -1.421875 \nQ 20.796875 -1.421875 13.15625 6.1875 \nQ 5.515625 13.8125 5.515625 26.8125 \nQ 5.515625 40.234375 12.765625 48.109375 \nQ 20.015625 56 32.328125 56 \nQ 43.359375 56 49.78125 48.890625 \nQ 56.203125 41.796875 56.203125 29.59375 \nz\nM 47.21875 32.234375 \nQ 47.125 39.59375 43.09375 43.984375 \nQ 39.0625 48.390625 32.421875 48.390625 \nQ 24.90625 48.390625 20.390625 44.140625 \nQ 15.875 39.890625 15.1875 32.171875 \nz\n\" id=\"DejaVuSans-101\"/>\n      </defs>\n      <g transform=\"translate(90.242185 248.050937)rotate(-90)scale(0.1 -0.1)\">\n       <use xlink:href=\"#DejaVuSans-116\"/>\n       <use x=\"39.208984\" xlink:href=\"#DejaVuSans-104\"/>\n       <use x=\"102.587891\" xlink:href=\"#DejaVuSans-101\"/>\n      </g>\n     </g>\n    </g>\n    <g id=\"xtick_3\">\n     <g id=\"line2d_5\">\n      <path clip-path=\"url(#p06f79e5ad7)\" d=\"M 93.694312 224.64 \nL 93.694312 7.2 \n\" style=\"fill:none;stroke:#c0c0c0;stroke-linecap:square;stroke-width:0.8;\"/>\n     </g>\n     <g id=\"line2d_6\">\n      <g>\n       <use style=\"stroke:#000000;stroke-width:0.8;\" x=\"93.694312\" xlink:href=\"#m4e7ed46df9\" y=\"224.64\"/>\n      </g>\n     </g>\n     <g id=\"text_3\">\n      <!-- . -->\n      <defs>\n       <path d=\"M 10.6875 12.40625 \nL 21 12.40625 \nL 21 0 \nL 10.6875 0 \nz\n\" id=\"DejaVuSans-46\"/>\n      </defs>\n      <g transform=\"translate(96.453687 234.818125)rotate(-90)scale(0.1 -0.1)\">\n       <use xlink:href=\"#DejaVuSans-46\"/>\n      </g>\n     </g>\n    </g>\n    <g id=\"xtick_4\">\n     <g id=\"line2d_7\">\n      <path clip-path=\"url(#p06f79e5ad7)\" d=\"M 99.905815 224.64 \nL 99.905815 7.2 \n\" style=\"fill:none;stroke:#c0c0c0;stroke-linecap:square;stroke-width:0.8;\"/>\n     </g>\n     <g id=\"line2d_8\">\n      <g>\n       <use style=\"stroke:#000000;stroke-width:0.8;\" x=\"99.905815\" xlink:href=\"#m4e7ed46df9\" y=\"224.64\"/>\n      </g>\n     </g>\n     <g id=\"text_4\">\n      <!-- of -->\n      <defs>\n       <path d=\"M 30.609375 48.390625 \nQ 23.390625 48.390625 19.1875 42.75 \nQ 14.984375 37.109375 14.984375 27.296875 \nQ 14.984375 17.484375 19.15625 11.84375 \nQ 23.34375 6.203125 30.609375 6.203125 \nQ 37.796875 6.203125 41.984375 11.859375 \nQ 46.1875 17.53125 46.1875 27.296875 \nQ 46.1875 37.015625 41.984375 42.703125 \nQ 37.796875 48.390625 30.609375 48.390625 \nz\nM 30.609375 56 \nQ 42.328125 56 49.015625 48.375 \nQ 55.71875 40.765625 55.71875 27.296875 \nQ 55.71875 13.875 49.015625 6.21875 \nQ 42.328125 -1.421875 30.609375 -1.421875 \nQ 18.84375 -1.421875 12.171875 6.21875 \nQ 5.515625 13.875 5.515625 27.296875 \nQ 5.515625 40.765625 12.171875 48.375 \nQ 18.84375 56 30.609375 56 \nz\n\" id=\"DejaVuSans-111\"/>\n       <path d=\"M 37.109375 75.984375 \nL 37.109375 68.5 \nL 28.515625 68.5 \nQ 23.6875 68.5 21.796875 66.546875 \nQ 19.921875 64.59375 19.921875 59.515625 \nL 19.921875 54.6875 \nL 34.71875 54.6875 \nL 34.71875 47.703125 \nL 19.921875 47.703125 \nL 19.921875 0 \nL 10.890625 0 \nL 10.890625 47.703125 \nL 2.296875 47.703125 \nL 2.296875 54.6875 \nL 10.890625 54.6875 \nL 10.890625 58.5 \nQ 10.890625 67.625 15.140625 71.796875 \nQ 19.390625 75.984375 28.609375 75.984375 \nz\n\" id=\"DejaVuSans-102\"/>\n      </defs>\n      <g transform=\"translate(102.66519 241.279062)rotate(-90)scale(0.1 -0.1)\">\n       <use xlink:href=\"#DejaVuSans-111\"/>\n       <use x=\"61.181641\" xlink:href=\"#DejaVuSans-102\"/>\n      </g>\n     </g>\n    </g>\n    <g id=\"xtick_5\">\n     <g id=\"line2d_9\">\n      <path clip-path=\"url(#p06f79e5ad7)\" d=\"M 106.117318 224.64 \nL 106.117318 7.2 \n\" style=\"fill:none;stroke:#c0c0c0;stroke-linecap:square;stroke-width:0.8;\"/>\n     </g>\n     <g id=\"line2d_10\">\n      <g>\n       <use style=\"stroke:#000000;stroke-width:0.8;\" x=\"106.117318\" xlink:href=\"#m4e7ed46df9\" y=\"224.64\"/>\n      </g>\n     </g>\n     <g id=\"text_5\">\n      <!-- and -->\n      <defs>\n       <path d=\"M 34.28125 27.484375 \nQ 23.390625 27.484375 19.1875 25 \nQ 14.984375 22.515625 14.984375 16.5 \nQ 14.984375 11.71875 18.140625 8.90625 \nQ 21.296875 6.109375 26.703125 6.109375 \nQ 34.1875 6.109375 38.703125 11.40625 \nQ 43.21875 16.703125 43.21875 25.484375 \nL 43.21875 27.484375 \nz\nM 52.203125 31.203125 \nL 52.203125 0 \nL 43.21875 0 \nL 43.21875 8.296875 \nQ 40.140625 3.328125 35.546875 0.953125 \nQ 30.953125 -1.421875 24.3125 -1.421875 \nQ 15.921875 -1.421875 10.953125 3.296875 \nQ 6 8.015625 6 15.921875 \nQ 6 25.140625 12.171875 29.828125 \nQ 18.359375 34.515625 30.609375 34.515625 \nL 43.21875 34.515625 \nL 43.21875 35.40625 \nQ 43.21875 41.609375 39.140625 45 \nQ 35.0625 48.390625 27.6875 48.390625 \nQ 23 48.390625 18.546875 47.265625 \nQ 14.109375 46.140625 10.015625 43.890625 \nL 10.015625 52.203125 \nQ 14.9375 54.109375 19.578125 55.046875 \nQ 24.21875 56 28.609375 56 \nQ 40.484375 56 46.34375 49.84375 \nQ 52.203125 43.703125 52.203125 31.203125 \nz\n\" id=\"DejaVuSans-97\"/>\n       <path d=\"M 54.890625 33.015625 \nL 54.890625 0 \nL 45.90625 0 \nL 45.90625 32.71875 \nQ 45.90625 40.484375 42.875 44.328125 \nQ 39.84375 48.1875 33.796875 48.1875 \nQ 26.515625 48.1875 22.3125 43.546875 \nQ 18.109375 38.921875 18.109375 30.90625 \nL 18.109375 0 \nL 9.078125 0 \nL 9.078125 54.6875 \nL 18.109375 54.6875 \nL 18.109375 46.1875 \nQ 21.34375 51.125 25.703125 53.5625 \nQ 30.078125 56 35.796875 56 \nQ 45.21875 56 50.046875 50.171875 \nQ 54.890625 44.34375 54.890625 33.015625 \nz\n\" id=\"DejaVuSans-110\"/>\n       <path d=\"M 45.40625 46.390625 \nL 45.40625 75.984375 \nL 54.390625 75.984375 \nL 54.390625 0 \nL 45.40625 0 \nL 45.40625 8.203125 \nQ 42.578125 3.328125 38.25 0.953125 \nQ 33.9375 -1.421875 27.875 -1.421875 \nQ 17.96875 -1.421875 11.734375 6.484375 \nQ 5.515625 14.40625 5.515625 27.296875 \nQ 5.515625 40.1875 11.734375 48.09375 \nQ 17.96875 56 27.875 56 \nQ 33.9375 56 38.25 53.625 \nQ 42.578125 51.265625 45.40625 46.390625 \nz\nM 14.796875 27.296875 \nQ 14.796875 17.390625 18.875 11.75 \nQ 22.953125 6.109375 30.078125 6.109375 \nQ 37.203125 6.109375 41.296875 11.75 \nQ 45.40625 17.390625 45.40625 27.296875 \nQ 45.40625 37.203125 41.296875 42.84375 \nQ 37.203125 48.484375 30.078125 48.484375 \nQ 22.953125 48.484375 18.875 42.84375 \nQ 14.796875 37.203125 14.796875 27.296875 \nz\n\" id=\"DejaVuSans-100\"/>\n      </defs>\n      <g transform=\"translate(108.876693 250.454062)rotate(-90)scale(0.1 -0.1)\">\n       <use xlink:href=\"#DejaVuSans-97\"/>\n       <use x=\"61.279297\" xlink:href=\"#DejaVuSans-110\"/>\n       <use x=\"124.658203\" xlink:href=\"#DejaVuSans-100\"/>\n      </g>\n     </g>\n    </g>\n    <g id=\"xtick_6\">\n     <g id=\"line2d_11\">\n      <path clip-path=\"url(#p06f79e5ad7)\" d=\"M 112.328821 224.64 \nL 112.328821 7.2 \n\" style=\"fill:none;stroke:#c0c0c0;stroke-linecap:square;stroke-width:0.8;\"/>\n     </g>\n     <g id=\"line2d_12\">\n      <g>\n       <use style=\"stroke:#000000;stroke-width:0.8;\" x=\"112.328821\" xlink:href=\"#m4e7ed46df9\" y=\"224.64\"/>\n      </g>\n     </g>\n     <g id=\"text_6\">\n      <!-- a -->\n      <g transform=\"translate(115.088196 237.768125)rotate(-90)scale(0.1 -0.1)\">\n       <use xlink:href=\"#DejaVuSans-97\"/>\n      </g>\n     </g>\n    </g>\n    <g id=\"xtick_7\">\n     <g id=\"line2d_13\">\n      <path clip-path=\"url(#p06f79e5ad7)\" d=\"M 118.540324 224.64 \nL 118.540324 7.2 \n\" style=\"fill:none;stroke:#c0c0c0;stroke-linecap:square;stroke-width:0.8;\"/>\n     </g>\n     <g id=\"line2d_14\">\n      <g>\n       <use style=\"stroke:#000000;stroke-width:0.8;\" x=\"118.540324\" xlink:href=\"#m4e7ed46df9\" y=\"224.64\"/>\n      </g>\n     </g>\n     <g id=\"text_7\">\n      <!-- to -->\n      <g transform=\"translate(121.299699 241.679062)rotate(-90)scale(0.1 -0.1)\">\n       <use xlink:href=\"#DejaVuSans-116\"/>\n       <use x=\"39.208984\" xlink:href=\"#DejaVuSans-111\"/>\n      </g>\n     </g>\n    </g>\n    <g id=\"xtick_8\">\n     <g id=\"line2d_15\">\n      <path clip-path=\"url(#p06f79e5ad7)\" d=\"M 124.751826 224.64 \nL 124.751826 7.2 \n\" style=\"fill:none;stroke:#c0c0c0;stroke-linecap:square;stroke-width:0.8;\"/>\n     </g>\n     <g id=\"line2d_16\">\n      <g>\n       <use style=\"stroke:#000000;stroke-width:0.8;\" x=\"124.751826\" xlink:href=\"#m4e7ed46df9\" y=\"224.64\"/>\n      </g>\n     </g>\n     <g id=\"text_8\">\n      <!-- ; -->\n      <defs>\n       <path d=\"M 11.71875 51.703125 \nL 22.015625 51.703125 \nL 22.015625 39.3125 \nL 11.71875 39.3125 \nz\nM 11.71875 12.40625 \nL 22.015625 12.40625 \nL 22.015625 4 \nL 14.015625 -11.625 \nL 7.71875 -11.625 \nL 11.71875 4 \nz\n\" id=\"DejaVuSans-59\"/>\n      </defs>\n      <g transform=\"translate(127.511201 235.00875)rotate(-90)scale(0.1 -0.1)\">\n       <use xlink:href=\"#DejaVuSans-59\"/>\n      </g>\n     </g>\n    </g>\n    <g id=\"xtick_9\">\n     <g id=\"line2d_17\">\n      <path clip-path=\"url(#p06f79e5ad7)\" d=\"M 130.963329 224.64 \nL 130.963329 7.2 \n\" style=\"fill:none;stroke:#c0c0c0;stroke-linecap:square;stroke-width:0.8;\"/>\n     </g>\n     <g id=\"line2d_18\">\n      <g>\n       <use style=\"stroke:#000000;stroke-width:0.8;\" x=\"130.963329\" xlink:href=\"#m4e7ed46df9\" y=\"224.64\"/>\n      </g>\n     </g>\n     <g id=\"text_9\">\n      <!-- in -->\n      <defs>\n       <path d=\"M 9.421875 54.6875 \nL 18.40625 54.6875 \nL 18.40625 0 \nL 9.421875 0 \nz\nM 9.421875 75.984375 \nL 18.40625 75.984375 \nL 18.40625 64.59375 \nL 9.421875 64.59375 \nz\n\" id=\"DejaVuSans-105\"/>\n      </defs>\n      <g transform=\"translate(133.722704 240.755625)rotate(-90)scale(0.1 -0.1)\">\n       <use xlink:href=\"#DejaVuSans-105\"/>\n       <use x=\"27.783203\" xlink:href=\"#DejaVuSans-110\"/>\n      </g>\n     </g>\n    </g>\n    <g id=\"xtick_10\">\n     <g id=\"line2d_19\">\n      <path clip-path=\"url(#p06f79e5ad7)\" d=\"M 137.174832 224.64 \nL 137.174832 7.2 \n\" style=\"fill:none;stroke:#c0c0c0;stroke-linecap:square;stroke-width:0.8;\"/>\n     </g>\n     <g id=\"line2d_20\">\n      <g>\n       <use style=\"stroke:#000000;stroke-width:0.8;\" x=\"137.174832\" xlink:href=\"#m4e7ed46df9\" y=\"224.64\"/>\n      </g>\n     </g>\n     <g id=\"text_10\">\n      <!-- that -->\n      <g transform=\"translate(139.934207 251.94625)rotate(-90)scale(0.1 -0.1)\">\n       <use xlink:href=\"#DejaVuSans-116\"/>\n       <use x=\"39.208984\" xlink:href=\"#DejaVuSans-104\"/>\n       <use x=\"102.587891\" xlink:href=\"#DejaVuSans-97\"/>\n       <use x=\"163.867188\" xlink:href=\"#DejaVuSans-116\"/>\n      </g>\n     </g>\n    </g>\n    <g id=\"xtick_11\">\n     <g id=\"line2d_21\">\n      <path clip-path=\"url(#p06f79e5ad7)\" d=\"M 143.386335 224.64 \nL 143.386335 7.2 \n\" style=\"fill:none;stroke:#c0c0c0;stroke-linecap:square;stroke-width:0.8;\"/>\n     </g>\n     <g id=\"line2d_22\">\n      <g>\n       <use style=\"stroke:#000000;stroke-width:0.8;\" x=\"143.386335\" xlink:href=\"#m4e7ed46df9\" y=\"224.64\"/>\n      </g>\n     </g>\n     <g id=\"text_11\">\n      <!-- ' -->\n      <defs>\n       <path d=\"M 17.921875 72.90625 \nL 17.921875 45.796875 \nL 9.625 45.796875 \nL 9.625 72.90625 \nz\n\" id=\"DejaVuSans-39\"/>\n      </defs>\n      <g transform=\"translate(146.14571 234.388437)rotate(-90)scale(0.1 -0.1)\">\n       <use xlink:href=\"#DejaVuSans-39\"/>\n      </g>\n     </g>\n    </g>\n    <g id=\"xtick_12\">\n     <g id=\"line2d_23\">\n      <path clip-path=\"url(#p06f79e5ad7)\" d=\"M 149.597837 224.64 \nL 149.597837 7.2 \n\" style=\"fill:none;stroke:#c0c0c0;stroke-linecap:square;stroke-width:0.8;\"/>\n     </g>\n     <g id=\"line2d_24\">\n      <g>\n       <use style=\"stroke:#000000;stroke-width:0.8;\" x=\"149.597837\" xlink:href=\"#m4e7ed46df9\" y=\"224.64\"/>\n      </g>\n     </g>\n     <g id=\"text_12\">\n      <!-- - -->\n      <defs>\n       <path d=\"M 4.890625 31.390625 \nL 31.203125 31.390625 \nL 31.203125 23.390625 \nL 4.890625 23.390625 \nz\n\" id=\"DejaVuSans-45\"/>\n      </defs>\n      <g transform=\"translate(152.357212 235.247812)rotate(-90)scale(0.1 -0.1)\">\n       <use xlink:href=\"#DejaVuSans-45\"/>\n      </g>\n     </g>\n    </g>\n    <g id=\"xtick_13\">\n     <g id=\"line2d_25\">\n      <path clip-path=\"url(#p06f79e5ad7)\" d=\"M 155.80934 224.64 \nL 155.80934 7.2 \n\" style=\"fill:none;stroke:#c0c0c0;stroke-linecap:square;stroke-width:0.8;\"/>\n     </g>\n     <g id=\"line2d_26\">\n      <g>\n       <use style=\"stroke:#000000;stroke-width:0.8;\" x=\"155.80934\" xlink:href=\"#m4e7ed46df9\" y=\"224.64\"/>\n      </g>\n     </g>\n     <g id=\"text_13\">\n      <!-- his -->\n      <defs>\n       <path d=\"M 44.28125 53.078125 \nL 44.28125 44.578125 \nQ 40.484375 46.53125 36.375 47.5 \nQ 32.28125 48.484375 27.875 48.484375 \nQ 21.1875 48.484375 17.84375 46.4375 \nQ 14.5 44.390625 14.5 40.28125 \nQ 14.5 37.15625 16.890625 35.375 \nQ 19.28125 33.59375 26.515625 31.984375 \nL 29.59375 31.296875 \nQ 39.15625 29.25 43.1875 25.515625 \nQ 47.21875 21.78125 47.21875 15.09375 \nQ 47.21875 7.46875 41.1875 3.015625 \nQ 35.15625 -1.421875 24.609375 -1.421875 \nQ 20.21875 -1.421875 15.453125 -0.5625 \nQ 10.6875 0.296875 5.421875 2 \nL 5.421875 11.28125 \nQ 10.40625 8.6875 15.234375 7.390625 \nQ 20.0625 6.109375 24.8125 6.109375 \nQ 31.15625 6.109375 34.5625 8.28125 \nQ 37.984375 10.453125 37.984375 14.40625 \nQ 37.984375 18.0625 35.515625 20.015625 \nQ 33.0625 21.96875 24.703125 23.78125 \nL 21.578125 24.515625 \nQ 13.234375 26.265625 9.515625 29.90625 \nQ 5.8125 33.546875 5.8125 39.890625 \nQ 5.8125 47.609375 11.28125 51.796875 \nQ 16.75 56 26.8125 56 \nQ 31.78125 56 36.171875 55.265625 \nQ 40.578125 54.546875 44.28125 53.078125 \nz\n\" id=\"DejaVuSans-115\"/>\n      </defs>\n      <g transform=\"translate(158.568715 245.965)rotate(-90)scale(0.1 -0.1)\">\n       <use xlink:href=\"#DejaVuSans-104\"/>\n       <use x=\"63.378906\" xlink:href=\"#DejaVuSans-105\"/>\n       <use x=\"91.162109\" xlink:href=\"#DejaVuSans-115\"/>\n      </g>\n     </g>\n    </g>\n    <g id=\"xtick_14\">\n     <g id=\"line2d_27\">\n      <path clip-path=\"url(#p06f79e5ad7)\" d=\"M 162.020843 224.64 \nL 162.020843 7.2 \n\" style=\"fill:none;stroke:#c0c0c0;stroke-linecap:square;stroke-width:0.8;\"/>\n     </g>\n     <g id=\"line2d_28\">\n      <g>\n       <use style=\"stroke:#000000;stroke-width:0.8;\" x=\"162.020843\" xlink:href=\"#m4e7ed46df9\" y=\"224.64\"/>\n      </g>\n     </g>\n     <g id=\"text_14\">\n      <!-- it -->\n      <g transform=\"translate(164.780218 238.338437)rotate(-90)scale(0.1 -0.1)\">\n       <use xlink:href=\"#DejaVuSans-105\"/>\n       <use x=\"27.783203\" xlink:href=\"#DejaVuSans-116\"/>\n      </g>\n     </g>\n    </g>\n    <g id=\"xtick_15\">\n     <g id=\"line2d_29\">\n      <path clip-path=\"url(#p06f79e5ad7)\" d=\"M 168.232346 224.64 \nL 168.232346 7.2 \n\" style=\"fill:none;stroke:#c0c0c0;stroke-linecap:square;stroke-width:0.8;\"/>\n     </g>\n     <g id=\"line2d_30\">\n      <g>\n       <use style=\"stroke:#000000;stroke-width:0.8;\" x=\"168.232346\" xlink:href=\"#m4e7ed46df9\" y=\"224.64\"/>\n      </g>\n     </g>\n     <g id=\"text_15\">\n      <!-- I -->\n      <defs>\n       <path d=\"M 9.8125 72.90625 \nL 19.671875 72.90625 \nL 19.671875 0 \nL 9.8125 0 \nz\n\" id=\"DejaVuSans-73\"/>\n      </defs>\n      <g transform=\"translate(170.991721 234.59)rotate(-90)scale(0.1 -0.1)\">\n       <use xlink:href=\"#DejaVuSans-73\"/>\n      </g>\n     </g>\n    </g>\n    <g id=\"xtick_16\">\n     <g id=\"line2d_31\">\n      <path clip-path=\"url(#p06f79e5ad7)\" d=\"M 174.443849 224.64 \nL 174.443849 7.2 \n\" style=\"fill:none;stroke:#c0c0c0;stroke-linecap:square;stroke-width:0.8;\"/>\n     </g>\n     <g id=\"line2d_32\">\n      <g>\n       <use style=\"stroke:#000000;stroke-width:0.8;\" x=\"174.443849\" xlink:href=\"#m4e7ed46df9\" y=\"224.64\"/>\n      </g>\n     </g>\n     <g id=\"text_16\">\n      <!-- s -->\n      <g transform=\"translate(177.203224 236.849375)rotate(-90)scale(0.1 -0.1)\">\n       <use xlink:href=\"#DejaVuSans-115\"/>\n      </g>\n     </g>\n    </g>\n    <g id=\"xtick_17\">\n     <g id=\"line2d_33\">\n      <path clip-path=\"url(#p06f79e5ad7)\" d=\"M 180.655351 224.64 \nL 180.655351 7.2 \n\" style=\"fill:none;stroke:#c0c0c0;stroke-linecap:square;stroke-width:0.8;\"/>\n     </g>\n     <g id=\"line2d_34\">\n      <g>\n       <use style=\"stroke:#000000;stroke-width:0.8;\" x=\"180.655351\" xlink:href=\"#m4e7ed46df9\" y=\"224.64\"/>\n      </g>\n     </g>\n     <g id=\"text_17\">\n      <!-- is -->\n      <g transform=\"translate(183.414726 239.6275)rotate(-90)scale(0.1 -0.1)\">\n       <use xlink:href=\"#DejaVuSans-105\"/>\n       <use x=\"27.783203\" xlink:href=\"#DejaVuSans-115\"/>\n      </g>\n     </g>\n    </g>\n    <g id=\"xtick_18\">\n     <g id=\"line2d_35\">\n      <path clip-path=\"url(#p06f79e5ad7)\" d=\"M 186.866854 224.64 \nL 186.866854 7.2 \n\" style=\"fill:none;stroke:#c0c0c0;stroke-linecap:square;stroke-width:0.8;\"/>\n     </g>\n     <g id=\"line2d_36\">\n      <g>\n       <use style=\"stroke:#000000;stroke-width:0.8;\" x=\"186.866854\" xlink:href=\"#m4e7ed46df9\" y=\"224.64\"/>\n      </g>\n     </g>\n     <g id=\"text_18\">\n      <!-- he -->\n      <g transform=\"translate(189.626229 244.130625)rotate(-90)scale(0.1 -0.1)\">\n       <use xlink:href=\"#DejaVuSans-104\"/>\n       <use x=\"63.378906\" xlink:href=\"#DejaVuSans-101\"/>\n      </g>\n     </g>\n    </g>\n    <g id=\"xtick_19\">\n     <g id=\"line2d_37\">\n      <path clip-path=\"url(#p06f79e5ad7)\" d=\"M 193.078357 224.64 \nL 193.078357 7.2 \n\" style=\"fill:none;stroke:#c0c0c0;stroke-linecap:square;stroke-width:0.8;\"/>\n     </g>\n     <g id=\"line2d_38\">\n      <g>\n       <use style=\"stroke:#000000;stroke-width:0.8;\" x=\"193.078357\" xlink:href=\"#m4e7ed46df9\" y=\"224.64\"/>\n      </g>\n     </g>\n     <g id=\"text_19\">\n      <!-- with -->\n      <defs>\n       <path d=\"M 4.203125 54.6875 \nL 13.1875 54.6875 \nL 24.421875 12.015625 \nL 35.59375 54.6875 \nL 46.1875 54.6875 \nL 57.421875 12.015625 \nL 68.609375 54.6875 \nL 77.59375 54.6875 \nL 63.28125 0 \nL 52.6875 0 \nL 40.921875 44.828125 \nL 29.109375 0 \nL 18.5 0 \nz\n\" id=\"DejaVuSans-119\"/>\n      </defs>\n      <g transform=\"translate(195.837732 252.854062)rotate(-90)scale(0.1 -0.1)\">\n       <use xlink:href=\"#DejaVuSans-119\"/>\n       <use x=\"81.787109\" xlink:href=\"#DejaVuSans-105\"/>\n       <use x=\"109.570312\" xlink:href=\"#DejaVuSans-116\"/>\n       <use x=\"148.779297\" xlink:href=\"#DejaVuSans-104\"/>\n      </g>\n     </g>\n    </g>\n    <g id=\"xtick_20\">\n     <g id=\"line2d_39\">\n      <path clip-path=\"url(#p06f79e5ad7)\" d=\"M 199.28986 224.64 \nL 199.28986 7.2 \n\" style=\"fill:none;stroke:#c0c0c0;stroke-linecap:square;stroke-width:0.8;\"/>\n     </g>\n     <g id=\"line2d_40\">\n      <g>\n       <use style=\"stroke:#000000;stroke-width:0.8;\" x=\"199.28986\" xlink:href=\"#m4e7ed46df9\" y=\"224.64\"/>\n      </g>\n     </g>\n     <g id=\"text_20\">\n      <!-- was -->\n      <g transform=\"translate(202.049235 251.155625)rotate(-90)scale(0.1 -0.1)\">\n       <use xlink:href=\"#DejaVuSans-119\"/>\n       <use x=\"81.787109\" xlink:href=\"#DejaVuSans-97\"/>\n       <use x=\"143.066406\" xlink:href=\"#DejaVuSans-115\"/>\n      </g>\n     </g>\n    </g>\n    <g id=\"xtick_21\">\n     <g id=\"line2d_41\">\n      <path clip-path=\"url(#p06f79e5ad7)\" d=\"M 205.501362 224.64 \nL 205.501362 7.2 \n\" style=\"fill:none;stroke:#c0c0c0;stroke-linecap:square;stroke-width:0.8;\"/>\n     </g>\n     <g id=\"line2d_42\">\n      <g>\n       <use style=\"stroke:#000000;stroke-width:0.8;\" x=\"205.501362\" xlink:href=\"#m4e7ed46df9\" y=\"224.64\"/>\n      </g>\n     </g>\n     <g id=\"text_21\">\n      <!-- as -->\n      <g transform=\"translate(208.260737 242.9775)rotate(-90)scale(0.1 -0.1)\">\n       <use xlink:href=\"#DejaVuSans-97\"/>\n       <use x=\"61.279297\" xlink:href=\"#DejaVuSans-115\"/>\n      </g>\n     </g>\n    </g>\n    <g id=\"xtick_22\">\n     <g id=\"line2d_43\">\n      <path clip-path=\"url(#p06f79e5ad7)\" d=\"M 211.712865 224.64 \nL 211.712865 7.2 \n\" style=\"fill:none;stroke:#c0c0c0;stroke-linecap:square;stroke-width:0.8;\"/>\n     </g>\n     <g id=\"line2d_44\">\n      <g>\n       <use style=\"stroke:#000000;stroke-width:0.8;\" x=\"211.712865\" xlink:href=\"#m4e7ed46df9\" y=\"224.64\"/>\n      </g>\n     </g>\n     <g id=\"text_22\">\n      <!-- \" -->\n      <defs>\n       <path d=\"M 17.921875 72.90625 \nL 17.921875 45.796875 \nL 9.625 45.796875 \nL 9.625 72.90625 \nz\nM 36.375 72.90625 \nL 36.375 45.796875 \nL 28.078125 45.796875 \nL 28.078125 72.90625 \nz\n\" id=\"DejaVuSans-34\"/>\n      </defs>\n      <g transform=\"translate(214.47224 236.24)rotate(-90)scale(0.1 -0.1)\">\n       <use xlink:href=\"#DejaVuSans-34\"/>\n      </g>\n     </g>\n    </g>\n    <g id=\"xtick_23\">\n     <g id=\"line2d_45\">\n      <path clip-path=\"url(#p06f79e5ad7)\" d=\"M 217.924368 224.64 \nL 217.924368 7.2 \n\" style=\"fill:none;stroke:#c0c0c0;stroke-linecap:square;stroke-width:0.8;\"/>\n     </g>\n     <g id=\"line2d_46\">\n      <g>\n       <use style=\"stroke:#000000;stroke-width:0.8;\" x=\"217.924368\" xlink:href=\"#m4e7ed46df9\" y=\"224.64\"/>\n      </g>\n     </g>\n     <g id=\"text_23\">\n      <!-- all -->\n      <defs>\n       <path d=\"M 9.421875 75.984375 \nL 18.40625 75.984375 \nL 18.40625 0 \nL 9.421875 0 \nz\n\" id=\"DejaVuSans-108\"/>\n      </defs>\n      <g transform=\"translate(220.683743 243.324375)rotate(-90)scale(0.1 -0.1)\">\n       <use xlink:href=\"#DejaVuSans-97\"/>\n       <use x=\"61.279297\" xlink:href=\"#DejaVuSans-108\"/>\n       <use x=\"89.0625\" xlink:href=\"#DejaVuSans-108\"/>\n      </g>\n     </g>\n    </g>\n    <g id=\"xtick_24\">\n     <g id=\"line2d_47\">\n      <path clip-path=\"url(#p06f79e5ad7)\" d=\"M 224.135871 224.64 \nL 224.135871 7.2 \n\" style=\"fill:none;stroke:#c0c0c0;stroke-linecap:square;stroke-width:0.8;\"/>\n     </g>\n     <g id=\"line2d_48\">\n      <g>\n       <use style=\"stroke:#000000;stroke-width:0.8;\" x=\"224.135871\" xlink:href=\"#m4e7ed46df9\" y=\"224.64\"/>\n      </g>\n     </g>\n     <g id=\"text_24\">\n      <!-- for -->\n      <defs>\n       <path d=\"M 41.109375 46.296875 \nQ 39.59375 47.171875 37.8125 47.578125 \nQ 36.03125 48 33.890625 48 \nQ 26.265625 48 22.1875 43.046875 \nQ 18.109375 38.09375 18.109375 28.8125 \nL 18.109375 0 \nL 9.078125 0 \nL 9.078125 54.6875 \nL 18.109375 54.6875 \nL 18.109375 46.1875 \nQ 20.953125 51.171875 25.484375 53.578125 \nQ 30.03125 56 36.53125 56 \nQ 37.453125 56 38.578125 55.875 \nQ 39.703125 55.765625 41.0625 55.515625 \nz\n\" id=\"DejaVuSans-114\"/>\n      </defs>\n      <g transform=\"translate(226.895246 245.39)rotate(-90)scale(0.1 -0.1)\">\n       <use xlink:href=\"#DejaVuSans-102\"/>\n       <use x=\"35.205078\" xlink:href=\"#DejaVuSans-111\"/>\n       <use x=\"96.386719\" xlink:href=\"#DejaVuSans-114\"/>\n      </g>\n     </g>\n    </g>\n    <g id=\"xtick_25\">\n     <g id=\"line2d_49\">\n      <path clip-path=\"url(#p06f79e5ad7)\" d=\"M 230.347374 224.64 \nL 230.347374 7.2 \n\" style=\"fill:none;stroke:#c0c0c0;stroke-linecap:square;stroke-width:0.8;\"/>\n     </g>\n     <g id=\"line2d_50\">\n      <g>\n       <use style=\"stroke:#000000;stroke-width:0.8;\" x=\"230.347374\" xlink:href=\"#m4e7ed46df9\" y=\"224.64\"/>\n      </g>\n     </g>\n     <g id=\"text_25\">\n      <!-- this -->\n      <g transform=\"translate(233.106749 249.885312)rotate(-90)scale(0.1 -0.1)\">\n       <use xlink:href=\"#DejaVuSans-116\"/>\n       <use x=\"39.208984\" xlink:href=\"#DejaVuSans-104\"/>\n       <use x=\"102.587891\" xlink:href=\"#DejaVuSans-105\"/>\n       <use x=\"130.371094\" xlink:href=\"#DejaVuSans-115\"/>\n      </g>\n     </g>\n    </g>\n    <g id=\"xtick_26\">\n     <g id=\"line2d_51\">\n      <path clip-path=\"url(#p06f79e5ad7)\" d=\"M 236.558876 224.64 \nL 236.558876 7.2 \n\" style=\"fill:none;stroke:#c0c0c0;stroke-linecap:square;stroke-width:0.8;\"/>\n     </g>\n     <g id=\"line2d_52\">\n      <g>\n       <use style=\"stroke:#000000;stroke-width:0.8;\" x=\"236.558876\" xlink:href=\"#m4e7ed46df9\" y=\"224.64\"/>\n      </g>\n     </g>\n     <g id=\"text_26\">\n      <!-- ! -->\n      <defs>\n       <path d=\"M 15.09375 12.40625 \nL 25 12.40625 \nL 25 0 \nL 15.09375 0 \nz\nM 15.09375 72.90625 \nL 25 72.90625 \nL 25 40.921875 \nL 24.03125 23.484375 \nL 16.109375 23.484375 \nL 15.09375 40.921875 \nz\n\" id=\"DejaVuSans-33\"/>\n      </defs>\n      <g transform=\"translate(239.318251 235.649375)rotate(-90)scale(0.1 -0.1)\">\n       <use xlink:href=\"#DejaVuSans-33\"/>\n      </g>\n     </g>\n    </g>\n    <g id=\"xtick_27\">\n     <g id=\"line2d_53\">\n      <path clip-path=\"url(#p06f79e5ad7)\" d=\"M 242.770379 224.64 \nL 242.770379 7.2 \n\" style=\"fill:none;stroke:#c0c0c0;stroke-linecap:square;stroke-width:0.8;\"/>\n     </g>\n     <g id=\"line2d_54\">\n      <g>\n       <use style=\"stroke:#000000;stroke-width:0.8;\" x=\"242.770379\" xlink:href=\"#m4e7ed46df9\" y=\"224.64\"/>\n      </g>\n     </g>\n     <g id=\"text_27\">\n      <!-- at -->\n      <g transform=\"translate(245.529754 241.688437)rotate(-90)scale(0.1 -0.1)\">\n       <use xlink:href=\"#DejaVuSans-97\"/>\n       <use x=\"61.279297\" xlink:href=\"#DejaVuSans-116\"/>\n      </g>\n     </g>\n    </g>\n    <g id=\"xtick_28\">\n     <g id=\"line2d_55\">\n      <path clip-path=\"url(#p06f79e5ad7)\" d=\"M 248.981882 224.64 \nL 248.981882 7.2 \n\" style=\"fill:none;stroke:#c0c0c0;stroke-linecap:square;stroke-width:0.8;\"/>\n     </g>\n     <g id=\"line2d_56\">\n      <g>\n       <use style=\"stroke:#000000;stroke-width:0.8;\" x=\"248.981882\" xlink:href=\"#m4e7ed46df9\" y=\"224.64\"/>\n      </g>\n     </g>\n     <g id=\"text_28\">\n      <!-- by -->\n      <defs>\n       <path d=\"M 48.6875 27.296875 \nQ 48.6875 37.203125 44.609375 42.84375 \nQ 40.53125 48.484375 33.40625 48.484375 \nQ 26.265625 48.484375 22.1875 42.84375 \nQ 18.109375 37.203125 18.109375 27.296875 \nQ 18.109375 17.390625 22.1875 11.75 \nQ 26.265625 6.109375 33.40625 6.109375 \nQ 40.53125 6.109375 44.609375 11.75 \nQ 48.6875 17.390625 48.6875 27.296875 \nz\nM 18.109375 46.390625 \nQ 20.953125 51.265625 25.265625 53.625 \nQ 29.59375 56 35.59375 56 \nQ 45.5625 56 51.78125 48.09375 \nQ 58.015625 40.1875 58.015625 27.296875 \nQ 58.015625 14.40625 51.78125 6.484375 \nQ 45.5625 -1.421875 35.59375 -1.421875 \nQ 29.59375 -1.421875 25.265625 0.953125 \nQ 20.953125 3.328125 18.109375 8.203125 \nL 18.109375 0 \nL 9.078125 0 \nL 9.078125 75.984375 \nL 18.109375 75.984375 \nz\n\" id=\"DejaVuSans-98\"/>\n       <path d=\"M 32.171875 -5.078125 \nQ 28.375 -14.84375 24.75 -17.8125 \nQ 21.140625 -20.796875 15.09375 -20.796875 \nL 7.90625 -20.796875 \nL 7.90625 -13.28125 \nL 13.1875 -13.28125 \nQ 16.890625 -13.28125 18.9375 -11.515625 \nQ 21 -9.765625 23.484375 -3.21875 \nL 25.09375 0.875 \nL 2.984375 54.6875 \nL 12.5 54.6875 \nL 29.59375 11.921875 \nL 46.6875 54.6875 \nL 56.203125 54.6875 \nz\n\" id=\"DejaVuSans-121\"/>\n      </defs>\n      <g transform=\"translate(251.741257 243.907187)rotate(-90)scale(0.1 -0.1)\">\n       <use xlink:href=\"#DejaVuSans-98\"/>\n       <use x=\"63.476562\" xlink:href=\"#DejaVuSans-121\"/>\n      </g>\n     </g>\n    </g>\n    <g id=\"xtick_29\">\n     <g id=\"line2d_57\">\n      <path clip-path=\"url(#p06f79e5ad7)\" d=\"M 255.193385 224.64 \nL 255.193385 7.2 \n\" style=\"fill:none;stroke:#c0c0c0;stroke-linecap:square;stroke-width:0.8;\"/>\n     </g>\n     <g id=\"line2d_58\">\n      <g>\n       <use style=\"stroke:#000000;stroke-width:0.8;\" x=\"255.193385\" xlink:href=\"#m4e7ed46df9\" y=\"224.64\"/>\n      </g>\n     </g>\n     <g id=\"text_29\">\n      <!-- but -->\n      <defs>\n       <path d=\"M 8.5 21.578125 \nL 8.5 54.6875 \nL 17.484375 54.6875 \nL 17.484375 21.921875 \nQ 17.484375 14.15625 20.5 10.265625 \nQ 23.53125 6.390625 29.59375 6.390625 \nQ 36.859375 6.390625 41.078125 11.03125 \nQ 45.3125 15.671875 45.3125 23.6875 \nL 45.3125 54.6875 \nL 54.296875 54.6875 \nL 54.296875 0 \nL 45.3125 0 \nL 45.3125 8.40625 \nQ 42.046875 3.421875 37.71875 1 \nQ 33.40625 -1.421875 27.6875 -1.421875 \nQ 18.265625 -1.421875 13.375 4.4375 \nQ 8.5 10.296875 8.5 21.578125 \nz\nM 31.109375 56 \nz\n\" id=\"DejaVuSans-117\"/>\n      </defs>\n      <g transform=\"translate(257.95276 248.24625)rotate(-90)scale(0.1 -0.1)\">\n       <use xlink:href=\"#DejaVuSans-98\"/>\n       <use x=\"63.476562\" xlink:href=\"#DejaVuSans-117\"/>\n       <use x=\"126.855469\" xlink:href=\"#DejaVuSans-116\"/>\n      </g>\n     </g>\n    </g>\n    <g id=\"xtick_30\">\n     <g id=\"line2d_59\">\n      <path clip-path=\"url(#p06f79e5ad7)\" d=\"M 261.404888 224.64 \nL 261.404888 7.2 \n\" style=\"fill:none;stroke:#c0c0c0;stroke-linecap:square;stroke-width:0.8;\"/>\n     </g>\n     <g id=\"line2d_60\">\n      <g>\n       <use style=\"stroke:#000000;stroke-width:0.8;\" x=\"261.404888\" xlink:href=\"#m4e7ed46df9\" y=\"224.64\"/>\n      </g>\n     </g>\n     <g id=\"text_30\">\n      <!-- not -->\n      <g transform=\"translate(264.164263 248.016562)rotate(-90)scale(0.1 -0.1)\">\n       <use xlink:href=\"#DejaVuSans-110\"/>\n       <use x=\"63.378906\" xlink:href=\"#DejaVuSans-111\"/>\n       <use x=\"124.560547\" xlink:href=\"#DejaVuSans-116\"/>\n      </g>\n     </g>\n    </g>\n    <g id=\"xtick_31\">\n     <g id=\"line2d_61\">\n      <path clip-path=\"url(#p06f79e5ad7)\" d=\"M 267.61639 224.64 \nL 267.61639 7.2 \n\" style=\"fill:none;stroke:#c0c0c0;stroke-linecap:square;stroke-width:0.8;\"/>\n     </g>\n     <g id=\"line2d_62\">\n      <g>\n       <use style=\"stroke:#000000;stroke-width:0.8;\" x=\"267.61639\" xlink:href=\"#m4e7ed46df9\" y=\"224.64\"/>\n      </g>\n     </g>\n     <g id=\"text_31\">\n      <!-- - - -->\n      <g transform=\"translate(270.375765 238.855625)rotate(-90)scale(0.1 -0.1)\">\n       <use xlink:href=\"#DejaVuSans-45\"/>\n       <use x=\"36.083984\" xlink:href=\"#DejaVuSans-45\"/>\n      </g>\n     </g>\n    </g>\n    <g id=\"xtick_32\">\n     <g id=\"line2d_63\">\n      <path clip-path=\"url(#p06f79e5ad7)\" d=\"M 273.827893 224.64 \nL 273.827893 7.2 \n\" style=\"fill:none;stroke:#c0c0c0;stroke-linecap:square;stroke-width:0.8;\"/>\n     </g>\n     <g id=\"line2d_64\">\n      <g>\n       <use style=\"stroke:#000000;stroke-width:0.8;\" x=\"273.827893\" xlink:href=\"#m4e7ed46df9\" y=\"224.64\"/>\n      </g>\n     </g>\n     <g id=\"text_32\">\n      <!-- him -->\n      <defs>\n       <path d=\"M 52 44.1875 \nQ 55.375 50.25 60.0625 53.125 \nQ 64.75 56 71.09375 56 \nQ 79.640625 56 84.28125 50.015625 \nQ 88.921875 44.046875 88.921875 33.015625 \nL 88.921875 0 \nL 79.890625 0 \nL 79.890625 32.71875 \nQ 79.890625 40.578125 77.09375 44.375 \nQ 74.3125 48.1875 68.609375 48.1875 \nQ 61.625 48.1875 57.5625 43.546875 \nQ 53.515625 38.921875 53.515625 30.90625 \nL 53.515625 0 \nL 44.484375 0 \nL 44.484375 32.71875 \nQ 44.484375 40.625 41.703125 44.40625 \nQ 38.921875 48.1875 33.109375 48.1875 \nQ 26.21875 48.1875 22.15625 43.53125 \nQ 18.109375 38.875 18.109375 30.90625 \nL 18.109375 0 \nL 9.078125 0 \nL 9.078125 54.6875 \nL 18.109375 54.6875 \nL 18.109375 46.1875 \nQ 21.1875 51.21875 25.484375 53.609375 \nQ 29.78125 56 35.6875 56 \nQ 41.65625 56 45.828125 52.96875 \nQ 50 49.953125 52 44.1875 \nz\n\" id=\"DejaVuSans-109\"/>\n      </defs>\n      <g transform=\"translate(276.587268 250.49625)rotate(-90)scale(0.1 -0.1)\">\n       <use xlink:href=\"#DejaVuSans-104\"/>\n       <use x=\"63.378906\" xlink:href=\"#DejaVuSans-105\"/>\n       <use x=\"91.162109\" xlink:href=\"#DejaVuSans-109\"/>\n      </g>\n     </g>\n    </g>\n    <g id=\"xtick_33\">\n     <g id=\"line2d_65\">\n      <path clip-path=\"url(#p06f79e5ad7)\" d=\"M 280.039396 224.64 \nL 280.039396 7.2 \n\" style=\"fill:none;stroke:#c0c0c0;stroke-linecap:square;stroke-width:0.8;\"/>\n     </g>\n     <g id=\"line2d_66\">\n      <g>\n       <use style=\"stroke:#000000;stroke-width:0.8;\" x=\"280.039396\" xlink:href=\"#m4e7ed46df9\" y=\"224.64\"/>\n      </g>\n     </g>\n     <g id=\"text_33\">\n      <!-- from -->\n      <g transform=\"translate(282.798771 254.905625)rotate(-90)scale(0.1 -0.1)\">\n       <use xlink:href=\"#DejaVuSans-102\"/>\n       <use x=\"35.205078\" xlink:href=\"#DejaVuSans-114\"/>\n       <use x=\"74.068359\" xlink:href=\"#DejaVuSans-111\"/>\n       <use x=\"135.25\" xlink:href=\"#DejaVuSans-109\"/>\n      </g>\n     </g>\n    </g>\n    <g id=\"xtick_34\">\n     <g id=\"line2d_67\">\n      <path clip-path=\"url(#p06f79e5ad7)\" d=\"M 286.250899 224.64 \nL 286.250899 7.2 \n\" style=\"fill:none;stroke:#c0c0c0;stroke-linecap:square;stroke-width:0.8;\"/>\n     </g>\n     <g id=\"line2d_68\">\n      <g>\n       <use style=\"stroke:#000000;stroke-width:0.8;\" x=\"286.250899\" xlink:href=\"#m4e7ed46df9\" y=\"224.64\"/>\n      </g>\n     </g>\n     <g id=\"text_34\">\n      <!-- be -->\n      <g transform=\"translate(289.010274 244.141562)rotate(-90)scale(0.1 -0.1)\">\n       <use xlink:href=\"#DejaVuSans-98\"/>\n       <use x=\"63.476562\" xlink:href=\"#DejaVuSans-101\"/>\n      </g>\n     </g>\n    </g>\n    <g id=\"xtick_35\">\n     <g id=\"line2d_69\">\n      <path clip-path=\"url(#p06f79e5ad7)\" d=\"M 292.462401 224.64 \nL 292.462401 7.2 \n\" style=\"fill:none;stroke:#c0c0c0;stroke-linecap:square;stroke-width:0.8;\"/>\n     </g>\n     <g id=\"line2d_70\">\n      <g>\n       <use style=\"stroke:#000000;stroke-width:0.8;\" x=\"292.462401\" xlink:href=\"#m4e7ed46df9\" y=\"224.64\"/>\n      </g>\n     </g>\n     <g id=\"text_35\">\n      <!-- on -->\n      <g transform=\"translate(295.221776 244.09625)rotate(-90)scale(0.1 -0.1)\">\n       <use xlink:href=\"#DejaVuSans-111\"/>\n       <use x=\"61.181641\" xlink:href=\"#DejaVuSans-110\"/>\n      </g>\n     </g>\n    </g>\n    <g id=\"xtick_36\">\n     <g id=\"line2d_71\">\n      <path clip-path=\"url(#p06f79e5ad7)\" d=\"M 298.673904 224.64 \nL 298.673904 7.2 \n\" style=\"fill:none;stroke:#c0c0c0;stroke-linecap:square;stroke-width:0.8;\"/>\n     </g>\n     <g id=\"line2d_72\">\n      <g>\n       <use style=\"stroke:#000000;stroke-width:0.8;\" x=\"298.673904\" xlink:href=\"#m4e7ed46df9\" y=\"224.64\"/>\n      </g>\n     </g>\n     <g id=\"text_36\">\n      <!-- so -->\n      <g transform=\"translate(301.433279 242.968125)rotate(-90)scale(0.1 -0.1)\">\n       <use xlink:href=\"#DejaVuSans-115\"/>\n       <use x=\"52.099609\" xlink:href=\"#DejaVuSans-111\"/>\n      </g>\n     </g>\n    </g>\n    <g id=\"xtick_37\">\n     <g id=\"line2d_73\">\n      <path clip-path=\"url(#p06f79e5ad7)\" d=\"M 304.885407 224.64 \nL 304.885407 7.2 \n\" style=\"fill:none;stroke:#c0c0c0;stroke-linecap:square;stroke-width:0.8;\"/>\n     </g>\n     <g id=\"line2d_74\">\n      <g>\n       <use style=\"stroke:#000000;stroke-width:0.8;\" x=\"304.885407\" xlink:href=\"#m4e7ed46df9\" y=\"224.64\"/>\n      </g>\n     </g>\n     <g id=\"text_37\">\n      <!-- whale -->\n      <g transform=\"translate(307.644782 261.215)rotate(-90)scale(0.1 -0.1)\">\n       <use xlink:href=\"#DejaVuSans-119\"/>\n       <use x=\"81.787109\" xlink:href=\"#DejaVuSans-104\"/>\n       <use x=\"145.166016\" xlink:href=\"#DejaVuSans-97\"/>\n       <use x=\"206.445312\" xlink:href=\"#DejaVuSans-108\"/>\n       <use x=\"234.228516\" xlink:href=\"#DejaVuSans-101\"/>\n      </g>\n     </g>\n    </g>\n    <g id=\"xtick_38\">\n     <g id=\"line2d_75\">\n      <path clip-path=\"url(#p06f79e5ad7)\" d=\"M 311.09691 224.64 \nL 311.09691 7.2 \n\" style=\"fill:none;stroke:#c0c0c0;stroke-linecap:square;stroke-width:0.8;\"/>\n     </g>\n     <g id=\"line2d_76\">\n      <g>\n       <use style=\"stroke:#000000;stroke-width:0.8;\" x=\"311.09691\" xlink:href=\"#m4e7ed46df9\" y=\"224.64\"/>\n      </g>\n     </g>\n     <g id=\"text_38\">\n      <!-- one -->\n      <g transform=\"translate(313.856285 250.249375)rotate(-90)scale(0.1 -0.1)\">\n       <use xlink:href=\"#DejaVuSans-111\"/>\n       <use x=\"61.181641\" xlink:href=\"#DejaVuSans-110\"/>\n       <use x=\"124.560547\" xlink:href=\"#DejaVuSans-101\"/>\n      </g>\n     </g>\n    </g>\n    <g id=\"xtick_39\">\n     <g id=\"line2d_77\">\n      <path clip-path=\"url(#p06f79e5ad7)\" d=\"M 317.308413 224.64 \nL 317.308413 7.2 \n\" style=\"fill:none;stroke:#c0c0c0;stroke-linecap:square;stroke-width:0.8;\"/>\n     </g>\n     <g id=\"line2d_78\">\n      <g>\n       <use style=\"stroke:#000000;stroke-width:0.8;\" x=\"317.308413\" xlink:href=\"#m4e7ed46df9\" y=\"224.64\"/>\n      </g>\n     </g>\n     <g id=\"text_39\">\n      <!-- you -->\n      <g transform=\"translate(320.067788 250.015)rotate(-90)scale(0.1 -0.1)\">\n       <use xlink:href=\"#DejaVuSans-121\"/>\n       <use x=\"59.179688\" xlink:href=\"#DejaVuSans-111\"/>\n       <use x=\"120.361328\" xlink:href=\"#DejaVuSans-117\"/>\n      </g>\n     </g>\n    </g>\n    <g id=\"xtick_40\">\n     <g id=\"line2d_79\">\n      <path clip-path=\"url(#p06f79e5ad7)\" d=\"M 323.519915 224.64 \nL 323.519915 7.2 \n\" style=\"fill:none;stroke:#c0c0c0;stroke-linecap:square;stroke-width:0.8;\"/>\n     </g>\n     <g id=\"line2d_80\">\n      <g>\n       <use style=\"stroke:#000000;stroke-width:0.8;\" x=\"323.519915\" xlink:href=\"#m4e7ed46df9\" y=\"224.64\"/>\n      </g>\n     </g>\n     <g id=\"text_40\">\n      <!-- had -->\n      <g transform=\"translate(326.27929 250.454062)rotate(-90)scale(0.1 -0.1)\">\n       <use xlink:href=\"#DejaVuSans-104\"/>\n       <use x=\"63.378906\" xlink:href=\"#DejaVuSans-97\"/>\n       <use x=\"124.658203\" xlink:href=\"#DejaVuSans-100\"/>\n      </g>\n     </g>\n    </g>\n    <g id=\"xtick_41\">\n     <g id=\"line2d_81\">\n      <path clip-path=\"url(#p06f79e5ad7)\" d=\"M 329.731418 224.64 \nL 329.731418 7.2 \n\" style=\"fill:none;stroke:#c0c0c0;stroke-linecap:square;stroke-width:0.8;\"/>\n     </g>\n     <g id=\"line2d_82\">\n      <g>\n       <use style=\"stroke:#000000;stroke-width:0.8;\" x=\"329.731418\" xlink:href=\"#m4e7ed46df9\" y=\"224.64\"/>\n      </g>\n     </g>\n     <g id=\"text_41\">\n      <!-- have -->\n      <defs>\n       <path d=\"M 2.984375 54.6875 \nL 12.5 54.6875 \nL 29.59375 8.796875 \nL 46.6875 54.6875 \nL 56.203125 54.6875 \nL 35.6875 0 \nL 23.484375 0 \nz\n\" id=\"DejaVuSans-118\"/>\n      </defs>\n      <g transform=\"translate(332.490793 256.1775)rotate(-90)scale(0.1 -0.1)\">\n       <use xlink:href=\"#DejaVuSans-104\"/>\n       <use x=\"63.378906\" xlink:href=\"#DejaVuSans-97\"/>\n       <use x=\"124.658203\" xlink:href=\"#DejaVuSans-118\"/>\n       <use x=\"183.837891\" xlink:href=\"#DejaVuSans-101\"/>\n      </g>\n     </g>\n    </g>\n    <g id=\"xtick_42\">\n     <g id=\"line2d_83\">\n      <path clip-path=\"url(#p06f79e5ad7)\" d=\"M 335.942921 224.64 \nL 335.942921 7.2 \n\" style=\"fill:none;stroke:#c0c0c0;stroke-linecap:square;stroke-width:0.8;\"/>\n     </g>\n     <g id=\"line2d_84\">\n      <g>\n       <use style=\"stroke:#000000;stroke-width:0.8;\" x=\"335.942921\" xlink:href=\"#m4e7ed46df9\" y=\"224.64\"/>\n      </g>\n     </g>\n     <g id=\"text_42\">\n      <!-- there -->\n      <g transform=\"translate(338.702296 258.09)rotate(-90)scale(0.1 -0.1)\">\n       <use xlink:href=\"#DejaVuSans-116\"/>\n       <use x=\"39.208984\" xlink:href=\"#DejaVuSans-104\"/>\n       <use x=\"102.587891\" xlink:href=\"#DejaVuSans-101\"/>\n       <use x=\"164.111328\" xlink:href=\"#DejaVuSans-114\"/>\n       <use x=\"202.974609\" xlink:href=\"#DejaVuSans-101\"/>\n      </g>\n     </g>\n    </g>\n    <g id=\"xtick_43\">\n     <g id=\"line2d_85\">\n      <path clip-path=\"url(#p06f79e5ad7)\" d=\"M 342.154424 224.64 \nL 342.154424 7.2 \n\" style=\"fill:none;stroke:#c0c0c0;stroke-linecap:square;stroke-width:0.8;\"/>\n     </g>\n     <g id=\"line2d_86\">\n      <g>\n       <use style=\"stroke:#000000;stroke-width:0.8;\" x=\"342.154424\" xlink:href=\"#m4e7ed46df9\" y=\"224.64\"/>\n      </g>\n     </g>\n     <g id=\"text_43\">\n      <!-- But -->\n      <defs>\n       <path d=\"M 19.671875 34.8125 \nL 19.671875 8.109375 \nL 35.5 8.109375 \nQ 43.453125 8.109375 47.28125 11.40625 \nQ 51.125 14.703125 51.125 21.484375 \nQ 51.125 28.328125 47.28125 31.5625 \nQ 43.453125 34.8125 35.5 34.8125 \nz\nM 19.671875 64.796875 \nL 19.671875 42.828125 \nL 34.28125 42.828125 \nQ 41.5 42.828125 45.03125 45.53125 \nQ 48.578125 48.25 48.578125 53.8125 \nQ 48.578125 59.328125 45.03125 62.0625 \nQ 41.5 64.796875 34.28125 64.796875 \nz\nM 9.8125 72.90625 \nL 35.015625 72.90625 \nQ 46.296875 72.90625 52.390625 68.21875 \nQ 58.5 63.53125 58.5 54.890625 \nQ 58.5 48.1875 55.375 44.234375 \nQ 52.25 40.28125 46.1875 39.3125 \nQ 53.46875 37.75 57.5 32.78125 \nQ 61.53125 27.828125 61.53125 20.40625 \nQ 61.53125 10.640625 54.890625 5.3125 \nQ 48.25 0 35.984375 0 \nL 9.8125 0 \nz\n\" id=\"DejaVuSans-66\"/>\n      </defs>\n      <g transform=\"translate(344.913799 248.75875)rotate(-90)scale(0.1 -0.1)\">\n       <use xlink:href=\"#DejaVuSans-66\"/>\n       <use x=\"68.603516\" xlink:href=\"#DejaVuSans-117\"/>\n       <use x=\"131.982422\" xlink:href=\"#DejaVuSans-116\"/>\n      </g>\n     </g>\n    </g>\n    <g id=\"xtick_44\">\n     <g id=\"line2d_87\">\n      <path clip-path=\"url(#p06f79e5ad7)\" d=\"M 348.365926 224.64 \nL 348.365926 7.2 \n\" style=\"fill:none;stroke:#c0c0c0;stroke-linecap:square;stroke-width:0.8;\"/>\n     </g>\n     <g id=\"line2d_88\">\n      <g>\n       <use style=\"stroke:#000000;stroke-width:0.8;\" x=\"348.365926\" xlink:href=\"#m4e7ed46df9\" y=\"224.64\"/>\n      </g>\n     </g>\n     <g id=\"text_44\">\n      <!-- or -->\n      <g transform=\"translate(351.125301 241.869687)rotate(-90)scale(0.1 -0.1)\">\n       <use xlink:href=\"#DejaVuSans-111\"/>\n       <use x=\"61.181641\" xlink:href=\"#DejaVuSans-114\"/>\n      </g>\n     </g>\n    </g>\n    <g id=\"xtick_45\">\n     <g id=\"line2d_89\">\n      <path clip-path=\"url(#p06f79e5ad7)\" d=\"M 354.577429 224.64 \nL 354.577429 7.2 \n\" style=\"fill:none;stroke:#c0c0c0;stroke-linecap:square;stroke-width:0.8;\"/>\n     </g>\n     <g id=\"line2d_90\">\n      <g>\n       <use style=\"stroke:#000000;stroke-width:0.8;\" x=\"354.577429\" xlink:href=\"#m4e7ed46df9\" y=\"224.64\"/>\n      </g>\n     </g>\n     <g id=\"text_45\">\n      <!-- were -->\n      <g transform=\"translate(357.336804 256.010312)rotate(-90)scale(0.1 -0.1)\">\n       <use xlink:href=\"#DejaVuSans-119\"/>\n       <use x=\"81.787109\" xlink:href=\"#DejaVuSans-101\"/>\n       <use x=\"143.310547\" xlink:href=\"#DejaVuSans-114\"/>\n       <use x=\"182.173828\" xlink:href=\"#DejaVuSans-101\"/>\n      </g>\n     </g>\n    </g>\n    <g id=\"xtick_46\">\n     <g id=\"line2d_91\">\n      <path clip-path=\"url(#p06f79e5ad7)\" d=\"M 360.788932 224.64 \nL 360.788932 7.2 \n\" style=\"fill:none;stroke:#c0c0c0;stroke-linecap:square;stroke-width:0.8;\"/>\n     </g>\n     <g id=\"line2d_92\">\n      <g>\n       <use style=\"stroke:#000000;stroke-width:0.8;\" x=\"360.788932\" xlink:href=\"#m4e7ed46df9\" y=\"224.64\"/>\n      </g>\n     </g>\n     <g id=\"text_46\">\n      <!-- now -->\n      <g transform=\"translate(363.548307 252.274375)rotate(-90)scale(0.1 -0.1)\">\n       <use xlink:href=\"#DejaVuSans-110\"/>\n       <use x=\"63.378906\" xlink:href=\"#DejaVuSans-111\"/>\n       <use x=\"124.560547\" xlink:href=\"#DejaVuSans-119\"/>\n      </g>\n     </g>\n    </g>\n    <g id=\"xtick_47\">\n     <g id=\"line2d_93\">\n      <path clip-path=\"url(#p06f79e5ad7)\" d=\"M 367.000435 224.64 \nL 367.000435 7.2 \n\" style=\"fill:none;stroke:#c0c0c0;stroke-linecap:square;stroke-width:0.8;\"/>\n     </g>\n     <g id=\"line2d_94\">\n      <g>\n       <use style=\"stroke:#000000;stroke-width:0.8;\" x=\"367.000435\" xlink:href=\"#m4e7ed46df9\" y=\"224.64\"/>\n      </g>\n     </g>\n     <g id=\"text_47\">\n      <!-- which -->\n      <defs>\n       <path d=\"M 48.78125 52.59375 \nL 48.78125 44.1875 \nQ 44.96875 46.296875 41.140625 47.34375 \nQ 37.3125 48.390625 33.40625 48.390625 \nQ 24.65625 48.390625 19.8125 42.84375 \nQ 14.984375 37.3125 14.984375 27.296875 \nQ 14.984375 17.28125 19.8125 11.734375 \nQ 24.65625 6.203125 33.40625 6.203125 \nQ 37.3125 6.203125 41.140625 7.25 \nQ 44.96875 8.296875 48.78125 10.40625 \nL 48.78125 2.09375 \nQ 45.015625 0.34375 40.984375 -0.53125 \nQ 36.96875 -1.421875 32.421875 -1.421875 \nQ 20.0625 -1.421875 12.78125 6.34375 \nQ 5.515625 14.109375 5.515625 27.296875 \nQ 5.515625 40.671875 12.859375 48.328125 \nQ 20.21875 56 33.015625 56 \nQ 37.15625 56 41.109375 55.140625 \nQ 45.0625 54.296875 48.78125 52.59375 \nz\n\" id=\"DejaVuSans-99\"/>\n      </defs>\n      <g transform=\"translate(369.75981 260.769687)rotate(-90)scale(0.1 -0.1)\">\n       <use xlink:href=\"#DejaVuSans-119\"/>\n       <use x=\"81.787109\" xlink:href=\"#DejaVuSans-104\"/>\n       <use x=\"145.166016\" xlink:href=\"#DejaVuSans-105\"/>\n       <use x=\"172.949219\" xlink:href=\"#DejaVuSans-99\"/>\n       <use x=\"227.929688\" xlink:href=\"#DejaVuSans-104\"/>\n      </g>\n     </g>\n    </g>\n    <g id=\"xtick_48\">\n     <g id=\"line2d_95\">\n      <path clip-path=\"url(#p06f79e5ad7)\" d=\"M 373.211938 224.64 \nL 373.211938 7.2 \n\" style=\"fill:none;stroke:#c0c0c0;stroke-linecap:square;stroke-width:0.8;\"/>\n     </g>\n     <g id=\"line2d_96\">\n      <g>\n       <use style=\"stroke:#000000;stroke-width:0.8;\" x=\"373.211938\" xlink:href=\"#m4e7ed46df9\" y=\"224.64\"/>\n      </g>\n     </g>\n     <g id=\"text_48\">\n      <!-- ? -->\n      <defs>\n       <path d=\"M 19.09375 12.40625 \nL 29 12.40625 \nL 29 0 \nL 19.09375 0 \nz\nM 28.71875 19.578125 \nL 19.390625 19.578125 \nL 19.390625 27.09375 \nQ 19.390625 32.03125 20.75 35.203125 \nQ 22.125 38.375 26.515625 42.578125 \nL 30.90625 46.921875 \nQ 33.6875 49.515625 34.9375 51.8125 \nQ 36.1875 54.109375 36.1875 56.5 \nQ 36.1875 60.84375 32.984375 63.53125 \nQ 29.78125 66.21875 24.515625 66.21875 \nQ 20.65625 66.21875 16.28125 64.5 \nQ 11.921875 62.796875 7.171875 59.515625 \nL 7.171875 68.703125 \nQ 11.765625 71.484375 16.46875 72.84375 \nQ 21.1875 74.21875 26.21875 74.21875 \nQ 35.203125 74.21875 40.640625 69.484375 \nQ 46.09375 64.75 46.09375 56.984375 \nQ 46.09375 53.265625 44.328125 49.921875 \nQ 42.578125 46.578125 38.1875 42.390625 \nL 33.890625 38.1875 \nQ 31.59375 35.890625 30.640625 34.59375 \nQ 29.6875 33.296875 29.296875 32.078125 \nQ 29 31.0625 28.859375 29.59375 \nQ 28.71875 28.125 28.71875 25.59375 \nz\n\" id=\"DejaVuSans-63\"/>\n      </defs>\n      <g transform=\"translate(375.971313 236.947812)rotate(-90)scale(0.1 -0.1)\">\n       <use xlink:href=\"#DejaVuSans-63\"/>\n      </g>\n     </g>\n    </g>\n    <g id=\"xtick_49\">\n     <g id=\"line2d_97\">\n      <path clip-path=\"url(#p06f79e5ad7)\" d=\"M 379.42344 224.64 \nL 379.42344 7.2 \n\" style=\"fill:none;stroke:#c0c0c0;stroke-linecap:square;stroke-width:0.8;\"/>\n     </g>\n     <g id=\"line2d_98\">\n      <g>\n       <use style=\"stroke:#000000;stroke-width:0.8;\" x=\"379.42344\" xlink:href=\"#m4e7ed46df9\" y=\"224.64\"/>\n      </g>\n     </g>\n     <g id=\"text_49\">\n      <!-- me -->\n      <g transform=\"translate(382.182815 247.53375)rotate(-90)scale(0.1 -0.1)\">\n       <use xlink:href=\"#DejaVuSans-109\"/>\n       <use x=\"97.412109\" xlink:href=\"#DejaVuSans-101\"/>\n      </g>\n     </g>\n    </g>\n    <g id=\"xtick_50\">\n     <g id=\"line2d_99\">\n      <path clip-path=\"url(#p06f79e5ad7)\" d=\"M 385.634943 224.64 \nL 385.634943 7.2 \n\" style=\"fill:none;stroke:#c0c0c0;stroke-linecap:square;stroke-width:0.8;\"/>\n     </g>\n     <g id=\"line2d_100\">\n      <g>\n       <use style=\"stroke:#000000;stroke-width:0.8;\" x=\"385.634943\" xlink:href=\"#m4e7ed46df9\" y=\"224.64\"/>\n      </g>\n     </g>\n     <g id=\"text_50\">\n      <!-- like -->\n      <defs>\n       <path d=\"M 9.078125 75.984375 \nL 18.109375 75.984375 \nL 18.109375 31.109375 \nL 44.921875 54.6875 \nL 56.390625 54.6875 \nL 27.390625 29.109375 \nL 57.625 0 \nL 45.90625 0 \nL 18.109375 26.703125 \nL 18.109375 0 \nL 9.078125 0 \nz\n\" id=\"DejaVuSans-107\"/>\n      </defs>\n      <g transform=\"translate(388.394318 248.7775)rotate(-90)scale(0.1 -0.1)\">\n       <use xlink:href=\"#DejaVuSans-108\"/>\n       <use x=\"27.783203\" xlink:href=\"#DejaVuSans-105\"/>\n       <use x=\"55.566406\" xlink:href=\"#DejaVuSans-107\"/>\n       <use x=\"109.851562\" xlink:href=\"#DejaVuSans-101\"/>\n      </g>\n     </g>\n    </g>\n    <g id=\"text_51\">\n     <!-- Samples -->\n     <defs>\n      <path d=\"M 53.515625 70.515625 \nL 53.515625 60.890625 \nQ 47.90625 63.578125 42.921875 64.890625 \nQ 37.9375 66.21875 33.296875 66.21875 \nQ 25.25 66.21875 20.875 63.09375 \nQ 16.5 59.96875 16.5 54.203125 \nQ 16.5 49.359375 19.40625 46.890625 \nQ 22.3125 44.4375 30.421875 42.921875 \nL 36.375 41.703125 \nQ 47.40625 39.59375 52.65625 34.296875 \nQ 57.90625 29 57.90625 20.125 \nQ 57.90625 9.515625 50.796875 4.046875 \nQ 43.703125 -1.421875 29.984375 -1.421875 \nQ 24.8125 -1.421875 18.96875 -0.25 \nQ 13.140625 0.921875 6.890625 3.21875 \nL 6.890625 13.375 \nQ 12.890625 10.015625 18.65625 8.296875 \nQ 24.421875 6.59375 29.984375 6.59375 \nQ 38.421875 6.59375 43.015625 9.90625 \nQ 47.609375 13.234375 47.609375 19.390625 \nQ 47.609375 24.75 44.3125 27.78125 \nQ 41.015625 30.8125 33.5 32.328125 \nL 27.484375 33.5 \nQ 16.453125 35.6875 11.515625 40.375 \nQ 6.59375 45.0625 6.59375 53.421875 \nQ 6.59375 63.09375 13.40625 68.65625 \nQ 20.21875 74.21875 32.171875 74.21875 \nQ 37.3125 74.21875 42.625 73.28125 \nQ 47.953125 72.359375 53.515625 70.515625 \nz\n\" id=\"DejaVuSans-83\"/>\n      <path d=\"M 18.109375 8.203125 \nL 18.109375 -20.796875 \nL 9.078125 -20.796875 \nL 9.078125 54.6875 \nL 18.109375 54.6875 \nL 18.109375 46.390625 \nQ 20.953125 51.265625 25.265625 53.625 \nQ 29.59375 56 35.59375 56 \nQ 45.5625 56 51.78125 48.09375 \nQ 58.015625 40.1875 58.015625 27.296875 \nQ 58.015625 14.40625 51.78125 6.484375 \nQ 45.5625 -1.421875 35.59375 -1.421875 \nQ 29.59375 -1.421875 25.265625 0.953125 \nQ 20.953125 3.328125 18.109375 8.203125 \nz\nM 48.6875 27.296875 \nQ 48.6875 37.203125 44.609375 42.84375 \nQ 40.53125 48.484375 33.40625 48.484375 \nQ 26.265625 48.484375 22.1875 42.84375 \nQ 18.109375 37.203125 18.109375 27.296875 \nQ 18.109375 17.390625 22.1875 11.75 \nQ 26.265625 6.109375 33.40625 6.109375 \nQ 40.53125 6.109375 44.609375 11.75 \nQ 48.6875 17.390625 48.6875 27.296875 \nz\n\" id=\"DejaVuSans-112\"/>\n     </defs>\n     <g transform=\"translate(212.1 272.813437)scale(0.1 -0.1)\">\n      <use xlink:href=\"#DejaVuSans-83\"/>\n      <use x=\"63.476562\" xlink:href=\"#DejaVuSans-97\"/>\n      <use x=\"124.755859\" xlink:href=\"#DejaVuSans-109\"/>\n      <use x=\"222.167969\" xlink:href=\"#DejaVuSans-112\"/>\n      <use x=\"285.644531\" xlink:href=\"#DejaVuSans-108\"/>\n      <use x=\"313.427734\" xlink:href=\"#DejaVuSans-101\"/>\n      <use x=\"374.951172\" xlink:href=\"#DejaVuSans-115\"/>\n     </g>\n    </g>\n   </g>\n   <g id=\"matplotlib.axis_2\">\n    <g id=\"ytick_1\">\n     <g id=\"line2d_101\">\n      <path clip-path=\"url(#p06f79e5ad7)\" d=\"M 66.053125 212.286702 \nL 400.853125 212.286702 \n\" style=\"fill:none;stroke:#c0c0c0;stroke-linecap:square;stroke-width:0.8;\"/>\n     </g>\n     <g id=\"line2d_102\">\n      <defs>\n       <path d=\"M 0 0 \nL -3.5 0 \n\" id=\"m3f7473c996\" style=\"stroke:#000000;stroke-width:0.8;\"/>\n      </defs>\n      <g>\n       <use style=\"stroke:#000000;stroke-width:0.8;\" x=\"66.053125\" xlink:href=\"#m3f7473c996\" y=\"212.286702\"/>\n      </g>\n     </g>\n     <g id=\"text_52\">\n      <!-- 20000 -->\n      <defs>\n       <path d=\"M 19.1875 8.296875 \nL 53.609375 8.296875 \nL 53.609375 0 \nL 7.328125 0 \nL 7.328125 8.296875 \nQ 12.9375 14.109375 22.625 23.890625 \nQ 32.328125 33.6875 34.8125 36.53125 \nQ 39.546875 41.84375 41.421875 45.53125 \nQ 43.3125 49.21875 43.3125 52.78125 \nQ 43.3125 58.59375 39.234375 62.25 \nQ 35.15625 65.921875 28.609375 65.921875 \nQ 23.96875 65.921875 18.8125 64.3125 \nQ 13.671875 62.703125 7.8125 59.421875 \nL 7.8125 69.390625 \nQ 13.765625 71.78125 18.9375 73 \nQ 24.125 74.21875 28.421875 74.21875 \nQ 39.75 74.21875 46.484375 68.546875 \nQ 53.21875 62.890625 53.21875 53.421875 \nQ 53.21875 48.921875 51.53125 44.890625 \nQ 49.859375 40.875 45.40625 35.40625 \nQ 44.1875 33.984375 37.640625 27.21875 \nQ 31.109375 20.453125 19.1875 8.296875 \nz\n\" id=\"DejaVuSans-50\"/>\n       <path d=\"M 31.78125 66.40625 \nQ 24.171875 66.40625 20.328125 58.90625 \nQ 16.5 51.421875 16.5 36.375 \nQ 16.5 21.390625 20.328125 13.890625 \nQ 24.171875 6.390625 31.78125 6.390625 \nQ 39.453125 6.390625 43.28125 13.890625 \nQ 47.125 21.390625 47.125 36.375 \nQ 47.125 51.421875 43.28125 58.90625 \nQ 39.453125 66.40625 31.78125 66.40625 \nz\nM 31.78125 74.21875 \nQ 44.046875 74.21875 50.515625 64.515625 \nQ 56.984375 54.828125 56.984375 36.375 \nQ 56.984375 17.96875 50.515625 8.265625 \nQ 44.046875 -1.421875 31.78125 -1.421875 \nQ 19.53125 -1.421875 13.0625 8.265625 \nQ 6.59375 17.96875 6.59375 36.375 \nQ 6.59375 54.828125 13.0625 64.515625 \nQ 19.53125 74.21875 31.78125 74.21875 \nz\n\" id=\"DejaVuSans-48\"/>\n      </defs>\n      <g transform=\"translate(27.240625 216.085921)scale(0.1 -0.1)\">\n       <use xlink:href=\"#DejaVuSans-50\"/>\n       <use x=\"63.623047\" xlink:href=\"#DejaVuSans-48\"/>\n       <use x=\"127.246094\" xlink:href=\"#DejaVuSans-48\"/>\n       <use x=\"190.869141\" xlink:href=\"#DejaVuSans-48\"/>\n       <use x=\"254.492188\" xlink:href=\"#DejaVuSans-48\"/>\n      </g>\n     </g>\n    </g>\n    <g id=\"ytick_2\">\n     <g id=\"line2d_103\">\n      <path clip-path=\"url(#p06f79e5ad7)\" d=\"M 66.053125 173.908119 \nL 400.853125 173.908119 \n\" style=\"fill:none;stroke:#c0c0c0;stroke-linecap:square;stroke-width:0.8;\"/>\n     </g>\n     <g id=\"line2d_104\">\n      <g>\n       <use style=\"stroke:#000000;stroke-width:0.8;\" x=\"66.053125\" xlink:href=\"#m3f7473c996\" y=\"173.908119\"/>\n      </g>\n     </g>\n     <g id=\"text_53\">\n      <!-- 40000 -->\n      <defs>\n       <path d=\"M 37.796875 64.3125 \nL 12.890625 25.390625 \nL 37.796875 25.390625 \nz\nM 35.203125 72.90625 \nL 47.609375 72.90625 \nL 47.609375 25.390625 \nL 58.015625 25.390625 \nL 58.015625 17.1875 \nL 47.609375 17.1875 \nL 47.609375 0 \nL 37.796875 0 \nL 37.796875 17.1875 \nL 4.890625 17.1875 \nL 4.890625 26.703125 \nz\n\" id=\"DejaVuSans-52\"/>\n      </defs>\n      <g transform=\"translate(27.240625 177.707338)scale(0.1 -0.1)\">\n       <use xlink:href=\"#DejaVuSans-52\"/>\n       <use x=\"63.623047\" xlink:href=\"#DejaVuSans-48\"/>\n       <use x=\"127.246094\" xlink:href=\"#DejaVuSans-48\"/>\n       <use x=\"190.869141\" xlink:href=\"#DejaVuSans-48\"/>\n       <use x=\"254.492188\" xlink:href=\"#DejaVuSans-48\"/>\n      </g>\n     </g>\n    </g>\n    <g id=\"ytick_3\">\n     <g id=\"line2d_105\">\n      <path clip-path=\"url(#p06f79e5ad7)\" d=\"M 66.053125 135.529537 \nL 400.853125 135.529537 \n\" style=\"fill:none;stroke:#c0c0c0;stroke-linecap:square;stroke-width:0.8;\"/>\n     </g>\n     <g id=\"line2d_106\">\n      <g>\n       <use style=\"stroke:#000000;stroke-width:0.8;\" x=\"66.053125\" xlink:href=\"#m3f7473c996\" y=\"135.529537\"/>\n      </g>\n     </g>\n     <g id=\"text_54\">\n      <!-- 60000 -->\n      <defs>\n       <path d=\"M 33.015625 40.375 \nQ 26.375 40.375 22.484375 35.828125 \nQ 18.609375 31.296875 18.609375 23.390625 \nQ 18.609375 15.53125 22.484375 10.953125 \nQ 26.375 6.390625 33.015625 6.390625 \nQ 39.65625 6.390625 43.53125 10.953125 \nQ 47.40625 15.53125 47.40625 23.390625 \nQ 47.40625 31.296875 43.53125 35.828125 \nQ 39.65625 40.375 33.015625 40.375 \nz\nM 52.59375 71.296875 \nL 52.59375 62.3125 \nQ 48.875 64.0625 45.09375 64.984375 \nQ 41.3125 65.921875 37.59375 65.921875 \nQ 27.828125 65.921875 22.671875 59.328125 \nQ 17.53125 52.734375 16.796875 39.40625 \nQ 19.671875 43.65625 24.015625 45.921875 \nQ 28.375 48.1875 33.59375 48.1875 \nQ 44.578125 48.1875 50.953125 41.515625 \nQ 57.328125 34.859375 57.328125 23.390625 \nQ 57.328125 12.15625 50.6875 5.359375 \nQ 44.046875 -1.421875 33.015625 -1.421875 \nQ 20.359375 -1.421875 13.671875 8.265625 \nQ 6.984375 17.96875 6.984375 36.375 \nQ 6.984375 53.65625 15.1875 63.9375 \nQ 23.390625 74.21875 37.203125 74.21875 \nQ 40.921875 74.21875 44.703125 73.484375 \nQ 48.484375 72.75 52.59375 71.296875 \nz\n\" id=\"DejaVuSans-54\"/>\n      </defs>\n      <g transform=\"translate(27.240625 139.328756)scale(0.1 -0.1)\">\n       <use xlink:href=\"#DejaVuSans-54\"/>\n       <use x=\"63.623047\" xlink:href=\"#DejaVuSans-48\"/>\n       <use x=\"127.246094\" xlink:href=\"#DejaVuSans-48\"/>\n       <use x=\"190.869141\" xlink:href=\"#DejaVuSans-48\"/>\n       <use x=\"254.492188\" xlink:href=\"#DejaVuSans-48\"/>\n      </g>\n     </g>\n    </g>\n    <g id=\"ytick_4\">\n     <g id=\"line2d_107\">\n      <path clip-path=\"url(#p06f79e5ad7)\" d=\"M 66.053125 97.150954 \nL 400.853125 97.150954 \n\" style=\"fill:none;stroke:#c0c0c0;stroke-linecap:square;stroke-width:0.8;\"/>\n     </g>\n     <g id=\"line2d_108\">\n      <g>\n       <use style=\"stroke:#000000;stroke-width:0.8;\" x=\"66.053125\" xlink:href=\"#m3f7473c996\" y=\"97.150954\"/>\n      </g>\n     </g>\n     <g id=\"text_55\">\n      <!-- 80000 -->\n      <defs>\n       <path d=\"M 31.78125 34.625 \nQ 24.75 34.625 20.71875 30.859375 \nQ 16.703125 27.09375 16.703125 20.515625 \nQ 16.703125 13.921875 20.71875 10.15625 \nQ 24.75 6.390625 31.78125 6.390625 \nQ 38.8125 6.390625 42.859375 10.171875 \nQ 46.921875 13.96875 46.921875 20.515625 \nQ 46.921875 27.09375 42.890625 30.859375 \nQ 38.875 34.625 31.78125 34.625 \nz\nM 21.921875 38.8125 \nQ 15.578125 40.375 12.03125 44.71875 \nQ 8.5 49.078125 8.5 55.328125 \nQ 8.5 64.0625 14.71875 69.140625 \nQ 20.953125 74.21875 31.78125 74.21875 \nQ 42.671875 74.21875 48.875 69.140625 \nQ 55.078125 64.0625 55.078125 55.328125 \nQ 55.078125 49.078125 51.53125 44.71875 \nQ 48 40.375 41.703125 38.8125 \nQ 48.828125 37.15625 52.796875 32.3125 \nQ 56.78125 27.484375 56.78125 20.515625 \nQ 56.78125 9.90625 50.3125 4.234375 \nQ 43.84375 -1.421875 31.78125 -1.421875 \nQ 19.734375 -1.421875 13.25 4.234375 \nQ 6.78125 9.90625 6.78125 20.515625 \nQ 6.78125 27.484375 10.78125 32.3125 \nQ 14.796875 37.15625 21.921875 38.8125 \nz\nM 18.3125 54.390625 \nQ 18.3125 48.734375 21.84375 45.5625 \nQ 25.390625 42.390625 31.78125 42.390625 \nQ 38.140625 42.390625 41.71875 45.5625 \nQ 45.3125 48.734375 45.3125 54.390625 \nQ 45.3125 60.0625 41.71875 63.234375 \nQ 38.140625 66.40625 31.78125 66.40625 \nQ 25.390625 66.40625 21.84375 63.234375 \nQ 18.3125 60.0625 18.3125 54.390625 \nz\n\" id=\"DejaVuSans-56\"/>\n      </defs>\n      <g transform=\"translate(27.240625 100.950173)scale(0.1 -0.1)\">\n       <use xlink:href=\"#DejaVuSans-56\"/>\n       <use x=\"63.623047\" xlink:href=\"#DejaVuSans-48\"/>\n       <use x=\"127.246094\" xlink:href=\"#DejaVuSans-48\"/>\n       <use x=\"190.869141\" xlink:href=\"#DejaVuSans-48\"/>\n       <use x=\"254.492188\" xlink:href=\"#DejaVuSans-48\"/>\n      </g>\n     </g>\n    </g>\n    <g id=\"ytick_5\">\n     <g id=\"line2d_109\">\n      <path clip-path=\"url(#p06f79e5ad7)\" d=\"M 66.053125 58.772372 \nL 400.853125 58.772372 \n\" style=\"fill:none;stroke:#c0c0c0;stroke-linecap:square;stroke-width:0.8;\"/>\n     </g>\n     <g id=\"line2d_110\">\n      <g>\n       <use style=\"stroke:#000000;stroke-width:0.8;\" x=\"66.053125\" xlink:href=\"#m3f7473c996\" y=\"58.772372\"/>\n      </g>\n     </g>\n     <g id=\"text_56\">\n      <!-- 100000 -->\n      <defs>\n       <path d=\"M 12.40625 8.296875 \nL 28.515625 8.296875 \nL 28.515625 63.921875 \nL 10.984375 60.40625 \nL 10.984375 69.390625 \nL 28.421875 72.90625 \nL 38.28125 72.90625 \nL 38.28125 8.296875 \nL 54.390625 8.296875 \nL 54.390625 0 \nL 12.40625 0 \nz\n\" id=\"DejaVuSans-49\"/>\n      </defs>\n      <g transform=\"translate(20.878125 62.57159)scale(0.1 -0.1)\">\n       <use xlink:href=\"#DejaVuSans-49\"/>\n       <use x=\"63.623047\" xlink:href=\"#DejaVuSans-48\"/>\n       <use x=\"127.246094\" xlink:href=\"#DejaVuSans-48\"/>\n       <use x=\"190.869141\" xlink:href=\"#DejaVuSans-48\"/>\n       <use x=\"254.492188\" xlink:href=\"#DejaVuSans-48\"/>\n       <use x=\"318.115234\" xlink:href=\"#DejaVuSans-48\"/>\n      </g>\n     </g>\n    </g>\n    <g id=\"ytick_6\">\n     <g id=\"line2d_111\">\n      <path clip-path=\"url(#p06f79e5ad7)\" d=\"M 66.053125 20.393789 \nL 400.853125 20.393789 \n\" style=\"fill:none;stroke:#c0c0c0;stroke-linecap:square;stroke-width:0.8;\"/>\n     </g>\n     <g id=\"line2d_112\">\n      <g>\n       <use style=\"stroke:#000000;stroke-width:0.8;\" x=\"66.053125\" xlink:href=\"#m3f7473c996\" y=\"20.393789\"/>\n      </g>\n     </g>\n     <g id=\"text_57\">\n      <!-- 120000 -->\n      <g transform=\"translate(20.878125 24.193008)scale(0.1 -0.1)\">\n       <use xlink:href=\"#DejaVuSans-49\"/>\n       <use x=\"63.623047\" xlink:href=\"#DejaVuSans-50\"/>\n       <use x=\"127.246094\" xlink:href=\"#DejaVuSans-48\"/>\n       <use x=\"190.869141\" xlink:href=\"#DejaVuSans-48\"/>\n       <use x=\"254.492188\" xlink:href=\"#DejaVuSans-48\"/>\n       <use x=\"318.115234\" xlink:href=\"#DejaVuSans-48\"/>\n      </g>\n     </g>\n    </g>\n    <g id=\"text_58\">\n     <!-- Cumulative Counts -->\n     <defs>\n      <path d=\"M 64.40625 67.28125 \nL 64.40625 56.890625 \nQ 59.421875 61.53125 53.78125 63.8125 \nQ 48.140625 66.109375 41.796875 66.109375 \nQ 29.296875 66.109375 22.65625 58.46875 \nQ 16.015625 50.828125 16.015625 36.375 \nQ 16.015625 21.96875 22.65625 14.328125 \nQ 29.296875 6.6875 41.796875 6.6875 \nQ 48.140625 6.6875 53.78125 8.984375 \nQ 59.421875 11.28125 64.40625 15.921875 \nL 64.40625 5.609375 \nQ 59.234375 2.09375 53.4375 0.328125 \nQ 47.65625 -1.421875 41.21875 -1.421875 \nQ 24.65625 -1.421875 15.125 8.703125 \nQ 5.609375 18.84375 5.609375 36.375 \nQ 5.609375 53.953125 15.125 64.078125 \nQ 24.65625 74.21875 41.21875 74.21875 \nQ 47.75 74.21875 53.53125 72.484375 \nQ 59.328125 70.75 64.40625 67.28125 \nz\n\" id=\"DejaVuSans-67\"/>\n      <path id=\"DejaVuSans-32\"/>\n     </defs>\n     <g transform=\"translate(14.798438 163.499687)rotate(-90)scale(0.1 -0.1)\">\n      <use xlink:href=\"#DejaVuSans-67\"/>\n      <use x=\"69.824219\" xlink:href=\"#DejaVuSans-117\"/>\n      <use x=\"133.203125\" xlink:href=\"#DejaVuSans-109\"/>\n      <use x=\"230.615234\" xlink:href=\"#DejaVuSans-117\"/>\n      <use x=\"293.994141\" xlink:href=\"#DejaVuSans-108\"/>\n      <use x=\"321.777344\" xlink:href=\"#DejaVuSans-97\"/>\n      <use x=\"383.056641\" xlink:href=\"#DejaVuSans-116\"/>\n      <use x=\"422.265625\" xlink:href=\"#DejaVuSans-105\"/>\n      <use x=\"450.048828\" xlink:href=\"#DejaVuSans-118\"/>\n      <use x=\"509.228516\" xlink:href=\"#DejaVuSans-101\"/>\n      <use x=\"570.751953\" xlink:href=\"#DejaVuSans-32\"/>\n      <use x=\"602.539062\" xlink:href=\"#DejaVuSans-67\"/>\n      <use x=\"672.363281\" xlink:href=\"#DejaVuSans-111\"/>\n      <use x=\"733.544922\" xlink:href=\"#DejaVuSans-117\"/>\n      <use x=\"796.923828\" xlink:href=\"#DejaVuSans-110\"/>\n      <use x=\"860.302734\" xlink:href=\"#DejaVuSans-116\"/>\n      <use x=\"899.511719\" xlink:href=\"#DejaVuSans-115\"/>\n     </g>\n    </g>\n   </g>\n   <g id=\"line2d_113\">\n    <path clip-path=\"url(#p06f79e5ad7)\" d=\"M 81.271307 214.756364 \nL 87.48281 188.426737 \nL 93.694312 175.259045 \nL 99.905815 162.716925 \nL 106.117318 151.157296 \nL 112.328821 142.389708 \nL 118.540324 133.673932 \nL 124.751826 125.860053 \nL 130.963329 118.345526 \nL 137.174832 112.62328 \nL 143.386335 107.472874 \nL 149.597837 102.575767 \nL 155.80934 97.85712 \nL 162.020843 93.618206 \nL 168.232346 89.5424 \nL 174.443849 86.205382 \nL 180.655351 82.952798 \nL 186.866854 79.765456 \nL 193.078357 76.581953 \nL 199.28986 73.450261 \nL 205.501362 70.341595 \nL 211.712865 67.505418 \nL 217.924368 64.699944 \nL 224.135871 61.986578 \nL 230.347374 59.530349 \nL 236.558876 57.095228 \nL 242.770379 54.733026 \nL 248.981882 52.551203 \nL 255.193385 50.415435 \nL 261.404888 48.298856 \nL 267.61639 46.245602 \nL 273.827893 44.215375 \nL 280.039396 42.196662 \nL 286.250899 40.220165 \nL 292.462401 38.291641 \nL 298.673904 36.530064 \nL 304.885407 34.791514 \nL 311.09691 33.085586 \nL 317.308413 31.471767 \nL 323.519915 29.999948 \nL 329.731418 28.541562 \nL 335.942921 27.169528 \nL 342.154424 25.816683 \nL 348.365926 24.479189 \nL 354.577429 23.174317 \nL 360.788932 21.934689 \nL 367.000435 20.706575 \nL 373.211938 19.484217 \nL 379.42344 18.281048 \nL 385.634943 17.083636 \n\" style=\"fill:none;stroke:#1f77b4;stroke-linecap:square;stroke-width:2;\"/>\n   </g>\n   <g id=\"patch_3\">\n    <path d=\"M 66.053125 224.64 \nL 66.053125 7.2 \n\" style=\"fill:none;stroke:#000000;stroke-linecap:square;stroke-linejoin:miter;stroke-width:0.8;\"/>\n   </g>\n   <g id=\"patch_4\">\n    <path d=\"M 400.853125 224.64 \nL 400.853125 7.2 \n\" style=\"fill:none;stroke:#000000;stroke-linecap:square;stroke-linejoin:miter;stroke-width:0.8;\"/>\n   </g>\n   <g id=\"patch_5\">\n    <path d=\"M 66.053125 224.64 \nL 400.853125 224.64 \n\" style=\"fill:none;stroke:#000000;stroke-linecap:square;stroke-linejoin:miter;stroke-width:0.8;\"/>\n   </g>\n   <g id=\"patch_6\">\n    <path d=\"M 66.053125 7.2 \nL 400.853125 7.2 \n\" style=\"fill:none;stroke:#000000;stroke-linecap:square;stroke-linejoin:miter;stroke-width:0.8;\"/>\n   </g>\n  </g>\n </g>\n <defs>\n  <clipPath id=\"p06f79e5ad7\">\n   <rect height=\"217.44\" width=\"334.8\" x=\"66.053125\" y=\"7.2\"/>\n  </clipPath>\n </defs>\n</svg>\n",
      "image/png": "[encoded data removed]"
     },
     "metadata": {
      "needs_background": "light"
     }
    },
    {
     "output_type": "execute_result",
     "data": {
      "text/plain": "<matplotlib.axes._subplots.AxesSubplot at 0x134785050>"
     },
     "metadata": {},
     "execution_count": 64
    }
   ],
   "source": [
    "fdist1.plot(50, cumulative=True)"
   ]
  },
  {
   "cell_type": "code",
   "execution_count": 65,
   "metadata": {},
   "outputs": [
    {
     "output_type": "display_data",
     "data": {
      "text/plain": "<Figure size 432x288 with 1 Axes>",
      "image/svg+xml": "<?xml version=\"1.0\" encoding=\"utf-8\" standalone=\"no\"?>\n<!DOCTYPE svg PUBLIC \"-//W3C//DTD SVG 1.1//EN\"\n  \"http://www.w3.org/Graphics/SVG/1.1/DTD/svg11.dtd\">\n<!-- Created with matplotlib (https://matplotlib.org/) -->\n<svg height=\"282.093125pt\" version=\"1.1\" viewBox=\"0 0 401.690625 282.093125\" width=\"401.690625pt\" xmlns=\"http://www.w3.org/2000/svg\" xmlns:xlink=\"http://www.w3.org/1999/xlink\">\n <defs>\n  <style type=\"text/css\">\n*{stroke-linecap:butt;stroke-linejoin:round;}\n  </style>\n </defs>\n <g id=\"figure_1\">\n  <g id=\"patch_1\">\n   <path d=\"M 0 282.093125 \nL 401.690625 282.093125 \nL 401.690625 0 \nL 0 0 \nz\n\" style=\"fill:none;\"/>\n  </g>\n  <g id=\"axes_1\">\n   <g id=\"patch_2\">\n    <path d=\"M 59.690625 224.64 \nL 394.490625 224.64 \nL 394.490625 7.2 \nL 59.690625 7.2 \nz\n\" style=\"fill:#ffffff;\"/>\n   </g>\n   <g id=\"matplotlib.axis_1\">\n    <g id=\"xtick_1\">\n     <g id=\"line2d_1\">\n      <path clip-path=\"url(#p516f3b7900)\" d=\"M 74.908807 224.64 \nL 74.908807 7.2 \n\" style=\"fill:none;stroke:#c0c0c0;stroke-linecap:square;stroke-width:0.8;\"/>\n     </g>\n     <g id=\"line2d_2\">\n      <defs>\n       <path d=\"M 0 0 \nL 0 3.5 \n\" id=\"ma880279e2b\" style=\"stroke:#000000;stroke-width:0.8;\"/>\n      </defs>\n      <g>\n       <use style=\"stroke:#000000;stroke-width:0.8;\" x=\"74.908807\" xlink:href=\"#ma880279e2b\" y=\"224.64\"/>\n      </g>\n     </g>\n     <g id=\"text_1\">\n      <!-- , -->\n      <defs>\n       <path d=\"M 11.71875 12.40625 \nL 22.015625 12.40625 \nL 22.015625 4 \nL 14.015625 -11.625 \nL 7.71875 -11.625 \nL 11.71875 4 \nz\n\" id=\"DejaVuSans-44\"/>\n      </defs>\n      <g transform=\"translate(77.668182 234.818125)rotate(-90)scale(0.1 -0.1)\">\n       <use xlink:href=\"#DejaVuSans-44\"/>\n      </g>\n     </g>\n    </g>\n    <g id=\"xtick_2\">\n     <g id=\"line2d_3\">\n      <path clip-path=\"url(#p516f3b7900)\" d=\"M 81.12031 224.64 \nL 81.12031 7.2 \n\" style=\"fill:none;stroke:#c0c0c0;stroke-linecap:square;stroke-width:0.8;\"/>\n     </g>\n     <g id=\"line2d_4\">\n      <g>\n       <use style=\"stroke:#000000;stroke-width:0.8;\" x=\"81.12031\" xlink:href=\"#ma880279e2b\" y=\"224.64\"/>\n      </g>\n     </g>\n     <g id=\"text_2\">\n      <!-- the -->\n      <defs>\n       <path d=\"M 18.3125 70.21875 \nL 18.3125 54.6875 \nL 36.8125 54.6875 \nL 36.8125 47.703125 \nL 18.3125 47.703125 \nL 18.3125 18.015625 \nQ 18.3125 11.328125 20.140625 9.421875 \nQ 21.96875 7.515625 27.59375 7.515625 \nL 36.8125 7.515625 \nL 36.8125 0 \nL 27.59375 0 \nQ 17.1875 0 13.234375 3.875 \nQ 9.28125 7.765625 9.28125 18.015625 \nL 9.28125 47.703125 \nL 2.6875 47.703125 \nL 2.6875 54.6875 \nL 9.28125 54.6875 \nL 9.28125 70.21875 \nz\n\" id=\"DejaVuSans-116\"/>\n       <path d=\"M 54.890625 33.015625 \nL 54.890625 0 \nL 45.90625 0 \nL 45.90625 32.71875 \nQ 45.90625 40.484375 42.875 44.328125 \nQ 39.84375 48.1875 33.796875 48.1875 \nQ 26.515625 48.1875 22.3125 43.546875 \nQ 18.109375 38.921875 18.109375 30.90625 \nL 18.109375 0 \nL 9.078125 0 \nL 9.078125 75.984375 \nL 18.109375 75.984375 \nL 18.109375 46.1875 \nQ 21.34375 51.125 25.703125 53.5625 \nQ 30.078125 56 35.796875 56 \nQ 45.21875 56 50.046875 50.171875 \nQ 54.890625 44.34375 54.890625 33.015625 \nz\n\" id=\"DejaVuSans-104\"/>\n       <path d=\"M 56.203125 29.59375 \nL 56.203125 25.203125 \nL 14.890625 25.203125 \nQ 15.484375 15.921875 20.484375 11.0625 \nQ 25.484375 6.203125 34.421875 6.203125 \nQ 39.59375 6.203125 44.453125 7.46875 \nQ 49.3125 8.734375 54.109375 11.28125 \nL 54.109375 2.78125 \nQ 49.265625 0.734375 44.1875 -0.34375 \nQ 39.109375 -1.421875 33.890625 -1.421875 \nQ 20.796875 -1.421875 13.15625 6.1875 \nQ 5.515625 13.8125 5.515625 26.8125 \nQ 5.515625 40.234375 12.765625 48.109375 \nQ 20.015625 56 32.328125 56 \nQ 43.359375 56 49.78125 48.890625 \nQ 56.203125 41.796875 56.203125 29.59375 \nz\nM 47.21875 32.234375 \nQ 47.125 39.59375 43.09375 43.984375 \nQ 39.0625 48.390625 32.421875 48.390625 \nQ 24.90625 48.390625 20.390625 44.140625 \nQ 15.875 39.890625 15.1875 32.171875 \nz\n\" id=\"DejaVuSans-101\"/>\n      </defs>\n      <g transform=\"translate(83.879685 248.050937)rotate(-90)scale(0.1 -0.1)\">\n       <use xlink:href=\"#DejaVuSans-116\"/>\n       <use x=\"39.208984\" xlink:href=\"#DejaVuSans-104\"/>\n       <use x=\"102.587891\" xlink:href=\"#DejaVuSans-101\"/>\n      </g>\n     </g>\n    </g>\n    <g id=\"xtick_3\">\n     <g id=\"line2d_5\">\n      <path clip-path=\"url(#p516f3b7900)\" d=\"M 87.331812 224.64 \nL 87.331812 7.2 \n\" style=\"fill:none;stroke:#c0c0c0;stroke-linecap:square;stroke-width:0.8;\"/>\n     </g>\n     <g id=\"line2d_6\">\n      <g>\n       <use style=\"stroke:#000000;stroke-width:0.8;\" x=\"87.331812\" xlink:href=\"#ma880279e2b\" y=\"224.64\"/>\n      </g>\n     </g>\n     <g id=\"text_3\">\n      <!-- . -->\n      <defs>\n       <path d=\"M 10.6875 12.40625 \nL 21 12.40625 \nL 21 0 \nL 10.6875 0 \nz\n\" id=\"DejaVuSans-46\"/>\n      </defs>\n      <g transform=\"translate(90.091187 234.818125)rotate(-90)scale(0.1 -0.1)\">\n       <use xlink:href=\"#DejaVuSans-46\"/>\n      </g>\n     </g>\n    </g>\n    <g id=\"xtick_4\">\n     <g id=\"line2d_7\">\n      <path clip-path=\"url(#p516f3b7900)\" d=\"M 93.543315 224.64 \nL 93.543315 7.2 \n\" style=\"fill:none;stroke:#c0c0c0;stroke-linecap:square;stroke-width:0.8;\"/>\n     </g>\n     <g id=\"line2d_8\">\n      <g>\n       <use style=\"stroke:#000000;stroke-width:0.8;\" x=\"93.543315\" xlink:href=\"#ma880279e2b\" y=\"224.64\"/>\n      </g>\n     </g>\n     <g id=\"text_4\">\n      <!-- of -->\n      <defs>\n       <path d=\"M 30.609375 48.390625 \nQ 23.390625 48.390625 19.1875 42.75 \nQ 14.984375 37.109375 14.984375 27.296875 \nQ 14.984375 17.484375 19.15625 11.84375 \nQ 23.34375 6.203125 30.609375 6.203125 \nQ 37.796875 6.203125 41.984375 11.859375 \nQ 46.1875 17.53125 46.1875 27.296875 \nQ 46.1875 37.015625 41.984375 42.703125 \nQ 37.796875 48.390625 30.609375 48.390625 \nz\nM 30.609375 56 \nQ 42.328125 56 49.015625 48.375 \nQ 55.71875 40.765625 55.71875 27.296875 \nQ 55.71875 13.875 49.015625 6.21875 \nQ 42.328125 -1.421875 30.609375 -1.421875 \nQ 18.84375 -1.421875 12.171875 6.21875 \nQ 5.515625 13.875 5.515625 27.296875 \nQ 5.515625 40.765625 12.171875 48.375 \nQ 18.84375 56 30.609375 56 \nz\n\" id=\"DejaVuSans-111\"/>\n       <path d=\"M 37.109375 75.984375 \nL 37.109375 68.5 \nL 28.515625 68.5 \nQ 23.6875 68.5 21.796875 66.546875 \nQ 19.921875 64.59375 19.921875 59.515625 \nL 19.921875 54.6875 \nL 34.71875 54.6875 \nL 34.71875 47.703125 \nL 19.921875 47.703125 \nL 19.921875 0 \nL 10.890625 0 \nL 10.890625 47.703125 \nL 2.296875 47.703125 \nL 2.296875 54.6875 \nL 10.890625 54.6875 \nL 10.890625 58.5 \nQ 10.890625 67.625 15.140625 71.796875 \nQ 19.390625 75.984375 28.609375 75.984375 \nz\n\" id=\"DejaVuSans-102\"/>\n      </defs>\n      <g transform=\"translate(96.30269 241.279062)rotate(-90)scale(0.1 -0.1)\">\n       <use xlink:href=\"#DejaVuSans-111\"/>\n       <use x=\"61.181641\" xlink:href=\"#DejaVuSans-102\"/>\n      </g>\n     </g>\n    </g>\n    <g id=\"xtick_5\">\n     <g id=\"line2d_9\">\n      <path clip-path=\"url(#p516f3b7900)\" d=\"M 99.754818 224.64 \nL 99.754818 7.2 \n\" style=\"fill:none;stroke:#c0c0c0;stroke-linecap:square;stroke-width:0.8;\"/>\n     </g>\n     <g id=\"line2d_10\">\n      <g>\n       <use style=\"stroke:#000000;stroke-width:0.8;\" x=\"99.754818\" xlink:href=\"#ma880279e2b\" y=\"224.64\"/>\n      </g>\n     </g>\n     <g id=\"text_5\">\n      <!-- and -->\n      <defs>\n       <path d=\"M 34.28125 27.484375 \nQ 23.390625 27.484375 19.1875 25 \nQ 14.984375 22.515625 14.984375 16.5 \nQ 14.984375 11.71875 18.140625 8.90625 \nQ 21.296875 6.109375 26.703125 6.109375 \nQ 34.1875 6.109375 38.703125 11.40625 \nQ 43.21875 16.703125 43.21875 25.484375 \nL 43.21875 27.484375 \nz\nM 52.203125 31.203125 \nL 52.203125 0 \nL 43.21875 0 \nL 43.21875 8.296875 \nQ 40.140625 3.328125 35.546875 0.953125 \nQ 30.953125 -1.421875 24.3125 -1.421875 \nQ 15.921875 -1.421875 10.953125 3.296875 \nQ 6 8.015625 6 15.921875 \nQ 6 25.140625 12.171875 29.828125 \nQ 18.359375 34.515625 30.609375 34.515625 \nL 43.21875 34.515625 \nL 43.21875 35.40625 \nQ 43.21875 41.609375 39.140625 45 \nQ 35.0625 48.390625 27.6875 48.390625 \nQ 23 48.390625 18.546875 47.265625 \nQ 14.109375 46.140625 10.015625 43.890625 \nL 10.015625 52.203125 \nQ 14.9375 54.109375 19.578125 55.046875 \nQ 24.21875 56 28.609375 56 \nQ 40.484375 56 46.34375 49.84375 \nQ 52.203125 43.703125 52.203125 31.203125 \nz\n\" id=\"DejaVuSans-97\"/>\n       <path d=\"M 54.890625 33.015625 \nL 54.890625 0 \nL 45.90625 0 \nL 45.90625 32.71875 \nQ 45.90625 40.484375 42.875 44.328125 \nQ 39.84375 48.1875 33.796875 48.1875 \nQ 26.515625 48.1875 22.3125 43.546875 \nQ 18.109375 38.921875 18.109375 30.90625 \nL 18.109375 0 \nL 9.078125 0 \nL 9.078125 54.6875 \nL 18.109375 54.6875 \nL 18.109375 46.1875 \nQ 21.34375 51.125 25.703125 53.5625 \nQ 30.078125 56 35.796875 56 \nQ 45.21875 56 50.046875 50.171875 \nQ 54.890625 44.34375 54.890625 33.015625 \nz\n\" id=\"DejaVuSans-110\"/>\n       <path d=\"M 45.40625 46.390625 \nL 45.40625 75.984375 \nL 54.390625 75.984375 \nL 54.390625 0 \nL 45.40625 0 \nL 45.40625 8.203125 \nQ 42.578125 3.328125 38.25 0.953125 \nQ 33.9375 -1.421875 27.875 -1.421875 \nQ 17.96875 -1.421875 11.734375 6.484375 \nQ 5.515625 14.40625 5.515625 27.296875 \nQ 5.515625 40.1875 11.734375 48.09375 \nQ 17.96875 56 27.875 56 \nQ 33.9375 56 38.25 53.625 \nQ 42.578125 51.265625 45.40625 46.390625 \nz\nM 14.796875 27.296875 \nQ 14.796875 17.390625 18.875 11.75 \nQ 22.953125 6.109375 30.078125 6.109375 \nQ 37.203125 6.109375 41.296875 11.75 \nQ 45.40625 17.390625 45.40625 27.296875 \nQ 45.40625 37.203125 41.296875 42.84375 \nQ 37.203125 48.484375 30.078125 48.484375 \nQ 22.953125 48.484375 18.875 42.84375 \nQ 14.796875 37.203125 14.796875 27.296875 \nz\n\" id=\"DejaVuSans-100\"/>\n      </defs>\n      <g transform=\"translate(102.514193 250.454062)rotate(-90)scale(0.1 -0.1)\">\n       <use xlink:href=\"#DejaVuSans-97\"/>\n       <use x=\"61.279297\" xlink:href=\"#DejaVuSans-110\"/>\n       <use x=\"124.658203\" xlink:href=\"#DejaVuSans-100\"/>\n      </g>\n     </g>\n    </g>\n    <g id=\"xtick_6\">\n     <g id=\"line2d_11\">\n      <path clip-path=\"url(#p516f3b7900)\" d=\"M 105.966321 224.64 \nL 105.966321 7.2 \n\" style=\"fill:none;stroke:#c0c0c0;stroke-linecap:square;stroke-width:0.8;\"/>\n     </g>\n     <g id=\"line2d_12\">\n      <g>\n       <use style=\"stroke:#000000;stroke-width:0.8;\" x=\"105.966321\" xlink:href=\"#ma880279e2b\" y=\"224.64\"/>\n      </g>\n     </g>\n     <g id=\"text_6\">\n      <!-- a -->\n      <g transform=\"translate(108.725696 237.768125)rotate(-90)scale(0.1 -0.1)\">\n       <use xlink:href=\"#DejaVuSans-97\"/>\n      </g>\n     </g>\n    </g>\n    <g id=\"xtick_7\">\n     <g id=\"line2d_13\">\n      <path clip-path=\"url(#p516f3b7900)\" d=\"M 112.177824 224.64 \nL 112.177824 7.2 \n\" style=\"fill:none;stroke:#c0c0c0;stroke-linecap:square;stroke-width:0.8;\"/>\n     </g>\n     <g id=\"line2d_14\">\n      <g>\n       <use style=\"stroke:#000000;stroke-width:0.8;\" x=\"112.177824\" xlink:href=\"#ma880279e2b\" y=\"224.64\"/>\n      </g>\n     </g>\n     <g id=\"text_7\">\n      <!-- to -->\n      <g transform=\"translate(114.937199 241.679062)rotate(-90)scale(0.1 -0.1)\">\n       <use xlink:href=\"#DejaVuSans-116\"/>\n       <use x=\"39.208984\" xlink:href=\"#DejaVuSans-111\"/>\n      </g>\n     </g>\n    </g>\n    <g id=\"xtick_8\">\n     <g id=\"line2d_15\">\n      <path clip-path=\"url(#p516f3b7900)\" d=\"M 118.389326 224.64 \nL 118.389326 7.2 \n\" style=\"fill:none;stroke:#c0c0c0;stroke-linecap:square;stroke-width:0.8;\"/>\n     </g>\n     <g id=\"line2d_16\">\n      <g>\n       <use style=\"stroke:#000000;stroke-width:0.8;\" x=\"118.389326\" xlink:href=\"#ma880279e2b\" y=\"224.64\"/>\n      </g>\n     </g>\n     <g id=\"text_8\">\n      <!-- ; -->\n      <defs>\n       <path d=\"M 11.71875 51.703125 \nL 22.015625 51.703125 \nL 22.015625 39.3125 \nL 11.71875 39.3125 \nz\nM 11.71875 12.40625 \nL 22.015625 12.40625 \nL 22.015625 4 \nL 14.015625 -11.625 \nL 7.71875 -11.625 \nL 11.71875 4 \nz\n\" id=\"DejaVuSans-59\"/>\n      </defs>\n      <g transform=\"translate(121.148701 235.00875)rotate(-90)scale(0.1 -0.1)\">\n       <use xlink:href=\"#DejaVuSans-59\"/>\n      </g>\n     </g>\n    </g>\n    <g id=\"xtick_9\">\n     <g id=\"line2d_17\">\n      <path clip-path=\"url(#p516f3b7900)\" d=\"M 124.600829 224.64 \nL 124.600829 7.2 \n\" style=\"fill:none;stroke:#c0c0c0;stroke-linecap:square;stroke-width:0.8;\"/>\n     </g>\n     <g id=\"line2d_18\">\n      <g>\n       <use style=\"stroke:#000000;stroke-width:0.8;\" x=\"124.600829\" xlink:href=\"#ma880279e2b\" y=\"224.64\"/>\n      </g>\n     </g>\n     <g id=\"text_9\">\n      <!-- in -->\n      <defs>\n       <path d=\"M 9.421875 54.6875 \nL 18.40625 54.6875 \nL 18.40625 0 \nL 9.421875 0 \nz\nM 9.421875 75.984375 \nL 18.40625 75.984375 \nL 18.40625 64.59375 \nL 9.421875 64.59375 \nz\n\" id=\"DejaVuSans-105\"/>\n      </defs>\n      <g transform=\"translate(127.360204 240.755625)rotate(-90)scale(0.1 -0.1)\">\n       <use xlink:href=\"#DejaVuSans-105\"/>\n       <use x=\"27.783203\" xlink:href=\"#DejaVuSans-110\"/>\n      </g>\n     </g>\n    </g>\n    <g id=\"xtick_10\">\n     <g id=\"line2d_19\">\n      <path clip-path=\"url(#p516f3b7900)\" d=\"M 130.812332 224.64 \nL 130.812332 7.2 \n\" style=\"fill:none;stroke:#c0c0c0;stroke-linecap:square;stroke-width:0.8;\"/>\n     </g>\n     <g id=\"line2d_20\">\n      <g>\n       <use style=\"stroke:#000000;stroke-width:0.8;\" x=\"130.812332\" xlink:href=\"#ma880279e2b\" y=\"224.64\"/>\n      </g>\n     </g>\n     <g id=\"text_10\">\n      <!-- that -->\n      <g transform=\"translate(133.571707 251.94625)rotate(-90)scale(0.1 -0.1)\">\n       <use xlink:href=\"#DejaVuSans-116\"/>\n       <use x=\"39.208984\" xlink:href=\"#DejaVuSans-104\"/>\n       <use x=\"102.587891\" xlink:href=\"#DejaVuSans-97\"/>\n       <use x=\"163.867188\" xlink:href=\"#DejaVuSans-116\"/>\n      </g>\n     </g>\n    </g>\n    <g id=\"xtick_11\">\n     <g id=\"line2d_21\">\n      <path clip-path=\"url(#p516f3b7900)\" d=\"M 137.023835 224.64 \nL 137.023835 7.2 \n\" style=\"fill:none;stroke:#c0c0c0;stroke-linecap:square;stroke-width:0.8;\"/>\n     </g>\n     <g id=\"line2d_22\">\n      <g>\n       <use style=\"stroke:#000000;stroke-width:0.8;\" x=\"137.023835\" xlink:href=\"#ma880279e2b\" y=\"224.64\"/>\n      </g>\n     </g>\n     <g id=\"text_11\">\n      <!-- ' -->\n      <defs>\n       <path d=\"M 17.921875 72.90625 \nL 17.921875 45.796875 \nL 9.625 45.796875 \nL 9.625 72.90625 \nz\n\" id=\"DejaVuSans-39\"/>\n      </defs>\n      <g transform=\"translate(139.78321 234.388437)rotate(-90)scale(0.1 -0.1)\">\n       <use xlink:href=\"#DejaVuSans-39\"/>\n      </g>\n     </g>\n    </g>\n    <g id=\"xtick_12\">\n     <g id=\"line2d_23\">\n      <path clip-path=\"url(#p516f3b7900)\" d=\"M 143.235337 224.64 \nL 143.235337 7.2 \n\" style=\"fill:none;stroke:#c0c0c0;stroke-linecap:square;stroke-width:0.8;\"/>\n     </g>\n     <g id=\"line2d_24\">\n      <g>\n       <use style=\"stroke:#000000;stroke-width:0.8;\" x=\"143.235337\" xlink:href=\"#ma880279e2b\" y=\"224.64\"/>\n      </g>\n     </g>\n     <g id=\"text_12\">\n      <!-- - -->\n      <defs>\n       <path d=\"M 4.890625 31.390625 \nL 31.203125 31.390625 \nL 31.203125 23.390625 \nL 4.890625 23.390625 \nz\n\" id=\"DejaVuSans-45\"/>\n      </defs>\n      <g transform=\"translate(145.994712 235.247812)rotate(-90)scale(0.1 -0.1)\">\n       <use xlink:href=\"#DejaVuSans-45\"/>\n      </g>\n     </g>\n    </g>\n    <g id=\"xtick_13\">\n     <g id=\"line2d_25\">\n      <path clip-path=\"url(#p516f3b7900)\" d=\"M 149.44684 224.64 \nL 149.44684 7.2 \n\" style=\"fill:none;stroke:#c0c0c0;stroke-linecap:square;stroke-width:0.8;\"/>\n     </g>\n     <g id=\"line2d_26\">\n      <g>\n       <use style=\"stroke:#000000;stroke-width:0.8;\" x=\"149.44684\" xlink:href=\"#ma880279e2b\" y=\"224.64\"/>\n      </g>\n     </g>\n     <g id=\"text_13\">\n      <!-- his -->\n      <defs>\n       <path d=\"M 44.28125 53.078125 \nL 44.28125 44.578125 \nQ 40.484375 46.53125 36.375 47.5 \nQ 32.28125 48.484375 27.875 48.484375 \nQ 21.1875 48.484375 17.84375 46.4375 \nQ 14.5 44.390625 14.5 40.28125 \nQ 14.5 37.15625 16.890625 35.375 \nQ 19.28125 33.59375 26.515625 31.984375 \nL 29.59375 31.296875 \nQ 39.15625 29.25 43.1875 25.515625 \nQ 47.21875 21.78125 47.21875 15.09375 \nQ 47.21875 7.46875 41.1875 3.015625 \nQ 35.15625 -1.421875 24.609375 -1.421875 \nQ 20.21875 -1.421875 15.453125 -0.5625 \nQ 10.6875 0.296875 5.421875 2 \nL 5.421875 11.28125 \nQ 10.40625 8.6875 15.234375 7.390625 \nQ 20.0625 6.109375 24.8125 6.109375 \nQ 31.15625 6.109375 34.5625 8.28125 \nQ 37.984375 10.453125 37.984375 14.40625 \nQ 37.984375 18.0625 35.515625 20.015625 \nQ 33.0625 21.96875 24.703125 23.78125 \nL 21.578125 24.515625 \nQ 13.234375 26.265625 9.515625 29.90625 \nQ 5.8125 33.546875 5.8125 39.890625 \nQ 5.8125 47.609375 11.28125 51.796875 \nQ 16.75 56 26.8125 56 \nQ 31.78125 56 36.171875 55.265625 \nQ 40.578125 54.546875 44.28125 53.078125 \nz\n\" id=\"DejaVuSans-115\"/>\n      </defs>\n      <g transform=\"translate(152.206215 245.965)rotate(-90)scale(0.1 -0.1)\">\n       <use xlink:href=\"#DejaVuSans-104\"/>\n       <use x=\"63.378906\" xlink:href=\"#DejaVuSans-105\"/>\n       <use x=\"91.162109\" xlink:href=\"#DejaVuSans-115\"/>\n      </g>\n     </g>\n    </g>\n    <g id=\"xtick_14\">\n     <g id=\"line2d_27\">\n      <path clip-path=\"url(#p516f3b7900)\" d=\"M 155.658343 224.64 \nL 155.658343 7.2 \n\" style=\"fill:none;stroke:#c0c0c0;stroke-linecap:square;stroke-width:0.8;\"/>\n     </g>\n     <g id=\"line2d_28\">\n      <g>\n       <use style=\"stroke:#000000;stroke-width:0.8;\" x=\"155.658343\" xlink:href=\"#ma880279e2b\" y=\"224.64\"/>\n      </g>\n     </g>\n     <g id=\"text_14\">\n      <!-- it -->\n      <g transform=\"translate(158.417718 238.338437)rotate(-90)scale(0.1 -0.1)\">\n       <use xlink:href=\"#DejaVuSans-105\"/>\n       <use x=\"27.783203\" xlink:href=\"#DejaVuSans-116\"/>\n      </g>\n     </g>\n    </g>\n    <g id=\"xtick_15\">\n     <g id=\"line2d_29\">\n      <path clip-path=\"url(#p516f3b7900)\" d=\"M 161.869846 224.64 \nL 161.869846 7.2 \n\" style=\"fill:none;stroke:#c0c0c0;stroke-linecap:square;stroke-width:0.8;\"/>\n     </g>\n     <g id=\"line2d_30\">\n      <g>\n       <use style=\"stroke:#000000;stroke-width:0.8;\" x=\"161.869846\" xlink:href=\"#ma880279e2b\" y=\"224.64\"/>\n      </g>\n     </g>\n     <g id=\"text_15\">\n      <!-- I -->\n      <defs>\n       <path d=\"M 9.8125 72.90625 \nL 19.671875 72.90625 \nL 19.671875 0 \nL 9.8125 0 \nz\n\" id=\"DejaVuSans-73\"/>\n      </defs>\n      <g transform=\"translate(164.629221 234.59)rotate(-90)scale(0.1 -0.1)\">\n       <use xlink:href=\"#DejaVuSans-73\"/>\n      </g>\n     </g>\n    </g>\n    <g id=\"xtick_16\">\n     <g id=\"line2d_31\">\n      <path clip-path=\"url(#p516f3b7900)\" d=\"M 168.081349 224.64 \nL 168.081349 7.2 \n\" style=\"fill:none;stroke:#c0c0c0;stroke-linecap:square;stroke-width:0.8;\"/>\n     </g>\n     <g id=\"line2d_32\">\n      <g>\n       <use style=\"stroke:#000000;stroke-width:0.8;\" x=\"168.081349\" xlink:href=\"#ma880279e2b\" y=\"224.64\"/>\n      </g>\n     </g>\n     <g id=\"text_16\">\n      <!-- s -->\n      <g transform=\"translate(170.840724 236.849375)rotate(-90)scale(0.1 -0.1)\">\n       <use xlink:href=\"#DejaVuSans-115\"/>\n      </g>\n     </g>\n    </g>\n    <g id=\"xtick_17\">\n     <g id=\"line2d_33\">\n      <path clip-path=\"url(#p516f3b7900)\" d=\"M 174.292851 224.64 \nL 174.292851 7.2 \n\" style=\"fill:none;stroke:#c0c0c0;stroke-linecap:square;stroke-width:0.8;\"/>\n     </g>\n     <g id=\"line2d_34\">\n      <g>\n       <use style=\"stroke:#000000;stroke-width:0.8;\" x=\"174.292851\" xlink:href=\"#ma880279e2b\" y=\"224.64\"/>\n      </g>\n     </g>\n     <g id=\"text_17\">\n      <!-- is -->\n      <g transform=\"translate(177.052226 239.6275)rotate(-90)scale(0.1 -0.1)\">\n       <use xlink:href=\"#DejaVuSans-105\"/>\n       <use x=\"27.783203\" xlink:href=\"#DejaVuSans-115\"/>\n      </g>\n     </g>\n    </g>\n    <g id=\"xtick_18\">\n     <g id=\"line2d_35\">\n      <path clip-path=\"url(#p516f3b7900)\" d=\"M 180.504354 224.64 \nL 180.504354 7.2 \n\" style=\"fill:none;stroke:#c0c0c0;stroke-linecap:square;stroke-width:0.8;\"/>\n     </g>\n     <g id=\"line2d_36\">\n      <g>\n       <use style=\"stroke:#000000;stroke-width:0.8;\" x=\"180.504354\" xlink:href=\"#ma880279e2b\" y=\"224.64\"/>\n      </g>\n     </g>\n     <g id=\"text_18\">\n      <!-- he -->\n      <g transform=\"translate(183.263729 244.130625)rotate(-90)scale(0.1 -0.1)\">\n       <use xlink:href=\"#DejaVuSans-104\"/>\n       <use x=\"63.378906\" xlink:href=\"#DejaVuSans-101\"/>\n      </g>\n     </g>\n    </g>\n    <g id=\"xtick_19\">\n     <g id=\"line2d_37\">\n      <path clip-path=\"url(#p516f3b7900)\" d=\"M 186.715857 224.64 \nL 186.715857 7.2 \n\" style=\"fill:none;stroke:#c0c0c0;stroke-linecap:square;stroke-width:0.8;\"/>\n     </g>\n     <g id=\"line2d_38\">\n      <g>\n       <use style=\"stroke:#000000;stroke-width:0.8;\" x=\"186.715857\" xlink:href=\"#ma880279e2b\" y=\"224.64\"/>\n      </g>\n     </g>\n     <g id=\"text_19\">\n      <!-- with -->\n      <defs>\n       <path d=\"M 4.203125 54.6875 \nL 13.1875 54.6875 \nL 24.421875 12.015625 \nL 35.59375 54.6875 \nL 46.1875 54.6875 \nL 57.421875 12.015625 \nL 68.609375 54.6875 \nL 77.59375 54.6875 \nL 63.28125 0 \nL 52.6875 0 \nL 40.921875 44.828125 \nL 29.109375 0 \nL 18.5 0 \nz\n\" id=\"DejaVuSans-119\"/>\n      </defs>\n      <g transform=\"translate(189.475232 252.854062)rotate(-90)scale(0.1 -0.1)\">\n       <use xlink:href=\"#DejaVuSans-119\"/>\n       <use x=\"81.787109\" xlink:href=\"#DejaVuSans-105\"/>\n       <use x=\"109.570312\" xlink:href=\"#DejaVuSans-116\"/>\n       <use x=\"148.779297\" xlink:href=\"#DejaVuSans-104\"/>\n      </g>\n     </g>\n    </g>\n    <g id=\"xtick_20\">\n     <g id=\"line2d_39\">\n      <path clip-path=\"url(#p516f3b7900)\" d=\"M 192.92736 224.64 \nL 192.92736 7.2 \n\" style=\"fill:none;stroke:#c0c0c0;stroke-linecap:square;stroke-width:0.8;\"/>\n     </g>\n     <g id=\"line2d_40\">\n      <g>\n       <use style=\"stroke:#000000;stroke-width:0.8;\" x=\"192.92736\" xlink:href=\"#ma880279e2b\" y=\"224.64\"/>\n      </g>\n     </g>\n     <g id=\"text_20\">\n      <!-- was -->\n      <g transform=\"translate(195.686735 251.155625)rotate(-90)scale(0.1 -0.1)\">\n       <use xlink:href=\"#DejaVuSans-119\"/>\n       <use x=\"81.787109\" xlink:href=\"#DejaVuSans-97\"/>\n       <use x=\"143.066406\" xlink:href=\"#DejaVuSans-115\"/>\n      </g>\n     </g>\n    </g>\n    <g id=\"xtick_21\">\n     <g id=\"line2d_41\">\n      <path clip-path=\"url(#p516f3b7900)\" d=\"M 199.138862 224.64 \nL 199.138862 7.2 \n\" style=\"fill:none;stroke:#c0c0c0;stroke-linecap:square;stroke-width:0.8;\"/>\n     </g>\n     <g id=\"line2d_42\">\n      <g>\n       <use style=\"stroke:#000000;stroke-width:0.8;\" x=\"199.138862\" xlink:href=\"#ma880279e2b\" y=\"224.64\"/>\n      </g>\n     </g>\n     <g id=\"text_21\">\n      <!-- as -->\n      <g transform=\"translate(201.898237 242.9775)rotate(-90)scale(0.1 -0.1)\">\n       <use xlink:href=\"#DejaVuSans-97\"/>\n       <use x=\"61.279297\" xlink:href=\"#DejaVuSans-115\"/>\n      </g>\n     </g>\n    </g>\n    <g id=\"xtick_22\">\n     <g id=\"line2d_43\">\n      <path clip-path=\"url(#p516f3b7900)\" d=\"M 205.350365 224.64 \nL 205.350365 7.2 \n\" style=\"fill:none;stroke:#c0c0c0;stroke-linecap:square;stroke-width:0.8;\"/>\n     </g>\n     <g id=\"line2d_44\">\n      <g>\n       <use style=\"stroke:#000000;stroke-width:0.8;\" x=\"205.350365\" xlink:href=\"#ma880279e2b\" y=\"224.64\"/>\n      </g>\n     </g>\n     <g id=\"text_22\">\n      <!-- \" -->\n      <defs>\n       <path d=\"M 17.921875 72.90625 \nL 17.921875 45.796875 \nL 9.625 45.796875 \nL 9.625 72.90625 \nz\nM 36.375 72.90625 \nL 36.375 45.796875 \nL 28.078125 45.796875 \nL 28.078125 72.90625 \nz\n\" id=\"DejaVuSans-34\"/>\n      </defs>\n      <g transform=\"translate(208.10974 236.24)rotate(-90)scale(0.1 -0.1)\">\n       <use xlink:href=\"#DejaVuSans-34\"/>\n      </g>\n     </g>\n    </g>\n    <g id=\"xtick_23\">\n     <g id=\"line2d_45\">\n      <path clip-path=\"url(#p516f3b7900)\" d=\"M 211.561868 224.64 \nL 211.561868 7.2 \n\" style=\"fill:none;stroke:#c0c0c0;stroke-linecap:square;stroke-width:0.8;\"/>\n     </g>\n     <g id=\"line2d_46\">\n      <g>\n       <use style=\"stroke:#000000;stroke-width:0.8;\" x=\"211.561868\" xlink:href=\"#ma880279e2b\" y=\"224.64\"/>\n      </g>\n     </g>\n     <g id=\"text_23\">\n      <!-- all -->\n      <defs>\n       <path d=\"M 9.421875 75.984375 \nL 18.40625 75.984375 \nL 18.40625 0 \nL 9.421875 0 \nz\n\" id=\"DejaVuSans-108\"/>\n      </defs>\n      <g transform=\"translate(214.321243 243.324375)rotate(-90)scale(0.1 -0.1)\">\n       <use xlink:href=\"#DejaVuSans-97\"/>\n       <use x=\"61.279297\" xlink:href=\"#DejaVuSans-108\"/>\n       <use x=\"89.0625\" xlink:href=\"#DejaVuSans-108\"/>\n      </g>\n     </g>\n    </g>\n    <g id=\"xtick_24\">\n     <g id=\"line2d_47\">\n      <path clip-path=\"url(#p516f3b7900)\" d=\"M 217.773371 224.64 \nL 217.773371 7.2 \n\" style=\"fill:none;stroke:#c0c0c0;stroke-linecap:square;stroke-width:0.8;\"/>\n     </g>\n     <g id=\"line2d_48\">\n      <g>\n       <use style=\"stroke:#000000;stroke-width:0.8;\" x=\"217.773371\" xlink:href=\"#ma880279e2b\" y=\"224.64\"/>\n      </g>\n     </g>\n     <g id=\"text_24\">\n      <!-- for -->\n      <defs>\n       <path d=\"M 41.109375 46.296875 \nQ 39.59375 47.171875 37.8125 47.578125 \nQ 36.03125 48 33.890625 48 \nQ 26.265625 48 22.1875 43.046875 \nQ 18.109375 38.09375 18.109375 28.8125 \nL 18.109375 0 \nL 9.078125 0 \nL 9.078125 54.6875 \nL 18.109375 54.6875 \nL 18.109375 46.1875 \nQ 20.953125 51.171875 25.484375 53.578125 \nQ 30.03125 56 36.53125 56 \nQ 37.453125 56 38.578125 55.875 \nQ 39.703125 55.765625 41.0625 55.515625 \nz\n\" id=\"DejaVuSans-114\"/>\n      </defs>\n      <g transform=\"translate(220.532746 245.39)rotate(-90)scale(0.1 -0.1)\">\n       <use xlink:href=\"#DejaVuSans-102\"/>\n       <use x=\"35.205078\" xlink:href=\"#DejaVuSans-111\"/>\n       <use x=\"96.386719\" xlink:href=\"#DejaVuSans-114\"/>\n      </g>\n     </g>\n    </g>\n    <g id=\"xtick_25\">\n     <g id=\"line2d_49\">\n      <path clip-path=\"url(#p516f3b7900)\" d=\"M 223.984874 224.64 \nL 223.984874 7.2 \n\" style=\"fill:none;stroke:#c0c0c0;stroke-linecap:square;stroke-width:0.8;\"/>\n     </g>\n     <g id=\"line2d_50\">\n      <g>\n       <use style=\"stroke:#000000;stroke-width:0.8;\" x=\"223.984874\" xlink:href=\"#ma880279e2b\" y=\"224.64\"/>\n      </g>\n     </g>\n     <g id=\"text_25\">\n      <!-- this -->\n      <g transform=\"translate(226.744249 249.885312)rotate(-90)scale(0.1 -0.1)\">\n       <use xlink:href=\"#DejaVuSans-116\"/>\n       <use x=\"39.208984\" xlink:href=\"#DejaVuSans-104\"/>\n       <use x=\"102.587891\" xlink:href=\"#DejaVuSans-105\"/>\n       <use x=\"130.371094\" xlink:href=\"#DejaVuSans-115\"/>\n      </g>\n     </g>\n    </g>\n    <g id=\"xtick_26\">\n     <g id=\"line2d_51\">\n      <path clip-path=\"url(#p516f3b7900)\" d=\"M 230.196376 224.64 \nL 230.196376 7.2 \n\" style=\"fill:none;stroke:#c0c0c0;stroke-linecap:square;stroke-width:0.8;\"/>\n     </g>\n     <g id=\"line2d_52\">\n      <g>\n       <use style=\"stroke:#000000;stroke-width:0.8;\" x=\"230.196376\" xlink:href=\"#ma880279e2b\" y=\"224.64\"/>\n      </g>\n     </g>\n     <g id=\"text_26\">\n      <!-- ! -->\n      <defs>\n       <path d=\"M 15.09375 12.40625 \nL 25 12.40625 \nL 25 0 \nL 15.09375 0 \nz\nM 15.09375 72.90625 \nL 25 72.90625 \nL 25 40.921875 \nL 24.03125 23.484375 \nL 16.109375 23.484375 \nL 15.09375 40.921875 \nz\n\" id=\"DejaVuSans-33\"/>\n      </defs>\n      <g transform=\"translate(232.955751 235.649375)rotate(-90)scale(0.1 -0.1)\">\n       <use xlink:href=\"#DejaVuSans-33\"/>\n      </g>\n     </g>\n    </g>\n    <g id=\"xtick_27\">\n     <g id=\"line2d_53\">\n      <path clip-path=\"url(#p516f3b7900)\" d=\"M 236.407879 224.64 \nL 236.407879 7.2 \n\" style=\"fill:none;stroke:#c0c0c0;stroke-linecap:square;stroke-width:0.8;\"/>\n     </g>\n     <g id=\"line2d_54\">\n      <g>\n       <use style=\"stroke:#000000;stroke-width:0.8;\" x=\"236.407879\" xlink:href=\"#ma880279e2b\" y=\"224.64\"/>\n      </g>\n     </g>\n     <g id=\"text_27\">\n      <!-- at -->\n      <g transform=\"translate(239.167254 241.688437)rotate(-90)scale(0.1 -0.1)\">\n       <use xlink:href=\"#DejaVuSans-97\"/>\n       <use x=\"61.279297\" xlink:href=\"#DejaVuSans-116\"/>\n      </g>\n     </g>\n    </g>\n    <g id=\"xtick_28\">\n     <g id=\"line2d_55\">\n      <path clip-path=\"url(#p516f3b7900)\" d=\"M 242.619382 224.64 \nL 242.619382 7.2 \n\" style=\"fill:none;stroke:#c0c0c0;stroke-linecap:square;stroke-width:0.8;\"/>\n     </g>\n     <g id=\"line2d_56\">\n      <g>\n       <use style=\"stroke:#000000;stroke-width:0.8;\" x=\"242.619382\" xlink:href=\"#ma880279e2b\" y=\"224.64\"/>\n      </g>\n     </g>\n     <g id=\"text_28\">\n      <!-- by -->\n      <defs>\n       <path d=\"M 48.6875 27.296875 \nQ 48.6875 37.203125 44.609375 42.84375 \nQ 40.53125 48.484375 33.40625 48.484375 \nQ 26.265625 48.484375 22.1875 42.84375 \nQ 18.109375 37.203125 18.109375 27.296875 \nQ 18.109375 17.390625 22.1875 11.75 \nQ 26.265625 6.109375 33.40625 6.109375 \nQ 40.53125 6.109375 44.609375 11.75 \nQ 48.6875 17.390625 48.6875 27.296875 \nz\nM 18.109375 46.390625 \nQ 20.953125 51.265625 25.265625 53.625 \nQ 29.59375 56 35.59375 56 \nQ 45.5625 56 51.78125 48.09375 \nQ 58.015625 40.1875 58.015625 27.296875 \nQ 58.015625 14.40625 51.78125 6.484375 \nQ 45.5625 -1.421875 35.59375 -1.421875 \nQ 29.59375 -1.421875 25.265625 0.953125 \nQ 20.953125 3.328125 18.109375 8.203125 \nL 18.109375 0 \nL 9.078125 0 \nL 9.078125 75.984375 \nL 18.109375 75.984375 \nz\n\" id=\"DejaVuSans-98\"/>\n       <path d=\"M 32.171875 -5.078125 \nQ 28.375 -14.84375 24.75 -17.8125 \nQ 21.140625 -20.796875 15.09375 -20.796875 \nL 7.90625 -20.796875 \nL 7.90625 -13.28125 \nL 13.1875 -13.28125 \nQ 16.890625 -13.28125 18.9375 -11.515625 \nQ 21 -9.765625 23.484375 -3.21875 \nL 25.09375 0.875 \nL 2.984375 54.6875 \nL 12.5 54.6875 \nL 29.59375 11.921875 \nL 46.6875 54.6875 \nL 56.203125 54.6875 \nz\n\" id=\"DejaVuSans-121\"/>\n      </defs>\n      <g transform=\"translate(245.378757 243.907187)rotate(-90)scale(0.1 -0.1)\">\n       <use xlink:href=\"#DejaVuSans-98\"/>\n       <use x=\"63.476562\" xlink:href=\"#DejaVuSans-121\"/>\n      </g>\n     </g>\n    </g>\n    <g id=\"xtick_29\">\n     <g id=\"line2d_57\">\n      <path clip-path=\"url(#p516f3b7900)\" d=\"M 248.830885 224.64 \nL 248.830885 7.2 \n\" style=\"fill:none;stroke:#c0c0c0;stroke-linecap:square;stroke-width:0.8;\"/>\n     </g>\n     <g id=\"line2d_58\">\n      <g>\n       <use style=\"stroke:#000000;stroke-width:0.8;\" x=\"248.830885\" xlink:href=\"#ma880279e2b\" y=\"224.64\"/>\n      </g>\n     </g>\n     <g id=\"text_29\">\n      <!-- but -->\n      <defs>\n       <path d=\"M 8.5 21.578125 \nL 8.5 54.6875 \nL 17.484375 54.6875 \nL 17.484375 21.921875 \nQ 17.484375 14.15625 20.5 10.265625 \nQ 23.53125 6.390625 29.59375 6.390625 \nQ 36.859375 6.390625 41.078125 11.03125 \nQ 45.3125 15.671875 45.3125 23.6875 \nL 45.3125 54.6875 \nL 54.296875 54.6875 \nL 54.296875 0 \nL 45.3125 0 \nL 45.3125 8.40625 \nQ 42.046875 3.421875 37.71875 1 \nQ 33.40625 -1.421875 27.6875 -1.421875 \nQ 18.265625 -1.421875 13.375 4.4375 \nQ 8.5 10.296875 8.5 21.578125 \nz\nM 31.109375 56 \nz\n\" id=\"DejaVuSans-117\"/>\n      </defs>\n      <g transform=\"translate(251.59026 248.24625)rotate(-90)scale(0.1 -0.1)\">\n       <use xlink:href=\"#DejaVuSans-98\"/>\n       <use x=\"63.476562\" xlink:href=\"#DejaVuSans-117\"/>\n       <use x=\"126.855469\" xlink:href=\"#DejaVuSans-116\"/>\n      </g>\n     </g>\n    </g>\n    <g id=\"xtick_30\">\n     <g id=\"line2d_59\">\n      <path clip-path=\"url(#p516f3b7900)\" d=\"M 255.042388 224.64 \nL 255.042388 7.2 \n\" style=\"fill:none;stroke:#c0c0c0;stroke-linecap:square;stroke-width:0.8;\"/>\n     </g>\n     <g id=\"line2d_60\">\n      <g>\n       <use style=\"stroke:#000000;stroke-width:0.8;\" x=\"255.042388\" xlink:href=\"#ma880279e2b\" y=\"224.64\"/>\n      </g>\n     </g>\n     <g id=\"text_30\">\n      <!-- not -->\n      <g transform=\"translate(257.801763 248.016562)rotate(-90)scale(0.1 -0.1)\">\n       <use xlink:href=\"#DejaVuSans-110\"/>\n       <use x=\"63.378906\" xlink:href=\"#DejaVuSans-111\"/>\n       <use x=\"124.560547\" xlink:href=\"#DejaVuSans-116\"/>\n      </g>\n     </g>\n    </g>\n    <g id=\"xtick_31\">\n     <g id=\"line2d_61\">\n      <path clip-path=\"url(#p516f3b7900)\" d=\"M 261.25389 224.64 \nL 261.25389 7.2 \n\" style=\"fill:none;stroke:#c0c0c0;stroke-linecap:square;stroke-width:0.8;\"/>\n     </g>\n     <g id=\"line2d_62\">\n      <g>\n       <use style=\"stroke:#000000;stroke-width:0.8;\" x=\"261.25389\" xlink:href=\"#ma880279e2b\" y=\"224.64\"/>\n      </g>\n     </g>\n     <g id=\"text_31\">\n      <!-- - - -->\n      <g transform=\"translate(264.013265 238.855625)rotate(-90)scale(0.1 -0.1)\">\n       <use xlink:href=\"#DejaVuSans-45\"/>\n       <use x=\"36.083984\" xlink:href=\"#DejaVuSans-45\"/>\n      </g>\n     </g>\n    </g>\n    <g id=\"xtick_32\">\n     <g id=\"line2d_63\">\n      <path clip-path=\"url(#p516f3b7900)\" d=\"M 267.465393 224.64 \nL 267.465393 7.2 \n\" style=\"fill:none;stroke:#c0c0c0;stroke-linecap:square;stroke-width:0.8;\"/>\n     </g>\n     <g id=\"line2d_64\">\n      <g>\n       <use style=\"stroke:#000000;stroke-width:0.8;\" x=\"267.465393\" xlink:href=\"#ma880279e2b\" y=\"224.64\"/>\n      </g>\n     </g>\n     <g id=\"text_32\">\n      <!-- him -->\n      <defs>\n       <path d=\"M 52 44.1875 \nQ 55.375 50.25 60.0625 53.125 \nQ 64.75 56 71.09375 56 \nQ 79.640625 56 84.28125 50.015625 \nQ 88.921875 44.046875 88.921875 33.015625 \nL 88.921875 0 \nL 79.890625 0 \nL 79.890625 32.71875 \nQ 79.890625 40.578125 77.09375 44.375 \nQ 74.3125 48.1875 68.609375 48.1875 \nQ 61.625 48.1875 57.5625 43.546875 \nQ 53.515625 38.921875 53.515625 30.90625 \nL 53.515625 0 \nL 44.484375 0 \nL 44.484375 32.71875 \nQ 44.484375 40.625 41.703125 44.40625 \nQ 38.921875 48.1875 33.109375 48.1875 \nQ 26.21875 48.1875 22.15625 43.53125 \nQ 18.109375 38.875 18.109375 30.90625 \nL 18.109375 0 \nL 9.078125 0 \nL 9.078125 54.6875 \nL 18.109375 54.6875 \nL 18.109375 46.1875 \nQ 21.1875 51.21875 25.484375 53.609375 \nQ 29.78125 56 35.6875 56 \nQ 41.65625 56 45.828125 52.96875 \nQ 50 49.953125 52 44.1875 \nz\n\" id=\"DejaVuSans-109\"/>\n      </defs>\n      <g transform=\"translate(270.224768 250.49625)rotate(-90)scale(0.1 -0.1)\">\n       <use xlink:href=\"#DejaVuSans-104\"/>\n       <use x=\"63.378906\" xlink:href=\"#DejaVuSans-105\"/>\n       <use x=\"91.162109\" xlink:href=\"#DejaVuSans-109\"/>\n      </g>\n     </g>\n    </g>\n    <g id=\"xtick_33\">\n     <g id=\"line2d_65\">\n      <path clip-path=\"url(#p516f3b7900)\" d=\"M 273.676896 224.64 \nL 273.676896 7.2 \n\" style=\"fill:none;stroke:#c0c0c0;stroke-linecap:square;stroke-width:0.8;\"/>\n     </g>\n     <g id=\"line2d_66\">\n      <g>\n       <use style=\"stroke:#000000;stroke-width:0.8;\" x=\"273.676896\" xlink:href=\"#ma880279e2b\" y=\"224.64\"/>\n      </g>\n     </g>\n     <g id=\"text_33\">\n      <!-- from -->\n      <g transform=\"translate(276.436271 254.905625)rotate(-90)scale(0.1 -0.1)\">\n       <use xlink:href=\"#DejaVuSans-102\"/>\n       <use x=\"35.205078\" xlink:href=\"#DejaVuSans-114\"/>\n       <use x=\"74.068359\" xlink:href=\"#DejaVuSans-111\"/>\n       <use x=\"135.25\" xlink:href=\"#DejaVuSans-109\"/>\n      </g>\n     </g>\n    </g>\n    <g id=\"xtick_34\">\n     <g id=\"line2d_67\">\n      <path clip-path=\"url(#p516f3b7900)\" d=\"M 279.888399 224.64 \nL 279.888399 7.2 \n\" style=\"fill:none;stroke:#c0c0c0;stroke-linecap:square;stroke-width:0.8;\"/>\n     </g>\n     <g id=\"line2d_68\">\n      <g>\n       <use style=\"stroke:#000000;stroke-width:0.8;\" x=\"279.888399\" xlink:href=\"#ma880279e2b\" y=\"224.64\"/>\n      </g>\n     </g>\n     <g id=\"text_34\">\n      <!-- be -->\n      <g transform=\"translate(282.647774 244.141562)rotate(-90)scale(0.1 -0.1)\">\n       <use xlink:href=\"#DejaVuSans-98\"/>\n       <use x=\"63.476562\" xlink:href=\"#DejaVuSans-101\"/>\n      </g>\n     </g>\n    </g>\n    <g id=\"xtick_35\">\n     <g id=\"line2d_69\">\n      <path clip-path=\"url(#p516f3b7900)\" d=\"M 286.099901 224.64 \nL 286.099901 7.2 \n\" style=\"fill:none;stroke:#c0c0c0;stroke-linecap:square;stroke-width:0.8;\"/>\n     </g>\n     <g id=\"line2d_70\">\n      <g>\n       <use style=\"stroke:#000000;stroke-width:0.8;\" x=\"286.099901\" xlink:href=\"#ma880279e2b\" y=\"224.64\"/>\n      </g>\n     </g>\n     <g id=\"text_35\">\n      <!-- on -->\n      <g transform=\"translate(288.859276 244.09625)rotate(-90)scale(0.1 -0.1)\">\n       <use xlink:href=\"#DejaVuSans-111\"/>\n       <use x=\"61.181641\" xlink:href=\"#DejaVuSans-110\"/>\n      </g>\n     </g>\n    </g>\n    <g id=\"xtick_36\">\n     <g id=\"line2d_71\">\n      <path clip-path=\"url(#p516f3b7900)\" d=\"M 292.311404 224.64 \nL 292.311404 7.2 \n\" style=\"fill:none;stroke:#c0c0c0;stroke-linecap:square;stroke-width:0.8;\"/>\n     </g>\n     <g id=\"line2d_72\">\n      <g>\n       <use style=\"stroke:#000000;stroke-width:0.8;\" x=\"292.311404\" xlink:href=\"#ma880279e2b\" y=\"224.64\"/>\n      </g>\n     </g>\n     <g id=\"text_36\">\n      <!-- so -->\n      <g transform=\"translate(295.070779 242.968125)rotate(-90)scale(0.1 -0.1)\">\n       <use xlink:href=\"#DejaVuSans-115\"/>\n       <use x=\"52.099609\" xlink:href=\"#DejaVuSans-111\"/>\n      </g>\n     </g>\n    </g>\n    <g id=\"xtick_37\">\n     <g id=\"line2d_73\">\n      <path clip-path=\"url(#p516f3b7900)\" d=\"M 298.522907 224.64 \nL 298.522907 7.2 \n\" style=\"fill:none;stroke:#c0c0c0;stroke-linecap:square;stroke-width:0.8;\"/>\n     </g>\n     <g id=\"line2d_74\">\n      <g>\n       <use style=\"stroke:#000000;stroke-width:0.8;\" x=\"298.522907\" xlink:href=\"#ma880279e2b\" y=\"224.64\"/>\n      </g>\n     </g>\n     <g id=\"text_37\">\n      <!-- whale -->\n      <g transform=\"translate(301.282282 261.215)rotate(-90)scale(0.1 -0.1)\">\n       <use xlink:href=\"#DejaVuSans-119\"/>\n       <use x=\"81.787109\" xlink:href=\"#DejaVuSans-104\"/>\n       <use x=\"145.166016\" xlink:href=\"#DejaVuSans-97\"/>\n       <use x=\"206.445312\" xlink:href=\"#DejaVuSans-108\"/>\n       <use x=\"234.228516\" xlink:href=\"#DejaVuSans-101\"/>\n      </g>\n     </g>\n    </g>\n    <g id=\"xtick_38\">\n     <g id=\"line2d_75\">\n      <path clip-path=\"url(#p516f3b7900)\" d=\"M 304.73441 224.64 \nL 304.73441 7.2 \n\" style=\"fill:none;stroke:#c0c0c0;stroke-linecap:square;stroke-width:0.8;\"/>\n     </g>\n     <g id=\"line2d_76\">\n      <g>\n       <use style=\"stroke:#000000;stroke-width:0.8;\" x=\"304.73441\" xlink:href=\"#ma880279e2b\" y=\"224.64\"/>\n      </g>\n     </g>\n     <g id=\"text_38\">\n      <!-- one -->\n      <g transform=\"translate(307.493785 250.249375)rotate(-90)scale(0.1 -0.1)\">\n       <use xlink:href=\"#DejaVuSans-111\"/>\n       <use x=\"61.181641\" xlink:href=\"#DejaVuSans-110\"/>\n       <use x=\"124.560547\" xlink:href=\"#DejaVuSans-101\"/>\n      </g>\n     </g>\n    </g>\n    <g id=\"xtick_39\">\n     <g id=\"line2d_77\">\n      <path clip-path=\"url(#p516f3b7900)\" d=\"M 310.945913 224.64 \nL 310.945913 7.2 \n\" style=\"fill:none;stroke:#c0c0c0;stroke-linecap:square;stroke-width:0.8;\"/>\n     </g>\n     <g id=\"line2d_78\">\n      <g>\n       <use style=\"stroke:#000000;stroke-width:0.8;\" x=\"310.945913\" xlink:href=\"#ma880279e2b\" y=\"224.64\"/>\n      </g>\n     </g>\n     <g id=\"text_39\">\n      <!-- you -->\n      <g transform=\"translate(313.705288 250.015)rotate(-90)scale(0.1 -0.1)\">\n       <use xlink:href=\"#DejaVuSans-121\"/>\n       <use x=\"59.179688\" xlink:href=\"#DejaVuSans-111\"/>\n       <use x=\"120.361328\" xlink:href=\"#DejaVuSans-117\"/>\n      </g>\n     </g>\n    </g>\n    <g id=\"xtick_40\">\n     <g id=\"line2d_79\">\n      <path clip-path=\"url(#p516f3b7900)\" d=\"M 317.157415 224.64 \nL 317.157415 7.2 \n\" style=\"fill:none;stroke:#c0c0c0;stroke-linecap:square;stroke-width:0.8;\"/>\n     </g>\n     <g id=\"line2d_80\">\n      <g>\n       <use style=\"stroke:#000000;stroke-width:0.8;\" x=\"317.157415\" xlink:href=\"#ma880279e2b\" y=\"224.64\"/>\n      </g>\n     </g>\n     <g id=\"text_40\">\n      <!-- had -->\n      <g transform=\"translate(319.91679 250.454062)rotate(-90)scale(0.1 -0.1)\">\n       <use xlink:href=\"#DejaVuSans-104\"/>\n       <use x=\"63.378906\" xlink:href=\"#DejaVuSans-97\"/>\n       <use x=\"124.658203\" xlink:href=\"#DejaVuSans-100\"/>\n      </g>\n     </g>\n    </g>\n    <g id=\"xtick_41\">\n     <g id=\"line2d_81\">\n      <path clip-path=\"url(#p516f3b7900)\" d=\"M 323.368918 224.64 \nL 323.368918 7.2 \n\" style=\"fill:none;stroke:#c0c0c0;stroke-linecap:square;stroke-width:0.8;\"/>\n     </g>\n     <g id=\"line2d_82\">\n      <g>\n       <use style=\"stroke:#000000;stroke-width:0.8;\" x=\"323.368918\" xlink:href=\"#ma880279e2b\" y=\"224.64\"/>\n      </g>\n     </g>\n     <g id=\"text_41\">\n      <!-- have -->\n      <defs>\n       <path d=\"M 2.984375 54.6875 \nL 12.5 54.6875 \nL 29.59375 8.796875 \nL 46.6875 54.6875 \nL 56.203125 54.6875 \nL 35.6875 0 \nL 23.484375 0 \nz\n\" id=\"DejaVuSans-118\"/>\n      </defs>\n      <g transform=\"translate(326.128293 256.1775)rotate(-90)scale(0.1 -0.1)\">\n       <use xlink:href=\"#DejaVuSans-104\"/>\n       <use x=\"63.378906\" xlink:href=\"#DejaVuSans-97\"/>\n       <use x=\"124.658203\" xlink:href=\"#DejaVuSans-118\"/>\n       <use x=\"183.837891\" xlink:href=\"#DejaVuSans-101\"/>\n      </g>\n     </g>\n    </g>\n    <g id=\"xtick_42\">\n     <g id=\"line2d_83\">\n      <path clip-path=\"url(#p516f3b7900)\" d=\"M 329.580421 224.64 \nL 329.580421 7.2 \n\" style=\"fill:none;stroke:#c0c0c0;stroke-linecap:square;stroke-width:0.8;\"/>\n     </g>\n     <g id=\"line2d_84\">\n      <g>\n       <use style=\"stroke:#000000;stroke-width:0.8;\" x=\"329.580421\" xlink:href=\"#ma880279e2b\" y=\"224.64\"/>\n      </g>\n     </g>\n     <g id=\"text_42\">\n      <!-- there -->\n      <g transform=\"translate(332.339796 258.09)rotate(-90)scale(0.1 -0.1)\">\n       <use xlink:href=\"#DejaVuSans-116\"/>\n       <use x=\"39.208984\" xlink:href=\"#DejaVuSans-104\"/>\n       <use x=\"102.587891\" xlink:href=\"#DejaVuSans-101\"/>\n       <use x=\"164.111328\" xlink:href=\"#DejaVuSans-114\"/>\n       <use x=\"202.974609\" xlink:href=\"#DejaVuSans-101\"/>\n      </g>\n     </g>\n    </g>\n    <g id=\"xtick_43\">\n     <g id=\"line2d_85\">\n      <path clip-path=\"url(#p516f3b7900)\" d=\"M 335.791924 224.64 \nL 335.791924 7.2 \n\" style=\"fill:none;stroke:#c0c0c0;stroke-linecap:square;stroke-width:0.8;\"/>\n     </g>\n     <g id=\"line2d_86\">\n      <g>\n       <use style=\"stroke:#000000;stroke-width:0.8;\" x=\"335.791924\" xlink:href=\"#ma880279e2b\" y=\"224.64\"/>\n      </g>\n     </g>\n     <g id=\"text_43\">\n      <!-- But -->\n      <defs>\n       <path d=\"M 19.671875 34.8125 \nL 19.671875 8.109375 \nL 35.5 8.109375 \nQ 43.453125 8.109375 47.28125 11.40625 \nQ 51.125 14.703125 51.125 21.484375 \nQ 51.125 28.328125 47.28125 31.5625 \nQ 43.453125 34.8125 35.5 34.8125 \nz\nM 19.671875 64.796875 \nL 19.671875 42.828125 \nL 34.28125 42.828125 \nQ 41.5 42.828125 45.03125 45.53125 \nQ 48.578125 48.25 48.578125 53.8125 \nQ 48.578125 59.328125 45.03125 62.0625 \nQ 41.5 64.796875 34.28125 64.796875 \nz\nM 9.8125 72.90625 \nL 35.015625 72.90625 \nQ 46.296875 72.90625 52.390625 68.21875 \nQ 58.5 63.53125 58.5 54.890625 \nQ 58.5 48.1875 55.375 44.234375 \nQ 52.25 40.28125 46.1875 39.3125 \nQ 53.46875 37.75 57.5 32.78125 \nQ 61.53125 27.828125 61.53125 20.40625 \nQ 61.53125 10.640625 54.890625 5.3125 \nQ 48.25 0 35.984375 0 \nL 9.8125 0 \nz\n\" id=\"DejaVuSans-66\"/>\n      </defs>\n      <g transform=\"translate(338.551299 248.75875)rotate(-90)scale(0.1 -0.1)\">\n       <use xlink:href=\"#DejaVuSans-66\"/>\n       <use x=\"68.603516\" xlink:href=\"#DejaVuSans-117\"/>\n       <use x=\"131.982422\" xlink:href=\"#DejaVuSans-116\"/>\n      </g>\n     </g>\n    </g>\n    <g id=\"xtick_44\">\n     <g id=\"line2d_87\">\n      <path clip-path=\"url(#p516f3b7900)\" d=\"M 342.003426 224.64 \nL 342.003426 7.2 \n\" style=\"fill:none;stroke:#c0c0c0;stroke-linecap:square;stroke-width:0.8;\"/>\n     </g>\n     <g id=\"line2d_88\">\n      <g>\n       <use style=\"stroke:#000000;stroke-width:0.8;\" x=\"342.003426\" xlink:href=\"#ma880279e2b\" y=\"224.64\"/>\n      </g>\n     </g>\n     <g id=\"text_44\">\n      <!-- or -->\n      <g transform=\"translate(344.762801 241.869687)rotate(-90)scale(0.1 -0.1)\">\n       <use xlink:href=\"#DejaVuSans-111\"/>\n       <use x=\"61.181641\" xlink:href=\"#DejaVuSans-114\"/>\n      </g>\n     </g>\n    </g>\n    <g id=\"xtick_45\">\n     <g id=\"line2d_89\">\n      <path clip-path=\"url(#p516f3b7900)\" d=\"M 348.214929 224.64 \nL 348.214929 7.2 \n\" style=\"fill:none;stroke:#c0c0c0;stroke-linecap:square;stroke-width:0.8;\"/>\n     </g>\n     <g id=\"line2d_90\">\n      <g>\n       <use style=\"stroke:#000000;stroke-width:0.8;\" x=\"348.214929\" xlink:href=\"#ma880279e2b\" y=\"224.64\"/>\n      </g>\n     </g>\n     <g id=\"text_45\">\n      <!-- were -->\n      <g transform=\"translate(350.974304 256.010312)rotate(-90)scale(0.1 -0.1)\">\n       <use xlink:href=\"#DejaVuSans-119\"/>\n       <use x=\"81.787109\" xlink:href=\"#DejaVuSans-101\"/>\n       <use x=\"143.310547\" xlink:href=\"#DejaVuSans-114\"/>\n       <use x=\"182.173828\" xlink:href=\"#DejaVuSans-101\"/>\n      </g>\n     </g>\n    </g>\n    <g id=\"xtick_46\">\n     <g id=\"line2d_91\">\n      <path clip-path=\"url(#p516f3b7900)\" d=\"M 354.426432 224.64 \nL 354.426432 7.2 \n\" style=\"fill:none;stroke:#c0c0c0;stroke-linecap:square;stroke-width:0.8;\"/>\n     </g>\n     <g id=\"line2d_92\">\n      <g>\n       <use style=\"stroke:#000000;stroke-width:0.8;\" x=\"354.426432\" xlink:href=\"#ma880279e2b\" y=\"224.64\"/>\n      </g>\n     </g>\n     <g id=\"text_46\">\n      <!-- now -->\n      <g transform=\"translate(357.185807 252.274375)rotate(-90)scale(0.1 -0.1)\">\n       <use xlink:href=\"#DejaVuSans-110\"/>\n       <use x=\"63.378906\" xlink:href=\"#DejaVuSans-111\"/>\n       <use x=\"124.560547\" xlink:href=\"#DejaVuSans-119\"/>\n      </g>\n     </g>\n    </g>\n    <g id=\"xtick_47\">\n     <g id=\"line2d_93\">\n      <path clip-path=\"url(#p516f3b7900)\" d=\"M 360.637935 224.64 \nL 360.637935 7.2 \n\" style=\"fill:none;stroke:#c0c0c0;stroke-linecap:square;stroke-width:0.8;\"/>\n     </g>\n     <g id=\"line2d_94\">\n      <g>\n       <use style=\"stroke:#000000;stroke-width:0.8;\" x=\"360.637935\" xlink:href=\"#ma880279e2b\" y=\"224.64\"/>\n      </g>\n     </g>\n     <g id=\"text_47\">\n      <!-- which -->\n      <defs>\n       <path d=\"M 48.78125 52.59375 \nL 48.78125 44.1875 \nQ 44.96875 46.296875 41.140625 47.34375 \nQ 37.3125 48.390625 33.40625 48.390625 \nQ 24.65625 48.390625 19.8125 42.84375 \nQ 14.984375 37.3125 14.984375 27.296875 \nQ 14.984375 17.28125 19.8125 11.734375 \nQ 24.65625 6.203125 33.40625 6.203125 \nQ 37.3125 6.203125 41.140625 7.25 \nQ 44.96875 8.296875 48.78125 10.40625 \nL 48.78125 2.09375 \nQ 45.015625 0.34375 40.984375 -0.53125 \nQ 36.96875 -1.421875 32.421875 -1.421875 \nQ 20.0625 -1.421875 12.78125 6.34375 \nQ 5.515625 14.109375 5.515625 27.296875 \nQ 5.515625 40.671875 12.859375 48.328125 \nQ 20.21875 56 33.015625 56 \nQ 37.15625 56 41.109375 55.140625 \nQ 45.0625 54.296875 48.78125 52.59375 \nz\n\" id=\"DejaVuSans-99\"/>\n      </defs>\n      <g transform=\"translate(363.39731 260.769687)rotate(-90)scale(0.1 -0.1)\">\n       <use xlink:href=\"#DejaVuSans-119\"/>\n       <use x=\"81.787109\" xlink:href=\"#DejaVuSans-104\"/>\n       <use x=\"145.166016\" xlink:href=\"#DejaVuSans-105\"/>\n       <use x=\"172.949219\" xlink:href=\"#DejaVuSans-99\"/>\n       <use x=\"227.929688\" xlink:href=\"#DejaVuSans-104\"/>\n      </g>\n     </g>\n    </g>\n    <g id=\"xtick_48\">\n     <g id=\"line2d_95\">\n      <path clip-path=\"url(#p516f3b7900)\" d=\"M 366.849438 224.64 \nL 366.849438 7.2 \n\" style=\"fill:none;stroke:#c0c0c0;stroke-linecap:square;stroke-width:0.8;\"/>\n     </g>\n     <g id=\"line2d_96\">\n      <g>\n       <use style=\"stroke:#000000;stroke-width:0.8;\" x=\"366.849438\" xlink:href=\"#ma880279e2b\" y=\"224.64\"/>\n      </g>\n     </g>\n     <g id=\"text_48\">\n      <!-- ? -->\n      <defs>\n       <path d=\"M 19.09375 12.40625 \nL 29 12.40625 \nL 29 0 \nL 19.09375 0 \nz\nM 28.71875 19.578125 \nL 19.390625 19.578125 \nL 19.390625 27.09375 \nQ 19.390625 32.03125 20.75 35.203125 \nQ 22.125 38.375 26.515625 42.578125 \nL 30.90625 46.921875 \nQ 33.6875 49.515625 34.9375 51.8125 \nQ 36.1875 54.109375 36.1875 56.5 \nQ 36.1875 60.84375 32.984375 63.53125 \nQ 29.78125 66.21875 24.515625 66.21875 \nQ 20.65625 66.21875 16.28125 64.5 \nQ 11.921875 62.796875 7.171875 59.515625 \nL 7.171875 68.703125 \nQ 11.765625 71.484375 16.46875 72.84375 \nQ 21.1875 74.21875 26.21875 74.21875 \nQ 35.203125 74.21875 40.640625 69.484375 \nQ 46.09375 64.75 46.09375 56.984375 \nQ 46.09375 53.265625 44.328125 49.921875 \nQ 42.578125 46.578125 38.1875 42.390625 \nL 33.890625 38.1875 \nQ 31.59375 35.890625 30.640625 34.59375 \nQ 29.6875 33.296875 29.296875 32.078125 \nQ 29 31.0625 28.859375 29.59375 \nQ 28.71875 28.125 28.71875 25.59375 \nz\n\" id=\"DejaVuSans-63\"/>\n      </defs>\n      <g transform=\"translate(369.608813 236.947812)rotate(-90)scale(0.1 -0.1)\">\n       <use xlink:href=\"#DejaVuSans-63\"/>\n      </g>\n     </g>\n    </g>\n    <g id=\"xtick_49\">\n     <g id=\"line2d_97\">\n      <path clip-path=\"url(#p516f3b7900)\" d=\"M 373.06094 224.64 \nL 373.06094 7.2 \n\" style=\"fill:none;stroke:#c0c0c0;stroke-linecap:square;stroke-width:0.8;\"/>\n     </g>\n     <g id=\"line2d_98\">\n      <g>\n       <use style=\"stroke:#000000;stroke-width:0.8;\" x=\"373.06094\" xlink:href=\"#ma880279e2b\" y=\"224.64\"/>\n      </g>\n     </g>\n     <g id=\"text_49\">\n      <!-- me -->\n      <g transform=\"translate(375.820315 247.53375)rotate(-90)scale(0.1 -0.1)\">\n       <use xlink:href=\"#DejaVuSans-109\"/>\n       <use x=\"97.412109\" xlink:href=\"#DejaVuSans-101\"/>\n      </g>\n     </g>\n    </g>\n    <g id=\"xtick_50\">\n     <g id=\"line2d_99\">\n      <path clip-path=\"url(#p516f3b7900)\" d=\"M 379.272443 224.64 \nL 379.272443 7.2 \n\" style=\"fill:none;stroke:#c0c0c0;stroke-linecap:square;stroke-width:0.8;\"/>\n     </g>\n     <g id=\"line2d_100\">\n      <g>\n       <use style=\"stroke:#000000;stroke-width:0.8;\" x=\"379.272443\" xlink:href=\"#ma880279e2b\" y=\"224.64\"/>\n      </g>\n     </g>\n     <g id=\"text_50\">\n      <!-- like -->\n      <defs>\n       <path d=\"M 9.078125 75.984375 \nL 18.109375 75.984375 \nL 18.109375 31.109375 \nL 44.921875 54.6875 \nL 56.390625 54.6875 \nL 27.390625 29.109375 \nL 57.625 0 \nL 45.90625 0 \nL 18.109375 26.703125 \nL 18.109375 0 \nL 9.078125 0 \nz\n\" id=\"DejaVuSans-107\"/>\n      </defs>\n      <g transform=\"translate(382.031818 248.7775)rotate(-90)scale(0.1 -0.1)\">\n       <use xlink:href=\"#DejaVuSans-108\"/>\n       <use x=\"27.783203\" xlink:href=\"#DejaVuSans-105\"/>\n       <use x=\"55.566406\" xlink:href=\"#DejaVuSans-107\"/>\n       <use x=\"109.851562\" xlink:href=\"#DejaVuSans-101\"/>\n      </g>\n     </g>\n    </g>\n    <g id=\"text_51\">\n     <!-- Samples -->\n     <defs>\n      <path d=\"M 53.515625 70.515625 \nL 53.515625 60.890625 \nQ 47.90625 63.578125 42.921875 64.890625 \nQ 37.9375 66.21875 33.296875 66.21875 \nQ 25.25 66.21875 20.875 63.09375 \nQ 16.5 59.96875 16.5 54.203125 \nQ 16.5 49.359375 19.40625 46.890625 \nQ 22.3125 44.4375 30.421875 42.921875 \nL 36.375 41.703125 \nQ 47.40625 39.59375 52.65625 34.296875 \nQ 57.90625 29 57.90625 20.125 \nQ 57.90625 9.515625 50.796875 4.046875 \nQ 43.703125 -1.421875 29.984375 -1.421875 \nQ 24.8125 -1.421875 18.96875 -0.25 \nQ 13.140625 0.921875 6.890625 3.21875 \nL 6.890625 13.375 \nQ 12.890625 10.015625 18.65625 8.296875 \nQ 24.421875 6.59375 29.984375 6.59375 \nQ 38.421875 6.59375 43.015625 9.90625 \nQ 47.609375 13.234375 47.609375 19.390625 \nQ 47.609375 24.75 44.3125 27.78125 \nQ 41.015625 30.8125 33.5 32.328125 \nL 27.484375 33.5 \nQ 16.453125 35.6875 11.515625 40.375 \nQ 6.59375 45.0625 6.59375 53.421875 \nQ 6.59375 63.09375 13.40625 68.65625 \nQ 20.21875 74.21875 32.171875 74.21875 \nQ 37.3125 74.21875 42.625 73.28125 \nQ 47.953125 72.359375 53.515625 70.515625 \nz\n\" id=\"DejaVuSans-83\"/>\n      <path d=\"M 18.109375 8.203125 \nL 18.109375 -20.796875 \nL 9.078125 -20.796875 \nL 9.078125 54.6875 \nL 18.109375 54.6875 \nL 18.109375 46.390625 \nQ 20.953125 51.265625 25.265625 53.625 \nQ 29.59375 56 35.59375 56 \nQ 45.5625 56 51.78125 48.09375 \nQ 58.015625 40.1875 58.015625 27.296875 \nQ 58.015625 14.40625 51.78125 6.484375 \nQ 45.5625 -1.421875 35.59375 -1.421875 \nQ 29.59375 -1.421875 25.265625 0.953125 \nQ 20.953125 3.328125 18.109375 8.203125 \nz\nM 48.6875 27.296875 \nQ 48.6875 37.203125 44.609375 42.84375 \nQ 40.53125 48.484375 33.40625 48.484375 \nQ 26.265625 48.484375 22.1875 42.84375 \nQ 18.109375 37.203125 18.109375 27.296875 \nQ 18.109375 17.390625 22.1875 11.75 \nQ 26.265625 6.109375 33.40625 6.109375 \nQ 40.53125 6.109375 44.609375 11.75 \nQ 48.6875 17.390625 48.6875 27.296875 \nz\n\" id=\"DejaVuSans-112\"/>\n     </defs>\n     <g transform=\"translate(205.7375 272.813437)scale(0.1 -0.1)\">\n      <use xlink:href=\"#DejaVuSans-83\"/>\n      <use x=\"63.476562\" xlink:href=\"#DejaVuSans-97\"/>\n      <use x=\"124.755859\" xlink:href=\"#DejaVuSans-109\"/>\n      <use x=\"222.167969\" xlink:href=\"#DejaVuSans-112\"/>\n      <use x=\"285.644531\" xlink:href=\"#DejaVuSans-108\"/>\n      <use x=\"313.427734\" xlink:href=\"#DejaVuSans-101\"/>\n      <use x=\"374.951172\" xlink:href=\"#DejaVuSans-115\"/>\n     </g>\n    </g>\n   </g>\n   <g id=\"matplotlib.axis_2\">\n    <g id=\"ytick_1\">\n     <g id=\"line2d_101\">\n      <path clip-path=\"url(#p516f3b7900)\" d=\"M 59.690625 221.575302 \nL 394.490625 221.575302 \n\" style=\"fill:none;stroke:#c0c0c0;stroke-linecap:square;stroke-width:0.8;\"/>\n     </g>\n     <g id=\"line2d_102\">\n      <defs>\n       <path d=\"M 0 0 \nL -3.5 0 \n\" id=\"m7463f20701\" style=\"stroke:#000000;stroke-width:0.8;\"/>\n      </defs>\n      <g>\n       <use style=\"stroke:#000000;stroke-width:0.8;\" x=\"59.690625\" xlink:href=\"#m7463f20701\" y=\"221.575302\"/>\n      </g>\n     </g>\n     <g id=\"text_52\">\n      <!-- 0 -->\n      <defs>\n       <path d=\"M 31.78125 66.40625 \nQ 24.171875 66.40625 20.328125 58.90625 \nQ 16.5 51.421875 16.5 36.375 \nQ 16.5 21.390625 20.328125 13.890625 \nQ 24.171875 6.390625 31.78125 6.390625 \nQ 39.453125 6.390625 43.28125 13.890625 \nQ 47.125 21.390625 47.125 36.375 \nQ 47.125 51.421875 43.28125 58.90625 \nQ 39.453125 66.40625 31.78125 66.40625 \nz\nM 31.78125 74.21875 \nQ 44.046875 74.21875 50.515625 64.515625 \nQ 56.984375 54.828125 56.984375 36.375 \nQ 56.984375 17.96875 50.515625 8.265625 \nQ 44.046875 -1.421875 31.78125 -1.421875 \nQ 19.53125 -1.421875 13.0625 8.265625 \nQ 6.59375 17.96875 6.59375 36.375 \nQ 6.59375 54.828125 13.0625 64.515625 \nQ 19.53125 74.21875 31.78125 74.21875 \nz\n\" id=\"DejaVuSans-48\"/>\n      </defs>\n      <g transform=\"translate(46.328125 225.374521)scale(0.1 -0.1)\">\n       <use xlink:href=\"#DejaVuSans-48\"/>\n      </g>\n     </g>\n    </g>\n    <g id=\"ytick_2\">\n     <g id=\"line2d_103\">\n      <path clip-path=\"url(#p516f3b7900)\" d=\"M 59.690625 194.255836 \nL 394.490625 194.255836 \n\" style=\"fill:none;stroke:#c0c0c0;stroke-linecap:square;stroke-width:0.8;\"/>\n     </g>\n     <g id=\"line2d_104\">\n      <g>\n       <use style=\"stroke:#000000;stroke-width:0.8;\" x=\"59.690625\" xlink:href=\"#m7463f20701\" y=\"194.255836\"/>\n      </g>\n     </g>\n     <g id=\"text_53\">\n      <!-- 2500 -->\n      <defs>\n       <path d=\"M 19.1875 8.296875 \nL 53.609375 8.296875 \nL 53.609375 0 \nL 7.328125 0 \nL 7.328125 8.296875 \nQ 12.9375 14.109375 22.625 23.890625 \nQ 32.328125 33.6875 34.8125 36.53125 \nQ 39.546875 41.84375 41.421875 45.53125 \nQ 43.3125 49.21875 43.3125 52.78125 \nQ 43.3125 58.59375 39.234375 62.25 \nQ 35.15625 65.921875 28.609375 65.921875 \nQ 23.96875 65.921875 18.8125 64.3125 \nQ 13.671875 62.703125 7.8125 59.421875 \nL 7.8125 69.390625 \nQ 13.765625 71.78125 18.9375 73 \nQ 24.125 74.21875 28.421875 74.21875 \nQ 39.75 74.21875 46.484375 68.546875 \nQ 53.21875 62.890625 53.21875 53.421875 \nQ 53.21875 48.921875 51.53125 44.890625 \nQ 49.859375 40.875 45.40625 35.40625 \nQ 44.1875 33.984375 37.640625 27.21875 \nQ 31.109375 20.453125 19.1875 8.296875 \nz\n\" id=\"DejaVuSans-50\"/>\n       <path d=\"M 10.796875 72.90625 \nL 49.515625 72.90625 \nL 49.515625 64.59375 \nL 19.828125 64.59375 \nL 19.828125 46.734375 \nQ 21.96875 47.46875 24.109375 47.828125 \nQ 26.265625 48.1875 28.421875 48.1875 \nQ 40.625 48.1875 47.75 41.5 \nQ 54.890625 34.8125 54.890625 23.390625 \nQ 54.890625 11.625 47.5625 5.09375 \nQ 40.234375 -1.421875 26.90625 -1.421875 \nQ 22.3125 -1.421875 17.546875 -0.640625 \nQ 12.796875 0.140625 7.71875 1.703125 \nL 7.71875 11.625 \nQ 12.109375 9.234375 16.796875 8.0625 \nQ 21.484375 6.890625 26.703125 6.890625 \nQ 35.15625 6.890625 40.078125 11.328125 \nQ 45.015625 15.765625 45.015625 23.390625 \nQ 45.015625 31 40.078125 35.4375 \nQ 35.15625 39.890625 26.703125 39.890625 \nQ 22.75 39.890625 18.8125 39.015625 \nQ 14.890625 38.140625 10.796875 36.28125 \nz\n\" id=\"DejaVuSans-53\"/>\n      </defs>\n      <g transform=\"translate(27.240625 198.055055)scale(0.1 -0.1)\">\n       <use xlink:href=\"#DejaVuSans-50\"/>\n       <use x=\"63.623047\" xlink:href=\"#DejaVuSans-53\"/>\n       <use x=\"127.246094\" xlink:href=\"#DejaVuSans-48\"/>\n       <use x=\"190.869141\" xlink:href=\"#DejaVuSans-48\"/>\n      </g>\n     </g>\n    </g>\n    <g id=\"ytick_3\">\n     <g id=\"line2d_105\">\n      <path clip-path=\"url(#p516f3b7900)\" d=\"M 59.690625 166.936371 \nL 394.490625 166.936371 \n\" style=\"fill:none;stroke:#c0c0c0;stroke-linecap:square;stroke-width:0.8;\"/>\n     </g>\n     <g id=\"line2d_106\">\n      <g>\n       <use style=\"stroke:#000000;stroke-width:0.8;\" x=\"59.690625\" xlink:href=\"#m7463f20701\" y=\"166.936371\"/>\n      </g>\n     </g>\n     <g id=\"text_54\">\n      <!-- 5000 -->\n      <g transform=\"translate(27.240625 170.735589)scale(0.1 -0.1)\">\n       <use xlink:href=\"#DejaVuSans-53\"/>\n       <use x=\"63.623047\" xlink:href=\"#DejaVuSans-48\"/>\n       <use x=\"127.246094\" xlink:href=\"#DejaVuSans-48\"/>\n       <use x=\"190.869141\" xlink:href=\"#DejaVuSans-48\"/>\n      </g>\n     </g>\n    </g>\n    <g id=\"ytick_4\">\n     <g id=\"line2d_107\">\n      <path clip-path=\"url(#p516f3b7900)\" d=\"M 59.690625 139.616905 \nL 394.490625 139.616905 \n\" style=\"fill:none;stroke:#c0c0c0;stroke-linecap:square;stroke-width:0.8;\"/>\n     </g>\n     <g id=\"line2d_108\">\n      <g>\n       <use style=\"stroke:#000000;stroke-width:0.8;\" x=\"59.690625\" xlink:href=\"#m7463f20701\" y=\"139.616905\"/>\n      </g>\n     </g>\n     <g id=\"text_55\">\n      <!-- 7500 -->\n      <defs>\n       <path d=\"M 8.203125 72.90625 \nL 55.078125 72.90625 \nL 55.078125 68.703125 \nL 28.609375 0 \nL 18.3125 0 \nL 43.21875 64.59375 \nL 8.203125 64.59375 \nz\n\" id=\"DejaVuSans-55\"/>\n      </defs>\n      <g transform=\"translate(27.240625 143.416123)scale(0.1 -0.1)\">\n       <use xlink:href=\"#DejaVuSans-55\"/>\n       <use x=\"63.623047\" xlink:href=\"#DejaVuSans-53\"/>\n       <use x=\"127.246094\" xlink:href=\"#DejaVuSans-48\"/>\n       <use x=\"190.869141\" xlink:href=\"#DejaVuSans-48\"/>\n      </g>\n     </g>\n    </g>\n    <g id=\"ytick_5\">\n     <g id=\"line2d_109\">\n      <path clip-path=\"url(#p516f3b7900)\" d=\"M 59.690625 112.297439 \nL 394.490625 112.297439 \n\" style=\"fill:none;stroke:#c0c0c0;stroke-linecap:square;stroke-width:0.8;\"/>\n     </g>\n     <g id=\"line2d_110\">\n      <g>\n       <use style=\"stroke:#000000;stroke-width:0.8;\" x=\"59.690625\" xlink:href=\"#m7463f20701\" y=\"112.297439\"/>\n      </g>\n     </g>\n     <g id=\"text_56\">\n      <!-- 10000 -->\n      <defs>\n       <path d=\"M 12.40625 8.296875 \nL 28.515625 8.296875 \nL 28.515625 63.921875 \nL 10.984375 60.40625 \nL 10.984375 69.390625 \nL 28.421875 72.90625 \nL 38.28125 72.90625 \nL 38.28125 8.296875 \nL 54.390625 8.296875 \nL 54.390625 0 \nL 12.40625 0 \nz\n\" id=\"DejaVuSans-49\"/>\n      </defs>\n      <g transform=\"translate(20.878125 116.096658)scale(0.1 -0.1)\">\n       <use xlink:href=\"#DejaVuSans-49\"/>\n       <use x=\"63.623047\" xlink:href=\"#DejaVuSans-48\"/>\n       <use x=\"127.246094\" xlink:href=\"#DejaVuSans-48\"/>\n       <use x=\"190.869141\" xlink:href=\"#DejaVuSans-48\"/>\n       <use x=\"254.492188\" xlink:href=\"#DejaVuSans-48\"/>\n      </g>\n     </g>\n    </g>\n    <g id=\"ytick_6\">\n     <g id=\"line2d_111\">\n      <path clip-path=\"url(#p516f3b7900)\" d=\"M 59.690625 84.977973 \nL 394.490625 84.977973 \n\" style=\"fill:none;stroke:#c0c0c0;stroke-linecap:square;stroke-width:0.8;\"/>\n     </g>\n     <g id=\"line2d_112\">\n      <g>\n       <use style=\"stroke:#000000;stroke-width:0.8;\" x=\"59.690625\" xlink:href=\"#m7463f20701\" y=\"84.977973\"/>\n      </g>\n     </g>\n     <g id=\"text_57\">\n      <!-- 12500 -->\n      <g transform=\"translate(20.878125 88.777192)scale(0.1 -0.1)\">\n       <use xlink:href=\"#DejaVuSans-49\"/>\n       <use x=\"63.623047\" xlink:href=\"#DejaVuSans-50\"/>\n       <use x=\"127.246094\" xlink:href=\"#DejaVuSans-53\"/>\n       <use x=\"190.869141\" xlink:href=\"#DejaVuSans-48\"/>\n       <use x=\"254.492188\" xlink:href=\"#DejaVuSans-48\"/>\n      </g>\n     </g>\n    </g>\n    <g id=\"ytick_7\">\n     <g id=\"line2d_113\">\n      <path clip-path=\"url(#p516f3b7900)\" d=\"M 59.690625 57.658507 \nL 394.490625 57.658507 \n\" style=\"fill:none;stroke:#c0c0c0;stroke-linecap:square;stroke-width:0.8;\"/>\n     </g>\n     <g id=\"line2d_114\">\n      <g>\n       <use style=\"stroke:#000000;stroke-width:0.8;\" x=\"59.690625\" xlink:href=\"#m7463f20701\" y=\"57.658507\"/>\n      </g>\n     </g>\n     <g id=\"text_58\">\n      <!-- 15000 -->\n      <g transform=\"translate(20.878125 61.457726)scale(0.1 -0.1)\">\n       <use xlink:href=\"#DejaVuSans-49\"/>\n       <use x=\"63.623047\" xlink:href=\"#DejaVuSans-53\"/>\n       <use x=\"127.246094\" xlink:href=\"#DejaVuSans-48\"/>\n       <use x=\"190.869141\" xlink:href=\"#DejaVuSans-48\"/>\n       <use x=\"254.492188\" xlink:href=\"#DejaVuSans-48\"/>\n      </g>\n     </g>\n    </g>\n    <g id=\"ytick_8\">\n     <g id=\"line2d_115\">\n      <path clip-path=\"url(#p516f3b7900)\" d=\"M 59.690625 30.339041 \nL 394.490625 30.339041 \n\" style=\"fill:none;stroke:#c0c0c0;stroke-linecap:square;stroke-width:0.8;\"/>\n     </g>\n     <g id=\"line2d_116\">\n      <g>\n       <use style=\"stroke:#000000;stroke-width:0.8;\" x=\"59.690625\" xlink:href=\"#m7463f20701\" y=\"30.339041\"/>\n      </g>\n     </g>\n     <g id=\"text_59\">\n      <!-- 17500 -->\n      <g transform=\"translate(20.878125 34.13826)scale(0.1 -0.1)\">\n       <use xlink:href=\"#DejaVuSans-49\"/>\n       <use x=\"63.623047\" xlink:href=\"#DejaVuSans-55\"/>\n       <use x=\"127.246094\" xlink:href=\"#DejaVuSans-53\"/>\n       <use x=\"190.869141\" xlink:href=\"#DejaVuSans-48\"/>\n       <use x=\"254.492188\" xlink:href=\"#DejaVuSans-48\"/>\n      </g>\n     </g>\n    </g>\n    <g id=\"text_60\">\n     <!-- Counts -->\n     <defs>\n      <path d=\"M 64.40625 67.28125 \nL 64.40625 56.890625 \nQ 59.421875 61.53125 53.78125 63.8125 \nQ 48.140625 66.109375 41.796875 66.109375 \nQ 29.296875 66.109375 22.65625 58.46875 \nQ 16.015625 50.828125 16.015625 36.375 \nQ 16.015625 21.96875 22.65625 14.328125 \nQ 29.296875 6.6875 41.796875 6.6875 \nQ 48.140625 6.6875 53.78125 8.984375 \nQ 59.421875 11.28125 64.40625 15.921875 \nL 64.40625 5.609375 \nQ 59.234375 2.09375 53.4375 0.328125 \nQ 47.65625 -1.421875 41.21875 -1.421875 \nQ 24.65625 -1.421875 15.125 8.703125 \nQ 5.609375 18.84375 5.609375 36.375 \nQ 5.609375 53.953125 15.125 64.078125 \nQ 24.65625 74.21875 41.21875 74.21875 \nQ 47.75 74.21875 53.53125 72.484375 \nQ 59.328125 70.75 64.40625 67.28125 \nz\n\" id=\"DejaVuSans-67\"/>\n     </defs>\n     <g transform=\"translate(14.798438 133.373125)rotate(-90)scale(0.1 -0.1)\">\n      <use xlink:href=\"#DejaVuSans-67\"/>\n      <use x=\"69.824219\" xlink:href=\"#DejaVuSans-111\"/>\n      <use x=\"131.005859\" xlink:href=\"#DejaVuSans-117\"/>\n      <use x=\"194.384766\" xlink:href=\"#DejaVuSans-110\"/>\n      <use x=\"257.763672\" xlink:href=\"#DejaVuSans-116\"/>\n      <use x=\"296.972656\" xlink:href=\"#DejaVuSans-115\"/>\n     </g>\n    </g>\n   </g>\n   <g id=\"line2d_117\">\n    <path clip-path=\"url(#p516f3b7900)\" d=\"M 74.908807 17.083636 \nL 81.12031 71.635146 \nL 87.331812 146.588832 \nL 93.543315 150.151291 \nL 99.754818 155.746317 \nL 105.966321 171.646246 \nL 112.177824 171.941297 \nL 118.389326 177.077356 \nL 124.600829 178.782091 \nL 130.812332 188.988643 \nL 137.023835 192.245124 \nL 143.235337 193.687592 \nL 149.44684 194.703876 \nL 155.658343 197.435822 \nL 161.869846 198.364684 \nL 168.081349 202.571882 \nL 174.292851 203.052704 \nL 180.504354 203.424249 \nL 186.715857 203.446105 \nL 192.92736 203.741155 \nL 199.138862 203.872288 \nL 205.350365 205.424034 \nL 211.561868 205.598879 \nL 217.773371 206.123412 \nL 223.984874 207.587736 \nL 230.196376 207.707941 \nL 236.407879 208.123197 \nL 242.619382 209.150409 \nL 248.830885 209.412676 \nL 255.042388 209.521954 \nL 261.25389 209.882571 \nL 267.465393 210.013704 \nL 273.676896 210.079271 \nL 279.888399 210.319682 \nL 286.099901 210.592877 \nL 292.311404 211.543594 \nL 298.522907 211.674728 \nL 304.73441 211.8605 \nL 310.945913 212.385034 \nL 317.157415 213.19369 \nL 323.368918 213.270185 \nL 329.580421 213.761935 \nL 335.791924 213.871213 \nL 342.003426 213.958635 \nL 348.214929 214.144408 \nL 354.426432 214.515952 \nL 360.637935 214.581519 \nL 366.849438 214.614302 \nL 373.06094 214.72358 \nL 379.272443 214.756364 \n\" style=\"fill:none;stroke:#1f77b4;stroke-linecap:square;stroke-width:2;\"/>\n   </g>\n   <g id=\"patch_3\">\n    <path d=\"M 59.690625 224.64 \nL 59.690625 7.2 \n\" style=\"fill:none;stroke:#000000;stroke-linecap:square;stroke-linejoin:miter;stroke-width:0.8;\"/>\n   </g>\n   <g id=\"patch_4\">\n    <path d=\"M 394.490625 224.64 \nL 394.490625 7.2 \n\" style=\"fill:none;stroke:#000000;stroke-linecap:square;stroke-linejoin:miter;stroke-width:0.8;\"/>\n   </g>\n   <g id=\"patch_5\">\n    <path d=\"M 59.690625 224.64 \nL 394.490625 224.64 \n\" style=\"fill:none;stroke:#000000;stroke-linecap:square;stroke-linejoin:miter;stroke-width:0.8;\"/>\n   </g>\n   <g id=\"patch_6\">\n    <path d=\"M 59.690625 7.2 \nL 394.490625 7.2 \n\" style=\"fill:none;stroke:#000000;stroke-linecap:square;stroke-linejoin:miter;stroke-width:0.8;\"/>\n   </g>\n  </g>\n </g>\n <defs>\n  <clipPath id=\"p516f3b7900\">\n   <rect height=\"217.44\" width=\"334.8\" x=\"59.690625\" y=\"7.2\"/>\n  </clipPath>\n </defs>\n</svg>\n",
      "image/png": "[encoded data removed]"
     },
     "metadata": {
      "needs_background": "light"
     }
    },
    {
     "output_type": "execute_result",
     "data": {
      "text/plain": "<matplotlib.axes._subplots.AxesSubplot at 0x1358b1110>"
     },
     "metadata": {},
     "execution_count": 65
    }
   ],
   "source": [
    "fdist1.plot(50, cumulative=False)"
   ]
  },
  {
   "cell_type": "code",
   "execution_count": 66,
   "metadata": {},
   "outputs": [
    {
     "output_type": "execute_result",
     "data": {
      "text/plain": "9002"
     },
     "metadata": {},
     "execution_count": 66
    }
   ],
   "source": [
    "len(fdist1.hapaxes())"
   ]
  },
  {
   "cell_type": "markdown",
   "metadata": {},
   "source": [
    "If the frequent words don't help us, how about the words that occur once only, the so-called hapaxes? View them by typing `fdist1.hapaxes()`. \n",
    "\n",
    "This list contains lexicographer, cetological, contraband, expostulations, and about 9,000 others. It seems that there are too many rare words, and without seeing the context we probably can't guess what half of the hapaxes mean in any case! Since neither frequent nor infrequent words help, we need to try something else."
   ]
  },
  {
   "cell_type": "markdown",
   "metadata": {},
   "source": [
    "## 3.2   Fine-grained Selection of Words\n",
    "\n",
    "For this we adapt some notation from set theory. We would like to find the words from the vocabulary of the text that are more than 15 characters long. Let's call this property `P`, so that `P(w)` is true if and only if w is more than 15 characters long. \n",
    "\n",
    "- {w | w ∈ V & P(w)}\n",
    "- Coding: \n",
    "```python\n",
    "[w for w in V if p(w)]\n",
    "```\n",
    "Note that it produces a list, not a set, which means that duplicates are possible."
   ]
  },
  {
   "cell_type": "code",
   "execution_count": 67,
   "metadata": {},
   "outputs": [],
   "source": [
    "V = set(text1)\n",
    "long_words = [w for w in V if len(w) > 15]\n"
   ]
  },
  {
   "cell_type": "code",
   "execution_count": 68,
   "metadata": {},
   "outputs": [
    {
     "output_type": "execute_result",
     "data": {
      "text/plain": "['#14-19teens',\n '#talkcity_adults',\n '((((((((((',\n '........',\n 'Question',\n 'actually',\n 'anything',\n 'computer',\n 'cute.-ass',\n 'everyone',\n 'football',\n 'innocent',\n 'listening',\n 'remember',\n 'seriously',\n 'something',\n 'together',\n 'tomorrow',\n 'watching']"
     },
     "metadata": {},
     "execution_count": 68
    }
   ],
   "source": [
    "fdist5 = FreqDist(text5)\n",
    "sorted(w for w in set(text5) if len(w) > 7 and fdist5[w] > 7)"
   ]
  },
  {
   "cell_type": "markdown",
   "metadata": {},
   "source": [
    "## 3.3   Collocations and Bigrams\n",
    "A collocation is a sequence of words that occur together unusually often. Thus red wine is a collocation, whereas the wine is not. A characteristic of collocations is that they are resistant to substitution with words that have similar senses; for example, maroon wine sounds definitely odd.\n",
    "\n",
    "To get a handle on collocations, we start off by extracting from a text a list of word pairs, also known as bigrams. This is easily accomplished with the function `bigrams()`:\n"
   ]
  },
  {
   "cell_type": "code",
   "execution_count": 69,
   "metadata": {},
   "outputs": [
    {
     "output_type": "execute_result",
     "data": {
      "text/plain": "[('more', 'is'), ('is', 'said'), ('said', 'than'), ('than', 'done')]"
     },
     "metadata": {},
     "execution_count": 69
    }
   ],
   "source": [
    "list(bigrams(['more', 'is', 'said', 'than', 'done']))"
   ]
  },
  {
   "cell_type": "code",
   "execution_count": 70,
   "metadata": {},
   "outputs": [
    {
     "output_type": "stream",
     "name": "stdout",
     "text": "United States; fellow citizens; four years; years ago; Federal\nGovernment; General Government; American people; Vice President; God\nbless; Chief Justice; Old World; Almighty God; Fellow citizens; Chief\nMagistrate; every citizen; one another; fellow Americans; Indian\ntribes; public debt; foreign nations\n"
    }
   ],
   "source": [
    "text4.collocations()"
   ]
  },
  {
   "cell_type": "markdown",
   "metadata": {},
   "source": [
    "Here we see that the pair of words than-done is a bigram, and we write it in Python as ('than', 'done'). Now, collocations are essentially just frequent bigrams, except that we want to pay more attention to the cases that involve rare words. In particular, we want to find bigrams that occur more often than we would expect based on the frequency of the individual words."
   ]
  },
  {
   "cell_type": "markdown",
   "metadata": {},
   "source": [
    "## 3.4   Counting Other Things\n",
    "\n",
    "Counting words is useful, but we can count other things too. For example, we can look at the distribution of word lengths in a text, by creating a FreqDist out of a long list of numbers, where each number is the length of the corresponding word in the text:"
   ]
  },
  {
   "cell_type": "code",
   "execution_count": 72,
   "metadata": {},
   "outputs": [
    {
     "output_type": "execute_result",
     "data": {
      "text/plain": "[1, 4, 4, 2, 6, 8, 4, 1, 9, 1]"
     },
     "metadata": {},
     "execution_count": 72
    }
   ],
   "source": [
    "[len(w) for w in text1][:10]"
   ]
  },
  {
   "cell_type": "code",
   "execution_count": 74,
   "metadata": {},
   "outputs": [
    {
     "output_type": "execute_result",
     "data": {
      "text/plain": "FreqDist({3: 50223, 1: 47933, 4: 42345, 2: 38513, 5: 26597, 6: 17111, 7: 14399, 8: 9966, 9: 6428, 10: 3528, ...})"
     },
     "metadata": {},
     "execution_count": 74
    }
   ],
   "source": [
    "fdist = FreqDist(len(w) for w in text1)  \n",
    "fdist"
   ]
  },
  {
   "cell_type": "code",
   "execution_count": 75,
   "metadata": {},
   "outputs": [
    {
     "output_type": "execute_result",
     "data": {
      "text/plain": "[(3, 50223),\n (1, 47933),\n (4, 42345),\n (2, 38513),\n (5, 26597),\n (6, 17111),\n (7, 14399),\n (8, 9966),\n (9, 6428),\n (10, 3528),\n (11, 1873),\n (12, 1053),\n (13, 567),\n (14, 177),\n (15, 70),\n (16, 22),\n (17, 12),\n (18, 1),\n (20, 1)]"
     },
     "metadata": {},
     "execution_count": 75
    }
   ],
   "source": [
    "fdist.most_common()"
   ]
  },
  {
   "cell_type": "code",
   "execution_count": 76,
   "metadata": {},
   "outputs": [
    {
     "output_type": "execute_result",
     "data": {
      "text/plain": "0.19255882431878046"
     },
     "metadata": {},
     "execution_count": 76
    }
   ],
   "source": [
    "fdist.freq(3)"
   ]
  },
  {
   "cell_type": "markdown",
   "metadata": {},
   "source": [
    "# 4   Back to Python: Making Decisions and Taking Control\n",
    "So far, our little programs have had some interesting qualities: the ability to work with language, and the potential to save human effort through automation. A key feature of programming is the ability of machines to make decisions on our behalf, executing instructions when certain conditions are met, or repeatedly looping through text data until some condition is satisfied. This feature is known as control, and is the focus of this section.\n",
    "\n",
    "## 4.1   Conditionals\n"
   ]
  },
  {
   "cell_type": "code",
   "execution_count": 77,
   "metadata": {},
   "outputs": [
    {
     "output_type": "execute_result",
     "data": {
      "text/plain": "['Pierre',\n 'Vinken',\n ',',\n '61',\n 'years',\n 'old',\n ',',\n 'will',\n 'join',\n 'the',\n 'board',\n 'as',\n 'a',\n 'nonexecutive',\n 'director',\n 'Nov.',\n '29',\n '.']"
     },
     "metadata": {},
     "execution_count": 77
    }
   ],
   "source": [
    "sent7"
   ]
  },
  {
   "cell_type": "code",
   "execution_count": 78,
   "metadata": {},
   "outputs": [
    {
     "output_type": "execute_result",
     "data": {
      "text/plain": "[',', '61', 'old', ',', 'the', 'as', 'a', '29', '.']"
     },
     "metadata": {},
     "execution_count": 78
    }
   ],
   "source": [
    "[w for w in sent7 if len(w) < 4]"
   ]
  },
  {
   "cell_type": "code",
   "execution_count": 79,
   "metadata": {},
   "outputs": [
    {
     "output_type": "execute_result",
     "data": {
      "text/plain": "[',', '61', 'old', ',', 'will', 'join', 'the', 'as', 'a', 'Nov.', '29', '.']"
     },
     "metadata": {},
     "execution_count": 79
    }
   ],
   "source": [
    "[w for w in sent7 if len(w) <= 4]"
   ]
  },
  {
   "cell_type": "code",
   "execution_count": 80,
   "metadata": {},
   "outputs": [
    {
     "output_type": "execute_result",
     "data": {
      "text/plain": "['will', 'join', 'Nov.']"
     },
     "metadata": {},
     "execution_count": 80
    }
   ],
   "source": [
    "[w for w in sent7 if len(w) == 4]"
   ]
  },
  {
   "cell_type": "code",
   "execution_count": 81,
   "metadata": {},
   "outputs": [
    {
     "output_type": "execute_result",
     "data": {
      "text/plain": "['Pierre',\n 'Vinken',\n ',',\n '61',\n 'years',\n 'old',\n ',',\n 'the',\n 'board',\n 'as',\n 'a',\n 'nonexecutive',\n 'director',\n '29',\n '.']"
     },
     "metadata": {},
     "execution_count": 81
    }
   ],
   "source": [
    "[w for w in sent7 if len(w) != 4]"
   ]
  },
  {
   "cell_type": "markdown",
   "metadata": {},
   "source": [
    "There is a common pattern to all of these examples: `w for w in text if condition `, where condition is a Python \"test\" that yields either true or false. In the cases shown in the previous code example, the condition is always a numerical comparison."
   ]
  },
  {
   "cell_type": "code",
   "execution_count": 82,
   "metadata": {},
   "outputs": [
    {
     "output_type": "execute_result",
     "data": {
      "text/plain": "['comfortableness',\n 'honourableness',\n 'immutableness',\n 'indispensableness',\n 'indomitableness',\n 'intolerableness',\n 'palpableness',\n 'reasonableness',\n 'uncomfortableness']"
     },
     "metadata": {},
     "execution_count": 82
    }
   ],
   "source": [
    "sorted(w for w in set(text1) if w.endswith('ableness'))"
   ]
  },
  {
   "cell_type": "code",
   "execution_count": 83,
   "metadata": {},
   "outputs": [
    {
     "output_type": "execute_result",
     "data": {
      "text/plain": "['Sovereignty', 'sovereignties', 'sovereignty']"
     },
     "metadata": {},
     "execution_count": 83
    }
   ],
   "source": [
    "sorted(term for term in set(text4) if 'gnt' in term)"
   ]
  },
  {
   "cell_type": "code",
   "execution_count": 85,
   "metadata": {},
   "outputs": [
    {
     "output_type": "execute_result",
     "data": {
      "text/plain": "['A',\n 'Aaaaaaaaah',\n 'Aaaaaaaah',\n 'Aaaaaah',\n 'Aaaah',\n 'Aaaaugh',\n 'Aaagh',\n 'Aaah',\n 'Aaauggh',\n 'Aaaugh']"
     },
     "metadata": {},
     "execution_count": 85
    }
   ],
   "source": [
    "sorted(item for item in set(text6) if item.istitle())[:10]"
   ]
  },
  {
   "cell_type": "code",
   "execution_count": 86,
   "metadata": {},
   "outputs": [
    {
     "output_type": "execute_result",
     "data": {
      "text/plain": "['29', '61']"
     },
     "metadata": {},
     "execution_count": 86
    }
   ],
   "source": [
    "sorted(item for item in set(sent7) if item.isdigit())"
   ]
  },
  {
   "cell_type": "code",
   "execution_count": 87,
   "metadata": {},
   "outputs": [
    {
     "output_type": "execute_result",
     "data": {
      "text/plain": "['Stock-index',\n 'index-arbitrage',\n 'index-fund',\n 'index-options',\n 'index-related',\n 'stock-index']"
     },
     "metadata": {},
     "execution_count": 87
    }
   ],
   "source": [
    "sorted(w for w in set(text7) if '-' in w and 'index' in w)"
   ]
  },
  {
   "cell_type": "code",
   "execution_count": 88,
   "metadata": {},
   "outputs": [
    {
     "output_type": "execute_result",
     "data": {
      "text/plain": "['Abelmizraim',\n 'Allonbachuth',\n 'Beerlahairoi',\n 'Canaanitish',\n 'Chedorlaomer',\n 'Girgashites',\n 'Hazarmaveth',\n 'Hazezontamar',\n 'Ishmeelites',\n 'Jegarsahadutha',\n 'Jehovahjireh',\n 'Kirjatharba',\n 'Melchizedek',\n 'Mesopotamia',\n 'Peradventure',\n 'Philistines',\n 'Zaphnathpaaneah']"
     },
     "metadata": {},
     "execution_count": 88
    }
   ],
   "source": [
    "sorted(wd for wd in set(text3) if wd.istitle() and len(wd) > 10)"
   ]
  },
  {
   "cell_type": "code",
   "execution_count": 89,
   "metadata": {},
   "outputs": [
    {
     "output_type": "execute_result",
     "data": {
      "text/plain": "['ancient',\n 'ceiling',\n 'conceit',\n 'conceited',\n 'conceive',\n 'conscience',\n 'conscientious',\n 'conscientiously',\n 'deceitful',\n 'deceive',\n 'deceived',\n 'deceiving',\n 'deficiencies',\n 'deficiency',\n 'deficient',\n 'delicacies',\n 'excellencies',\n 'fancied',\n 'insufficiency',\n 'insufficient',\n 'legacies',\n 'perceive',\n 'perceived',\n 'perceiving',\n 'prescience',\n 'prophecies',\n 'receipt',\n 'receive',\n 'received',\n 'receiving',\n 'society',\n 'species',\n 'sufficient',\n 'sufficiently',\n 'undeceive',\n 'undeceiving']"
     },
     "metadata": {},
     "execution_count": 89
    }
   ],
   "source": [
    "sorted(t for t in set(text2) if 'cie' in t or 'cei' in t)"
   ]
  },
  {
   "cell_type": "markdown",
   "metadata": {},
   "source": [
    "## 4.2   Operating on Every Element\n",
    "\n",
    "These expressions have the form [f(w) for ...] or [w.f() for ...], where f is a function that operates on a word to compute its length, or to convert it to uppercase. For now, you don't need to understand the difference between the notations f(w) and w.f().\n",
    "\n",
    "\n",
    "The notation just described is called a \"list comprehension.\" This is our first example of a Python idiom, a fixed notation that we use habitually without bothering to analyze each time. Mastering such idioms is an important part of becoming a fluent Python programmer.\n"
   ]
  },
  {
   "cell_type": "code",
   "execution_count": 92,
   "metadata": {},
   "outputs": [
    {
     "output_type": "execute_result",
     "data": {
      "text/plain": "[1, 4, 4, 2, 6, 8, 4, 1, 9, 1, 1, 8, 2, 1, 4]"
     },
     "metadata": {},
     "execution_count": 92
    }
   ],
   "source": [
    "[len(w) for w in text1][:15]"
   ]
  },
  {
   "cell_type": "code",
   "execution_count": 96,
   "metadata": {},
   "outputs": [
    {
     "output_type": "execute_result",
     "data": {
      "text/plain": "19317"
     },
     "metadata": {},
     "execution_count": 96
    }
   ],
   "source": [
    "len(set(text1))"
   ]
  },
  {
   "cell_type": "code",
   "execution_count": 93,
   "metadata": {},
   "outputs": [
    {
     "output_type": "execute_result",
     "data": {
      "text/plain": "17231"
     },
     "metadata": {},
     "execution_count": 93
    }
   ],
   "source": [
    "len(set(word.lower() for word in text1))"
   ]
  },
  {
   "cell_type": "markdown",
   "metadata": {},
   "source": [
    "Now that we are not double-counting words like This and this, which differ only in capitalization, we've wiped 2,000 off the vocabulary count! We can go a step further and eliminate numbers and punctuation from the vocabulary count by filtering out any non-alphabetic items:"
   ]
  },
  {
   "cell_type": "code",
   "execution_count": 95,
   "metadata": {},
   "outputs": [
    {
     "output_type": "execute_result",
     "data": {
      "text/plain": "16948"
     },
     "metadata": {},
     "execution_count": 95
    }
   ],
   "source": [
    "len(set(word.lower() for word in text1 if word.isalpha()))"
   ]
  },
  {
   "cell_type": "markdown",
   "metadata": {},
   "source": [
    "## 4.3   Nested Code Blocks\n",
    "Most programming languages permit us to execute a block of code when a conditional expression, or if statement, is satisfied. "
   ]
  },
  {
   "cell_type": "code",
   "execution_count": 97,
   "metadata": {},
   "outputs": [
    {
     "output_type": "stream",
     "name": "stdout",
     "text": "word length is less than 5\n"
    }
   ],
   "source": [
    "word = 'cat'\n",
    "if len(word) < 5:\n",
    "    print('word length is less than 5')"
   ]
  },
  {
   "cell_type": "code",
   "execution_count": 98,
   "metadata": {},
   "outputs": [
    {
     "output_type": "stream",
     "name": "stdout",
     "text": "Call\nme\nIshmael\n.\n"
    }
   ],
   "source": [
    "for word in ['Call', 'me', 'Ishmael', '.']: \n",
    "    print(word)"
   ]
  },
  {
   "cell_type": "markdown",
   "metadata": {},
   "source": [
    "##  4.4   Looping with Conditions\n",
    "Now we can combine the if and for statements. We will loop over every item of the list, and print the item only if it ends with the letter l. We'll pick another name for the variable to demonstrate that Python doesn't try to make sense of variable names.\n",
    "\n"
   ]
  },
  {
   "cell_type": "code",
   "execution_count": 100,
   "metadata": {},
   "outputs": [
    {
     "output_type": "stream",
     "name": "stdout",
     "text": "Call\nIshmael\n"
    }
   ],
   "source": [
    "sent1 = ['Call', 'me', 'Ishmael', '.']\n",
    "for xyzzy in sent1:\n",
    "    if xyzzy.endswith('l'):\n",
    "        print(xyzzy)"
   ]
  },
  {
   "cell_type": "code",
   "execution_count": 101,
   "metadata": {},
   "outputs": [
    {
     "output_type": "stream",
     "name": "stdout",
     "text": "Call is a titlecase word\nme is a lowercase word\nIshmael is a titlecase word\n. is punctuation\n"
    }
   ],
   "source": [
    "for token in sent1:\n",
    "    if token.islower():\n",
    "        print(token, 'is a lowercase word')\n",
    "    elif token.istitle():\n",
    "         print(token, 'is a titlecase word')\n",
    "    else:\n",
    "        print(token, 'is punctuation')\n",
    " "
   ]
  },
  {
   "cell_type": "code",
   "execution_count": 102,
   "metadata": {},
   "outputs": [
    {
     "output_type": "stream",
     "name": "stdout",
     "text": "ancient ceiling conceit conceited conceive conscience conscientious conscientiously deceitful deceive deceived deceiving deficiencies deficiency deficient delicacies excellencies fancied insufficiency insufficient legacies perceive perceived perceiving prescience prophecies receipt receive received receiving society species sufficient sufficiently undeceive undeceiving"
    }
   ],
   "source": [
    "tricky = sorted(w for w in set(text2) if 'cie' in w or 'cei' in w)\n",
    "for word in tricky:\n",
    "    print(word, end=' ')"
   ]
  },
  {
   "cell_type": "markdown",
   "metadata": {},
   "source": [
    "# 5 Automatic Natural Language Understanding\n",
    "\n",
    "We have been exploring language bottom-up, with the help of texts and the Python programming language. However, we're also interested in exploiting our knowledge of language and computation by building useful language technologies. We'll take the opportunity now to step back from the nitty-gritty of code in order to paint a bigger picture of natural language processing."
   ]
  },
  {
   "cell_type": "markdown",
   "metadata": {},
   "source": [
    "At a purely practical level, we all need help to navigate the universe of information locked up in text on the Web.\n",
    "\n",
    "Search engines have been crucial to the growth and popularity of the Web, but have some shortcomings. It takes skill, knowledge, and some luck, to extract answers to such questions as: \n",
    "- What tourist sites can I visit between Philadelphia and Pittsburgh on a limited budget? \n",
    "- What do experts say about digital SLR cameras? \n",
    "- What predictions about the steel market were made by credible commentators in the past week? \n",
    "\n",
    "Getting a computer to answer them automatically involves a range of language processing tasks, including information extraction, inference, and summarization, and would need to be carried out on a scale and with a level of robustness that is still beyond our current capabilities."
   ]
  },
  {
   "cell_type": "markdown",
   "metadata": {},
   "source": [
    "On a more philosophical level, a long-standing challenge within artificial intelligence has been to build intelligent machines, and a major part of intelligent behaviour is understanding language. \n",
    "\n",
    "For many years this goal has been seen as too difficult. However, as NLP technologies become more mature, and robust methods for analyzing unrestricted text become more widespread, the prospect of natural language understanding has re-emerged as a plausible goal."
   ]
  },
  {
   "cell_type": "markdown",
   "metadata": {},
   "source": [
    "5.1   Word Sense Disambiguation\n",
    "\n",
    "In word sense disambiguation we want to work out which sense of a word was intended in a given context. \n",
    "\n",
    "5.2   Pronoun Resolution\n",
    "A deeper kind of language understanding is to work out \"who did what to whom\" — i.e., to detect the subjects and objects of verbs. You learnt to do this in elementary school, but it's harder than you might think. \n",
    "\n",
    "5.3   Generating Language Output\n",
    "If we can automatically solve such problems of language understanding, we will be able to move on to tasks that involve generating language output, such as question answering and machine translation.\n",
    "\n",
    "5.4   Machine Translation\n",
    "\n",
    "For a long time now, machine translation (MT) has been the holy grail of language understanding, ultimately seeking to provide high-quality, idiomatic translation between any pair of languages. Its roots go back to the early days of the Cold War, when the promise of automatic translation led to substantial government sponsorship, and with it, the genesis of NLP itself.\n",
    "\n",
    "Machine translation is difficult because a given word could have several possible translations (depending on its meaning), and because word order must be changed in keeping with the grammatical structure of the target language. Today these difficulties are being faced by collecting massive quantities of parallel texts from news and government websites that publish documents in two or more languages. \n",
    "\n",
    "Given a document in German and English, and possibly a bilingual dictionary, we can automatically pair up the sentences, a process called text alignment. \n",
    "\n",
    "Once we have a million or more sentence pairs, we can detect corresponding words and phrases, and build a model that can be used for translating new text."
   ]
  },
  {
   "cell_type": "markdown",
   "metadata": {},
   "source": [
    "5.5   Spoken Dialog Systems\n",
    "\n",
    "In the history of artificial intelligence, the chief measure of intelligence has been a linguistic one, namely the Turing Test: can a dialogue system, responding to a user's text input, perform so naturally that we cannot distinguish it from a human-generated response? In contrast, today's commercial dialogue systems are very limited, but still perform useful functions in narrowly-defined domains.\n",
    "\n",
    "Dialogue systems give us an opportunity to mention the commonly assumed pipeline for NLP.\n",
    "\n"
   ]
  },
  {
   "cell_type": "markdown",
   "metadata": {},
   "source": [
    "5.6   Textual Entailment\n",
    "\n",
    "The challenge of language understanding has been brought into focus in recent years by a public \"shared task\" called Recognizing Textual Entailment (RTE). The basic scenario is simple. Suppose you want to find evidence to support the hypothesis: Sandra Goudie was defeated by Max Purnell, and that you have another short text that seems to be relevant, for example, Sandra Goudie was first elected to Parliament in the 2002 elections, narrowly winning the seat of Coromandel by defeating Labour candidate Max Purnell and pushing incumbent Green MP Jeanette Fitzsimons into third place. Does the text provide enough evidence for you to accept the hypothesis? In this particular case, the answer will be \"No.\" You can draw this conclusion easily, but it is very hard to come up with automated methods for making the right decision. \n",
    "\n",
    "\n"
   ]
  },
  {
   "cell_type": "markdown",
   "metadata": {},
   "source": [
    "5.7   Limitations of NLP\n",
    "\n",
    "Despite the research-led advances in tasks like RTE, natural language systems that have been deployed for real-world applications still cannot perform common-sense reasoning or draw on world knowledge in a general and robust manner. \n"
   ]
  },
  {
   "cell_type": "code",
   "execution_count": null,
   "metadata": {},
   "outputs": [],
   "source": []
  }
 ],
 "metadata": {
  "kernelspec": {
   "display_name": "Python 3.7.6 64-bit ('NLP': conda)",
   "language": "python",
   "name": "python37664bitnlpcondac288fe709c1f4a20ba3c1c2e82bc8cad"
  },
  "language_info": {
   "codemirror_mode": {
    "name": "ipython",
    "version": 3
   },
   "file_extension": ".py",
   "mimetype": "text/x-python",
   "name": "python",
   "nbconvert_exporter": "python",
   "pygments_lexer": "ipython3",
   "version": "3.7.6-final"
  }
 },
 "nbformat": 4,
 "nbformat_minor": 4
}