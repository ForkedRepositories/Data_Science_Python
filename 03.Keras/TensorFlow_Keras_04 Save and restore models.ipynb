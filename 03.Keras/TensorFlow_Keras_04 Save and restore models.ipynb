{
 "cells": [
  {
   "cell_type": "markdown",
   "metadata": {},
   "source": [
    "# Save and restore models\n",
    "Model progress can be saved during—and after—training. This means a model can resume where it left off and avoid long training times. Saving also means you can share your model and others can recreate your work. When publishing research models and techniques, most machine learning practitioners share:\n",
    "\n",
    "- code to create the model, and\n",
    "- the trained weights, or parameters, for the model\n",
    "\n",
    "Sharing this data helps others understand how the model works and try it themselves with new data."
   ]
  },
  {
   "cell_type": "markdown",
   "metadata": {},
   "source": [
    "## Options\n",
    "There are different ways to save TensorFlow models—depending on the API you're using. This guide uses `tf.keras`, a high-level API to build and train models in TensorFlow. For other approaches, see the TensorFlow Save and Restore guide or Saving in eager."
   ]
  },
  {
   "cell_type": "code",
   "execution_count": 1,
   "metadata": {},
   "outputs": [
    {
     "name": "stdout",
     "output_type": "stream",
     "text": [
      "\n",
      "The following command must be run outside of the IPython shell:\n",
      "\n",
      "    $ pip install -q h5py pyyaml \n",
      "\n",
      "The Python package manager (pip) can only be used from outside of IPython.\n",
      "Please reissue the `pip` command in a separate terminal or command prompt.\n",
      "\n",
      "See the Python documentation for more information on how to install packages:\n",
      "\n",
      "    https://docs.python.org/3/installing/\n"
     ]
    }
   ],
   "source": [
    "pip install -q h5py pyyaml "
   ]
  },
  {
   "cell_type": "markdown",
   "metadata": {},
   "source": [
    "## Get an example dataset\n",
    "We'll use the MNIST dataset to train our model to demonstrate saving weights. To speed up these demonstration runs, only use the first 1000 examples:"
   ]
  },
  {
   "cell_type": "code",
   "execution_count": 2,
   "metadata": {},
   "outputs": [
    {
     "name": "stderr",
     "output_type": "stream",
     "text": [
      "C:\\Users\\Chris.Cui\\AppData\\Local\\Continuum\\anaconda3\\lib\\site-packages\\h5py\\__init__.py:36: FutureWarning: Conversion of the second argument of issubdtype from `float` to `np.floating` is deprecated. In future, it will be treated as `np.float64 == np.dtype(float).type`.\n",
      "  from ._conv import register_converters as _register_converters\n"
     ]
    },
    {
     "data": {
      "text/plain": [
       "'1.10.0'"
      ]
     },
     "execution_count": 2,
     "metadata": {},
     "output_type": "execute_result"
    }
   ],
   "source": [
    "from __future__ import absolute_import, division, print_function\n",
    "\n",
    "import os\n",
    "\n",
    "import tensorflow as tf\n",
    "from tensorflow import keras\n",
    "\n",
    "tf.__version__"
   ]
  },
  {
   "cell_type": "code",
   "execution_count": 3,
   "metadata": {},
   "outputs": [],
   "source": [
    "(train_images, train_labels), (test_images, test_labels) = tf.keras.datasets.mnist.load_data()\n",
    "\n",
    "train_labels = train_labels[:1000]\n",
    "test_labels = test_labels[:1000]\n",
    "\n",
    "train_images = train_images[:1000].reshape(-1, 28 * 28) / 255.0\n",
    "test_images = test_images[:1000].reshape(-1, 28 * 28) / 255.0"
   ]
  },
  {
   "cell_type": "markdown",
   "metadata": {},
   "source": [
    "## Define a model\n",
    "Let's build a simple model we'll use to demonstrate saving and loading weights."
   ]
  },
  {
   "cell_type": "code",
   "execution_count": 4,
   "metadata": {},
   "outputs": [
    {
     "name": "stdout",
     "output_type": "stream",
     "text": [
      "_________________________________________________________________\n",
      "Layer (type)                 Output Shape              Param #   \n",
      "=================================================================\n",
      "dense (Dense)                (None, 512)               401920    \n",
      "_________________________________________________________________\n",
      "dropout (Dropout)            (None, 512)               0         \n",
      "_________________________________________________________________\n",
      "dense_1 (Dense)              (None, 10)                5130      \n",
      "=================================================================\n",
      "Total params: 407,050\n",
      "Trainable params: 407,050\n",
      "Non-trainable params: 0\n",
      "_________________________________________________________________\n"
     ]
    }
   ],
   "source": [
    "# Returns a short sequential model\n",
    "def create_model():\n",
    "    model = tf.keras.models.Sequential([\n",
    "        keras.layers.Dense(512, activation=tf.nn.relu, input_shape=(784,)),\n",
    "        keras.layers.Dropout(0.2),\n",
    "        keras.layers.Dense(10, activation=tf.nn.softmax)\n",
    "        ])\n",
    "\n",
    "    model.compile(optimizer=tf.keras.optimizers.Adam(), \n",
    "                  loss=tf.keras.losses.sparse_categorical_crossentropy,\n",
    "                  metrics=['accuracy'])\n",
    "\n",
    "    return model\n",
    "# Create a basic model instance\n",
    "model = create_model()\n",
    "model.summary()"
   ]
  },
  {
   "cell_type": "markdown",
   "metadata": {},
   "source": [
    "## Save checkpoints during training\n",
    "The primary use case is to automatically save checkpoints during and at the end of training. This way you can use a trained model without having to retrain it, or pick-up training where you left of—in case the training process was interrupted.\n",
    "\n",
    "`tf.keras.callbacks.ModelCheckpoint` is a callback that performs this task. The callback takes a couple of arguments to configure checkpointing."
   ]
  },
  {
   "cell_type": "markdown",
   "metadata": {},
   "source": [
    "### Checkpoint callback usage\n",
    "Train the model and pass it the ModelCheckpoint callback:"
   ]
  },
  {
   "cell_type": "code",
   "execution_count": 5,
   "metadata": {},
   "outputs": [
    {
     "name": "stdout",
     "output_type": "stream",
     "text": [
      "Train on 1000 samples, validate on 1000 samples\n",
      "Epoch 1/10\n",
      "1000/1000 [==============================] - 1s 601us/step - loss: 1.1279 - acc: 0.6840 - val_loss: 0.6946 - val_acc: 0.7880\n",
      "\n",
      "Epoch 00001: saving model to ./models/training_1/cp.ckpt\n",
      "Epoch 2/10\n",
      "1000/1000 [==============================] - 0s 295us/step - loss: 0.4041 - acc: 0.8940 - val_loss: 0.5307 - val_acc: 0.8280\n",
      "\n",
      "Epoch 00002: saving model to ./models/training_1/cp.ckpt\n",
      "Epoch 3/10\n",
      "1000/1000 [==============================] - 0s 287us/step - loss: 0.2838 - acc: 0.9210 - val_loss: 0.4846 - val_acc: 0.8510\n",
      "\n",
      "Epoch 00003: saving model to ./models/training_1/cp.ckpt\n",
      "Epoch 4/10\n",
      "1000/1000 [==============================] - 0s 316us/step - loss: 0.2053 - acc: 0.9490 - val_loss: 0.4332 - val_acc: 0.8600\n",
      "\n",
      "Epoch 00004: saving model to ./models/training_1/cp.ckpt\n",
      "Epoch 5/10\n",
      "1000/1000 [==============================] - 0s 296us/step - loss: 0.1427 - acc: 0.9760 - val_loss: 0.4235 - val_acc: 0.8670\n",
      "\n",
      "Epoch 00005: saving model to ./models/training_1/cp.ckpt\n",
      "Epoch 6/10\n",
      "1000/1000 [==============================] - 0s 317us/step - loss: 0.1181 - acc: 0.9750 - val_loss: 0.4314 - val_acc: 0.8600\n",
      "\n",
      "Epoch 00006: saving model to ./models/training_1/cp.ckpt\n",
      "Epoch 7/10\n",
      "1000/1000 [==============================] - 0s 317us/step - loss: 0.0872 - acc: 0.9870 - val_loss: 0.4121 - val_acc: 0.8660\n",
      "\n",
      "Epoch 00007: saving model to ./models/training_1/cp.ckpt\n",
      "Epoch 8/10\n",
      "1000/1000 [==============================] - 0s 284us/step - loss: 0.0627 - acc: 0.9920 - val_loss: 0.4155 - val_acc: 0.8600\n",
      "\n",
      "Epoch 00008: saving model to ./models/training_1/cp.ckpt\n",
      "Epoch 9/10\n",
      "1000/1000 [==============================] - 0s 316us/step - loss: 0.0473 - acc: 0.9970 - val_loss: 0.4164 - val_acc: 0.8740\n",
      "\n",
      "Epoch 00009: saving model to ./models/training_1/cp.ckpt\n",
      "Epoch 10/10\n",
      "1000/1000 [==============================] - 0s 300us/step - loss: 0.0391 - acc: 0.9990 - val_loss: 0.4277 - val_acc: 0.8660\n",
      "\n",
      "Epoch 00010: saving model to ./models/training_1/cp.ckpt\n"
     ]
    },
    {
     "data": {
      "text/plain": [
       "<tensorflow.python.keras.callbacks.History at 0x12425b43358>"
      ]
     },
     "execution_count": 5,
     "metadata": {},
     "output_type": "execute_result"
    }
   ],
   "source": [
    "checkpoint_path = \"./models/training_1/cp.ckpt\"\n",
    "checkpoint_dir = os.path.dirname(checkpoint_path)\n",
    "\n",
    "# Create checkpoint callback\n",
    "cp_callback = tf.keras.callbacks.ModelCheckpoint(checkpoint_path, \n",
    "                                                 save_weights_only=True,\n",
    "                                                 verbose=1)\n",
    "\n",
    "model = create_model()\n",
    "\n",
    "model.fit(train_images, train_labels,  epochs = 10, \n",
    "          validation_data = (test_images,test_labels),\n",
    "          callbacks = [cp_callback])  # pass callback to training"
   ]
  },
  {
   "cell_type": "markdown",
   "metadata": {},
   "source": [
    "This creates a single collection of TensorFlow checkpoint files that are updated at the end of each epoch:\n",
    "```python\n",
    "ls {checkpoint_dir}\n",
    "```\n",
    "\n",
    "Create a new, untrained model. When restoring a model from only weights, you must have a model with the same architecture as the original model. Since it's the same model architecture, we can share weights despite that it's a different instance of the model.\n",
    "\n",
    "Now rebuild a fresh, untrained model, and evaluate it on the test set. An untrained model will perform at chance levels (~10% accuracy):"
   ]
  },
  {
   "cell_type": "code",
   "execution_count": 7,
   "metadata": {},
   "outputs": [
    {
     "name": "stdout",
     "output_type": "stream",
     "text": [
      "1000/1000 [==============================] - 0s 137us/step\n",
      "Untrained model, accuracy: 14.70%\n"
     ]
    }
   ],
   "source": [
    "model = create_model()\n",
    "\n",
    "loss, acc = model.evaluate(test_images, test_labels)\n",
    "print(\"Untrained model, accuracy: {:5.2f}%\".format(100*acc))"
   ]
  },
  {
   "cell_type": "markdown",
   "metadata": {},
   "source": [
    "Then load the weights from the checkpoint, and re-evaluate:"
   ]
  },
  {
   "cell_type": "code",
   "execution_count": 8,
   "metadata": {},
   "outputs": [
    {
     "name": "stdout",
     "output_type": "stream",
     "text": [
      "1000/1000 [==============================] - 0s 60us/step\n",
      "Restored model, accuracy: 86.60%\n"
     ]
    }
   ],
   "source": [
    "model.load_weights(checkpoint_path)\n",
    "loss,acc = model.evaluate(test_images, test_labels)\n",
    "print(\"Restored model, accuracy: {:5.2f}%\".format(100*acc))"
   ]
  },
  {
   "cell_type": "markdown",
   "metadata": {},
   "source": [
    "## Checkpoint callback options\n",
    "\n",
    "The callback provides several options to give the resulting checkpoints unique names, and adjust the checkpointing frequency.\n",
    "\n",
    "Train a new model, and save uniquely named checkpoints once every 5-epochs:"
   ]
  },
  {
   "cell_type": "code",
   "execution_count": 10,
   "metadata": {},
   "outputs": [
    {
     "name": "stdout",
     "output_type": "stream",
     "text": [
      "\n",
      "Epoch 00005: saving model to ./models/training_2/cp-0005.ckpt\n",
      "\n",
      "Epoch 00010: saving model to ./models/training_2/cp-0010.ckpt\n",
      "\n",
      "Epoch 00015: saving model to ./models/training_2/cp-0015.ckpt\n",
      "\n",
      "Epoch 00020: saving model to ./models/training_2/cp-0020.ckpt\n",
      "\n",
      "Epoch 00025: saving model to ./models/training_2/cp-0025.ckpt\n",
      "\n",
      "Epoch 00030: saving model to ./models/training_2/cp-0030.ckpt\n",
      "\n",
      "Epoch 00035: saving model to ./models/training_2/cp-0035.ckpt\n",
      "\n",
      "Epoch 00040: saving model to ./models/training_2/cp-0040.ckpt\n",
      "\n",
      "Epoch 00045: saving model to ./models/training_2/cp-0045.ckpt\n",
      "\n",
      "Epoch 00050: saving model to ./models/training_2/cp-0050.ckpt\n"
     ]
    },
    {
     "data": {
      "text/plain": [
       "<tensorflow.python.keras.callbacks.History at 0x12426d1a860>"
      ]
     },
     "execution_count": 10,
     "metadata": {},
     "output_type": "execute_result"
    }
   ],
   "source": [
    "# include the epoch in the file name. (uses `str.format`)\n",
    "checkpoint_path = \"./models/training_2/cp-{epoch:04d}.ckpt\"\n",
    "checkpoint_dir = os.path.dirname(checkpoint_path)\n",
    "\n",
    "cp_callback = tf.keras.callbacks.ModelCheckpoint(\n",
    "    checkpoint_path, verbose=1, save_weights_only=True,\n",
    "    # Save weights, every 5-epochs.\n",
    "    period=5)\n",
    "\n",
    "model = create_model()\n",
    "model.fit(train_images, train_labels,\n",
    "          epochs = 50, callbacks = [cp_callback],\n",
    "          validation_data = (test_images,test_labels),\n",
    "          verbose=0)"
   ]
  },
  {
   "cell_type": "markdown",
   "metadata": {},
   "source": [
    "Now, have a look at the resulting checkpoints (sorting by modification date):\n",
    "\n"
   ]
  },
  {
   "cell_type": "code",
   "execution_count": 11,
   "metadata": {},
   "outputs": [
    {
     "data": {
      "text/plain": [
       "[WindowsPath('models/training_2/cp-0030.ckpt'),\n",
       " WindowsPath('models/training_2/cp-0035.ckpt'),\n",
       " WindowsPath('models/training_2/cp-0040.ckpt'),\n",
       " WindowsPath('models/training_2/cp-0045.ckpt'),\n",
       " WindowsPath('models/training_2/cp-0050.ckpt')]"
      ]
     },
     "execution_count": 11,
     "metadata": {},
     "output_type": "execute_result"
    }
   ],
   "source": [
    "import pathlib\n",
    "\n",
    "# Sort the checkpoints by modification time.\n",
    "checkpoints = pathlib.Path(checkpoint_dir).glob(\"*.index\")\n",
    "checkpoints = sorted(checkpoints, key=lambda cp:cp.stat().st_mtime)\n",
    "checkpoints = [cp.with_suffix('') for cp in checkpoints]\n",
    "latest = str(checkpoints[-1])\n",
    "checkpoints"
   ]
  },
  {
   "cell_type": "markdown",
   "metadata": {},
   "source": [
    "To test, reset the model and load the latest checkpoint:"
   ]
  },
  {
   "cell_type": "code",
   "execution_count": 12,
   "metadata": {},
   "outputs": [
    {
     "name": "stdout",
     "output_type": "stream",
     "text": [
      "1000/1000 [==============================] - 0s 151us/step\n",
      "Restored model, accuracy: 87.90%\n"
     ]
    }
   ],
   "source": [
    "model = create_model()\n",
    "model.load_weights(latest)\n",
    "loss, acc = model.evaluate(test_images, test_labels)\n",
    "print(\"Restored model, accuracy: {:5.2f}%\".format(100*acc))"
   ]
  },
  {
   "cell_type": "markdown",
   "metadata": {},
   "source": [
    "## Save the best model Only\n",
    "In `tf.keras.callbacks.ModelCheckpoint`, set the `save_best_only`: if `save_best_only=True`, the latest best model according to the quantity monitored will not be overwritten."
   ]
  },
  {
   "cell_type": "code",
   "execution_count": 15,
   "metadata": {},
   "outputs": [
    {
     "name": "stdout",
     "output_type": "stream",
     "text": [
      "\n",
      "Epoch 00001: val_loss improved from inf to 0.71673, saving model to ./models/training_3/cp-0001.ckpt\n",
      "\n",
      "Epoch 00002: val_loss improved from 0.71673 to 0.51684, saving model to ./models/training_3/cp-0002.ckpt\n",
      "\n",
      "Epoch 00003: val_loss improved from 0.51684 to 0.47893, saving model to ./models/training_3/cp-0003.ckpt\n",
      "\n",
      "Epoch 00004: val_loss improved from 0.47893 to 0.45468, saving model to ./models/training_3/cp-0004.ckpt\n",
      "\n",
      "Epoch 00005: val_loss improved from 0.45468 to 0.43629, saving model to ./models/training_3/cp-0005.ckpt\n",
      "\n",
      "Epoch 00006: val_loss did not improve from 0.43629\n",
      "\n",
      "Epoch 00007: val_loss improved from 0.43629 to 0.40905, saving model to ./models/training_3/cp-0007.ckpt\n",
      "\n",
      "Epoch 00008: val_loss did not improve from 0.40905\n",
      "\n",
      "Epoch 00009: val_loss did not improve from 0.40905\n",
      "\n",
      "Epoch 00010: val_loss did not improve from 0.40905\n",
      "\n",
      "Epoch 00011: val_loss did not improve from 0.40905\n",
      "\n",
      "Epoch 00012: val_loss did not improve from 0.40905\n",
      "\n",
      "Epoch 00013: val_loss did not improve from 0.40905\n",
      "\n",
      "Epoch 00014: val_loss did not improve from 0.40905\n",
      "\n",
      "Epoch 00015: val_loss did not improve from 0.40905\n",
      "\n",
      "Epoch 00016: val_loss did not improve from 0.40905\n",
      "\n",
      "Epoch 00017: val_loss did not improve from 0.40905\n",
      "\n",
      "Epoch 00018: val_loss did not improve from 0.40905\n",
      "\n",
      "Epoch 00019: val_loss did not improve from 0.40905\n",
      "\n",
      "Epoch 00020: val_loss did not improve from 0.40905\n",
      "\n",
      "Epoch 00021: val_loss did not improve from 0.40905\n",
      "\n",
      "Epoch 00022: val_loss did not improve from 0.40905\n",
      "\n",
      "Epoch 00023: val_loss did not improve from 0.40905\n",
      "\n",
      "Epoch 00024: val_loss did not improve from 0.40905\n",
      "\n",
      "Epoch 00025: val_loss did not improve from 0.40905\n",
      "\n",
      "Epoch 00026: val_loss did not improve from 0.40905\n",
      "\n",
      "Epoch 00027: val_loss did not improve from 0.40905\n",
      "\n",
      "Epoch 00028: val_loss did not improve from 0.40905\n",
      "\n",
      "Epoch 00029: val_loss did not improve from 0.40905\n",
      "\n",
      "Epoch 00030: val_loss did not improve from 0.40905\n",
      "\n",
      "Epoch 00031: val_loss did not improve from 0.40905\n",
      "\n",
      "Epoch 00032: val_loss did not improve from 0.40905\n",
      "\n",
      "Epoch 00033: val_loss did not improve from 0.40905\n",
      "\n",
      "Epoch 00034: val_loss did not improve from 0.40905\n",
      "\n",
      "Epoch 00035: val_loss did not improve from 0.40905\n",
      "\n",
      "Epoch 00036: val_loss did not improve from 0.40905\n",
      "\n",
      "Epoch 00037: val_loss did not improve from 0.40905\n",
      "\n",
      "Epoch 00038: val_loss did not improve from 0.40905\n",
      "\n",
      "Epoch 00039: val_loss did not improve from 0.40905\n",
      "\n",
      "Epoch 00040: val_loss did not improve from 0.40905\n",
      "\n",
      "Epoch 00041: val_loss did not improve from 0.40905\n",
      "\n",
      "Epoch 00042: val_loss did not improve from 0.40905\n",
      "\n",
      "Epoch 00043: val_loss did not improve from 0.40905\n",
      "\n",
      "Epoch 00044: val_loss did not improve from 0.40905\n",
      "\n",
      "Epoch 00045: val_loss did not improve from 0.40905\n",
      "\n",
      "Epoch 00046: val_loss did not improve from 0.40905\n",
      "\n",
      "Epoch 00047: val_loss did not improve from 0.40905\n",
      "\n",
      "Epoch 00048: val_loss did not improve from 0.40905\n",
      "\n",
      "Epoch 00049: val_loss did not improve from 0.40905\n",
      "\n",
      "Epoch 00050: val_loss did not improve from 0.40905\n"
     ]
    },
    {
     "data": {
      "text/plain": [
       "<tensorflow.python.keras.callbacks.History at 0x12427396ac8>"
      ]
     },
     "execution_count": 15,
     "metadata": {},
     "output_type": "execute_result"
    }
   ],
   "source": [
    "# include the epoch in the file name. (uses `str.format`)\n",
    "checkpoint_path = \"./models/training_3/cp-{epoch:04d}.ckpt\"\n",
    "checkpoint_dir = os.path.dirname(checkpoint_path)\n",
    "\n",
    "cp_callback = tf.keras.callbacks.ModelCheckpoint(\n",
    "    checkpoint_path, verbose=1, save_weights_only=True,\n",
    "    # Save weights, every 5-epochs.\n",
    "    period=1, save_best_only=1)\n",
    "\n",
    "model = create_model()\n",
    "model.fit(train_images, train_labels,\n",
    "          epochs = 50, callbacks = [cp_callback],\n",
    "          validation_data = (test_images,test_labels),\n",
    "          verbose=0)"
   ]
  },
  {
   "cell_type": "markdown",
   "metadata": {},
   "source": [
    "## What are these files?\n",
    "The above code stores the weights to a collection of checkpoint-formatted files that contain only the trained weights in a binary format. Checkpoints contain: * One or more shards that contain your model's weights. * An index file that indicates which weights are stored in a which shard.\n",
    "\n",
    "If you are only training a model on a single machine, you'll have one shard with the suffix: .data-00000-of-00001"
   ]
  },
  {
   "cell_type": "markdown",
   "metadata": {},
   "source": [
    "## Manually save weights\n",
    "Above you saw how to load the weights into a model.\n",
    "\n",
    "Manually saving the weights is just as simple, use the `Model.save_weights` method."
   ]
  },
  {
   "cell_type": "code",
   "execution_count": 13,
   "metadata": {},
   "outputs": [
    {
     "name": "stdout",
     "output_type": "stream",
     "text": [
      "1000/1000 [==============================] - 0s 134us/step\n",
      "Restored model, accuracy: 87.90%\n"
     ]
    }
   ],
   "source": [
    "# Save the weights\n",
    "model.save_weights('./models/checkpoints/my_checkpoint')\n",
    "\n",
    "# Restore the weights\n",
    "model = create_model()\n",
    "model.load_weights('./models/checkpoints/my_checkpoint')\n",
    "\n",
    "loss,acc = model.evaluate(test_images, test_labels)\n",
    "print(\"Restored model, accuracy: {:5.2f}%\".format(100*acc))"
   ]
  },
  {
   "cell_type": "markdown",
   "metadata": {},
   "source": [
    "## Save the entire model\n",
    "The entire model can be saved to a file that contains the weight values, the model's configuration, and even the optimizer's configuration. This allows you to checkpoint a model and resume training later—from the exact same state—without access to the original code.\n",
    "\n",
    "Saving a fully-functional model in Keras is very useful—you can load them in `TensorFlow.js` and then train and run them in web browsers.\n",
    "\n",
    "Keras provides a basic save format using the HDF5 standard. For our purposes, the saved model can be treated as a single binary blob."
   ]
  },
  {
   "cell_type": "code",
   "execution_count": 16,
   "metadata": {},
   "outputs": [
    {
     "name": "stdout",
     "output_type": "stream",
     "text": [
      "Epoch 1/5\n",
      "1000/1000 [==============================] - 1s 603us/step - loss: 1.1431 - acc: 0.6700\n",
      "Epoch 2/5\n",
      "1000/1000 [==============================] - 0s 240us/step - loss: 0.4086 - acc: 0.8900\n",
      "Epoch 3/5\n",
      "1000/1000 [==============================] - 0s 255us/step - loss: 0.2717 - acc: 0.9310\n",
      "Epoch 4/5\n",
      "1000/1000 [==============================] - 0s 256us/step - loss: 0.2119 - acc: 0.9490\n",
      "Epoch 5/5\n",
      "1000/1000 [==============================] - 0s 272us/step - loss: 0.1558 - acc: 0.9630\n"
     ]
    }
   ],
   "source": [
    "model = create_model()\n",
    "\n",
    "model.fit(train_images, train_labels, epochs=5)\n",
    "\n",
    "# Save entire model to a HDF5 file\n",
    "model.save('./models/my_model.h5')"
   ]
  },
  {
   "cell_type": "markdown",
   "metadata": {},
   "source": [
    "Now recreate the model from that file:"
   ]
  },
  {
   "cell_type": "code",
   "execution_count": 18,
   "metadata": {},
   "outputs": [
    {
     "name": "stdout",
     "output_type": "stream",
     "text": [
      "_________________________________________________________________\n",
      "Layer (type)                 Output Shape              Param #   \n",
      "=================================================================\n",
      "dense_16 (Dense)             (None, 512)               401920    \n",
      "_________________________________________________________________\n",
      "dropout_8 (Dropout)          (None, 512)               0         \n",
      "_________________________________________________________________\n",
      "dense_17 (Dense)             (None, 10)                5130      \n",
      "=================================================================\n",
      "Total params: 407,050\n",
      "Trainable params: 407,050\n",
      "Non-trainable params: 0\n",
      "_________________________________________________________________\n"
     ]
    }
   ],
   "source": [
    "# Recreate the exact same model, including weights and optimizer.\n",
    "new_model = keras.models.load_model('./models/my_model.h5')\n",
    "new_model.summary()"
   ]
  },
  {
   "cell_type": "code",
   "execution_count": 19,
   "metadata": {},
   "outputs": [
    {
     "name": "stdout",
     "output_type": "stream",
     "text": [
      "1000/1000 [==============================] - 0s 145us/step\n",
      "Restored model, accuracy: 85.60%\n"
     ]
    }
   ],
   "source": [
    "#Check its accuracy:\n",
    "loss, acc = new_model.evaluate(test_images, test_labels)\n",
    "print(\"Restored model, accuracy: {:5.2f}%\".format(100*acc))"
   ]
  },
  {
   "cell_type": "markdown",
   "metadata": {},
   "source": [
    "This technique saves everything:\n",
    "- The weight values\n",
    "- The model's configuration(architecture)\n",
    "- The optimizer configuration\n",
    "Keras saves models by inspecting the architecture. Currently, it is not able to save TensorFlow optimizers (from `tf.train`). When using those you will need to re-compile the model after loading, and you will loose the state of the optimizer."
   ]
  },
  {
   "cell_type": "code",
   "execution_count": null,
   "metadata": {},
   "outputs": [],
   "source": []
  }
 ],
 "metadata": {
  "kernelspec": {
   "display_name": "Python 3",
   "language": "python",
   "name": "python3"
  },
  "language_info": {
   "codemirror_mode": {
    "name": "ipython",
    "version": 3
   },
   "file_extension": ".py",
   "mimetype": "text/x-python",
   "name": "python",
   "nbconvert_exporter": "python",
   "pygments_lexer": "ipython3",
   "version": "3.6.5"
  }
 },
 "nbformat": 4,
 "nbformat_minor": 2
}
